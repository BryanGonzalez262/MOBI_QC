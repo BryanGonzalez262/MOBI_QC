{
 "cells": [
  {
   "cell_type": "code",
   "execution_count": 12,
   "id": "4502bffc",
   "metadata": {},
   "outputs": [],
   "source": [
    "from reportlab.lib.styles import ParagraphStyle, getSampleStyleSheet\n",
    "from reportlab.lib.pagesizes import A4\n",
    "from reportlab.lib import colors\n",
    "from reportlab.platypus import SimpleDocTemplate, Paragraph, Spacer, Table, TableStyle, Image\n",
    "from reportlab.lib.utils import ImageReader\n",
    "import os\n",
    "import mne\n",
    "import json\n",
    "\n",
    "from utils import *\n",
    "import matplotlib\n",
    "from et_qc import *\n",
    "from eda_qc import *\n",
    "from lsl_problem import *"
   ]
  },
  {
   "cell_type": "code",
   "execution_count": 13,
   "id": "6ebb1e73",
   "metadata": {},
   "outputs": [],
   "source": [
    "subject = 'P5182010'\n",
    "xdf_filename = f'/Users/camilla.strauss/Desktop/CUNY_Data/Data/sub-{subject}/sub-{subject}_ses-S001_task-CUNY_run-001_mobi.xdf'\n",
    "video_filename = f'/Users/camilla.strauss/Desktop/CUNY_Data/Data/sub-{subject}/sub-{subject}_task-CUNY_run-001_video.avi'"
   ]
  },
  {
   "cell_type": "code",
   "execution_count": null,
   "id": "ceb5ae91",
   "metadata": {},
   "outputs": [],
   "source": [
    "whole_mic_df = import_mic_data(xdf_filename)"
   ]
  },
  {
   "cell_type": "code",
   "execution_count": 17,
   "id": "ac8b26c9",
   "metadata": {},
   "outputs": [],
   "source": [
    "stim_df = import_stim_data(xdf_filename)"
   ]
  },
  {
   "cell_type": "code",
   "execution_count": 15,
   "id": "15118faa",
   "metadata": {},
   "outputs": [],
   "source": [
    "whole_mic_df = mic_df"
   ]
  },
  {
   "cell_type": "code",
   "execution_count": 18,
   "id": "b8ce4384",
   "metadata": {},
   "outputs": [],
   "source": [
    "mic_df = get_event_data(event = 'RestingState', df = whole_mic_df, stim_df = stim_df)"
   ]
  },
  {
   "cell_type": "code",
   "execution_count": 19,
   "id": "d15672a4",
   "metadata": {},
   "outputs": [
    {
     "data": {
      "application/vnd.microsoft.datawrangler.viewer.v0+json": {
       "columns": [
        {
         "name": "index",
         "rawType": "int64",
         "type": "integer"
        },
        {
         "name": "int_array",
         "rawType": "int16",
         "type": "integer"
        },
        {
         "name": "bytestring",
         "rawType": "object",
         "type": "string"
        },
        {
         "name": "duration",
         "rawType": "float64",
         "type": "float"
        },
        {
         "name": "lsl_time_stamp",
         "rawType": "float64",
         "type": "float"
        },
        {
         "name": "time",
         "rawType": "float64",
         "type": "float"
        }
       ],
       "ref": "bffbb8d4-b7f6-4b67-8f68-6d92e830357e",
       "rows": [],
       "shape": {
        "columns": 5,
        "rows": 0
       }
      },
      "text/html": [
       "<div>\n",
       "<style scoped>\n",
       "    .dataframe tbody tr th:only-of-type {\n",
       "        vertical-align: middle;\n",
       "    }\n",
       "\n",
       "    .dataframe tbody tr th {\n",
       "        vertical-align: top;\n",
       "    }\n",
       "\n",
       "    .dataframe thead th {\n",
       "        text-align: right;\n",
       "    }\n",
       "</style>\n",
       "<table border=\"1\" class=\"dataframe\">\n",
       "  <thead>\n",
       "    <tr style=\"text-align: right;\">\n",
       "      <th></th>\n",
       "      <th>int_array</th>\n",
       "      <th>bytestring</th>\n",
       "      <th>duration</th>\n",
       "      <th>lsl_time_stamp</th>\n",
       "      <th>time</th>\n",
       "    </tr>\n",
       "  </thead>\n",
       "  <tbody>\n",
       "  </tbody>\n",
       "</table>\n",
       "</div>"
      ],
      "text/plain": [
       "Empty DataFrame\n",
       "Columns: [int_array, bytestring, duration, lsl_time_stamp, time]\n",
       "Index: []"
      ]
     },
     "execution_count": 19,
     "metadata": {},
     "output_type": "execute_result"
    }
   ],
   "source": [
    "mic_df"
   ]
  },
  {
   "cell_type": "code",
   "execution_count": 20,
   "id": "270d1cb9",
   "metadata": {},
   "outputs": [
    {
     "data": {
      "application/vnd.microsoft.datawrangler.viewer.v0+json": {
       "columns": [
        {
         "name": "index",
         "rawType": "int64",
         "type": "integer"
        },
        {
         "name": "trigger",
         "rawType": "int32",
         "type": "integer"
        },
        {
         "name": "event",
         "rawType": "object",
         "type": "string"
        },
        {
         "name": "lsl_time_stamp",
         "rawType": "float64",
         "type": "float"
        },
        {
         "name": "time",
         "rawType": "float64",
         "type": "float"
        }
       ],
       "ref": "d071fa36-5040-4f19-a67e-35d9b0b0a92a",
       "rows": [
        [
         "0",
         "200",
         "Onset_Experiment",
         "652877.853621341",
         "0.0"
        ],
        [
         "1",
         "1729108775",
         "psychopy_time_stamp",
         "652877.8536321409",
         "1.0799849405884743e-05"
        ],
        [
         "2",
         "10",
         "Onset_RestingState",
         "652903.462754357",
         "25.609133015968837"
        ],
        [
         "3",
         "1729108800",
         "psychopy_time_stamp",
         "652903.4627656569",
         "25.60914431582205"
        ],
        [
         "4",
         "11",
         "Offset_RestingState",
         "653203.4635289607",
         "325.60990761965513"
        ],
        [
         "5",
         "1729109100",
         "psychopy_time_stamp",
         "653203.4635450606",
         "325.6099237195449"
        ],
        [
         "6",
         "500",
         "Onset_StoryListening",
         "653203.4635870603",
         "325.6099657192826"
        ],
        [
         "7",
         "1729109100",
         "psychopy_time_stamp",
         "653203.4635891605",
         "325.60996781941503"
        ],
        [
         "8",
         "100",
         "Onset_10second_rest",
         "653280.1371299704",
         "402.2835086293053"
        ],
        [
         "9",
         "1729109177",
         "psychopy_time_stamp",
         "653280.1371396706",
         "402.28351832949556"
        ],
        [
         "10",
         "101",
         "Offset_10second_rest",
         "653290.1346289364",
         "412.2810075953603"
        ],
        [
         "11",
         "1729109187",
         "psychopy_time_stamp",
         "653290.1346371365",
         "412.2810157954227"
        ],
        [
         "12",
         "70",
         "Onset_BirthdayParty",
         "653290.4486504806",
         "412.595029139542"
        ],
        [
         "13",
         "1729109187",
         "psychopy_time_stamp",
         "653290.4486591805",
         "412.59503783949185"
        ],
        [
         "14",
         "71",
         "Offset_BirthdayParty",
         "653450.6823738801",
         "572.8287525390042"
        ],
        [
         "15",
         "1729109348",
         "psychopy_time_stamp",
         "653450.68238258",
         "572.828761238954"
        ],
        [
         "16",
         "300",
         "Onset_subjectInput",
         "653472.9883994616",
         "595.134778120555"
        ],
        [
         "17",
         "1729109370",
         "psychopy_time_stamp",
         "653472.9884110616",
         "595.1347897205269"
        ],
        [
         "18",
         "301",
         "Offset_subjectInput",
         "653494.5308480265",
         "616.6772266854532"
        ],
        [
         "19",
         "1",
         "Bx_input",
         "653494.5308562266",
         "616.6772348855156"
        ],
        [
         "20",
         "1729109391",
         "psychopy_time_stamp",
         "653494.5308575265",
         "616.6772361854091"
        ],
        [
         "21",
         "300",
         "Onset_subjectInput",
         "653494.5430113662",
         "616.6893900251016"
        ],
        [
         "22",
         "1729109391",
         "psychopy_time_stamp",
         "653494.5430185662",
         "616.6893972251564"
        ],
        [
         "23",
         "301",
         "Offset_subjectInput",
         "653503.3643561596",
         "625.5107348185265"
        ],
        [
         "24",
         "6",
         "Bx_input",
         "653503.3643646595",
         "625.5107433184749"
        ],
        [
         "25",
         "1729109400",
         "psychopy_time_stamp",
         "653503.3643671597",
         "625.5107458186103"
        ],
        [
         "26",
         "300",
         "Onset_subjectInput",
         "653503.378210091",
         "625.5245887499768"
        ],
        [
         "27",
         "1729109400",
         "psychopy_time_stamp",
         "653503.3782156911",
         "625.5245943500195"
        ],
        [
         "28",
         "301",
         "Offset_subjectInput",
         "653509.7643894497",
         "631.9107681086753"
        ],
        [
         "29",
         "4",
         "Bx_input",
         "653509.7643975498",
         "631.9107762087369"
        ],
        [
         "30",
         "1729109407",
         "psychopy_time_stamp",
         "653509.7644005498",
         "631.9107792087598"
        ],
        [
         "31",
         "300",
         "Onset_subjectInput",
         "653509.7961930921",
         "631.9425717510749"
        ],
        [
         "32",
         "1729109407",
         "psychopy_time_stamp",
         "653509.7962013921",
         "631.9425800510217"
        ],
        [
         "33",
         "301",
         "Offset_subjectInput",
         "653515.5985616435",
         "637.7449403024511"
        ],
        [
         "34",
         "1",
         "Bx_input",
         "653515.5985693434",
         "637.7449480023934"
        ],
        [
         "35",
         "1729109412",
         "psychopy_time_stamp",
         "653515.5985721435",
         "637.7449508024147"
        ],
        [
         "36",
         "300",
         "Onset_subjectInput",
         "653515.6241101171",
         "637.7704887760337"
        ],
        [
         "37",
         "1729109412",
         "psychopy_time_stamp",
         "653515.6241171169",
         "637.7704957758542"
        ],
        [
         "38",
         "301",
         "Offset_subjectInput",
         "653520.1641155229",
         "642.3104941818165"
        ],
        [
         "39",
         "1",
         "Bx_input",
         "653520.1641236228",
         "642.3105022817617"
        ],
        [
         "40",
         "1729109417",
         "psychopy_time_stamp",
         "653520.164126323",
         "642.3105049818987"
        ],
        [
         "41",
         "300",
         "Onset_subjectInput",
         "653520.185892215",
         "642.3322708739433"
        ],
        [
         "42",
         "1729109417",
         "psychopy_time_stamp",
         "653520.1859079149",
         "642.3322865738301"
        ],
        [
         "43",
         "301",
         "Offset_subjectInput",
         "653526.3976538378",
         "648.5440324967494"
        ],
        [
         "44",
         "4",
         "Bx_input",
         "653526.3976626379",
         "648.5440412968164"
        ],
        [
         "45",
         "1729109423",
         "psychopy_time_stamp",
         "653526.3976638379",
         "648.5440424968256"
        ],
        [
         "46",
         "100",
         "Onset_10second_rest",
         "653539.547495385",
         "661.6938740439946"
        ],
        [
         "47",
         "1729109436",
         "psychopy_time_stamp",
         "653539.5475101852",
         "661.6938888441073"
        ],
        [
         "48",
         "101",
         "Offset_10second_rest",
         "653549.5470668409",
         "671.69344549987"
        ],
        [
         "49",
         "1729109446",
         "psychopy_time_stamp",
         "653549.5470800408",
         "671.6934586997377"
        ]
       ],
       "shape": {
        "columns": 4,
        "rows": 261
       }
      },
      "text/html": [
       "<div>\n",
       "<style scoped>\n",
       "    .dataframe tbody tr th:only-of-type {\n",
       "        vertical-align: middle;\n",
       "    }\n",
       "\n",
       "    .dataframe tbody tr th {\n",
       "        vertical-align: top;\n",
       "    }\n",
       "\n",
       "    .dataframe thead th {\n",
       "        text-align: right;\n",
       "    }\n",
       "</style>\n",
       "<table border=\"1\" class=\"dataframe\">\n",
       "  <thead>\n",
       "    <tr style=\"text-align: right;\">\n",
       "      <th></th>\n",
       "      <th>trigger</th>\n",
       "      <th>event</th>\n",
       "      <th>lsl_time_stamp</th>\n",
       "      <th>time</th>\n",
       "    </tr>\n",
       "  </thead>\n",
       "  <tbody>\n",
       "    <tr>\n",
       "      <th>0</th>\n",
       "      <td>200</td>\n",
       "      <td>Onset_Experiment</td>\n",
       "      <td>652877.853621</td>\n",
       "      <td>0.000000</td>\n",
       "    </tr>\n",
       "    <tr>\n",
       "      <th>1</th>\n",
       "      <td>1729108775</td>\n",
       "      <td>psychopy_time_stamp</td>\n",
       "      <td>652877.853632</td>\n",
       "      <td>0.000011</td>\n",
       "    </tr>\n",
       "    <tr>\n",
       "      <th>2</th>\n",
       "      <td>10</td>\n",
       "      <td>Onset_RestingState</td>\n",
       "      <td>652903.462754</td>\n",
       "      <td>25.609133</td>\n",
       "    </tr>\n",
       "    <tr>\n",
       "      <th>3</th>\n",
       "      <td>1729108800</td>\n",
       "      <td>psychopy_time_stamp</td>\n",
       "      <td>652903.462766</td>\n",
       "      <td>25.609144</td>\n",
       "    </tr>\n",
       "    <tr>\n",
       "      <th>4</th>\n",
       "      <td>11</td>\n",
       "      <td>Offset_RestingState</td>\n",
       "      <td>653203.463529</td>\n",
       "      <td>325.609908</td>\n",
       "    </tr>\n",
       "    <tr>\n",
       "      <th>...</th>\n",
       "      <td>...</td>\n",
       "      <td>...</td>\n",
       "      <td>...</td>\n",
       "      <td>...</td>\n",
       "    </tr>\n",
       "    <tr>\n",
       "      <th>256</th>\n",
       "      <td>1729111346</td>\n",
       "      <td>psychopy_time_stamp</td>\n",
       "      <td>655451.996951</td>\n",
       "      <td>2574.143330</td>\n",
       "    </tr>\n",
       "    <tr>\n",
       "      <th>257</th>\n",
       "      <td>201</td>\n",
       "      <td>Offset_Experiment</td>\n",
       "      <td>655456.997079</td>\n",
       "      <td>2579.143458</td>\n",
       "    </tr>\n",
       "    <tr>\n",
       "      <th>258</th>\n",
       "      <td>1729111351</td>\n",
       "      <td>psychopy_time_stamp</td>\n",
       "      <td>655456.997089</td>\n",
       "      <td>2579.143468</td>\n",
       "    </tr>\n",
       "    <tr>\n",
       "      <th>259</th>\n",
       "      <td>4</td>\n",
       "      <td>Bx_input</td>\n",
       "      <td>655456.997128</td>\n",
       "      <td>2579.143507</td>\n",
       "    </tr>\n",
       "    <tr>\n",
       "      <th>260</th>\n",
       "      <td>1729111351</td>\n",
       "      <td>psychopy_time_stamp</td>\n",
       "      <td>655456.997130</td>\n",
       "      <td>2579.143508</td>\n",
       "    </tr>\n",
       "  </tbody>\n",
       "</table>\n",
       "<p>261 rows × 4 columns</p>\n",
       "</div>"
      ],
      "text/plain": [
       "        trigger                event  lsl_time_stamp         time\n",
       "0           200     Onset_Experiment   652877.853621     0.000000\n",
       "1    1729108775  psychopy_time_stamp   652877.853632     0.000011\n",
       "2            10   Onset_RestingState   652903.462754    25.609133\n",
       "3    1729108800  psychopy_time_stamp   652903.462766    25.609144\n",
       "4            11  Offset_RestingState   653203.463529   325.609908\n",
       "..          ...                  ...             ...          ...\n",
       "256  1729111346  psychopy_time_stamp   655451.996951  2574.143330\n",
       "257         201    Offset_Experiment   655456.997079  2579.143458\n",
       "258  1729111351  psychopy_time_stamp   655456.997089  2579.143468\n",
       "259           4             Bx_input   655456.997128  2579.143507\n",
       "260  1729111351  psychopy_time_stamp   655456.997130  2579.143508\n",
       "\n",
       "[261 rows x 4 columns]"
      ]
     },
     "execution_count": 20,
     "metadata": {},
     "output_type": "execute_result"
    }
   ],
   "source": [
    "stim_df"
   ]
  },
  {
   "cell_type": "code",
   "execution_count": 21,
   "id": "cc701337",
   "metadata": {},
   "outputs": [
    {
     "data": {
      "application/vnd.microsoft.datawrangler.viewer.v0+json": {
       "columns": [
        {
         "name": "index",
         "rawType": "int64",
         "type": "integer"
        },
        {
         "name": "int_array",
         "rawType": "int16",
         "type": "integer"
        },
        {
         "name": "bytestring",
         "rawType": "object",
         "type": "unknown"
        },
        {
         "name": "duration",
         "rawType": "float64",
         "type": "float"
        },
        {
         "name": "lsl_time_stamp",
         "rawType": "float64",
         "type": "float"
        },
        {
         "name": "time",
         "rawType": "float64",
         "type": "float"
        }
       ],
       "ref": "de42fbba-176f-4dfe-9c63-ed028402ccf9",
       "rows": [
        [
         "0",
         "32",
         "b' \\x00\\x00\\x00\\x00\\x00\\x00\\x00'",
         "0.0",
         "653249.8250894942",
         "0.0"
        ],
        [
         "1",
         "37",
         "b'%\\x00\\x00\\x00\\x00\\x00\\x00\\x00'",
         "5.142096746481607e-10",
         "653249.8251121704",
         "2.2676191292703152e-05"
        ],
        [
         "2",
         "37",
         "b'%\\x00\\x00\\x00\\x00\\x00\\x00\\x00'",
         "1.0284193492963214e-09",
         "653249.8251348466",
         "4.5352382585406303e-05"
        ],
        [
         "3",
         "43",
         "b'+\\x00\\x00\\x00\\x00\\x00\\x00\\x00'",
         "1.542629023944482e-09",
         "653249.8251575228",
         "6.802857387810946e-05"
        ],
        [
         "4",
         "39",
         "b\"'\\x00\\x00\\x00\\x00\\x00\\x00\\x00\"",
         "2.056838698592643e-09",
         "653249.825180199",
         "9.070476517081261e-05"
        ],
        [
         "5",
         "45",
         "b'-\\x00\\x00\\x00\\x00\\x00\\x00\\x00'",
         "2.571048373240803e-09",
         "653249.8252028752",
         "0.00011338095646351576"
        ],
        [
         "6",
         "46",
         "b'.\\x00\\x00\\x00\\x00\\x00\\x00\\x00'",
         "3.085258047888964e-09",
         "653249.8252255514",
         "0.0001360571477562189"
        ],
        [
         "7",
         "47",
         "b'/\\x00\\x00\\x00\\x00\\x00\\x00\\x00'",
         "3.5994677225371246e-09",
         "653249.8252482276",
         "0.00015873333904892206"
        ],
        [
         "8",
         "52",
         "b'4\\x00\\x00\\x00\\x00\\x00\\x00\\x00'",
         "4.113677397185286e-09",
         "653249.8252709038",
         "0.00018140953034162521"
        ],
        [
         "9",
         "53",
         "b'5\\x00\\x00\\x00\\x00\\x00\\x00\\x00'",
         "4.627887071833446e-09",
         "653249.82529358",
         "0.00020408572163432837"
        ],
        [
         "10",
         "55",
         "b'7\\x00\\x00\\x00\\x00\\x00\\x00\\x00'",
         "5.142096746481606e-09",
         "653249.8253162561",
         "0.00022676191292703152"
        ],
        [
         "11",
         "59",
         "b';\\x00\\x00\\x00\\x00\\x00\\x00\\x00'",
         "5.6563064211297675e-09",
         "653249.8253389323",
         "0.00024943810421973467"
        ],
        [
         "12",
         "57",
         "b'9\\x00\\x00\\x00\\x00\\x00\\x00\\x00'",
         "6.170516095777928e-09",
         "653249.8253616085",
         "0.0002721142955124378"
        ],
        [
         "13",
         "65",
         "b'A\\x00\\x00\\x00\\x00\\x00\\x00\\x00'",
         "6.684725770426089e-09",
         "653249.8253842847",
         "0.00029479048680514097"
        ],
        [
         "14",
         "65",
         "b'A\\x00\\x00\\x00\\x00\\x00\\x00\\x00'",
         "7.198935445074249e-09",
         "653249.8254069609",
         "0.0003174666780978441"
        ],
        [
         "15",
         "68",
         "b'D\\x00\\x00\\x00\\x00\\x00\\x00\\x00'",
         "7.71314511972241e-09",
         "653249.8254296371",
         "0.0003401428693905473"
        ],
        [
         "16",
         "73",
         "b'I\\x00\\x00\\x00\\x00\\x00\\x00\\x00'",
         "8.227354794370571e-09",
         "653249.8254523133",
         "0.00036281906068325043"
        ],
        [
         "17",
         "74",
         "b'J\\x00\\x00\\x00\\x00\\x00\\x00\\x00'",
         "8.741564469018731e-09",
         "653249.8254749895",
         "0.0003854952519759536"
        ],
        [
         "18",
         "78",
         "b'N\\x00\\x00\\x00\\x00\\x00\\x00\\x00'",
         "9.255774143666892e-09",
         "653249.8254976657",
         "0.00040817144326865673"
        ],
        [
         "19",
         "79",
         "b'O\\x00\\x00\\x00\\x00\\x00\\x00\\x00'",
         "9.769983818315053e-09",
         "653249.8255203419",
         "0.0004308476345613599"
        ],
        [
         "20",
         "79",
         "b'O\\x00\\x00\\x00\\x00\\x00\\x00\\x00'",
         "1.0284193492963213e-08",
         "653249.825543018",
         "0.00045352382585406303"
        ],
        [
         "21",
         "80",
         "b'P\\x00\\x00\\x00\\x00\\x00\\x00\\x00'",
         "1.0798403167611374e-08",
         "653249.8255656942",
         "0.0004762000171467662"
        ],
        [
         "22",
         "80",
         "b'P\\x00\\x00\\x00\\x00\\x00\\x00\\x00'",
         "1.1312612842259535e-08",
         "653249.8255883704",
         "0.0004988762084394693"
        ],
        [
         "23",
         "79",
         "b'O\\x00\\x00\\x00\\x00\\x00\\x00\\x00'",
         "1.1826822516907696e-08",
         "653249.8256110466",
         "0.0005215523997321725"
        ],
        [
         "24",
         "76",
         "b'L\\x00\\x00\\x00\\x00\\x00\\x00\\x00'",
         "1.2341032191555856e-08",
         "653249.8256337228",
         "0.0005442285910248756"
        ],
        [
         "25",
         "71",
         "b'G\\x00\\x00\\x00\\x00\\x00\\x00\\x00'",
         "1.2855241866204017e-08",
         "653249.825656399",
         "0.0005669047823175788"
        ],
        [
         "26",
         "68",
         "b'D\\x00\\x00\\x00\\x00\\x00\\x00\\x00'",
         "1.3369451540852178e-08",
         "653249.8256790752",
         "0.0005895809736102819"
        ],
        [
         "27",
         "66",
         "b'B\\x00\\x00\\x00\\x00\\x00\\x00\\x00'",
         "1.3883661215500337e-08",
         "653249.8257017514",
         "0.0006122571649029851"
        ],
        [
         "28",
         "63",
         "b'?\\x00\\x00\\x00\\x00\\x00\\x00\\x00'",
         "1.4397870890148498e-08",
         "653249.8257244276",
         "0.0006349333561956882"
        ],
        [
         "29",
         "57",
         "b'9\\x00\\x00\\x00\\x00\\x00\\x00\\x00'",
         "1.491208056479666e-08",
         "653249.8257471038",
         "0.0006576095474883914"
        ],
        [
         "30",
         "55",
         "b'7\\x00\\x00\\x00\\x00\\x00\\x00\\x00'",
         "1.542629023944482e-08",
         "653249.82576978",
         "0.0006802857387810946"
        ],
        [
         "31",
         "51",
         "b'3\\x00\\x00\\x00\\x00\\x00\\x00\\x00'",
         "1.5940499914092982e-08",
         "653249.8257924562",
         "0.0007029619300737977"
        ],
        [
         "32",
         "45",
         "b'-\\x00\\x00\\x00\\x00\\x00\\x00\\x00'",
         "1.6454709588741143e-08",
         "653249.8258151324",
         "0.0007256381213665009"
        ],
        [
         "33",
         "39",
         "b\"'\\x00\\x00\\x00\\x00\\x00\\x00\\x00\"",
         "1.69689192633893e-08",
         "653249.8258378085",
         "0.000748314312659204"
        ],
        [
         "34",
         "34",
         "b'\"\\x00\\x00\\x00\\x00\\x00\\x00\\x00'",
         "1.7483128938037462e-08",
         "653249.8258604847",
         "0.0007709905039519072"
        ],
        [
         "35",
         "29",
         "b'\\x1d\\x00\\x00\\x00\\x00\\x00\\x00\\x00'",
         "1.7997338612685623e-08",
         "653249.8258831609",
         "0.0007936666952446103"
        ],
        [
         "36",
         "26",
         "b'\\x1a\\x00\\x00\\x00\\x00\\x00\\x00\\x00'",
         "1.8511548287333784e-08",
         "653249.8259058371",
         "0.0008163428865373135"
        ],
        [
         "37",
         "20",
         "b'\\x14\\x00\\x00\\x00\\x00\\x00\\x00\\x00'",
         "1.9025757961981945e-08",
         "653249.8259285133",
         "0.0008390190778300166"
        ],
        [
         "38",
         "14",
         "b'\\x0e\\x00\\x00\\x00\\x00\\x00\\x00\\x00'",
         "1.9539967636630106e-08",
         "653249.8259511895",
         "0.0008616952691227198"
        ],
        [
         "39",
         "15",
         "b'\\x0f\\x00\\x00\\x00\\x00\\x00\\x00\\x00'",
         "2.0054177311278268e-08",
         "653249.8259738657",
         "0.0008843714604154229"
        ],
        [
         "40",
         "10",
         "b'\\n\\x00\\x00\\x00\\x00\\x00\\x00\\x00'",
         "2.0568386985926425e-08",
         "653249.8259965419",
         "0.0009070476517081261"
        ],
        [
         "41",
         "10",
         "b'\\n\\x00\\x00\\x00\\x00\\x00\\x00\\x00'",
         "2.1082596660574587e-08",
         "653249.8260192181",
         "0.0009297238430008292"
        ],
        [
         "42",
         "6",
         "b'\\x06\\x00\\x00\\x00\\x00\\x00\\x00\\x00'",
         "2.1596806335222748e-08",
         "653249.8260418943",
         "0.0009524000342935324"
        ],
        [
         "43",
         "3",
         "b'\\x03\\x00\\x00\\x00\\x00\\x00\\x00\\x00'",
         "2.211101600987091e-08",
         "653249.8260645705",
         "0.0009750762255862355"
        ],
        [
         "44",
         "48",
         "b'0\\x00\\x00\\x00\\x00\\x00\\x00\\x00'",
         "2.262522568451907e-08",
         "653249.8260872466",
         "0.0009977524168789387"
        ],
        [
         "45",
         "61",
         "b'=\\x00\\x00\\x00\\x00\\x00\\x00\\x00'",
         "2.313943535916723e-08",
         "653249.8261099228",
         "0.0010204286081716418"
        ],
        [
         "46",
         "56",
         "b'8\\x00\\x00\\x00\\x00\\x00\\x00\\x00'",
         "2.3653645033815392e-08",
         "653249.826132599",
         "0.001043104799464345"
        ],
        [
         "47",
         "57",
         "b'9\\x00\\x00\\x00\\x00\\x00\\x00\\x00'",
         "2.416785470846355e-08",
         "653249.8261552752",
         "0.0010657809907570481"
        ],
        [
         "48",
         "55",
         "b'7\\x00\\x00\\x00\\x00\\x00\\x00\\x00'",
         "2.468206438311171e-08",
         "653249.8261779514",
         "0.0010884571820497513"
        ],
        [
         "49",
         "60",
         "b'<\\x00\\x00\\x00\\x00\\x00\\x00\\x00'",
         "2.5196274057759872e-08",
         "653249.8262006276",
         "0.0011111333733424544"
        ]
       ],
       "shape": {
        "columns": 5,
        "rows": 100124641
       }
      },
      "text/html": [
       "<div>\n",
       "<style scoped>\n",
       "    .dataframe tbody tr th:only-of-type {\n",
       "        vertical-align: middle;\n",
       "    }\n",
       "\n",
       "    .dataframe tbody tr th {\n",
       "        vertical-align: top;\n",
       "    }\n",
       "\n",
       "    .dataframe thead th {\n",
       "        text-align: right;\n",
       "    }\n",
       "</style>\n",
       "<table border=\"1\" class=\"dataframe\">\n",
       "  <thead>\n",
       "    <tr style=\"text-align: right;\">\n",
       "      <th></th>\n",
       "      <th>int_array</th>\n",
       "      <th>bytestring</th>\n",
       "      <th>duration</th>\n",
       "      <th>lsl_time_stamp</th>\n",
       "      <th>time</th>\n",
       "    </tr>\n",
       "  </thead>\n",
       "  <tbody>\n",
       "    <tr>\n",
       "      <th>0</th>\n",
       "      <td>32</td>\n",
       "      <td>b' \\x00\\x00\\x00\\x00\\x00\\x00\\x00'</td>\n",
       "      <td>0.000000e+00</td>\n",
       "      <td>653249.825089</td>\n",
       "      <td>0.000000</td>\n",
       "    </tr>\n",
       "    <tr>\n",
       "      <th>1</th>\n",
       "      <td>37</td>\n",
       "      <td>b'%\\x00\\x00\\x00\\x00\\x00\\x00\\x00'</td>\n",
       "      <td>5.142097e-10</td>\n",
       "      <td>653249.825112</td>\n",
       "      <td>0.000023</td>\n",
       "    </tr>\n",
       "    <tr>\n",
       "      <th>2</th>\n",
       "      <td>37</td>\n",
       "      <td>b'%\\x00\\x00\\x00\\x00\\x00\\x00\\x00'</td>\n",
       "      <td>1.028419e-09</td>\n",
       "      <td>653249.825135</td>\n",
       "      <td>0.000045</td>\n",
       "    </tr>\n",
       "    <tr>\n",
       "      <th>3</th>\n",
       "      <td>43</td>\n",
       "      <td>b'+\\x00\\x00\\x00\\x00\\x00\\x00\\x00'</td>\n",
       "      <td>1.542629e-09</td>\n",
       "      <td>653249.825158</td>\n",
       "      <td>0.000068</td>\n",
       "    </tr>\n",
       "    <tr>\n",
       "      <th>4</th>\n",
       "      <td>39</td>\n",
       "      <td>b\"'\\x00\\x00\\x00\\x00\\x00\\x00\\x00\"</td>\n",
       "      <td>2.056839e-09</td>\n",
       "      <td>653249.825180</td>\n",
       "      <td>0.000091</td>\n",
       "    </tr>\n",
       "    <tr>\n",
       "      <th>...</th>\n",
       "      <td>...</td>\n",
       "      <td>...</td>\n",
       "      <td>...</td>\n",
       "      <td>...</td>\n",
       "      <td>...</td>\n",
       "    </tr>\n",
       "    <tr>\n",
       "      <th>100124636</th>\n",
       "      <td>11</td>\n",
       "      <td>b'\\x0b\\x00\\x00\\x00\\x00\\x00\\x00\\x00'</td>\n",
       "      <td>5.148506e-02</td>\n",
       "      <td>655520.270591</td>\n",
       "      <td>2270.445501</td>\n",
       "    </tr>\n",
       "    <tr>\n",
       "      <th>100124637</th>\n",
       "      <td>11</td>\n",
       "      <td>b'\\x0b\\x00\\x00\\x00\\x00\\x00\\x00\\x00'</td>\n",
       "      <td>5.148506e-02</td>\n",
       "      <td>655520.270613</td>\n",
       "      <td>2270.445524</td>\n",
       "    </tr>\n",
       "    <tr>\n",
       "      <th>100124638</th>\n",
       "      <td>12</td>\n",
       "      <td>b'\\x0c\\x00\\x00\\x00\\x00\\x00\\x00\\x00'</td>\n",
       "      <td>5.148506e-02</td>\n",
       "      <td>655520.270636</td>\n",
       "      <td>2270.445546</td>\n",
       "    </tr>\n",
       "    <tr>\n",
       "      <th>100124639</th>\n",
       "      <td>7</td>\n",
       "      <td>b'\\x07\\x00\\x00\\x00\\x00\\x00\\x00\\x00'</td>\n",
       "      <td>5.148506e-02</td>\n",
       "      <td>655520.270659</td>\n",
       "      <td>2270.445569</td>\n",
       "    </tr>\n",
       "    <tr>\n",
       "      <th>100124640</th>\n",
       "      <td>8</td>\n",
       "      <td>b'\\x08\\x00\\x00\\x00\\x00\\x00\\x00\\x00'</td>\n",
       "      <td>5.148506e-02</td>\n",
       "      <td>655520.270681</td>\n",
       "      <td>2270.445592</td>\n",
       "    </tr>\n",
       "  </tbody>\n",
       "</table>\n",
       "<p>100124641 rows × 5 columns</p>\n",
       "</div>"
      ],
      "text/plain": [
       "           int_array                           bytestring      duration  \\\n",
       "0                 32     b' \\x00\\x00\\x00\\x00\\x00\\x00\\x00'  0.000000e+00   \n",
       "1                 37     b'%\\x00\\x00\\x00\\x00\\x00\\x00\\x00'  5.142097e-10   \n",
       "2                 37     b'%\\x00\\x00\\x00\\x00\\x00\\x00\\x00'  1.028419e-09   \n",
       "3                 43     b'+\\x00\\x00\\x00\\x00\\x00\\x00\\x00'  1.542629e-09   \n",
       "4                 39     b\"'\\x00\\x00\\x00\\x00\\x00\\x00\\x00\"  2.056839e-09   \n",
       "...              ...                                  ...           ...   \n",
       "100124636         11  b'\\x0b\\x00\\x00\\x00\\x00\\x00\\x00\\x00'  5.148506e-02   \n",
       "100124637         11  b'\\x0b\\x00\\x00\\x00\\x00\\x00\\x00\\x00'  5.148506e-02   \n",
       "100124638         12  b'\\x0c\\x00\\x00\\x00\\x00\\x00\\x00\\x00'  5.148506e-02   \n",
       "100124639          7  b'\\x07\\x00\\x00\\x00\\x00\\x00\\x00\\x00'  5.148506e-02   \n",
       "100124640          8  b'\\x08\\x00\\x00\\x00\\x00\\x00\\x00\\x00'  5.148506e-02   \n",
       "\n",
       "           lsl_time_stamp         time  \n",
       "0           653249.825089     0.000000  \n",
       "1           653249.825112     0.000023  \n",
       "2           653249.825135     0.000045  \n",
       "3           653249.825158     0.000068  \n",
       "4           653249.825180     0.000091  \n",
       "...                   ...          ...  \n",
       "100124636   655520.270591  2270.445501  \n",
       "100124637   655520.270613  2270.445524  \n",
       "100124638   655520.270636  2270.445546  \n",
       "100124639   655520.270659  2270.445569  \n",
       "100124640   655520.270681  2270.445592  \n",
       "\n",
       "[100124641 rows x 5 columns]"
      ]
     },
     "execution_count": 21,
     "metadata": {},
     "output_type": "execute_result"
    }
   ],
   "source": [
    "whole_mic_df"
   ]
  },
  {
   "cell_type": "code",
   "execution_count": 22,
   "id": "9d6afd7e",
   "metadata": {},
   "outputs": [],
   "source": [
    "vars = {}"
   ]
  },
  {
   "cell_type": "code",
   "execution_count": 24,
   "id": "886005bd",
   "metadata": {},
   "outputs": [],
   "source": [
    "vars['sampling_rate'], vars['lsl_wav_duration_diff'], vars['num_NaN'], vars['percent_NaN'], vars['quan25'], vars['quan75'], vars['std'], vars['min'], vars['max'] = [0,0,0,0,0,0,0,0,0]\n"
   ]
  },
  {
   "cell_type": "code",
   "execution_count": 28,
   "id": "def42354",
   "metadata": {},
   "outputs": [
    {
     "data": {
      "text/plain": [
       "np.float64(0.0)"
      ]
     },
     "execution_count": 28,
     "metadata": {},
     "output_type": "execute_result"
    }
   ],
   "source": [
    "vars['quan75']"
   ]
  },
  {
   "cell_type": "code",
   "execution_count": 27,
   "id": "3f302974",
   "metadata": {},
   "outputs": [],
   "source": [
    "vars['sampling_rate'], vars['lsl_wav_duration_diff'], vars['num_NaN'], vars['percent_NaN'], vars['quan25'], vars['quan75'], vars['std'], vars['min'], vars['max'] = np.zeros(9)\n"
   ]
  }
 ],
 "metadata": {
  "kernelspec": {
   "display_name": "mobi-qc-JEGqM8EY-py3.11",
   "language": "python",
   "name": "python3"
  },
  "language_info": {
   "codemirror_mode": {
    "name": "ipython",
    "version": 3
   },
   "file_extension": ".py",
   "mimetype": "text/x-python",
   "name": "python",
   "nbconvert_exporter": "python",
   "pygments_lexer": "ipython3",
   "version": "3.11.11"
  }
 },
 "nbformat": 4,
 "nbformat_minor": 5
}
