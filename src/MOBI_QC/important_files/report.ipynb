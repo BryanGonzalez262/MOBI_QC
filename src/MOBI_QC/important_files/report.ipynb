{
 "cells": [
  {
   "cell_type": "markdown",
   "metadata": {},
   "source": [
    "# Load Functions"
   ]
  },
  {
   "cell_type": "markdown",
   "metadata": {},
   "source": [
    "## 0. imports"
   ]
  },
  {
   "cell_type": "code",
   "execution_count": 1,
   "metadata": {},
   "outputs": [],
   "source": [
    "from reportlab.lib.styles import ParagraphStyle, getSampleStyleSheet\n",
    "from reportlab.lib.pagesizes import A4\n",
    "from reportlab.lib import colors\n",
    "from reportlab.platypus import SimpleDocTemplate, Paragraph, Spacer, Table, TableStyle, Image\n",
    "from reportlab.lib.utils import ImageReader\n",
    "import os\n",
    "import mne\n",
    "import json\n",
    "\n",
    "from utils import *\n",
    "from eeg_qc import compute_eeg_pipeline, test_eeg_pipeline\n",
    "from ecg_qc import ecg_qc \n",
    "from eda_qc import eda_qc\n",
    "from rsp_qc import *\n",
    "from mic_qc import *\n",
    "from lsl_problem import *\n",
    "from et_qc import *\n",
    "from webcam_qc import *\n",
    "import matplotlib"
   ]
  },
  {
   "cell_type": "code",
   "execution_count": 2,
   "metadata": {},
   "outputs": [],
   "source": [
    "subject = \"P5871751\"\n",
    "xdf_filename = f'/Users/bryan.gonzalez/CUNY_subs/sub-{subject}/sub-{subject}_ses-S001_task-CUNY_run-001_mobi.xdf'\n",
    "\n",
    "#subject = \"P5182010\"\n",
    "#xdf_filename = f'/Users/camilla.strauss/Desktop/CUNY_Data/Data/sub-{subject}/sub-{subject}_ses-S001_task-CUNY_run-001_mobi.xdf'\n",
    "\n",
    "#xdf_filename = #Apurva's xdf file\n",
    "\n",
    "video_filename = '/'.join(xdf_filename.split('/')[:-1])+ f'/sub-{subject}_task-CUNY_run-001_video.avi'\n"
   ]
  },
  {
   "cell_type": "code",
   "execution_count": 3,
   "metadata": {},
   "outputs": [
    {
     "name": "stdout",
     "output_type": "stream",
     "text": [
      "trigger recovery\n"
     ]
    },
    {
     "name": "stderr",
     "output_type": "stream",
     "text": [
      "100%|██████████| 12125/12125 [00:00<00:00, 55838.52it/s]\n"
     ]
    },
    {
     "name": "stdout",
     "output_type": "stream",
     "text": [
      "      value   length   start_time     end_time\n",
      "0     False   846720     0.000000    19.200310\n",
      "444   False  3413340   178.003087   255.404406\n",
      "458   False   692370   265.604606   281.304856\n",
      "866   False  2906190   433.407516   499.308636\n",
      "1122  False  2235870   595.510327   646.211184\n",
      "1432  False  1499400   783.313584   817.314151\n",
      "1434  False   418950   817.414175   826.914317\n",
      "1696  False  1869840   950.216478   992.617191\n",
      "2234  False   992250  1154.320017  1176.820385\n",
      "2238  False   674730  1177.120413  1192.420656\n",
      "2240  False   877464  1192.620682  1212.518147\n",
      "Audio Segment 1: Duration = 158.80 seconds\n",
      "Audio Segment 2: Duration = 10.20 seconds\n",
      "Audio Segment 3: Duration = 152.10 seconds\n",
      "Audio Segment 4: Duration = 96.20 seconds\n",
      "Audio Segment 5: Duration = 137.10 seconds\n",
      "Audio Segment 6: Duration = 0.10 seconds\n",
      "Audio Segment 7: Duration = 123.30 seconds\n",
      "Audio Segment 8: Duration = 161.70 seconds\n",
      "Audio Segment 9: Duration = 0.30 seconds\n",
      "Audio Segment 10: Duration = 0.20 seconds\n"
     ]
    }
   ],
   "source": [
    "stim_df = import_stim_data(xdf_filename)"
   ]
  },
  {
   "cell_type": "code",
   "execution_count": 4,
   "metadata": {},
   "outputs": [
    {
     "data": {
      "application/vnd.microsoft.datawrangler.viewer.v0+json": {
       "columns": [
        {
         "name": "index",
         "rawType": "int64",
         "type": "integer"
        },
        {
         "name": "trigger",
         "rawType": "float64",
         "type": "float"
        },
        {
         "name": "event",
         "rawType": "object",
         "type": "string"
        },
        {
         "name": "lsl_time_stamp",
         "rawType": "float64",
         "type": "float"
        },
        {
         "name": "time",
         "rawType": "float64",
         "type": "float"
        }
       ],
       "ref": "95c648ef-28b5-4970-a328-6283438a2cd8",
       "rows": [
        [
         "0",
         "200.0",
         "Onset_Experiment",
         "1157949.5885943775",
         "0.0"
        ],
        [
         "1",
         "1742918144.0",
         "psychopy_time_stamp",
         "1157949.588603577",
         "9.199604392051697e-06"
        ],
        [
         "2",
         "10.0",
         "Onset_RestingState",
         "1157975.8978707595",
         "26.309276381973177"
        ],
        [
         "3",
         "1742918144.0",
         "psychopy_time_stamp",
         "1157975.8978817593",
         "26.309287381824106"
        ],
        [
         "4",
         "11.0",
         "Offset_RestingState",
         "1158275.8966683608",
         "326.3080739832949"
        ],
        [
         "5",
         "1742918528.0",
         "psychopy_time_stamp",
         "1158275.8966828608",
         "326.3080884832889"
        ],
        [
         "6",
         "500.0",
         "Onset_StoryListening",
         "1158275.89679646",
         "326.3082020825241"
        ],
        [
         "7",
         "1742918528.0",
         "psychopy_time_stamp",
         "1158275.89680206",
         "326.3082076825667"
        ],
        [
         "8",
         "100.0",
         "Onset_10second_rest",
         "1158357.2130983742",
         "407.6245039966889"
        ],
        [
         "9",
         "1742918528.0",
         "psychopy_time_stamp",
         "1158357.2131123743",
         "407.6245179967955"
        ],
        [
         "10",
         "101.0",
         "Offset_10second_rest",
         "1158367.2296342286",
         "417.6410398511216"
        ],
        [
         "11",
         "1742918656.0",
         "psychopy_time_stamp",
         "1158367.2296473286",
         "417.64105295110494"
        ],
        [
         "236",
         "70.0",
         "Onset_BirthdayParty",
         "1158367.4649111698",
         "19.200332959881052"
        ],
        [
         "237",
         "71.0",
         "Offset_BirthdayParty",
         "1158526.2676423492",
         "178.00306413928047"
        ],
        [
         "12",
         "300.0",
         "Onset_subjectInput",
         "1158534.5335414764",
         "584.9449470988475"
        ],
        [
         "13",
         "1742918784.0",
         "psychopy_time_stamp",
         "1158534.5335586763",
         "584.9449642987456"
        ],
        [
         "14",
         "301.0",
         "Offset_subjectInput",
         "1158543.5134130751",
         "593.9248186976183"
        ],
        [
         "15",
         "1.0",
         "Bx_input",
         "1158543.513421975",
         "593.9248275975697"
        ],
        [
         "16",
         "1742918784.0",
         "psychopy_time_stamp",
         "1158543.513425175",
         "593.924830797594"
        ],
        [
         "17",
         "300.0",
         "Onset_subjectInput",
         "1158543.5297928",
         "593.9411984225735"
        ],
        [
         "18",
         "1742918784.0",
         "psychopy_time_stamp",
         "1158543.5298020002",
         "593.9412076226436"
        ],
        [
         "19",
         "301.0",
         "Offset_subjectInput",
         "1158550.5999440402",
         "601.0113496626727"
        ],
        [
         "20",
         "6.0",
         "Bx_input",
         "1158550.59995294",
         "601.0113585623913"
        ],
        [
         "21",
         "1742918784.0",
         "psychopy_time_stamp",
         "1158550.59995644",
         "601.0113620625343"
        ],
        [
         "22",
         "300.0",
         "Onset_subjectInput",
         "1158550.6117366862",
         "601.0231423086952"
        ],
        [
         "23",
         "1742918784.0",
         "psychopy_time_stamp",
         "1158550.6117439861",
         "601.0231496086344"
        ],
        [
         "24",
         "301.0",
         "Offset_subjectInput",
         "1158555.7638731047",
         "606.175278727198"
        ],
        [
         "25",
         "5.0",
         "Bx_input",
         "1158555.7638826047",
         "606.1752882271539"
        ],
        [
         "26",
         "1742918784.0",
         "psychopy_time_stamp",
         "1158555.7638837046",
         "606.1752893270459"
        ],
        [
         "27",
         "300.0",
         "Onset_subjectInput",
         "1158555.8009098351",
         "606.2123154576402"
        ],
        [
         "28",
         "1742918784.0",
         "psychopy_time_stamp",
         "1158555.800919535",
         "606.2123251575977"
        ],
        [
         "29",
         "301.0",
         "Offset_subjectInput",
         "1158574.296906479",
         "624.7083121014293"
        ],
        [
         "30",
         "4.0",
         "Bx_input",
         "1158574.2969152788",
         "624.7083209012635"
        ],
        [
         "31",
         "1742918784.0",
         "psychopy_time_stamp",
         "1158574.2969193787",
         "624.7083250011783"
        ],
        [
         "32",
         "300.0",
         "Onset_subjectInput",
         "1158574.324622552",
         "624.736028174404"
        ],
        [
         "33",
         "1742918784.0",
         "psychopy_time_stamp",
         "1158574.324630352",
         "624.7360359744634"
        ],
        [
         "34",
         "301.0",
         "Offset_subjectInput",
         "1158588.580189904",
         "638.9915955264587"
        ],
        [
         "35",
         "3.0",
         "Bx_input",
         "1158588.580199604",
         "638.9916052264161"
        ],
        [
         "36",
         "1742918784.0",
         "psychopy_time_stamp",
         "1158588.580200704",
         "638.9916063265409"
        ],
        [
         "37",
         "300.0",
         "Onset_subjectInput",
         "1158588.5918543506",
         "639.0032599731348"
        ],
        [
         "38",
         "1742918784.0",
         "psychopy_time_stamp",
         "1158588.5918627507",
         "639.0032683731988"
        ],
        [
         "39",
         "301.0",
         "Offset_subjectInput",
         "1158593.8134716512",
         "644.2248772736639"
        ],
        [
         "40",
         "4.0",
         "Bx_input",
         "1158593.8134800512",
         "644.2248856737278"
        ],
        [
         "41",
         "1742918784.0",
         "psychopy_time_stamp",
         "1158593.813481051",
         "644.2248866735026"
        ],
        [
         "42",
         "100.0",
         "Onset_10second_rest",
         "1158619.2797857916",
         "669.6911914141383"
        ],
        [
         "43",
         "1742918784.0",
         "psychopy_time_stamp",
         "1158619.2797960914",
         "669.6912017138675"
        ],
        [
         "44",
         "101.0",
         "Offset_10second_rest",
         "1158629.2798539212",
         "679.6912595436443"
        ],
        [
         "45",
         "1742918912.0",
         "psychopy_time_stamp",
         "1158629.279863421",
         "679.6912690436002"
        ],
        [
         "238",
         "20.0",
         "Onset_CampFriend",
         "1158629.5694564187",
         "281.30487820878625"
        ],
        [
         "239",
         "21.0",
         "Offset_CampFriend",
         "1158781.672071409",
         "433.40749319898896"
        ]
       ],
       "shape": {
        "columns": 4,
        "rows": 248
       }
      },
      "text/html": [
       "<div>\n",
       "<style scoped>\n",
       "    .dataframe tbody tr th:only-of-type {\n",
       "        vertical-align: middle;\n",
       "    }\n",
       "\n",
       "    .dataframe tbody tr th {\n",
       "        vertical-align: top;\n",
       "    }\n",
       "\n",
       "    .dataframe thead th {\n",
       "        text-align: right;\n",
       "    }\n",
       "</style>\n",
       "<table border=\"1\" class=\"dataframe\">\n",
       "  <thead>\n",
       "    <tr style=\"text-align: right;\">\n",
       "      <th></th>\n",
       "      <th>trigger</th>\n",
       "      <th>event</th>\n",
       "      <th>lsl_time_stamp</th>\n",
       "      <th>time</th>\n",
       "    </tr>\n",
       "  </thead>\n",
       "  <tbody>\n",
       "    <tr>\n",
       "      <th>0</th>\n",
       "      <td>2.000000e+02</td>\n",
       "      <td>Onset_Experiment</td>\n",
       "      <td>1.157950e+06</td>\n",
       "      <td>0.000000</td>\n",
       "    </tr>\n",
       "    <tr>\n",
       "      <th>1</th>\n",
       "      <td>1.742918e+09</td>\n",
       "      <td>psychopy_time_stamp</td>\n",
       "      <td>1.157950e+06</td>\n",
       "      <td>0.000009</td>\n",
       "    </tr>\n",
       "    <tr>\n",
       "      <th>2</th>\n",
       "      <td>1.000000e+01</td>\n",
       "      <td>Onset_RestingState</td>\n",
       "      <td>1.157976e+06</td>\n",
       "      <td>26.309276</td>\n",
       "    </tr>\n",
       "    <tr>\n",
       "      <th>3</th>\n",
       "      <td>1.742918e+09</td>\n",
       "      <td>psychopy_time_stamp</td>\n",
       "      <td>1.157976e+06</td>\n",
       "      <td>26.309287</td>\n",
       "    </tr>\n",
       "    <tr>\n",
       "      <th>4</th>\n",
       "      <td>1.100000e+01</td>\n",
       "      <td>Offset_RestingState</td>\n",
       "      <td>1.158276e+06</td>\n",
       "      <td>326.308074</td>\n",
       "    </tr>\n",
       "    <tr>\n",
       "      <th>...</th>\n",
       "      <td>...</td>\n",
       "      <td>...</td>\n",
       "      <td>...</td>\n",
       "      <td>...</td>\n",
       "    </tr>\n",
       "    <tr>\n",
       "      <th>231</th>\n",
       "      <td>8.100000e+01</td>\n",
       "      <td>Offset_SocialTask</td>\n",
       "      <td>1.160363e+06</td>\n",
       "      <td>2413.637969</td>\n",
       "    </tr>\n",
       "    <tr>\n",
       "      <th>232</th>\n",
       "      <td>1.742921e+09</td>\n",
       "      <td>psychopy_time_stamp</td>\n",
       "      <td>1.160363e+06</td>\n",
       "      <td>2413.637986</td>\n",
       "    </tr>\n",
       "    <tr>\n",
       "      <th>233</th>\n",
       "      <td>2.010000e+02</td>\n",
       "      <td>Offset_Experiment</td>\n",
       "      <td>1.160368e+06</td>\n",
       "      <td>2418.627359</td>\n",
       "    </tr>\n",
       "    <tr>\n",
       "      <th>234</th>\n",
       "      <td>1.742921e+09</td>\n",
       "      <td>psychopy_time_stamp</td>\n",
       "      <td>1.160368e+06</td>\n",
       "      <td>2418.627373</td>\n",
       "    </tr>\n",
       "    <tr>\n",
       "      <th>235</th>\n",
       "      <td>3.010000e+02</td>\n",
       "      <td>Offset_subjectInput</td>\n",
       "      <td>1.160368e+06</td>\n",
       "      <td>2418.641791</td>\n",
       "    </tr>\n",
       "  </tbody>\n",
       "</table>\n",
       "<p>248 rows × 4 columns</p>\n",
       "</div>"
      ],
      "text/plain": [
       "          trigger                event  lsl_time_stamp         time\n",
       "0    2.000000e+02     Onset_Experiment    1.157950e+06     0.000000\n",
       "1    1.742918e+09  psychopy_time_stamp    1.157950e+06     0.000009\n",
       "2    1.000000e+01   Onset_RestingState    1.157976e+06    26.309276\n",
       "3    1.742918e+09  psychopy_time_stamp    1.157976e+06    26.309287\n",
       "4    1.100000e+01  Offset_RestingState    1.158276e+06   326.308074\n",
       "..            ...                  ...             ...          ...\n",
       "231  8.100000e+01    Offset_SocialTask    1.160363e+06  2413.637969\n",
       "232  1.742921e+09  psychopy_time_stamp    1.160363e+06  2413.637986\n",
       "233  2.010000e+02    Offset_Experiment    1.160368e+06  2418.627359\n",
       "234  1.742921e+09  psychopy_time_stamp    1.160368e+06  2418.627373\n",
       "235  3.010000e+02  Offset_subjectInput    1.160368e+06  2418.641791\n",
       "\n",
       "[248 rows x 4 columns]"
      ]
     },
     "execution_count": 4,
     "metadata": {},
     "output_type": "execute_result"
    }
   ],
   "source": [
    "stim_df"
   ]
  },
  {
   "cell_type": "markdown",
   "metadata": {},
   "source": [
    "# Get Metrics"
   ]
  },
  {
   "cell_type": "markdown",
   "metadata": {},
   "source": [
    "## 1. EEG"
   ]
  },
  {
   "cell_type": "code",
   "execution_count": null,
   "metadata": {},
   "outputs": [],
   "source": [
    "#Compute the eeg vars\n",
    "eeg_vars, raw_cleaned, ica, eeg_df = compute_eeg_pipeline(xdf_filename, \n",
    "                                                          stim_df=stim_df, \n",
    "                                                          task='RestingState')\n"
   ]
  },
  {
   "cell_type": "markdown",
   "metadata": {},
   "source": [
    "### Manual Artifact Removal"
   ]
  },
  {
   "cell_type": "code",
   "execution_count": null,
   "metadata": {},
   "outputs": [],
   "source": [
    "fig = ica.plot_components( title='ICA Components')\n",
    "# Save the ICA plot\n",
    "# change the figure size and save it\n",
    "fig.set_size_inches(10, 8)\n",
    "fig.tight_layout()\n",
    "fig.savefig(f'report_images/{subject}_eeg_ica_components.png', bbox_inches='tight')"
   ]
  },
  {
   "cell_type": "code",
   "execution_count": null,
   "metadata": {},
   "outputs": [],
   "source": [
    "ica.plot_properties(raw_cleaned, picks=range(ica.n_components_)) # This exact component number probably won't work if you recompute ICA\n"
   ]
  },
  {
   "cell_type": "code",
   "execution_count": null,
   "metadata": {},
   "outputs": [],
   "source": [
    "ica.plot_overlay(raw_cleaned, picks=[0,3,10,11,13,14,18,19])"
   ]
  },
  {
   "cell_type": "code",
   "execution_count": null,
   "metadata": {},
   "outputs": [],
   "source": [
    "ica.exclude = [0,3,10,11,13,14,18,19] # these are the components that we want to exclude\n",
    "ica.apply(raw_cleaned)"
   ]
  },
  {
   "cell_type": "code",
   "execution_count": null,
   "metadata": {},
   "outputs": [],
   "source": [
    "eeg_vars['components_excluded'] = ica.exclude"
   ]
  },
  {
   "cell_type": "markdown",
   "metadata": {},
   "source": [
    "### Generate figures"
   ]
  },
  {
   "cell_type": "code",
   "execution_count": null,
   "metadata": {},
   "outputs": [],
   "source": [
    "raw_cleaned.annotations.delete([i for i, desc in enumerate(raw_cleaned.annotations.description) if desc == 'blink' or desc == 'BAD_muscle'])\n",
    "fig = raw_cleaned.plot(show_scrollbars=False,\n",
    "                        show_scalebars=False,events=None, start=0, \n",
    "                        duration=200,n_channels=50, scalings=.35e-4, color='k', title='EEG Data after ICA')\n",
    "\n",
    "fig.savefig(f'report_images/{subject}_eeg_cleaned.png', dpi=300, bbox_inches='tight')\n",
    "\n",
    "\n",
    "fig = raw_cleaned.plot_psd(fmax=50, average=False, show=True)\n",
    "fig.savefig(f'report_images/{subject}_eeg_cleaned_psd.png', dpi=300, bbox_inches='tight')"
   ]
  },
  {
   "cell_type": "code",
   "execution_count": null,
   "metadata": {},
   "outputs": [],
   "source": [
    "raw_cleaned_pathname = '/'.join(xdf_filename.split('/')[:-1]) + f'/sub-{subject}_ses-S001_task-CUNY_run-001_eeg_clean.fif'\n",
    "raw_cleaned.save(raw_cleaned_pathname, overwrite=True)\n",
    "\n",
    "\n",
    "eeg_print = {\n",
    "    'Bad channels before robust reference': eeg_vars['bad_channels_before'], \n",
    "    'Interpolated channels': eeg_vars['interpolated_channels'], \n",
    "    'Bad channels after interpolation': eeg_vars['bad_channels_after'], \n",
    "    'Percent Good before artifact removal': f\"{eeg_vars['percent_good']:.4}%\",\n",
    "    'Artifactual Components Excluded': ica.exclude\n",
    "}"
   ]
  },
  {
   "cell_type": "markdown",
   "metadata": {},
   "source": [
    "## 2. ECG"
   ]
  },
  {
   "cell_type": "code",
   "execution_count": null,
   "metadata": {},
   "outputs": [],
   "source": [
    "[ecg_vars, ecg_plt, ps_df] = ecg_qc(xdf_filename = xdf_filename, stim_df = stim_df, task='RestingState')\n"
   ]
  },
  {
   "cell_type": "code",
   "execution_count": null,
   "metadata": {},
   "outputs": [],
   "source": [
    "ecg_vars.keys()"
   ]
  },
  {
   "cell_type": "code",
   "execution_count": null,
   "metadata": {},
   "outputs": [],
   "source": [
    "ecg_print = {\n",
    "    \"Effective sampling rate\": f'{ecg_vars[\"sampling_rate\"]:.4f} Hz', \n",
    "    \"Signal to Noise Ratio\": f'{ecg_vars[\"SNR\"]:.4f} dB',\n",
    "    \"Average heart rate\": f'{ecg_vars[\"average_heart_rate\"]:.4f} bpm',\n",
    "    \"Kurtosis signal quality index (kSQI)\": f'{ecg_vars[\"kurtosis_SQI\"]:.4f}',\n",
    "    \"Power spectrum distribution (pSQI)\": f'{ecg_vars[\"power_spectrum_distribution_SQI\"]:.4f} mV²/Hz',\n",
    "    \"Relative power in baseline (basSQI)\": f'{ecg_vars[\"relative_baseline_power_sqi\"]:.4f}%'\n",
    "}"
   ]
  },
  {
   "cell_type": "code",
   "execution_count": null,
   "metadata": {},
   "outputs": [],
   "source": [
    "ecg_print"
   ]
  },
  {
   "cell_type": "markdown",
   "metadata": {},
   "source": [
    "## 3. EDA"
   ]
  },
  {
   "cell_type": "code",
   "execution_count": null,
   "metadata": {},
   "outputs": [],
   "source": [
    "[eda_vars, eda_plt1, eda_plt2, ps_df] = eda_qc(xdf_filename = xdf_filename, stim_df = stim_df, task= 'RestingState')"
   ]
  },
  {
   "cell_type": "code",
   "execution_count": null,
   "metadata": {},
   "outputs": [],
   "source": [
    "eda_vars.keys()"
   ]
  },
  {
   "cell_type": "code",
   "execution_count": null,
   "metadata": {},
   "outputs": [],
   "source": [
    "eda_print = {\n",
    "    \"Effective sampling rate\": f'{eda_vars[\"sampling_rate\"]:.4f} Hz', \n",
    "    \"Signal to noise ratio\": f'{eda_vars[\"snr\"]:.4f} dB',\n",
    "    \"Signal integrity check\": f'{eda_vars[\"signal_integrity_check\"]:.4f}%',\n",
    "    \"Average skin conductance level\": f'{eda_vars[\"average_scl\"]:.4f} mS',\n",
    "    \"Skin conductance level std\": f'{eda_vars[\"scl_sd\"]:.4f} mS',\n",
    "    \"Skin conductance level coefficient of variation\": f'{eda_vars[\"scl_cv\"]:.4f}%',\n",
    "    \"Average amplitude of skin conductance response\": f'{eda_vars[\"average_scr_amplitude\"]:.4f} mS',\n",
    "    \"Skin conductance response validity\": f'{eda_vars[\"sc_validity\"]:.4f} %' # this will need to be changed to [scr_validity]\n",
    "}"
   ]
  },
  {
   "cell_type": "markdown",
   "metadata": {},
   "source": [
    "## 4. RSP"
   ]
  },
  {
   "cell_type": "code",
   "execution_count": null,
   "metadata": {},
   "outputs": [],
   "source": [
    "rsp_vars, ps_df = rsp_qc(xdf_filename=xdf_filename, stim_df=stim_df, task='RestingState')"
   ]
  },
  {
   "cell_type": "code",
   "execution_count": null,
   "metadata": {},
   "outputs": [],
   "source": [
    "rsp_print = {\n",
    "    \"Effective sampling rate\": f'{rsp_vars[\"sampling_rate\"]:.4f} Hz', \n",
    "    \"Signal to noise ratio\": f'{rsp_vars[\"rsp_snr\"]:.4f} dB',\n",
    "    \"Breath amplitude mean\": f'{rsp_vars[\"breath_amplitude_mean\"]:.4f} V',\n",
    "    \"Breath amplitude std\": f'{rsp_vars[\"breath_amplitude_std\"]:.4f} V',\n",
    "    \"Breath amplitude range\": f'{rsp_vars[\"breath_amplitude_range\"]} V',\n",
    "    \"Respiration rate mean\": f'{rsp_vars[\"rsp_rate_mean\"]:.4f} bpm',\n",
    "    \"Respiration rate std\": f'{rsp_vars[\"rsp_rate_std\"]:.4f} bpm', \n",
    "    \"Respiration rate range\": f'{rsp_vars[\"rsp_rate_range\"]} bpm', \n",
    "    \"Peak to peak interval mean\": f'{rsp_vars[\"ptp_mean\"]:.4f} sec', \n",
    "    \"Peak to peak interval std\": f'{rsp_vars[\"ptp_std\"]:.4f} sec', \n",
    "    \"Peak to peak interval range\": f'{rsp_vars[\"ptp_range\"]} sec', \n",
    "    \"Baseline drift\": f'{rsp_vars[\"baseline_drift\"]:.4f} V', \n",
    "    \"Autocorrelation at typical breath cycle\": f'{rsp_vars[\"autocorrelation\"]:.4f}'\n",
    "}"
   ]
  },
  {
   "cell_type": "markdown",
   "metadata": {},
   "source": [
    "## 5. Mic"
   ]
  },
  {
   "cell_type": "code",
   "execution_count": null,
   "metadata": {},
   "outputs": [],
   "source": [
    "mic_vars, mic_df = mic_qc(xdf_filename=xdf_filename, stim_df=stim_df)"
   ]
  },
  {
   "cell_type": "code",
   "execution_count": null,
   "metadata": {},
   "outputs": [],
   "source": [
    "mic_print = {\n",
    "    \"Effective sampling rate\": f'{mic_vars[\"sampling_rate\"]:.4f} Hz', \n",
    "    \"Difference between .wav file and lsl timestamps durations\": f'{mic_vars[\"lsl_wav_duration_diff\"]:.4f} sec', \n",
    "    \"Number of NaN's\": f'{mic_vars[\"num_NaN\"]}',\n",
    "    \"Percent of NaN's\": f'{mic_vars[\"percent_NaN\"]:.4f}%',\n",
    "    \"Mic samples first quartile\": f'{mic_vars[\"quan25\"]:.4f}',\n",
    "    \"Mic samples third quartile\": f'{mic_vars[\"quan75\"]:.4f}',\n",
    "    \"Mic samples std\": f'{mic_vars[\"std\"]:.4f}',\n",
    "    \"Mic samples min\": f'{mic_vars[\"min\"]:.4f}',\n",
    "    \"Mic samples max\": f'{mic_vars[\"max\"]:.4f}'\n",
    "}"
   ]
  },
  {
   "cell_type": "markdown",
   "metadata": {},
   "source": [
    "## 6. Webcam"
   ]
  },
  {
   "cell_type": "code",
   "execution_count": null,
   "metadata": {},
   "outputs": [],
   "source": [
    "webcam_vars, cam_df = webcam_qc(xdf_filename=xdf_filename,\n",
    "                                stim_df=stim_df,\n",
    "                                video_file=video_filename, task='RestingState')"
   ]
  },
  {
   "cell_type": "code",
   "execution_count": null,
   "metadata": {},
   "outputs": [],
   "source": [
    "webcam_print = {\n",
    "    \"Effective sampling rate\": f'{webcam_vars[\"sampling_rate\"]:.4f} Hz', \n",
    "    \"Collected full resting state\": webcam_vars[\"collected_full_RestingState\"], \n",
    "    \"Percent of frames with face detected\": f'{webcam_vars[\"face_perc\"]:.4%}'\n",
    "}"
   ]
  },
  {
   "cell_type": "code",
   "execution_count": null,
   "metadata": {},
   "outputs": [],
   "source": [
    "webcam_print"
   ]
  },
  {
   "cell_type": "markdown",
   "metadata": {},
   "source": [
    "## 7. ET"
   ]
  },
  {
   "cell_type": "code",
   "execution_count": null,
   "metadata": {},
   "outputs": [],
   "source": [
    "et_vars, et_df = et_qc(xdf_filename = xdf_filename, stim_df = stim_df, task='RestingState')"
   ]
  },
  {
   "cell_type": "code",
   "execution_count": null,
   "metadata": {},
   "outputs": [],
   "source": [
    "et_print = {\n",
    "    \"Effective sampling rate\": f'{et_vars[\"sampling_rate\"]:.4f} Hz', \n",
    "    \"Flag: all coordinates have the same % validity within each measure (LR, gaze point/origin/diameter)\": et_vars[\"flag1\"], \n",
    "    \"Flag: % of NaNs is the same between coordinate systems (UCS and TBCS (gaze origin) and between UCS and display area (gaze point))\": et_vars[\"flag2\"],\n",
    "    \"Mean difference in percent valid data between right and left eyes\": f'{et_vars[\"LR_mean_diff\"]:.4f}%',\n",
    "    \"Percent of data with gaze point differences of over 0.2 mm\": f'{et_vars[\"percent_over02\"]:.4f}%'\n",
    "}"
   ]
  },
  {
   "cell_type": "markdown",
   "metadata": {},
   "source": [
    "## Stream Durations "
   ]
  },
  {
   "cell_type": "markdown",
   "metadata": {},
   "source": [
    "### functions are in utils.py (but should be called in the report)"
   ]
  },
  {
   "cell_type": "code",
   "execution_count": null,
   "metadata": {},
   "outputs": [],
   "source": [
    "df_map = {\n",
    "    'et': et_df,\n",
    "    'ps': ps_df,\n",
    "    'mic': mic_df,\n",
    "    'cam': cam_df\n",
    "    }\n",
    "    # 'eeg': eeg_df"
   ]
  },
  {
   "cell_type": "code",
   "execution_count": null,
   "metadata": {},
   "outputs": [],
   "source": [
    "duration_vars = {\"Durations of each modality + comparison to expected duration:\": \n",
    "    get_durations(xdf_path=xdf_filename, task='Experiment', df_map = df_map, stim_df = stim_df)}"
   ]
  },
  {
   "cell_type": "code",
   "execution_count": null,
   "metadata": {},
   "outputs": [],
   "source": [
    "duration_print = duration_vars"
   ]
  },
  {
   "cell_type": "code",
   "execution_count": null,
   "metadata": {},
   "outputs": [],
   "source": [
    "# i wont run these but they are here for reference\n",
    "# get_durations('RestingState', xdf_filename)\n",
    "# get_durations('CampFriend', xdf_filename)\n",
    "# get_durations('SocialTask', xdf_filename)\n",
    "# whole_durations(xdf_filename)"
   ]
  },
  {
   "cell_type": "markdown",
   "metadata": {},
   "source": [
    "## LSL Problem"
   ]
  },
  {
   "cell_type": "code",
   "execution_count": null,
   "metadata": {},
   "outputs": [],
   "source": [
    "lsl_vars = lsl_problem_qc(xdf_filename, df_map=df_map, stim_df=stim_df, modality_to_plot='et')"
   ]
  },
  {
   "cell_type": "code",
   "execution_count": null,
   "metadata": {},
   "outputs": [],
   "source": [
    "lsl_print = {\n",
    "    \"Percent of missing data in entire experiment\": lsl_vars[\"percent_loss\"],\n",
    "    \"Percent of missing data before social task offset\": lsl_vars[\"loss_before_social_task\"]\n",
    "}"
   ]
  },
  {
   "cell_type": "markdown",
   "metadata": {},
   "source": [
    "# Copy"
   ]
  },
  {
   "cell_type": "code",
   "execution_count": null,
   "metadata": {},
   "outputs": [],
   "source": [
    "copy = {\n",
    "    'EEG': 'Data preprocessed by performing <b>line noise removal</b>, <b>robust referencing</b>, and <b>bad channel detection/interpolation</b> using PyPrep pipeline. First, the pipeline applies a notch filter at 60 Hz and its harmonics to remove power line noise. Then, it performs <b>robust average referencing</b>, where it detects bad channels, interpolates them using surrounding signals, and computes a median-based reference across EEG channels. This ensures a stable reference even in the presence of noisy electrodes. Independent components analysis (ICA) was then performed to identify and remove ocular and muscle artifacts. The final output is a cleaned EEG dataset with a consistent reference, ready for further analysis.',\n",
    "    'ET': 'In the eye tracking data, gaze origin, gaze point, and pupil diameter are reported, for the left and right eyes. Gaze origin describes the point in 3D space where the gaze vector starts, and is reported in both the user coordinate system (UCS) and the trackbox coordinate system (TBCS). Gaze point describes the spot on the screen where the participant is looking, for each eye. Gaze origin is reported in 3D space in the UCS and the display area. The percent of data for which the distance between the gaze point of the left and right eye is more than 0.2 mm is reported below.',\n",
    "    'ECG': \"The data was processed using the neurokit2 automated pipeline for preprocessing ECG signals. ECG data is cleaned using the default parameters that apply fifth order 0.5 Hz high-pass butterworth filter followed by 50 Hz powerline filtering. Neurokit2 was also used to calculate signal quality indices (SQI) based on Zhao et.al (2018). SQIs calculated were kurtosis (kSQI), power spectrum distribution of QRS wave (pSQI) and relative power in baseline (basSQI). kSQI was calculated using the Fisher's method. pSQI and basSQI were calculated using the Welch method.\",\n",
    "    'EDA': \"Electrodermal Activity (EDA) is measured in microSiemens from a standard EDA sensor. EDA data quality metrics calculated from raw and clean data using neurokit2 python package. The data is processed using the neurokit2 automated pipeline for preprocessing EDA signal. EDA data is cleaned using the default parameters that apply fourth order butterworth filter. Additionally, the automated preprocessing pipeline was used to decompose the EDA signal into the tonic component, Skin Conductance Level (SCL) and the phasic component, Skin Conductance Response (SCR). The decomposition was done using default parameters that perform high-pass filtering with a cutoff frequency of 0.05Hz on EDA signal.\",\n",
    "    'RSP': \"Respiration data is measured in volts from a piezoelectric sensor. Respiration data quality metrics are calculated both from raw and cleaned data, where the neurokit2 package was used to clean the data using the default method of a second order 0.05-3 Hz bandpass Butterworth filter, as in Khodadad et al, 2018. Neurokit2 was also used to extract the peaks and troughs of detected breaths. Respiration rate was calculated using the cross correlation method, which was more consistent to the raw data than the other trough method. Baseline drift was quantified as the standard deviation of the data after applying a lowpass filter to raw data.\",\n",
    "    'MIC': \"For audio data, it is important to confirm that the distribution of microphone samples (see graph below) is relatively centered around 0, with no outlier peaks and no values above 32,000 or below -32,000.\",\n",
    "    'WEBCAM': \"The quality of the webcam data is assessed by checking the percentage of frames where a face is detected. If a face is not detected in more than 50 percent of the frames, it may indicate issues with the recording or participant positioning.\",\n",
    "    'Stream Durations': \"\",\n",
    "    'LSL': \"While the difference between consecutive LSL time stamps are expected to consistently be equal to the inverse of the sampling rate, it was found that there were longer gaps between some LSL time stamps for some data modalities, indicating a potential system or other technical error during data collection. Below, the percentage of missing data for each data modality due to these LSL time stamp gaps is shown. The amount of data in seconds for each modality is also shown below, and each duration is then compared to the expected duration of the experiment.\"\n",
    "}"
   ]
  },
  {
   "cell_type": "markdown",
   "metadata": {},
   "source": [
    "# Second Report with formatting"
   ]
  },
  {
   "cell_type": "code",
   "execution_count": null,
   "metadata": {},
   "outputs": [],
   "source": [
    "# Modalities and corresponding data\n",
    "metric_names = [\"EEG\", \"ECG\", \"EDA\", \"RSP\", \"MIC\",\"ET\", \"WEBCAM\", \"Stream Durations\", \"LSL\"]\n",
    "metrics_list = [eeg_print, ecg_print, eda_print, rsp_print, mic_print, et_print, webcam_print, duration_print, lsl_print]\n",
    "# metric_names = [\"ECG\", \"EDA\",\"WEBCAM\"]\n",
    "# metrics_list = [ecg_print, eda_print,  webcam_print]\n",
    "\n",
    "# PDF structure\n",
    "parent_folder = xdf_filename.split('mobi')[0]\n",
    "pdf_path = f\"{parent_folder}QCReport.pdf\"\n",
    "doc = SimpleDocTemplate(pdf_path, pagesize=A4)\n",
    "elements = []\n",
    "styles = getSampleStyleSheet()\n",
    "\n",
    "# Define subtitle style if not already done\n",
    "subtitle_style = ParagraphStyle(\n",
    "    name=\"Subtitle\",\n",
    "    parent=styles[\"Heading2\"],\n",
    "    fontSize=14,\n",
    "    leading=16,\n",
    "    textColor=\"gray\",\n",
    "    spaceAfter=12,\n",
    "    alignment=1  # Centered\n",
    ")\n",
    "\n",
    "# page number function\n",
    "def add_page_number(canvas, doc):\n",
    "    page_num = f'{canvas.getPageNumber()}'\n",
    "    canvas.setFont(\"Helvetica\", 9)\n",
    "    canvas.drawRightString(570, 20, page_num)  # (x, y) from bottom-left\n",
    "\n",
    "\n",
    "elements.append(Paragraph(f\"Subject Report: {subject}\", styles[\"Title\"]))\n",
    "elements.append(Paragraph(f\"Collection Date: {get_collection_date(xdf_filename)}\", subtitle_style))\n",
    "elements.append(Spacer(1, 12))\n",
    "\n",
    "# Format each metrics dict\n",
    "for name, metrics in zip(metric_names, metrics_list):\n",
    "    elements.append(Paragraph(name, styles[\"Heading2\"]))\n",
    "    elements.append(Paragraph(copy[name], styles[\"Normal\"]))\n",
    "    elements.append(Spacer(1, 12))\n",
    "\n",
    "    for k, v in metrics.items():\n",
    "        if isinstance(v, pd.DataFrame):\n",
    "\n",
    "            data = [v.columns.tolist()] + v.values.tolist()  # Include headers\n",
    "            table = Table(data, repeatRows=1)\n",
    "            table.hAlign = 'LEFT'\n",
    "\n",
    "            table.setStyle(TableStyle([\n",
    "                ('BACKGROUND', (0, 0), (-1, 0), colors.lightgrey),\n",
    "                ('GRID', (0, 0), (-1, -1), 0.5, colors.black),\n",
    "                ('FONTNAME', (0, 0), (-1, -1), 'Helvetica'),\n",
    "                ('FONTSIZE', (0, 0), (-1, -1), 10),\n",
    "                ('ALIGN', (0, 0), (-1, -1), 'LEFT'),\n",
    "            ]))\n",
    "            elements.append(Paragraph(k, styles['Normal']))\n",
    "            elements.append(Spacer(1, 12))\n",
    "\n",
    "            elements.append(table)\n",
    "            elements.append(Spacer(1, 12))\n",
    "        else:\n",
    "            text = f\"<b>{k}:</b> {v}\" if isinstance(v, float) else f\"<b>{k}:</b> {v}\"\n",
    "            elements.append(Paragraph(text, styles[\"Normal\"]))\n",
    "    elements.append(Spacer(1, 12))\n",
    "\n",
    "    # images\n",
    "    folder = \"report_images\"\n",
    "    image_keyword = name.lower()\n",
    "    if os.path.exists(folder):\n",
    "        for fname in sorted(os.listdir(folder)):\n",
    "            if image_keyword in fname.lower() and subject in fname:\n",
    "                image_path = os.path.join(folder, fname)\n",
    "\n",
    "                # get dimensions\n",
    "                image_reader = ImageReader(image_path)\n",
    "                orig_width, orig_height = image_reader.getSize()\n",
    "                print(orig_width, orig_height)\n",
    "                if orig_width > 4000:\n",
    "                    img = Image(image_path, width=orig_width/9, height=orig_height/9)\n",
    "                elif orig_width > 3000:\n",
    "                    img = Image(image_path, width=orig_width/7, height=orig_height/7)\n",
    "                elif orig_width > 2000:\n",
    "                    img = Image(image_path, width = orig_width/5, height = orig_height/5)\n",
    "                elif orig_width > 1400:\n",
    "                    img = Image(image_path, width=orig_width/3, height=orig_height/3)\n",
    "                else:\n",
    "                    img = Image(image_path, width=orig_width/2, height=orig_height/2)  # Adjust size as needed\n",
    "                elements.append(img)\n",
    "                elements.append(Spacer(1, 12))\n",
    "\n",
    "\n",
    "\n",
    "doc.build(elements, onFirstPage = add_page_number, onLaterPages = add_page_number)\n",
    "print(f'PDF created: {pdf_path}')"
   ]
  },
  {
   "cell_type": "code",
   "execution_count": null,
   "metadata": {},
   "outputs": [],
   "source": [
    "# Modalities and corresponding data\n",
    "metric_names = [\"EEG\", \"ECG\", \"EDA\", \"RSP\", \"MIC\",\"ET\", \"WEBCAM\", \"Stream Durations\", \"LSL\"]\n",
    "metrics_list = [eeg_print, ecg_print, eda_print, rsp_print, mic_print, et_print, webcam_print, duration_print, lsl_print]\n",
    "\n",
    "\n",
    "# PDF structure\n",
    "parent_folder = xdf_filename.split('mobi')[0]\n",
    "pdf_path = f\"{parent_folder}QCReport.pdf\"\n",
    "doc = SimpleDocTemplate(pdf_path, pagesize=A4)\n",
    "elements = []\n",
    "styles = getSampleStyleSheet()\n",
    "\n",
    "# Define subtitle style if not already done\n",
    "subtitle_style = ParagraphStyle(\n",
    "    name=\"Subtitle\",\n",
    "    parent=styles[\"Heading2\"],\n",
    "    fontSize=14,\n",
    "    leading=16,\n",
    "    textColor=\"gray\",\n",
    "    spaceAfter=12,\n",
    "    alignment=1  # Centered\n",
    ")\n",
    "\n",
    "# page number function\n",
    "def add_page_number(canvas, doc):\n",
    "    page_num = f'{canvas.getPageNumber()}'\n",
    "    canvas.setFont(\"Helvetica\", 9)\n",
    "    canvas.drawRightString(570, 20, page_num)  # (x, y) from bottom-left\n",
    "\n",
    "\n",
    "elements.append(Paragraph(f\"Subject Report: {subject}\", styles[\"Title\"]))\n",
    "elements.append(Paragraph(f\"Collection Date: {get_collection_date(xdf_filename)}\", subtitle_style))\n",
    "elements.append(Spacer(1, 12))\n",
    "\n",
    "# Format each metrics dict\n",
    "for name, metrics in zip(metric_names, metrics_list):\n",
    "    elements.append(Paragraph(name, styles[\"Heading2\"]))\n",
    "    elements.append(Paragraph(copy[name], styles[\"Normal\"]))\n",
    "    elements.append(Spacer(1, 12))\n",
    "\n",
    "    for k, v in metrics.items():\n",
    "        if isinstance(v, pd.DataFrame):\n",
    "            data = [v.columns.tolist()] + v.values.tolist()  # Include headers\n",
    "            table = Table(data, repeatRows=1)\n",
    "            table.hAlign = 'LEFT'\n",
    "\n",
    "            table.setStyle(TableStyle([\n",
    "                ('BACKGROUND', (0, 0), (-1, 0), colors.lightgrey),\n",
    "                ('GRID', (0, 0), (-1, -1), 0.5, colors.black),\n",
    "                ('FONTNAME', (0, 0), (-1, -1), 'Helvetica'),\n",
    "                ('FONTSIZE', (0, 0), (-1, -1), 10),\n",
    "                ('ALIGN', (0, 0), (-1, -1), 'LEFT'),\n",
    "            ]))\n",
    "            elements.append(Paragraph(k, styles['Normal']))\n",
    "            elements.append(Spacer(1, 12))\n",
    "\n",
    "            elements.append(table)\n",
    "            elements.append(Spacer(1, 12))\n",
    "        else:\n",
    "            text = f\"<b>{k}:</b> {v}\" if isinstance(v, float) else f\"<b>{k}:</b> {v}\"\n",
    "            elements.append(Paragraph(text, styles[\"Normal\"]))\n",
    "    elements.append(Spacer(1, 12))\n",
    "\n",
    "    # images\n",
    "    folder = \"report_images\"\n",
    "    image_keyword = name.lower()\n",
    "    if os.path.exists(folder):\n",
    "        row_images = []\n",
    "        for fname in sorted(os.listdir(folder)):\n",
    "            if image_keyword in fname.lower() and subject in fname:\n",
    "                image_path = os.path.join(folder, fname)\n",
    "\n",
    "                # get dimensions\n",
    "                image_reader = ImageReader(image_path)\n",
    "                orig_width, orig_height = image_reader.getSize()\n",
    "                if orig_width > 4000:\n",
    "                    img = Image(image_path, width=orig_width/9, height=orig_height/9)\n",
    "                elif orig_width > 3000:\n",
    "                    img = Image(image_path, width=orig_width/7, height=orig_height/7)\n",
    "                elif orig_width > 2000:\n",
    "                    img = Image(image_path, width=orig_width/5, height=orig_height/5)\n",
    "                elif orig_width > 1400:\n",
    "                    img = Image(image_path, width=orig_width/3, height=orig_height/3)\n",
    "                else:\n",
    "                    img = Image(image_path, width=orig_width/2, height=orig_height/2)\n",
    "\n",
    "                # If 'rsp' in image name, add to a row\n",
    "                if 'rsp' in fname.lower():\n",
    "                    img.drawWidth = 250\n",
    "                    img.drawHeight = 200\n",
    "                    row_images.append(img)\n",
    "                    \n",
    "                    if len(row_images) == 2:\n",
    "                        table = Table([row_images], hAlign = 'CENTER', colWidths=[280,280])\n",
    "                        table.setStyle(TableStyle([('ALIGN', (0, 0), (0, -1), 'LEFT')]))\n",
    "                        elements.append(table)\n",
    "                        elements.append(Spacer(1, 12))\n",
    "                        row_images = []\n",
    "\n",
    "                else:\n",
    "                    elements.append(img)\n",
    "                    elements.append(Spacer(1, 12))\n",
    "\n",
    "        # If there's an unmatched image left in the row buffer\n",
    "        if row_images:\n",
    "            elements.append(Table([row_images], hAlign='CENTER', colWidths='*'))\n",
    "            elements.append(Spacer(1, 12))\n",
    "            \n",
    "\n",
    "doc.build(elements, onFirstPage = add_page_number, onLaterPages = add_page_number)\n",
    "print(f'PDF created: {pdf_path}')"
   ]
  },
  {
   "cell_type": "code",
   "execution_count": null,
   "metadata": {},
   "outputs": [],
   "source": []
  }
 ],
 "metadata": {
  "kernelspec": {
   "display_name": "mobi-qc-py3.11",
   "language": "python",
   "name": "python3"
  },
  "language_info": {
   "codemirror_mode": {
    "name": "ipython",
    "version": 3
   },
   "file_extension": ".py",
   "mimetype": "text/x-python",
   "name": "python",
   "nbconvert_exporter": "python",
   "pygments_lexer": "ipython3",
   "version": "3.11.12"
  }
 },
 "nbformat": 4,
 "nbformat_minor": 2
}
