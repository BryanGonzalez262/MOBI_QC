{
 "cells": [
  {
   "cell_type": "markdown",
   "metadata": {},
   "source": [
    "# Load Functions"
   ]
  },
  {
   "cell_type": "markdown",
   "metadata": {},
   "source": [
    "## 0. imports"
   ]
  },
  {
   "cell_type": "code",
   "execution_count": 2,
   "metadata": {},
   "outputs": [],
   "source": [
    "from reportlab.lib.styles import ParagraphStyle, getSampleStyleSheet\n",
    "from reportlab.lib.pagesizes import A4\n",
    "from reportlab.lib import colors\n",
    "from reportlab.platypus import SimpleDocTemplate, Paragraph, Spacer, Table, TableStyle, Image\n",
    "from reportlab.lib.utils import ImageReader\n",
    "import os\n",
    "import mne\n",
    "import json\n",
    "\n",
    "from utils import *\n",
    "from eeg_qc import compute_eeg_pipeline, test_eeg_pipeline\n",
    "from ecg_qc import ecg_qc \n",
    "from eda_qc import eda_qc\n",
    "from rsp_qc import *\n",
    "from mic_qc import *\n",
    "from lsl_problem import *\n",
    "from et_qc import *\n",
    "from webcam_qc import *\n",
    "import matplotlib"
   ]
  },
  {
   "cell_type": "code",
   "execution_count": 3,
   "metadata": {},
   "outputs": [],
   "source": [
    "# subject = \"P5415639\"\n",
    "# xdf_filename = f'/Users/bryan.gonzalez/CUNY_subs/sub-{subject}/sub-{subject}_ses-S001_task-CUNY_run-001_mobi.xdf'\n",
    "\n",
    "subject = \"P5182010\"\n",
    "xdf_filename = f'/Users/camilla.strauss/Desktop/CUNY_Data/Data/sub-{subject}/sub-{subject}_ses-S001_task-CUNY_run-001_mobi.xdf'\n",
    "\n",
    "#xdf_filename = #Apurva's xdf file\n",
    "\n",
    "video_filename = '/'.join(xdf_filename.split('/')[:-1])+ f'/sub-{subject}_task-CUNY_run-001_video.avi'\n"
   ]
  },
  {
   "cell_type": "code",
   "execution_count": 4,
   "metadata": {},
   "outputs": [],
   "source": [
    "stim_df = import_stim_data(xdf_filename)"
   ]
  },
  {
   "cell_type": "markdown",
   "metadata": {},
   "source": [
    "# Get Metrics"
   ]
  },
  {
   "cell_type": "markdown",
   "metadata": {},
   "source": [
    "## 1. EEG"
   ]
  },
  {
   "cell_type": "code",
   "execution_count": 5,
   "metadata": {},
   "outputs": [
    {
     "name": "stdout",
     "output_type": "stream",
     "text": [
      "Opening raw data file /Users/camilla.strauss/Desktop/CUNY_Data/Data/sub-P5182010/sub-P5182010_ses-S001_task-CUNY_run-001_eeg_clean.fif...\n",
      "    Range : 0 ... 299989 =      0.000 ...   300.000 secs\n",
      "Ready.\n",
      "Reading 0 ... 299989  =      0.000 ...   300.000 secs...\n",
      "Bad channels before robust reference: ['E8', 'E127', 'E7', 'E122', 'E73', 'E126', 'E116', 'E14', 'E95', 'Cz']\n",
      "Interpolated channels: ['E8', 'E122', 'E21', 'E73', 'E116', 'E14', 'E95', 'Cz']\n",
      "Bad channels after interpolation: ['E126', 'E39', 'E127', 'E117']\n",
      "Using EOG channels: E25, E8\n",
      "EOG channel index for this subject is: [24  7]\n",
      "Filtering the data to remove DC offset to help distinguish blinks from saccades\n",
      "Selecting channel E25 for blink detection\n",
      "Setting up band-pass filter from 1 - 10 Hz\n",
      "\n",
      "FIR filter parameters\n",
      "---------------------\n",
      "Designing a two-pass forward and reverse, zero-phase, non-causal bandpass filter:\n",
      "- Windowed frequency-domain design (firwin2) method\n",
      "- Hann window\n",
      "- Lower passband edge: 1.00\n",
      "- Lower transition bandwidth: 0.50 Hz (-12 dB cutoff frequency: 0.75 Hz)\n",
      "- Upper passband edge: 10.00 Hz\n",
      "- Upper transition bandwidth: 0.50 Hz (-12 dB cutoff frequency: 10.25 Hz)\n",
      "- Filter length: 10000 samples (10.000 s)\n",
      "\n",
      "Now detecting blinks and generating corresponding events\n",
      "Found 171 significant peaks\n",
      "Number of EOG events detected: 171\n",
      "Not setting metadata\n",
      "171 matching events found\n",
      "No baseline correction applied\n",
      "Using data from preloaded Raw for 171 events and 1001 original time points ...\n",
      "2 bad epochs dropped\n"
     ]
    },
    {
     "name": "stderr",
     "output_type": "stream",
     "text": [
      "[Parallel(n_jobs=1)]: Done   1 out of   1 | elapsed:    0.0s finished\n"
     ]
    },
    {
     "name": "stdout",
     "output_type": "stream",
     "text": [
      "Filtering raw data in 1 contiguous segment\n",
      "Setting up band-pass filter from 95 - 1.2e+02 Hz\n",
      "\n",
      "FIR filter parameters\n",
      "---------------------\n",
      "Designing a one-pass, zero-phase, non-causal bandpass filter:\n",
      "- Windowed time-domain design (firwin) method\n",
      "- Hamming window with 0.0194 passband ripple and 53 dB stopband attenuation\n",
      "- Lower passband edge: 95.00\n",
      "- Lower transition bandwidth: 23.75 Hz (-6 dB cutoff frequency: 83.12 Hz)\n",
      "- Upper passband edge: 120.00 Hz\n",
      "- Upper transition bandwidth: 30.00 Hz (-6 dB cutoff frequency: 135.00 Hz)\n",
      "- Filter length: 139 samples (0.139 s)\n",
      "\n"
     ]
    },
    {
     "name": "stderr",
     "output_type": "stream",
     "text": [
      "[Parallel(n_jobs=1)]: Done  17 tasks      | elapsed:    0.1s\n",
      "[Parallel(n_jobs=1)]: Done  71 tasks      | elapsed:    0.4s\n",
      "[Parallel(n_jobs=1)]: Done 129 out of 129 | elapsed:    0.7s finished\n"
     ]
    },
    {
     "name": "stdout",
     "output_type": "stream",
     "text": [
      "Setting up low-pass filter at 4 Hz\n",
      "\n",
      "FIR filter parameters\n",
      "---------------------\n",
      "Designing a one-pass, zero-phase, non-causal lowpass filter:\n",
      "- Windowed time-domain design (firwin) method\n",
      "- Hamming window with 0.0194 passband ripple and 53 dB stopband attenuation\n",
      "- Upper passband edge: 4.00 Hz\n",
      "- Upper transition bandwidth: 2.00 Hz (-6 dB cutoff frequency: 5.00 Hz)\n",
      "- Filter length: 1651 samples (1.651 s)\n",
      "\n",
      "Percent Good Data: 78.65%\n",
      "Filtering raw data in 1 contiguous segment\n",
      "Setting up band-stop filter from 59 - 61 Hz\n",
      "\n",
      "FIR filter parameters\n",
      "---------------------\n",
      "Designing a one-pass, zero-phase, non-causal bandstop filter:\n",
      "- Windowed time-domain design (firwin) method\n",
      "- Hamming window with 0.0194 passband ripple and 53 dB stopband attenuation\n",
      "- Lower passband edge: 59.35\n",
      "- Lower transition bandwidth: 0.50 Hz (-6 dB cutoff frequency: 59.10 Hz)\n",
      "- Upper passband edge: 60.65 Hz\n",
      "- Upper transition bandwidth: 0.50 Hz (-6 dB cutoff frequency: 60.90 Hz)\n",
      "- Filter length: 6601 samples (6.601 s)\n",
      "\n"
     ]
    },
    {
     "name": "stderr",
     "output_type": "stream",
     "text": [
      "[Parallel(n_jobs=1)]: Done   1 out of   1 | elapsed:    0.0s finished\n",
      "[Parallel(n_jobs=1)]: Done  17 tasks      | elapsed:    0.1s\n",
      "[Parallel(n_jobs=1)]: Done  71 tasks      | elapsed:    0.3s\n"
     ]
    },
    {
     "name": "stdout",
     "output_type": "stream",
     "text": [
      "Filtering raw data in 1 contiguous segment\n",
      "Setting up band-pass filter from 1 - 50 Hz\n",
      "\n",
      "FIR filter parameters\n",
      "---------------------\n",
      "Designing a one-pass, zero-phase, non-causal bandpass filter:\n",
      "- Windowed time-domain design (firwin) method\n",
      "- Hamming window with 0.0194 passband ripple and 53 dB stopband attenuation\n",
      "- Lower passband edge: 1.00\n",
      "- Lower transition bandwidth: 1.00 Hz (-6 dB cutoff frequency: 0.50 Hz)\n",
      "- Upper passband edge: 50.00 Hz\n",
      "- Upper transition bandwidth: 12.50 Hz (-6 dB cutoff frequency: 56.25 Hz)\n",
      "- Filter length: 3301 samples (3.301 s)\n",
      "\n"
     ]
    },
    {
     "name": "stderr",
     "output_type": "stream",
     "text": [
      "[Parallel(n_jobs=1)]: Done 129 out of 129 | elapsed:    0.6s finished\n",
      "[Parallel(n_jobs=1)]: Done  17 tasks      | elapsed:    0.1s\n",
      "[Parallel(n_jobs=1)]: Done  71 tasks      | elapsed:    0.3s\n"
     ]
    },
    {
     "name": "stdout",
     "output_type": "stream",
     "text": [
      "Fitting ICA to data using 126 channels (please be patient, this may take a while)\n",
      "Omitting 46532 of 299988 (15.51%) samples, retaining 253456 (84.49%) samples.\n"
     ]
    },
    {
     "name": "stderr",
     "output_type": "stream",
     "text": [
      "[Parallel(n_jobs=1)]: Done 129 out of 129 | elapsed:    0.5s finished\n"
     ]
    },
    {
     "name": "stdout",
     "output_type": "stream",
     "text": [
      "Selecting by explained variance: 21 components\n",
      "Fitting ICA took 27.4s.\n"
     ]
    }
   ],
   "source": [
    "#Compute the eeg vars\n",
    "eeg_vars, raw_cleaned, ica, eeg_df = compute_eeg_pipeline(xdf_filename, \n",
    "                                                          stim_df=stim_df, \n",
    "                                                          task='RestingState')\n"
   ]
  },
  {
   "cell_type": "markdown",
   "metadata": {},
   "source": [
    "### Manual Artifact Removal"
   ]
  },
  {
   "cell_type": "code",
   "execution_count": null,
   "metadata": {},
   "outputs": [],
   "source": [
    "fig = ica.plot_components( title='ICA Components')\n",
    "# Save the ICA plot\n",
    "\n",
    "fig[0].savefig(f'report_images/sub-{subject}_eeg_ica_components.png', bbox_inches='tight')"
   ]
  },
  {
   "cell_type": "code",
   "execution_count": null,
   "metadata": {},
   "outputs": [],
   "source": [
    "ica.plot_properties(raw_cleaned, picks=[0,1,2,3,4]) # This exact component number probably won't work if you recompute ICA\n"
   ]
  },
  {
   "cell_type": "code",
   "execution_count": null,
   "metadata": {},
   "outputs": [],
   "source": [
    "ica.plot_properties(raw_cleaned, picks=[0,1,2,3,4]) # This exact component number probably won't work if you recompute ICA\n"
   ]
  },
  {
   "cell_type": "code",
   "execution_count": null,
   "metadata": {},
   "outputs": [],
   "source": [
    "ica.exclude = [0,1,2,3,4] # these are the components that we want to exclude\n",
    "ica.apply(raw_cleaned)"
   ]
  },
  {
   "cell_type": "code",
   "execution_count": null,
   "metadata": {},
   "outputs": [],
   "source": [
    "eeg_vars['components_excluded'] = ica.exclude"
   ]
  },
  {
   "cell_type": "markdown",
   "metadata": {},
   "source": [
    "### Generate figures"
   ]
  },
  {
   "cell_type": "code",
   "execution_count": null,
   "metadata": {},
   "outputs": [],
   "source": [
    "raw_cleaned.annotations.delete([i for i, desc in enumerate(raw_cleaned.annotations.description) if desc == 'blink' or desc == 'BAD_muscle'])\n",
    "fig = raw_cleaned.plot(show_scrollbars=False,\n",
    "                        show_scalebars=False,events=None, start=0, \n",
    "                        duration=200,n_channels=50, scalings=.35e-4, color='k', title='EEG Data after ICA')\n",
    "\n",
    "fig.savefig(f'report_images/{subject}_eeg_cleaned.png', dpi=300, bbox_inches='tight')\n",
    "\n",
    "\n",
    "fig = raw_cleaned.plot_psd(fmax=50, average=False, show=True)\n",
    "fig.savefig(f'report_images/{subject}_eeg_cleaned_psd.png', dpi=300, bbox_inches='tight')"
   ]
  },
  {
   "cell_type": "code",
   "execution_count": 12,
   "metadata": {},
   "outputs": [],
   "source": [
    "raw_cleaned_pathname = '/'.join(xdf_filename.split('/')[:-1]) + f'/sub-{subject}_ses-S001_task-CUNY_run-001_eeg_clean.fif'\n",
    "raw_cleaned.save(raw_cleaned_pathname, overwrite=True)\n",
    "\n",
    "\n",
    "eeg_print = {\n",
    "    'Bad channels before robust reference': eeg_vars['bad_channels_before'], \n",
    "    'Interpolated channels': eeg_vars['interpolated_channels'], \n",
    "    'Bad channels after interpolation': eeg_vars['bad_channels_after'], \n",
    "    'Percent Good before artifact removal': f\"{eeg_vars['percent_good']:.4}%\",\n",
    "    'Artifactual Components Excluded': ica.exclude\n",
    "}"
   ]
  },
  {
   "cell_type": "markdown",
   "metadata": {},
   "source": [
    "## 2. ECG"
   ]
  },
  {
   "cell_type": "code",
   "execution_count": null,
   "metadata": {},
   "outputs": [],
   "source": [
    "[ecg_vars, ecg_plt, ps_df] = ecg_qc(xdf_filename = xdf_filename, stim_df = stim_df, task='RestingState')\n"
   ]
  },
  {
   "cell_type": "code",
   "execution_count": null,
   "metadata": {},
   "outputs": [],
   "source": [
    "ecg_vars.keys()"
   ]
  },
  {
   "cell_type": "code",
   "execution_count": null,
   "metadata": {},
   "outputs": [],
   "source": [
    "ecg_print = {\n",
    "    \"Effective sampling rate\": f'{ecg_vars[\"sampling_rate\"]:.4f} Hz', \n",
    "    \"Signal to Noise Ratio\": f'{ecg_vars[\"SNR\"]:.4f} dB',\n",
    "    \"Average heart rate\": f'{ecg_vars[\"average_heart_rate\"]:.4f} bpm',\n",
    "    \"Kurtosis signal quality index (kSQI)\": f'{ecg_vars[\"kurtosis_SQI\"]:.4f}',\n",
    "    \"Power spectrum distribution (pSQI)\": f'{ecg_vars[\"power_spectrum_distribution_SQI\"]:.4f} mV²/Hz',\n",
    "    \"Relative power in baseline (basSQI)\": f'{ecg_vars[\"relative_baseline_power_sqi\"]:.4f}%'\n",
    "}"
   ]
  },
  {
   "cell_type": "code",
   "execution_count": null,
   "metadata": {},
   "outputs": [],
   "source": [
    "ecg_print"
   ]
  },
  {
   "cell_type": "markdown",
   "metadata": {},
   "source": [
    "## 3. EDA"
   ]
  },
  {
   "cell_type": "code",
   "execution_count": null,
   "metadata": {},
   "outputs": [],
   "source": [
    "[eda_vars, eda_plt1, eda_plt2, ps_df] = eda_qc(xdf_filename = xdf_filename, stim_df = stim_df, task= 'RestingState')"
   ]
  },
  {
   "cell_type": "code",
   "execution_count": null,
   "metadata": {},
   "outputs": [],
   "source": [
    "eda_vars.keys()"
   ]
  },
  {
   "cell_type": "code",
   "execution_count": null,
   "metadata": {},
   "outputs": [],
   "source": [
    "eda_print = {\n",
    "    \"Effective sampling rate\": f'{eda_vars[\"sampling_rate\"]:.4f} Hz', \n",
    "    \"Signal to noise ratio\": f'{eda_vars[\"snr\"]:.4f} dB',\n",
    "    \"Signal integrity check\": f'{eda_vars[\"signal_integrity_check\"]:.4f}%',\n",
    "    \"Average skin conductance level\": f'{eda_vars[\"average_scl\"]:.4f} mS',\n",
    "    \"Skin conductance level std\": f'{eda_vars[\"scl_sd\"]:.4f} mS',\n",
    "    \"Skin conductance level coefficient of variation\": f'{eda_vars[\"scl_cv\"]:.4f}%',\n",
    "    \"Average amplitude of skin conductance response\": f'{eda_vars[\"average_scr_amplitude\"]:.4f} mS',\n",
    "    \"Skin conductance response validity\": f'{eda_vars[\"sc_validity\"]:.4f} %' # this will need to be changed to [scr_validity]\n",
    "}"
   ]
  },
  {
   "cell_type": "markdown",
   "metadata": {},
   "source": [
    "## 4. RSP"
   ]
  },
  {
   "cell_type": "code",
   "execution_count": null,
   "metadata": {},
   "outputs": [],
   "source": [
    "rsp_vars, ps_df = rsp_qc(xdf_filename=xdf_filename, stim_df=stim_df, task='RestingState')"
   ]
  },
  {
   "cell_type": "code",
   "execution_count": null,
   "metadata": {},
   "outputs": [],
   "source": [
    "rsp_print = {\n",
    "    \"Effective sampling rate\": f'{rsp_vars[\"sampling_rate\"]:.4f} Hz', \n",
    "    \"Signal to noise ratio\": f'{rsp_vars[\"rsp_snr\"]:.4f} dB',\n",
    "    \"Breath amplitude mean\": f'{rsp_vars[\"breath_amplitude_mean\"]:.4f} V',\n",
    "    \"Breath amplitude std\": f'{rsp_vars[\"breath_amplitude_std\"]:.4f} V',\n",
    "    \"Breath amplitude range\": f'{rsp_vars[\"breath_amplitude_range\"]} V',\n",
    "    \"Respiration rate mean\": f'{rsp_vars[\"rsp_rate_mean\"]:.4f} bpm',\n",
    "    \"Respiration rate std\": f'{rsp_vars[\"rsp_rate_std\"]:.4f} bpm', \n",
    "    \"Respiration rate range\": f'{rsp_vars[\"rsp_rate_range\"]} bpm', \n",
    "    \"Peak to peak interval mean\": f'{rsp_vars[\"ptp_mean\"]:.4f} sec', \n",
    "    \"Peak to peak interval std\": f'{rsp_vars[\"ptp_std\"]:.4f} sec', \n",
    "    \"Peak to peak interval range\": f'{rsp_vars[\"ptp_range\"]} sec', \n",
    "    \"Baseline drift\": f'{rsp_vars[\"baseline_drift\"]:.4f} V', \n",
    "    \"Autocorrelation at typical breath cycle\": f'{rsp_vars[\"autocorrelation\"]:.4f}'\n",
    "}"
   ]
  },
  {
   "cell_type": "code",
   "execution_count": null,
   "metadata": {},
   "outputs": [],
   "source": [
    "rsp_print"
   ]
  },
  {
   "cell_type": "markdown",
   "metadata": {},
   "source": [
    "## 5. Mic"
   ]
  },
  {
   "cell_type": "code",
   "execution_count": null,
   "metadata": {},
   "outputs": [],
   "source": [
    "mic_vars, mic_df = mic_qc(xdf_filename=xdf_filename, stim_df=stim_df)"
   ]
  },
  {
   "cell_type": "code",
   "execution_count": null,
   "metadata": {},
   "outputs": [],
   "source": [
    "mic_print = {\n",
    "    \"Effective sampling rate\": f'{mic_vars[\"sampling_rate\"]:.4f} Hz', \n",
    "    \"Difference between .wav file and lsl timestamps durations\": f'{mic_vars[\"lsl_wav_duration_diff\"]:.4f} sec', \n",
    "    \"Number of NaN's\": f'{mic_vars[\"num_NaN\"]}',\n",
    "    \"Percent of NaN's\": f'{mic_vars[\"percent_NaN\"]:.4f}%',\n",
    "    \"Mic samples first quartile\": f'{mic_vars[\"quan25\"]:.4f}',\n",
    "    \"Mic samples third quartile\": f'{mic_vars[\"quan75\"]:.4f}',\n",
    "    \"Mic samples std\": f'{mic_vars[\"std\"]:.4f}',\n",
    "    \"Mic samples min\": f'{mic_vars[\"min\"]:.4f}',\n",
    "    \"Mic samples max\": f'{mic_vars[\"max\"]:.4f}'\n",
    "}"
   ]
  },
  {
   "cell_type": "markdown",
   "metadata": {},
   "source": [
    "## 6. Webcam"
   ]
  },
  {
   "cell_type": "code",
   "execution_count": null,
   "metadata": {},
   "outputs": [],
   "source": [
    "webcam_vars, cam_df = webcam_qc(xdf_filename=xdf_filename,\n",
    "                                stim_df=stim_df,\n",
    "                                video_file=video_filename, task='RestingState')"
   ]
  },
  {
   "cell_type": "code",
   "execution_count": null,
   "metadata": {},
   "outputs": [],
   "source": [
    "webcam_print = {\n",
    "    \"Effective sampling rate\": f'{webcam_vars[\"sampling_rate\"]:.4f} Hz', \n",
    "    \"Collected full resting state\": webcam_vars[\"collected_full_RestingState\"], \n",
    "    \"Percent of frames with face detected\": f'{webcam_vars[\"face_perc\"]:.4%}'\n",
    "}"
   ]
  },
  {
   "cell_type": "code",
   "execution_count": null,
   "metadata": {},
   "outputs": [],
   "source": [
    "webcam_print"
   ]
  },
  {
   "cell_type": "markdown",
   "metadata": {},
   "source": [
    "## 7. ET"
   ]
  },
  {
   "cell_type": "code",
   "execution_count": null,
   "metadata": {},
   "outputs": [],
   "source": [
    "et_vars, et_df = et_qc(xdf_filename = xdf_filename, stim_df = stim_df, task='RestingState')"
   ]
  },
  {
   "cell_type": "code",
   "execution_count": null,
   "metadata": {},
   "outputs": [],
   "source": [
    "et_print = {\n",
    "    \"Effective sampling rate\": f'{et_vars[\"sampling_rate\"]:.4f} Hz', \n",
    "    \"Flag: all coordinates have the same % validity within each measure (LR, gaze point/origin/diameter)\": et_vars[\"flag1\"], \n",
    "    \"Flag: % of NaNs is the same between coordinate systems (UCS and TBCS (gaze origin) and between UCS and display area (gaze point))\": et_vars[\"flag2\"],\n",
    "    \"Mean difference in percent valid data between right and left eyes\": f'{et_vars[\"LR_mean_diff\"]:.4f}%',\n",
    "    \"Percent of data with gaze point differences of over 0.2 mm\": f'{et_vars[\"percent_over02\"]:.4f}%'\n",
    "}"
   ]
  },
  {
   "cell_type": "markdown",
   "metadata": {},
   "source": [
    "## Stream Durations "
   ]
  },
  {
   "cell_type": "markdown",
   "metadata": {},
   "source": [
    "### functions are in utils.py (but should be called in the report)"
   ]
  },
  {
   "cell_type": "code",
   "execution_count": null,
   "metadata": {},
   "outputs": [],
   "source": [
    "df_map = {\n",
    "    'et': et_df,\n",
    "    'ps': ps_df,\n",
    "    'mic': mic_df,\n",
    "    'cam': cam_df\n",
    "    }\n",
    "    # 'eeg': eeg_df"
   ]
  },
  {
   "cell_type": "code",
   "execution_count": null,
   "metadata": {},
   "outputs": [],
   "source": [
    "duration_vars = {\"Durations of each modality + comparison to expected duration:\": \n",
    "    get_durations(xdf_path=xdf_filename, task='Experiment', df_map = df_map, stim_df = stim_df)}"
   ]
  },
  {
   "cell_type": "code",
   "execution_count": null,
   "metadata": {},
   "outputs": [],
   "source": [
    "duration_print = duration_vars"
   ]
  },
  {
   "cell_type": "code",
   "execution_count": null,
   "metadata": {},
   "outputs": [],
   "source": [
    "# i wont run these but they are here for reference\n",
    "# get_durations('RestingState', xdf_filename)\n",
    "# get_durations('CampFriend', xdf_filename)\n",
    "# get_durations('SocialTask', xdf_filename)\n",
    "# whole_durations(xdf_filename)"
   ]
  },
  {
   "cell_type": "markdown",
   "metadata": {},
   "source": [
    "## LSL Problem"
   ]
  },
  {
   "cell_type": "code",
   "execution_count": null,
   "metadata": {},
   "outputs": [],
   "source": [
    "lsl_vars = lsl_problem_qc(xdf_filename, df_map=df_map, stim_df=stim_df, modality_to_plot='et')"
   ]
  },
  {
   "cell_type": "code",
   "execution_count": null,
   "metadata": {},
   "outputs": [],
   "source": [
    "lsl_print = {\n",
    "    \"Percent of missing data in entire experiment\": lsl_vars[\"percent_loss\"],\n",
    "    \"Percent of missing data before social task offset\": lsl_vars[\"loss_before_social_task\"]\n",
    "}"
   ]
  },
  {
   "cell_type": "markdown",
   "metadata": {},
   "source": [
    "# Second Report with formatting"
   ]
  },
  {
   "cell_type": "code",
   "execution_count": null,
   "metadata": {},
   "outputs": [],
   "source": [
    "# Modalities and corresponding data\n",
    "metric_names = [\"EEG\", \"ECG\", \"EDA\", \"RSP\", \"MIC\",\"ET\", \"WEBCAM\", \"Stream Durations\", \"LSL\"]\n",
    "metrics_list = [eeg_print, ecg_print, eda_print, rsp_print, mic_print, et_print, webcam_print, duration_print, lsl_print]\n",
    "# metric_names = [\"ECG\", \"EDA\",\"WEBCAM\"]\n",
    "# metrics_list = [ecg_print, eda_print,  webcam_print]\n",
    "\n",
    "# PDF structure\n",
    "parent_folder = xdf_filename.split('mobi')[0]\n",
    "pdf_path = f\"{parent_folder}QCReport.pdf\"\n",
    "doc = SimpleDocTemplate(pdf_path, pagesize=A4)\n",
    "elements = []\n",
    "styles = getSampleStyleSheet()\n",
    "\n",
    "# Define subtitle style if not already done\n",
    "subtitle_style = ParagraphStyle(\n",
    "    name=\"Subtitle\",\n",
    "    parent=styles[\"Heading2\"],\n",
    "    fontSize=14,\n",
    "    leading=16,\n",
    "    textColor=\"gray\",\n",
    "    spaceAfter=12,\n",
    "    alignment=1  # Centered\n",
    ")\n",
    "\n",
    "# page number function\n",
    "def add_page_number(canvas, doc):\n",
    "    page_num = f'{canvas.getPageNumber()}'\n",
    "    canvas.setFont(\"Helvetica\", 9)\n",
    "    canvas.drawRightString(570, 20, page_num)  # (x, y) from bottom-left\n",
    "\n",
    "\n",
    "elements.append(Paragraph(f\"Subject Report: {subject}\", styles[\"Title\"]))\n",
    "elements.append(Paragraph(f\"Collection Date: {get_collection_date(xdf_filename)}\", subtitle_style))\n",
    "elements.append(Spacer(1, 12))\n",
    "\n",
    "# Format each metrics dict\n",
    "for name, metrics in zip(metric_names, metrics_list):\n",
    "    elements.append(Paragraph(name, styles[\"Heading2\"]))\n",
    "    for k, v in metrics.items():\n",
    "        if isinstance(v, pd.DataFrame):\n",
    "            data = [v.columns.tolist()] + v.values.tolist()  # Include headers\n",
    "            table = Table(data, repeatRows=1)\n",
    "            table.hAlign = 'LEFT'\n",
    "\n",
    "            table.setStyle(TableStyle([\n",
    "                ('BACKGROUND', (0, 0), (-1, 0), colors.lightgrey),\n",
    "                ('GRID', (0, 0), (-1, -1), 0.5, colors.black),\n",
    "                ('FONTNAME', (0, 0), (-1, -1), 'Helvetica'),\n",
    "                ('FONTSIZE', (0, 0), (-1, -1), 10),\n",
    "                ('ALIGN', (0, 0), (-1, -1), 'LEFT'),\n",
    "            ]))\n",
    "            elements.append(Paragraph(k, styles['Normal']))\n",
    "            elements.append(Spacer(1, 12))\n",
    "\n",
    "            elements.append(table)\n",
    "            elements.append(Spacer(1, 12))\n",
    "        else:\n",
    "            text = f\"<b>{k}:</b> {v}\" if isinstance(v, float) else f\"<b>{k}:</b> {v}\"\n",
    "            elements.append(Paragraph(text, styles[\"Normal\"]))\n",
    "    elements.append(Spacer(1, 12))\n",
    "\n",
    "    # images\n",
    "    folder = \"report_images\"\n",
    "    image_keyword = name.lower()\n",
    "    if os.path.exists(folder):\n",
    "        for fname in sorted(os.listdir(folder)):\n",
    "            if image_keyword in fname.lower() and subject in fname:\n",
    "                image_path = os.path.join(folder, fname)\n",
    "\n",
    "                # get dimensions\n",
    "                image_reader = ImageReader(image_path)\n",
    "                orig_width, orig_height = image_reader.getSize()\n",
    "                print(orig_width, orig_height)\n",
    "                if orig_width > 4000:\n",
    "                    img = Image(image_path, width=orig_width/9, height=orig_height/9)\n",
    "                elif orig_width > 3000:\n",
    "                    img = Image(image_path, width=orig_width/7, height=orig_height/7)\n",
    "                elif orig_width > 2000:\n",
    "                    img = Image(image_path, width = orig_width/5, height = orig_height/5)\n",
    "                elif orig_width > 1400:\n",
    "                    img = Image(image_path, width=orig_width/3, height=orig_height/3)\n",
    "                else:\n",
    "                    img = Image(image_path, width=orig_width/2, height=orig_height/2)  # Adjust size as needed\n",
    "                elements.append(img)\n",
    "                elements.append(Spacer(1, 12))\n",
    "\n",
    "\n",
    "\n",
    "doc.build(elements, onFirstPage = add_page_number, onLaterPages = add_page_number)\n",
    "print(f'PDF created: {pdf_path}')"
   ]
  },
  {
   "cell_type": "code",
   "execution_count": null,
   "metadata": {},
   "outputs": [],
   "source": [
    "#from IPython.display import FileLink\n",
    "\n",
    "#FileLink(pdf_path)"
   ]
  }
 ],
 "metadata": {
  "kernelspec": {
   "display_name": "mobi-qc-py3.11",
   "language": "python",
   "name": "python3"
  },
  "language_info": {
   "codemirror_mode": {
    "name": "ipython",
    "version": 3
   },
   "file_extension": ".py",
   "mimetype": "text/x-python",
   "name": "python",
   "nbconvert_exporter": "python",
   "pygments_lexer": "ipython3",
   "version": "3.11.12"
  }
 },
 "nbformat": 4,
 "nbformat_minor": 2
}
