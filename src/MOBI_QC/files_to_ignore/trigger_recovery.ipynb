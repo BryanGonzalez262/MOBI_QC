{
 "cells": [
  {
   "cell_type": "markdown",
   "id": "3208283c",
   "metadata": {},
   "source": [
    "# Purpose\n",
    "\n",
    "To recover the story triggers that were lost by mistake due to an error in stimulus script"
   ]
  },
  {
   "cell_type": "code",
   "execution_count": 1,
   "id": "bc01fb09",
   "metadata": {},
   "outputs": [],
   "source": [
    "import pyxdf    # 1.17.0'\n",
    "import pandas as pd    # 2.2.3\n",
    "import numpy as np    #  2.26\n",
    "import matplotlib.pyplot as plt    #3.10.1\n",
    "from glob import glob\n",
    "import librosa    # 0.11.0\n",
    "from tqdm import tqdm\n",
    "import sounddevice as sd    #0.5.2\n",
    "\n",
    "\n",
    "\n",
    "subject = 'P5943825'\n",
    "xdf_path = f'/Users/bryan.gonzalez/CUNY_subs/sub-{subject}/sub-{subject}_ses-S001_task-CUNY_run-002_mobi.xdf'"
   ]
  },
  {
   "cell_type": "code",
   "execution_count": 2,
   "id": "405718a6",
   "metadata": {},
   "outputs": [
    {
     "name": "stdout",
     "output_type": "stream",
     "text": [
      "Streams collected: ['EGI NetAmp 0', 'OpenSignals', 'OpenSignals', 'Stimuli_Markers', 'WebcamStream', 'Tobii', 'Microphone']\n"
     ]
    }
   ],
   "source": [
    "data, header = pyxdf.load_xdf(xdf_path)\n",
    "streams_collected = [stream['info']['name'][0] for stream in data]\n",
    "print(f\"Streams collected: {streams_collected}\")"
   ]
  },
  {
   "cell_type": "code",
   "execution_count": 14,
   "id": "d04f6c54",
   "metadata": {},
   "outputs": [],
   "source": [
    "stim_idx = streams_collected.index('Stimuli_Markers')\n",
    "stim_df = pd.DataFrame(data[stim_idx]['time_series'])\n",
    "stim_df.rename(columns={0: 'trigger'}, inplace=True)\n",
    "events = {\n",
    "    200: 'Onset_Experiment',\n",
    "    10: 'Onset_RestingState',\n",
    "    11: 'Offset_RestingState',\n",
    "    500: 'Onset_StoryListening',\n",
    "    501: 'Offset_StoryListening',\n",
    "    100: 'Onset_10second_rest',\n",
    "    101: 'Offset_10second_rest', \n",
    "    20: 'Onset_CampFriend',\n",
    "    21: 'Offset_CampFriend',\n",
    "    30: 'Onset_FrogDissection',\n",
    "    31: 'Offset_FrogDissection',\n",
    "    40: 'Onset_DanceContest',\n",
    "    41: 'Offset_DanceContest',\n",
    "    50: 'Onset_ZoomClass',\n",
    "    51: 'Offset_ZoomClass',\n",
    "    60: 'Onset_Tornado',\n",
    "    61: 'Offset_Tornado',\n",
    "    70: 'Onset_BirthdayParty',\n",
    "    71: 'Offset_BirthdayParty',\n",
    "    300: 'Onset_subjectInput',\n",
    "    301: 'Offset_subjectInput',\n",
    "    302: 'Onset_FavoriteStory',\n",
    "    303: 'Offset_FavoriteStory',\n",
    "    304: 'Onset_WorstStory',\n",
    "    305: 'Offset_WorstStory',\n",
    "    400: 'Onset_impedanceCheck',\n",
    "    401: 'Offset_impedanceCheck',\n",
    "    80: 'Onset_SocialTask',\n",
    "    81: 'Offset_SocialTask',\n",
    "    201: 'Offset_Experiment',\n",
    "}\n",
    "\n",
    "story_onsets = [20, 30, 40, 50, 60, 70]\n",
    "\n",
    "# relabel the event if the trigger is in the events dictionary, else if \n",
    "stim_df['event'] = stim_df['trigger'].apply(lambda x: events[x] if x in events.keys() else 'Bx_input')\n",
    "\n",
    "# relabel the event as a psychopy timestamp if the trigger is greater than 5 digits\n",
    "stim_df.loc[stim_df.trigger.astype(str).str.len() > 5, 'event'] = 'psychopy_time_stamp'\n",
    "stim_df['lsl_time_stamp'] = data[stim_idx]['time_stamps']\n",
    "stim_df['time'] = (data[stim_idx]['time_stamps'] - data[stim_idx]['time_stamps'][0])"
   ]
  },
  {
   "cell_type": "markdown",
   "id": "5a98c6da",
   "metadata": {},
   "source": [
    "# Load mic stream"
   ]
  },
  {
   "cell_type": "code",
   "execution_count": 4,
   "id": "75e3ffa2",
   "metadata": {},
   "outputs": [],
   "source": [
    "mic_idx = streams_collected.index('Microphone')\n",
    "mic_df = pd.DataFrame(data[mic_idx]['time_series'])\n",
    "mic_df.rename(columns={0: 'int'}, inplace=True)\n",
    "mic_df['lsl_time_stamp'] = data[mic_idx]['time_stamps']\n",
    "mic_df['time'] = (data[mic_idx]['time_stamps'] - data[5]['time_stamps'][0]) # time in seconds from 0\n",
    "\n",
    "# Reduce the mic_data to only the story listening events, we have triggers for onset and offset of the story listening block\n",
    "event = 'StoryListening' \n",
    "mic_df = mic_df.loc[(mic_df.lsl_time_stamp >= stim_df.loc[stim_df.event == 'Onset_'+event, 'lsl_time_stamp'].values[0]) & \n",
    "                  (mic_df.lsl_time_stamp <= stim_df.loc[stim_df.event == 'Offset_'+event, 'lsl_time_stamp'].values[0])]\n",
    "\n",
    "#mic_df.head(100)"
   ]
  },
  {
   "cell_type": "markdown",
   "id": "59c1b28c",
   "metadata": {},
   "source": [
    "Identify mic amplitude above threshold"
   ]
  },
  {
   "cell_type": "code",
   "execution_count": 5,
   "id": "38bd86ac",
   "metadata": {},
   "outputs": [
    {
     "name": "stderr",
     "output_type": "stream",
     "text": [
      "100%|██████████| 11885/11885 [00:00<00:00, 88633.12it/s]\n"
     ]
    }
   ],
   "source": [
    "rate = 44100\n",
    "chunk_size = 4410\n",
    "threshold = 75\n",
    "\n",
    "audio = mic_df['int'].values.astype(np.int16)\n",
    "#num_chunks = len(audio) // chunk_size\n",
    "n_samples= len(audio)\n",
    "is_audio = np.zeros(n_samples, dtype=bool)\n",
    "energies = []\n",
    "\n",
    "\n",
    "for start in tqdm(range(0, n_samples, chunk_size)):\n",
    "    end = min(start + chunk_size, n_samples)\n",
    "    chunk = audio[start:end]\n",
    "    energy = np.mean(np.abs(chunk))\n",
    "    if energy > threshold:\n",
    "        is_audio[start:end] = True\n",
    "\n",
    "\n",
    "    energies.append(energy)\n",
    "\n",
    "mic_df['mic_signal'] = is_audio\n",
    "\n",
    "energies = np.array(energies)\n",
    "\n"
   ]
  },
  {
   "cell_type": "markdown",
   "id": "4b8a7bdf",
   "metadata": {},
   "source": [
    "# Look for the Silences\n",
    "\n",
    "Because the blocks where 'is_audio' == True are sparse due to high sampling rate (i.e. pauses between words)"
   ]
  },
  {
   "cell_type": "code",
   "execution_count": 6,
   "id": "c7c5e72c",
   "metadata": {},
   "outputs": [
    {
     "name": "stdout",
     "output_type": "stream",
     "text": [
      "      value   length   start_time     end_time\n",
      "2     False   855540   334.127912   353.528194\n",
      "236   False   207270   476.930154   481.630205\n",
      "246   False   211680   483.330254   488.130307\n",
      "262   False  1666980   495.230441   533.031012\n",
      "264   False   277830   533.131036   539.431112\n",
      "266   False   568890   539.631138   552.531318\n",
      "826   False   149940   714.233878   717.633909\n",
      "834   False  1821330   720.433975   761.734601\n",
      "840   False   136710   764.134661   767.234687\n",
      "842   False   308700   767.434713   774.434800\n",
      "1148  False  2178540   911.536975   960.937727\n",
      "1152  False   251370   961.337756   967.037823\n",
      "1404  False  2112390  1063.239356  1111.140085\n",
      "1814  False  1314180  1263.242495  1293.042940\n",
      "1816  False   520380  1293.342967  1305.143130\n",
      "2252  False   864360  1466.745689  1486.345974\n",
      "2254  False  1585390  1486.445998  1522.396426\n"
     ]
    }
   ],
   "source": [
    "# Make sure 'is_audio' is a boolean Series (or 0/1 integers)\n",
    "is_audio = mic_df['mic_signal'].astype(bool)\n",
    "\n",
    "# Identify where values change (True <-> False)\n",
    "change_points = is_audio.ne(is_audio.shift()).cumsum()\n",
    "\n",
    "# Group by these change points and get lengths\n",
    "runs = mic_df.groupby(change_points).agg({\n",
    "    'mic_signal': ['first', 'size'],\n",
    "    'time': ['first', 'last']\n",
    "})\n",
    "runs.columns = ['value', 'length', 'start_time', 'end_time']\n",
    "runs = runs.reset_index(drop=True)\n",
    "\n",
    "# Select runs where value == False and length > 132300\n",
    "long_false_blocks = runs[(runs['value'] == False) & (runs['length'] > 132300)]   # silences much be longer than 132300 rows (44100 Hz x 3 seconds = 132300)\n",
    "\n",
    "print(long_false_blocks)\n",
    "\n",
    "\n",
    "# Initialize column with False\n",
    "mic_df['long_silence'] = False\n",
    "\n",
    "# Mark rows that fall into those long silence blocks\n",
    "for _, row in long_false_blocks.iterrows():\n",
    "    mic_df.loc[(mic_df['time'] >= row['start_time']) & (mic_df['time'] <= row['end_time']), 'long_silence'] = True\n",
    "\n",
    "mic_df['is_audio'] = ~mic_df['long_silence']  # Invert long_silence to get is_audio\n"
   ]
  },
  {
   "cell_type": "markdown",
   "id": "1cd0e077",
   "metadata": {},
   "source": [
    "# Sanity Check"
   ]
  },
  {
   "cell_type": "code",
   "execution_count": 17,
   "id": "3c0fd656",
   "metadata": {},
   "outputs": [
    {
     "data": {
      "image/png": "[encoded data removed]",
      "text/plain": [
       "<Figure size 1500x800 with 4 Axes>"
      ]
     },
     "metadata": {},
     "output_type": "display_data"
    }
   ],
   "source": [
    "\n",
    "fig, ax = plt.subplots(nrows=4, ncols=1, sharex=False, figsize=(15, 8))\n",
    "ax[0].plot(np.arange(len(energies)) * chunk_size / rate, energies)\n",
    "ax[0].axhline(y=threshold, color='r', linestyle='--', label='Threshold')\n",
    "ax[0].set_title(f'Energy of {event} ')\n",
    "\n",
    "ax[1].plot(mic_df['time'], mic_df['mic_signal'])\n",
    "ax[1].set_title(f'Audio Mask')\n",
    "\n",
    "\n",
    "\n",
    "ax[2].plot(mic_df['time'], mic_df['long_silence'], color='b')\n",
    "ax[2].set_title(' Silence Blocks')\n",
    "ax[3].plot(mic_df['time'], mic_df['is_audio'], color='r')\n",
    "ax[3].set_title(' Audio Blocks')\n",
    "plt.xlabel('Time (s)')\n",
    "plt.tight_layout()\n",
    "plt.savefig('trigger_recovery_sanity check.png', dpi=300)\n",
    "plt.show()\n"
   ]
  },
  {
   "cell_type": "markdown",
   "id": "25db9cd7",
   "metadata": {},
   "source": [
    "## Label each audio segment with a number"
   ]
  },
  {
   "cell_type": "code",
   "execution_count": 8,
   "id": "7d8677ee",
   "metadata": {},
   "outputs": [],
   "source": [
    "\n",
    "# Example box function\n",
    "s = mic_df['is_audio'].astype(int)  # Convert boolean to int (0s and 1s)\n",
    "# Treat 1s (or True) as boxes\n",
    "is_box = s.astype(bool)\n",
    "\n",
    "# Find the start of each new box (True preceded by False)\n",
    "box_start = is_box & ~is_box.shift(fill_value=False)\n",
    "\n",
    "# Use cumsum to increment on each new box start\n",
    "box_ids = box_start.cumsum()\n",
    "\n",
    "# Mask: assign box ID where s == 1, else 0\n",
    "labeled_boxes = box_ids.where(is_box, 0)\n",
    "mic_df['audio_segment'] = labeled_boxes"
   ]
  },
  {
   "cell_type": "markdown",
   "id": "2322b758",
   "metadata": {},
   "source": [
    "### get the story order from psychopy file\n",
    "### assign the audio segment as noise or the next story in the order if the segment is greater in duration than 93 seconds (shortest story)\n"
   ]
  },
  {
   "cell_type": "code",
   "execution_count": 9,
   "id": "759d4111",
   "metadata": {},
   "outputs": [
    {
     "name": "stdout",
     "output_type": "stream",
     "text": [
      "Audio Segment 1: Duration = 0.20 seconds\n",
      "Audio Segment 2: Duration = 123.40 seconds\n",
      "Audio Segment 3: Duration = 1.70 seconds\n",
      "Audio Segment 4: Duration = 7.10 seconds\n",
      "Audio Segment 5: Duration = 0.10 seconds\n",
      "Audio Segment 6: Duration = 0.20 seconds\n",
      "Audio Segment 7: Duration = 161.70 seconds\n",
      "Audio Segment 8: Duration = 2.80 seconds\n",
      "Audio Segment 9: Duration = 2.40 seconds\n",
      "Audio Segment 10: Duration = 0.20 seconds\n",
      "Audio Segment 11: Duration = 137.10 seconds\n",
      "Audio Segment 12: Duration = 0.40 seconds\n",
      "Audio Segment 13: Duration = 96.20 seconds\n",
      "Audio Segment 14: Duration = 152.10 seconds\n",
      "Audio Segment 15: Duration = 0.30 seconds\n",
      "Audio Segment 16: Duration = 161.60 seconds\n",
      "Audio Segment 17: Duration = 0.10 seconds\n"
     ]
    }
   ],
   "source": [
    "\n",
    "psycho = pd.read_csv(f'/Users/bryan.gonzalez/CUNY_subs/sub-{subject}/sub-{subject}_task-CUNY_run-001_behavior.csv', sep=',', header=0)\n",
    "audio_order = [f.split('/')[-1].split('.')[0] for f in psycho.AudioFile.unique() if pd.notna(f)]\n",
    "\n",
    "story_count = 0\n",
    "# get the duration in seconds of each audio segment\n",
    "mic_df['sound_id'] = 'silence'\n",
    "for i in range(1, mic_df['audio_segment'].max() + 1):\n",
    "    segment = mic_df[mic_df['audio_segment'] == i]\n",
    "    duration = (segment['time'].max() - segment['time'].min())\n",
    "    if duration < 93:\n",
    "        mic_df.loc[mic_df['audio_segment'] == i, 'sound_id'] = 'noise' \n",
    "    else:\n",
    "        mic_df.loc[mic_df['audio_segment'] == i, 'sound_id'] = audio_order[story_count]\n",
    "        story_count += 1\n",
    "\n",
    "    print(f\"Audio Segment {i}: Duration = {duration:.2f} seconds\")"
   ]
  },
  {
   "cell_type": "code",
   "execution_count": 10,
   "id": "028f4c99",
   "metadata": {},
   "outputs": [
    {
     "data": {
      "text/plain": [
       "array(['noise', 'silence', 'Frog_Dissection_Disaster',\n",
       "       'Left_Home_Alone_in_a_Tornado',\n",
       "       'I_Decided_To_Be_Myself_And_Won_A_Dance_Contest',\n",
       "       'I_Fully_Embarrassed_Myself_In_Zoom_Class1', 'Camp_Lose_A_Friend',\n",
       "       'The_Birthday_Party_Prank'], dtype=object)"
      ]
     },
     "execution_count": 10,
     "metadata": {},
     "output_type": "execute_result"
    }
   ],
   "source": [
    "mic_df.sound_id.unique()"
   ]
  },
  {
   "cell_type": "markdown",
   "id": "e8dd1d7d",
   "metadata": {},
   "source": [
    "# Sanity Check: Listening..."
   ]
  },
  {
   "cell_type": "code",
   "execution_count": null,
   "id": "3c4dbf78",
   "metadata": {},
   "outputs": [],
   "source": [
    "\n",
    "story = mic_df.loc[mic_df['sound_id'] == 'I_Decided_To_Be_Myself_And_Won_A_Dance_Contest', 'int'].values.astype(np.int16)\n",
    "sd.play(story, samplerate=44100)"
   ]
  },
  {
   "cell_type": "markdown",
   "id": "6b5e1da5",
   "metadata": {},
   "source": [
    "# Placing the onset/offsets in the stim_df"
   ]
  },
  {
   "cell_type": "code",
   "execution_count": 11,
   "id": "51897012",
   "metadata": {},
   "outputs": [
    {
     "data": {
      "text/plain": [
       "['Frog_Dissection_Disaster',\n",
       " 'Left_Home_Alone_in_a_Tornado',\n",
       " 'I_Decided_To_Be_Myself_And_Won_A_Dance_Contest',\n",
       " 'I_Fully_Embarrassed_Myself_In_Zoom_Class1',\n",
       " 'Camp_Lose_A_Friend',\n",
       " 'The_Birthday_Party_Prank']"
      ]
     },
     "execution_count": 11,
     "metadata": {},
     "output_type": "execute_result"
    }
   ],
   "source": [
    "audio_order"
   ]
  },
  {
   "cell_type": "code",
   "execution_count": 15,
   "id": "236a1b5e",
   "metadata": {},
   "outputs": [],
   "source": [
    "for story in audio_order:\n",
    "    story_df = mic_df[mic_df['sound_id'] == story]\n",
    "    story_onset = mic_df.loc[mic_df['sound_id'] == story, 'time'].min()\n",
    "    story_offset = mic_df.loc[mic_df['sound_id'] == story, 'time'].max()\n",
    "\n",
    "\n",
    "    if story == 'Camp_Lose_A_Friend':\n",
    "        event_id = 20\n",
    "    elif story == 'Frog_Dissection_Disaster':\n",
    "        event_id = 30\n",
    "    elif story == 'I_Decided_To_Be_Myself_And_Won_A_Dance_Contest':\n",
    "        event_id = 40\n",
    "    elif story == 'I_Fully_Embarrassed_Myself_In_Zoom_Class1':\n",
    "        event_id = 50\n",
    "    elif story == 'Left_Home_Alone_in_a_Tornado':\n",
    "        event_id = 60\n",
    "    elif story == 'The_Birthday_Party_Prank':\n",
    "        event_id = 70\n",
    "\n",
    "\n",
    "    # Add the story onset and offset to the stim_df\n",
    "    row = [event_id, f'{events[event_id]}', story_df.lsl_time_stamp.min(), story_df.time.min()]\n",
    "    # Append the row to stim_df\n",
    "    stim_df.loc[len(stim_df)] = row\n",
    "    row = [event_id + 1, f'{events[event_id+1]}', story_df.lsl_time_stamp.max(), story_df.time.max()]\n",
    "    # Append the row to stim_df\n",
    "    stim_df.loc[len(stim_df)] = row"
   ]
  },
  {
   "cell_type": "code",
   "execution_count": 16,
   "id": "b7f6846f",
   "metadata": {},
   "outputs": [
    {
     "data": {
      "application/vnd.microsoft.datawrangler.viewer.v0+json": {
       "columns": [
        {
         "name": "index",
         "rawType": "int64",
         "type": "integer"
        },
        {
         "name": "trigger",
         "rawType": "float64",
         "type": "float"
        },
        {
         "name": "event",
         "rawType": "object",
         "type": "string"
        },
        {
         "name": "lsl_time_stamp",
         "rawType": "float64",
         "type": "float"
        },
        {
         "name": "time",
         "rawType": "float64",
         "type": "float"
        }
       ],
       "ref": "de11bee0-8d2b-4098-b9ef-c67594a90aec",
       "rows": [
        [
         "0",
         "200.0",
         "Onset_Experiment",
         "12249.952149109959",
         "0.0"
        ],
        [
         "1",
         "1744057216.0",
         "psychopy_time_stamp",
         "12249.952161409885",
         "1.2299926311243325e-05"
        ],
        [
         "2",
         "10.0",
         "Onset_RestingState",
         "12260.380543942278",
         "10.4283948323191"
        ],
        [
         "3",
         "1744057216.0",
         "psychopy_time_stamp",
         "12260.380554242216",
         "10.428405132257467"
        ],
        [
         "4",
         "11.0",
         "Offset_RestingState",
         "12560.378174864074",
         "310.42602575411547"
        ],
        [
         "5",
         "1744057472.0",
         "psychopy_time_stamp",
         "12560.378193363964",
         "310.4260442540053"
        ],
        [
         "6",
         "500.0",
         "Onset_StoryListening",
         "12560.378234563717",
         "310.4260854537588"
        ],
        [
         "7",
         "1744057472.0",
         "psychopy_time_stamp",
         "12560.378236663704",
         "310.4260875537457"
        ],
        [
         "8",
         "100.0",
         "Onset_10second_rest",
         "12593.42807062399",
         "343.47592151403114"
        ],
        [
         "9",
         "1744057472.0",
         "psychopy_time_stamp",
         "12593.428083723911",
         "343.47593461395263"
        ],
        [
         "10",
         "101.0",
         "Offset_10second_rest",
         "12603.427985314755",
         "353.475836204796"
        ],
        [
         "11",
         "1744057472.0",
         "psychopy_time_stamp",
         "12603.42799571469",
         "353.4758466047315"
        ],
        [
         "235",
         "30.0",
         "Onset_FrogDissection",
         "12603.741979607548",
         "353.52821691212193"
        ],
        [
         "236",
         "31.0",
         "Offset_FrogDissection",
         "12727.143893704628",
         "476.93013100920143"
        ],
        [
         "12",
         "300.0",
         "Onset_subjectInput",
         "12737.079616584271",
         "487.12746747431265"
        ],
        [
         "13",
         "1744057600.0",
         "psychopy_time_stamp",
         "12737.079626584211",
         "487.1274774742524"
        ],
        [
         "14",
         "301.0",
         "Offset_subjectInput",
         "12751.644967014934",
         "501.6928179049755"
        ],
        [
         "15",
         "2.0",
         "Bx_input",
         "12751.644975614883",
         "501.6928265049246"
        ],
        [
         "16",
         "1744057600.0",
         "psychopy_time_stamp",
         "12751.644976814876",
         "501.69282770491736"
        ],
        [
         "17",
         "300.0",
         "Onset_subjectInput",
         "12751.672009253467",
         "501.7198601435084"
        ],
        [
         "18",
         "1744057600.0",
         "psychopy_time_stamp",
         "12751.67201715342",
         "501.71986804346125"
        ],
        [
         "19",
         "301.0",
         "Offset_subjectInput",
         "12761.69482010752",
         "511.7426709975607"
        ],
        [
         "20",
         "4.0",
         "Bx_input",
         "12761.694829007465",
         "511.7426798975066"
        ],
        [
         "21",
         "1744057728.0",
         "psychopy_time_stamp",
         "12761.694832307447",
         "511.7426831974881"
        ],
        [
         "22",
         "300.0",
         "Onset_subjectInput",
         "12761.707087434272",
         "511.7549383243131"
        ],
        [
         "23",
         "1744057728.0",
         "psychopy_time_stamp",
         "12761.70709433423",
         "511.75494522427107"
        ],
        [
         "24",
         "301.0",
         "Offset_subjectInput",
         "12768.476027117104",
         "518.523878007145"
        ],
        [
         "25",
         "4.0",
         "Bx_input",
         "12768.47603651705",
         "518.523887407091"
        ],
        [
         "26",
         "1744057728.0",
         "psychopy_time_stamp",
         "12768.476040217025",
         "518.5238911070664"
        ],
        [
         "27",
         "300.0",
         "Onset_subjectInput",
         "12768.510938008652",
         "518.5587888986938"
        ],
        [
         "28",
         "1744057728.0",
         "psychopy_time_stamp",
         "12768.510946808601",
         "518.5587976986426"
        ],
        [
         "29",
         "301.0",
         "Offset_subjectInput",
         "12775.24222291632",
         "525.2900738063618"
        ],
        [
         "30",
         "1.0",
         "Bx_input",
         "12775.242231216273",
         "525.290082106314"
        ],
        [
         "31",
         "1744057728.0",
         "psychopy_time_stamp",
         "12775.242234616253",
         "525.2900855062944"
        ],
        [
         "32",
         "300.0",
         "Onset_subjectInput",
         "12775.26305729192",
         "525.3109081819621"
        ],
        [
         "33",
         "1744057728.0",
         "psychopy_time_stamp",
         "12775.263065391871",
         "525.3109162819128"
        ],
        [
         "34",
         "301.0",
         "Offset_subjectInput",
         "12780.942333581106",
         "530.9901844711476"
        ],
        [
         "35",
         "1.0",
         "Bx_input",
         "12780.942342081056",
         "530.9901929710977"
        ],
        [
         "36",
         "1744057728.0",
         "psychopy_time_stamp",
         "12780.942345681035",
         "530.990196571076"
        ],
        [
         "37",
         "300.0",
         "Onset_subjectInput",
         "12780.954280109774",
         "531.0021309998156"
        ],
        [
         "38",
         "1744057728.0",
         "psychopy_time_stamp",
         "12780.954287809727",
         "531.0021386997687"
        ],
        [
         "39",
         "301.0",
         "Offset_subjectInput",
         "12786.028282213038",
         "536.076133103079"
        ],
        [
         "40",
         "4.0",
         "Bx_input",
         "12786.028291112983",
         "536.0761420030249"
        ],
        [
         "41",
         "1744057728.0",
         "psychopy_time_stamp",
         "12786.028294612963",
         "536.0761455030042"
        ],
        [
         "42",
         "100.0",
         "Onset_10second_rest",
         "12792.011639086566",
         "542.0594899766074"
        ],
        [
         "43",
         "1744057728.0",
         "psychopy_time_stamp",
         "12792.011654586473",
         "542.0595054765145"
        ],
        [
         "44",
         "101.0",
         "Offset_10second_rest",
         "12802.010864781445",
         "552.0587156714864"
        ],
        [
         "45",
         "1744057728.0",
         "psychopy_time_stamp",
         "12802.010882781336",
         "552.0587336713779"
        ],
        [
         "237",
         "60.0",
         "Onset_Tornado",
         "12802.745102928953",
         "552.5313402335269"
        ],
        [
         "238",
         "61.0",
         "Offset_Tornado",
         "12964.44761814769",
         "714.233855452263"
        ]
       ],
       "shape": {
        "columns": 4,
        "rows": 247
       }
      },
      "text/html": [
       "<div>\n",
       "<style scoped>\n",
       "    .dataframe tbody tr th:only-of-type {\n",
       "        vertical-align: middle;\n",
       "    }\n",
       "\n",
       "    .dataframe tbody tr th {\n",
       "        vertical-align: top;\n",
       "    }\n",
       "\n",
       "    .dataframe thead th {\n",
       "        text-align: right;\n",
       "    }\n",
       "</style>\n",
       "<table border=\"1\" class=\"dataframe\">\n",
       "  <thead>\n",
       "    <tr style=\"text-align: right;\">\n",
       "      <th></th>\n",
       "      <th>trigger</th>\n",
       "      <th>event</th>\n",
       "      <th>lsl_time_stamp</th>\n",
       "      <th>time</th>\n",
       "    </tr>\n",
       "  </thead>\n",
       "  <tbody>\n",
       "    <tr>\n",
       "      <th>0</th>\n",
       "      <td>2.000000e+02</td>\n",
       "      <td>Onset_Experiment</td>\n",
       "      <td>12249.952149</td>\n",
       "      <td>0.000000</td>\n",
       "    </tr>\n",
       "    <tr>\n",
       "      <th>1</th>\n",
       "      <td>1.744057e+09</td>\n",
       "      <td>psychopy_time_stamp</td>\n",
       "      <td>12249.952161</td>\n",
       "      <td>0.000012</td>\n",
       "    </tr>\n",
       "    <tr>\n",
       "      <th>2</th>\n",
       "      <td>1.000000e+01</td>\n",
       "      <td>Onset_RestingState</td>\n",
       "      <td>12260.380544</td>\n",
       "      <td>10.428395</td>\n",
       "    </tr>\n",
       "    <tr>\n",
       "      <th>3</th>\n",
       "      <td>1.744057e+09</td>\n",
       "      <td>psychopy_time_stamp</td>\n",
       "      <td>12260.380554</td>\n",
       "      <td>10.428405</td>\n",
       "    </tr>\n",
       "    <tr>\n",
       "      <th>4</th>\n",
       "      <td>1.100000e+01</td>\n",
       "      <td>Offset_RestingState</td>\n",
       "      <td>12560.378175</td>\n",
       "      <td>310.426026</td>\n",
       "    </tr>\n",
       "    <tr>\n",
       "      <th>...</th>\n",
       "      <td>...</td>\n",
       "      <td>...</td>\n",
       "      <td>...</td>\n",
       "      <td>...</td>\n",
       "    </tr>\n",
       "    <tr>\n",
       "      <th>230</th>\n",
       "      <td>1.744059e+09</td>\n",
       "      <td>psychopy_time_stamp</td>\n",
       "      <td>14290.831409</td>\n",
       "      <td>2040.879260</td>\n",
       "    </tr>\n",
       "    <tr>\n",
       "      <th>231</th>\n",
       "      <td>8.100000e+01</td>\n",
       "      <td>Offset_SocialTask</td>\n",
       "      <td>14591.371014</td>\n",
       "      <td>2341.418864</td>\n",
       "    </tr>\n",
       "    <tr>\n",
       "      <th>232</th>\n",
       "      <td>1.744060e+09</td>\n",
       "      <td>psychopy_time_stamp</td>\n",
       "      <td>14591.371027</td>\n",
       "      <td>2341.418877</td>\n",
       "    </tr>\n",
       "    <tr>\n",
       "      <th>233</th>\n",
       "      <td>2.010000e+02</td>\n",
       "      <td>Offset_Experiment</td>\n",
       "      <td>14596.362209</td>\n",
       "      <td>2346.410059</td>\n",
       "    </tr>\n",
       "    <tr>\n",
       "      <th>234</th>\n",
       "      <td>1.744060e+09</td>\n",
       "      <td>psychopy_time_stamp</td>\n",
       "      <td>14596.362217</td>\n",
       "      <td>2346.410068</td>\n",
       "    </tr>\n",
       "  </tbody>\n",
       "</table>\n",
       "<p>247 rows × 4 columns</p>\n",
       "</div>"
      ],
      "text/plain": [
       "          trigger                event  lsl_time_stamp         time\n",
       "0    2.000000e+02     Onset_Experiment    12249.952149     0.000000\n",
       "1    1.744057e+09  psychopy_time_stamp    12249.952161     0.000012\n",
       "2    1.000000e+01   Onset_RestingState    12260.380544    10.428395\n",
       "3    1.744057e+09  psychopy_time_stamp    12260.380554    10.428405\n",
       "4    1.100000e+01  Offset_RestingState    12560.378175   310.426026\n",
       "..            ...                  ...             ...          ...\n",
       "230  1.744059e+09  psychopy_time_stamp    14290.831409  2040.879260\n",
       "231  8.100000e+01    Offset_SocialTask    14591.371014  2341.418864\n",
       "232  1.744060e+09  psychopy_time_stamp    14591.371027  2341.418877\n",
       "233  2.010000e+02    Offset_Experiment    14596.362209  2346.410059\n",
       "234  1.744060e+09  psychopy_time_stamp    14596.362217  2346.410068\n",
       "\n",
       "[247 rows x 4 columns]"
      ]
     },
     "execution_count": 16,
     "metadata": {},
     "output_type": "execute_result"
    }
   ],
   "source": [
    "#sort by the lsl_time_stamp\n",
    "stim_df.sort_values('lsl_time_stamp')"
   ]
  },
  {
   "cell_type": "code",
   "execution_count": null,
   "id": "352b940c",
   "metadata": {},
   "outputs": [],
   "source": []
  }
 ],
 "metadata": {
  "kernelspec": {
   "display_name": ".venv",
   "language": "python",
   "name": "python3"
  },
  "language_info": {
   "codemirror_mode": {
    "name": "ipython",
    "version": 3
   },
   "file_extension": ".py",
   "mimetype": "text/x-python",
   "name": "python",
   "nbconvert_exporter": "python",
   "pygments_lexer": "ipython3",
   "version": "3.11.12"
  }
 },
 "nbformat": 4,
 "nbformat_minor": 5
}
