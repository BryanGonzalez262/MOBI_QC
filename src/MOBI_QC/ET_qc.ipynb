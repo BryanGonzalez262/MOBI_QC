{
 "cells": [
  {
   "cell_type": "markdown",
   "metadata": {},
   "source": [
    "# Imports"
   ]
  },
  {
   "cell_type": "code",
   "execution_count": 83,
   "metadata": {},
   "outputs": [],
   "source": [
    "import pyxdf\n",
    "import pandas as pd\n",
    "import numpy as np\n",
    "from glob import glob\n",
    "import datetime\n",
    "import re\n",
    "import matplotlib.pyplot as plt\n",
    "from utils import *"
   ]
  },
  {
   "cell_type": "markdown",
   "metadata": {},
   "source": [
    "# Load Data"
   ]
  },
  {
   "cell_type": "code",
   "execution_count": 84,
   "metadata": {},
   "outputs": [],
   "source": [
    "sub_files = glob('/Users/camilla.strauss/Desktop/CUNY_Data/Data/*/*.xdf')"
   ]
  },
  {
   "cell_type": "code",
   "execution_count": 85,
   "metadata": {},
   "outputs": [],
   "source": [
    "sub_number = 2\n",
    "xdf_path = sub_files[sub_number]\n",
    "sub_id = xdf_path.split('/')[6].split('-')[1]\n",
    "et_df = import_et_data(xdf_path)\n",
    "stim_df = import_stim_data(xdf_path)\n",
    "\n",
    "srate = 1/et_df.lsl_time_stamp.diff().median()"
   ]
  },
  {
   "cell_type": "markdown",
   "metadata": {},
   "source": [
    "# Eye Tracking Data"
   ]
  },
  {
   "cell_type": "code",
   "execution_count": 86,
   "metadata": {},
   "outputs": [
    {
     "data": {
      "application/vnd.microsoft.datawrangler.viewer.v0+json": {
       "columns": [
        {
         "name": "index",
         "rawType": "int64",
         "type": "integer"
        },
        {
         "name": "variable",
         "rawType": "object",
         "type": "string"
        },
        {
         "name": "percent_valid",
         "rawType": "object",
         "type": "unknown"
        }
       ],
       "conversionMethod": "pd.DataFrame",
       "ref": "80f7eea1-8a02-4d87-83ea-b67ca7e6e85b",
       "rows": [
        [
         "0",
         "left_gaze_origin_validity",
         "0.4191"
        ],
        [
         "1",
         "right_gaze_origin_validity",
         "0.4458"
        ],
        [
         "2",
         "left_gaze_point_validity",
         "0.4098"
        ],
        [
         "3",
         "right_gaze_point_validity",
         "0.4441"
        ],
        [
         "4",
         "left_pupil_validity",
         "0.4098"
        ],
        [
         "5",
         "right_pupil_validity",
         "0.4441"
        ]
       ],
       "shape": {
        "columns": 2,
        "rows": 6
       }
      },
      "text/html": [
       "<div>\n",
       "<style scoped>\n",
       "    .dataframe tbody tr th:only-of-type {\n",
       "        vertical-align: middle;\n",
       "    }\n",
       "\n",
       "    .dataframe tbody tr th {\n",
       "        vertical-align: top;\n",
       "    }\n",
       "\n",
       "    .dataframe thead th {\n",
       "        text-align: right;\n",
       "    }\n",
       "</style>\n",
       "<table border=\"1\" class=\"dataframe\">\n",
       "  <thead>\n",
       "    <tr style=\"text-align: right;\">\n",
       "      <th></th>\n",
       "      <th>variable</th>\n",
       "      <th>percent_valid</th>\n",
       "    </tr>\n",
       "  </thead>\n",
       "  <tbody>\n",
       "    <tr>\n",
       "      <th>0</th>\n",
       "      <td>left_gaze_origin_validity</td>\n",
       "      <td>0.4191</td>\n",
       "    </tr>\n",
       "    <tr>\n",
       "      <th>1</th>\n",
       "      <td>right_gaze_origin_validity</td>\n",
       "      <td>0.4458</td>\n",
       "    </tr>\n",
       "    <tr>\n",
       "      <th>2</th>\n",
       "      <td>left_gaze_point_validity</td>\n",
       "      <td>0.4098</td>\n",
       "    </tr>\n",
       "    <tr>\n",
       "      <th>3</th>\n",
       "      <td>right_gaze_point_validity</td>\n",
       "      <td>0.4441</td>\n",
       "    </tr>\n",
       "    <tr>\n",
       "      <th>4</th>\n",
       "      <td>left_pupil_validity</td>\n",
       "      <td>0.4098</td>\n",
       "    </tr>\n",
       "    <tr>\n",
       "      <th>5</th>\n",
       "      <td>right_pupil_validity</td>\n",
       "      <td>0.4441</td>\n",
       "    </tr>\n",
       "  </tbody>\n",
       "</table>\n",
       "</div>"
      ],
      "text/plain": [
       "                     variable percent_valid\n",
       "0   left_gaze_origin_validity        0.4191\n",
       "1  right_gaze_origin_validity        0.4458\n",
       "2    left_gaze_point_validity        0.4098\n",
       "3   right_gaze_point_validity        0.4441\n",
       "4         left_pupil_validity        0.4098\n",
       "5        right_pupil_validity        0.4441"
      ]
     },
     "execution_count": 86,
     "metadata": {},
     "output_type": "execute_result"
    }
   ],
   "source": [
    "# get percent valid items from validity columns\n",
    "val_cols = et_df.filter(like = 'validity').columns\n",
    "val_df = pd.DataFrame(columns = ['variable', 'percent_valid'])\n",
    "val_df['variable'] = val_cols\n",
    "\n",
    "for i, var in enumerate(val_cols):\n",
    "    val_df.loc[i, 'percent_valid'] = round(np.mean(et_df[var]), 4)\n",
    "\n",
    "val_df"
   ]
  },
  {
   "cell_type": "code",
   "execution_count": 87,
   "metadata": {},
   "outputs": [
    {
     "data": {
      "application/vnd.microsoft.datawrangler.viewer.v0+json": {
       "columns": [
        {
         "name": "index",
         "rawType": "int64",
         "type": "integer"
        },
        {
         "name": "variable",
         "rawType": "object",
         "type": "string"
        },
        {
         "name": "percent_valid",
         "rawType": "object",
         "type": "unknown"
        }
       ],
       "conversionMethod": "pd.DataFrame",
       "ref": "c637e766-20a9-48db-91c0-91168347d0e9",
       "rows": [
        [
         "0",
         "left_gaze_origin_in_user_coordinate_system_0",
         "0.4191"
        ],
        [
         "1",
         "left_gaze_origin_in_user_coordinate_system_1",
         "0.4191"
        ],
        [
         "2",
         "left_gaze_origin_in_user_coordinate_system_2",
         "0.4191"
        ],
        [
         "3",
         "right_gaze_origin_in_user_coordinate_system_0",
         "0.4458"
        ],
        [
         "4",
         "right_gaze_origin_in_user_coordinate_system_1",
         "0.4458"
        ],
        [
         "5",
         "right_gaze_origin_in_user_coordinate_system_2",
         "0.4458"
        ],
        [
         "6",
         "left_gaze_origin_in_trackbox_coordinate_system_0",
         "0.4191"
        ],
        [
         "7",
         "left_gaze_origin_in_trackbox_coordinate_system_1",
         "0.4191"
        ],
        [
         "8",
         "left_gaze_origin_in_trackbox_coordinate_system_2",
         "0.4191"
        ],
        [
         "9",
         "right_gaze_origin_in_trackbox_coordinate_system_0",
         "0.4458"
        ],
        [
         "10",
         "right_gaze_origin_in_trackbox_coordinate_system_1",
         "0.4458"
        ],
        [
         "11",
         "right_gaze_origin_in_trackbox_coordinate_system_2",
         "0.4458"
        ],
        [
         "12",
         "left_gaze_point_in_user_coordinate_system_0",
         "0.4098"
        ],
        [
         "13",
         "left_gaze_point_in_user_coordinate_system_1",
         "0.4098"
        ],
        [
         "14",
         "left_gaze_point_in_user_coordinate_system_2",
         "0.4098"
        ],
        [
         "15",
         "right_gaze_point_in_user_coordinate_system_0",
         "0.4441"
        ],
        [
         "16",
         "right_gaze_point_in_user_coordinate_system_1",
         "0.4441"
        ],
        [
         "17",
         "right_gaze_point_in_user_coordinate_system_2",
         "0.4441"
        ],
        [
         "18",
         "left_gaze_point_on_display_area_0",
         "0.4098"
        ],
        [
         "19",
         "left_gaze_point_on_display_area_1",
         "0.4098"
        ],
        [
         "20",
         "right_gaze_point_on_display_area_0",
         "0.4441"
        ],
        [
         "21",
         "right_gaze_point_on_display_area_1",
         "0.4441"
        ],
        [
         "22",
         "left_pupil_diameter",
         "0.4098"
        ],
        [
         "23",
         "right_pupil_diameter",
         "0.4441"
        ]
       ],
       "shape": {
        "columns": 2,
        "rows": 24
       }
      },
      "text/html": [
       "<div>\n",
       "<style scoped>\n",
       "    .dataframe tbody tr th:only-of-type {\n",
       "        vertical-align: middle;\n",
       "    }\n",
       "\n",
       "    .dataframe tbody tr th {\n",
       "        vertical-align: top;\n",
       "    }\n",
       "\n",
       "    .dataframe thead th {\n",
       "        text-align: right;\n",
       "    }\n",
       "</style>\n",
       "<table border=\"1\" class=\"dataframe\">\n",
       "  <thead>\n",
       "    <tr style=\"text-align: right;\">\n",
       "      <th></th>\n",
       "      <th>variable</th>\n",
       "      <th>percent_valid</th>\n",
       "    </tr>\n",
       "  </thead>\n",
       "  <tbody>\n",
       "    <tr>\n",
       "      <th>0</th>\n",
       "      <td>left_gaze_origin_in_user_coordinate_system_0</td>\n",
       "      <td>0.4191</td>\n",
       "    </tr>\n",
       "    <tr>\n",
       "      <th>1</th>\n",
       "      <td>left_gaze_origin_in_user_coordinate_system_1</td>\n",
       "      <td>0.4191</td>\n",
       "    </tr>\n",
       "    <tr>\n",
       "      <th>2</th>\n",
       "      <td>left_gaze_origin_in_user_coordinate_system_2</td>\n",
       "      <td>0.4191</td>\n",
       "    </tr>\n",
       "    <tr>\n",
       "      <th>3</th>\n",
       "      <td>right_gaze_origin_in_user_coordinate_system_0</td>\n",
       "      <td>0.4458</td>\n",
       "    </tr>\n",
       "    <tr>\n",
       "      <th>4</th>\n",
       "      <td>right_gaze_origin_in_user_coordinate_system_1</td>\n",
       "      <td>0.4458</td>\n",
       "    </tr>\n",
       "    <tr>\n",
       "      <th>5</th>\n",
       "      <td>right_gaze_origin_in_user_coordinate_system_2</td>\n",
       "      <td>0.4458</td>\n",
       "    </tr>\n",
       "    <tr>\n",
       "      <th>6</th>\n",
       "      <td>left_gaze_origin_in_trackbox_coordinate_system_0</td>\n",
       "      <td>0.4191</td>\n",
       "    </tr>\n",
       "    <tr>\n",
       "      <th>7</th>\n",
       "      <td>left_gaze_origin_in_trackbox_coordinate_system_1</td>\n",
       "      <td>0.4191</td>\n",
       "    </tr>\n",
       "    <tr>\n",
       "      <th>8</th>\n",
       "      <td>left_gaze_origin_in_trackbox_coordinate_system_2</td>\n",
       "      <td>0.4191</td>\n",
       "    </tr>\n",
       "    <tr>\n",
       "      <th>9</th>\n",
       "      <td>right_gaze_origin_in_trackbox_coordinate_system_0</td>\n",
       "      <td>0.4458</td>\n",
       "    </tr>\n",
       "    <tr>\n",
       "      <th>10</th>\n",
       "      <td>right_gaze_origin_in_trackbox_coordinate_system_1</td>\n",
       "      <td>0.4458</td>\n",
       "    </tr>\n",
       "    <tr>\n",
       "      <th>11</th>\n",
       "      <td>right_gaze_origin_in_trackbox_coordinate_system_2</td>\n",
       "      <td>0.4458</td>\n",
       "    </tr>\n",
       "    <tr>\n",
       "      <th>12</th>\n",
       "      <td>left_gaze_point_in_user_coordinate_system_0</td>\n",
       "      <td>0.4098</td>\n",
       "    </tr>\n",
       "    <tr>\n",
       "      <th>13</th>\n",
       "      <td>left_gaze_point_in_user_coordinate_system_1</td>\n",
       "      <td>0.4098</td>\n",
       "    </tr>\n",
       "    <tr>\n",
       "      <th>14</th>\n",
       "      <td>left_gaze_point_in_user_coordinate_system_2</td>\n",
       "      <td>0.4098</td>\n",
       "    </tr>\n",
       "    <tr>\n",
       "      <th>15</th>\n",
       "      <td>right_gaze_point_in_user_coordinate_system_0</td>\n",
       "      <td>0.4441</td>\n",
       "    </tr>\n",
       "    <tr>\n",
       "      <th>16</th>\n",
       "      <td>right_gaze_point_in_user_coordinate_system_1</td>\n",
       "      <td>0.4441</td>\n",
       "    </tr>\n",
       "    <tr>\n",
       "      <th>17</th>\n",
       "      <td>right_gaze_point_in_user_coordinate_system_2</td>\n",
       "      <td>0.4441</td>\n",
       "    </tr>\n",
       "    <tr>\n",
       "      <th>18</th>\n",
       "      <td>left_gaze_point_on_display_area_0</td>\n",
       "      <td>0.4098</td>\n",
       "    </tr>\n",
       "    <tr>\n",
       "      <th>19</th>\n",
       "      <td>left_gaze_point_on_display_area_1</td>\n",
       "      <td>0.4098</td>\n",
       "    </tr>\n",
       "    <tr>\n",
       "      <th>20</th>\n",
       "      <td>right_gaze_point_on_display_area_0</td>\n",
       "      <td>0.4441</td>\n",
       "    </tr>\n",
       "    <tr>\n",
       "      <th>21</th>\n",
       "      <td>right_gaze_point_on_display_area_1</td>\n",
       "      <td>0.4441</td>\n",
       "    </tr>\n",
       "    <tr>\n",
       "      <th>22</th>\n",
       "      <td>left_pupil_diameter</td>\n",
       "      <td>0.4098</td>\n",
       "    </tr>\n",
       "    <tr>\n",
       "      <th>23</th>\n",
       "      <td>right_pupil_diameter</td>\n",
       "      <td>0.4441</td>\n",
       "    </tr>\n",
       "  </tbody>\n",
       "</table>\n",
       "</div>"
      ],
      "text/plain": [
       "                                             variable percent_valid\n",
       "0        left_gaze_origin_in_user_coordinate_system_0        0.4191\n",
       "1        left_gaze_origin_in_user_coordinate_system_1        0.4191\n",
       "2        left_gaze_origin_in_user_coordinate_system_2        0.4191\n",
       "3       right_gaze_origin_in_user_coordinate_system_0        0.4458\n",
       "4       right_gaze_origin_in_user_coordinate_system_1        0.4458\n",
       "5       right_gaze_origin_in_user_coordinate_system_2        0.4458\n",
       "6    left_gaze_origin_in_trackbox_coordinate_system_0        0.4191\n",
       "7    left_gaze_origin_in_trackbox_coordinate_system_1        0.4191\n",
       "8    left_gaze_origin_in_trackbox_coordinate_system_2        0.4191\n",
       "9   right_gaze_origin_in_trackbox_coordinate_system_0        0.4458\n",
       "10  right_gaze_origin_in_trackbox_coordinate_system_1        0.4458\n",
       "11  right_gaze_origin_in_trackbox_coordinate_system_2        0.4458\n",
       "12        left_gaze_point_in_user_coordinate_system_0        0.4098\n",
       "13        left_gaze_point_in_user_coordinate_system_1        0.4098\n",
       "14        left_gaze_point_in_user_coordinate_system_2        0.4098\n",
       "15       right_gaze_point_in_user_coordinate_system_0        0.4441\n",
       "16       right_gaze_point_in_user_coordinate_system_1        0.4441\n",
       "17       right_gaze_point_in_user_coordinate_system_2        0.4441\n",
       "18                  left_gaze_point_on_display_area_0        0.4098\n",
       "19                  left_gaze_point_on_display_area_1        0.4098\n",
       "20                 right_gaze_point_on_display_area_0        0.4441\n",
       "21                 right_gaze_point_on_display_area_1        0.4441\n",
       "22                                left_pupil_diameter        0.4098\n",
       "23                               right_pupil_diameter        0.4441"
      ]
     },
     "execution_count": 87,
     "metadata": {},
     "output_type": "execute_result"
    }
   ],
   "source": [
    "# percent valid for all data columns (excluding time + validity columns)\n",
    "\n",
    "# remove columns w validity or time data \n",
    "time_cols = et_df.filter(like = 'time').columns\n",
    "qc_cols = time_cols.append(val_cols)\n",
    "et_data_cols = et_df.columns.drop(qc_cols)\n",
    "\n",
    "# percent non-NaN for each variable\n",
    "et_qc = pd.DataFrame(columns= ['variable', 'percent_valid'])\n",
    "et_qc['variable'] = et_data_cols\n",
    "\n",
    "for i, var in enumerate(et_data_cols):\n",
    "    et_qc.loc[i, 'percent_valid'] = round((1 - et_df[var].isna().mean()), 4)\n",
    "\n",
    "et_qc"
   ]
  },
  {
   "cell_type": "markdown",
   "metadata": {},
   "source": [
    "## Comparing Percents between Validity, Coordinates, and Coordinate Systems"
   ]
  },
  {
   "cell_type": "code",
   "execution_count": 88,
   "metadata": {},
   "outputs": [
    {
     "name": "stdout",
     "output_type": "stream",
     "text": [
      "validity variables equal % of present data for each measure\n"
     ]
    }
   ],
   "source": [
    "# compare NaN percentage in each measure with validity \n",
    "\n",
    "# for each row of val_df\n",
    "flag = False\n",
    "for row in range(len(val_df)):\n",
    "    # assign percent_valid to a var \n",
    "    val_percent = val_df.loc[row, 'percent_valid']\n",
    "\n",
    "    # get name of 'variable' without _validity \n",
    "    searchable = val_df.loc[row, 'variable']\n",
    "    searchable = searchable.replace('_validity', '')\n",
    "\n",
    "    # find corresponding variable in et_qc\n",
    "    found = et_qc[et_qc['variable'].str.contains(searchable)]\n",
    "\n",
    "    # Check if floats are close enough to each other\n",
    "    delta = 0.0000001\n",
    "    for i in found.index:\n",
    "        etqc_percent = found.loc[i, 'percent_valid']\n",
    "        etqc_variable = found.loc[i, 'variable']\n",
    "        diff = etqc_percent - val_percent\n",
    "        \n",
    "        if abs(diff) > delta:\n",
    "            print(\"ERROR: {} and {} were different by a difference of {}.\".format(etqc_variable, searchable, diff))\n",
    "            flag = True\n",
    "if not flag:\n",
    "    print(\"validity variables equal % of present data for each measure\")\n",
    "\n"
   ]
  },
  {
   "cell_type": "code",
   "execution_count": 89,
   "metadata": {},
   "outputs": [
    {
     "name": "stdout",
     "output_type": "stream",
     "text": [
      "all coordinates have the same % validity within each measure (LR, gaze point/origin/diameter)\n"
     ]
    }
   ],
   "source": [
    "# compare coordinates (0,1,2)\n",
    "flag_validity = True\n",
    "for i in range(1, len(et_qc)):\n",
    "    # get variables that end in numbers \n",
    "    root = re.sub(r\"_\\d+$\", \"\", et_qc.loc[i, 'variable'])\n",
    "    if root in et_qc.loc[i-1, 'variable']:\n",
    "        current_percent = et_qc.loc[i, 'percent_valid']\n",
    "        prev_percent = et_qc.loc[i-1, 'percent_valid']\n",
    "        if current_percent != prev_percent:\n",
    "            print(\"ERROR: {} does not equal {}!\".format(et_qc.loc[i-1, 'variable'], et_qc.loc[i, 'variable']))\n",
    "            flag_validity = False\n",
    "if flag_validity:\n",
    "    print(\"all coordinates have the same % validity within each measure (LR, gaze point/origin/diameter)\")\n",
    "\n"
   ]
  },
  {
   "cell_type": "code",
   "execution_count": 90,
   "metadata": {},
   "outputs": [
    {
     "name": "stdout",
     "output_type": "stream",
     "text": [
      "% NaNs is the same between UCS and TBCS (gaze origin) and between UCS and display area (gaze point)\n"
     ]
    }
   ],
   "source": [
    "# compare coordinate systems \n",
    "\n",
    "flag_nans = True\n",
    "for i in range(1, len(et_qc)):\n",
    "    root = et_qc.loc[i, 'variable'].split(\"_in\")[0]\n",
    "    root_percent = et_qc.loc[i, 'percent_valid']\n",
    "\n",
    "    matching = et_qc[et_qc['variable'].str.contains(root)]\n",
    "\n",
    "    for i in matching.index:\n",
    "            matching_percent = matching.loc[i, 'percent_valid']\n",
    "            matching_variable = matching.loc[i, 'variable']\n",
    "\n",
    "            if root_percent != matching_percent:\n",
    "                print(\"ERROR: {} and {} were different by a difference of {}.\".format(matching_variable, root, (root_percent-matching_percent)))\n",
    "                flag_nans = False\n",
    "   \n",
    "if flag_nans:\n",
    "    print(\"% NaNs is the same between UCS and TBCS (gaze origin) and between UCS and display area (gaze point)\")\n",
    "\n"
   ]
  },
  {
   "cell_type": "markdown",
   "metadata": {},
   "source": [
    "## Compare valid data between left and right eyes"
   ]
  },
  {
   "cell_type": "code",
   "execution_count": 91,
   "metadata": {},
   "outputs": [
    {
     "data": {
      "application/vnd.microsoft.datawrangler.viewer.v0+json": {
       "columns": [
        {
         "name": "index",
         "rawType": "int64",
         "type": "integer"
        },
        {
         "name": "eye",
         "rawType": "object",
         "type": "string"
        },
        {
         "name": "min",
         "rawType": "float64",
         "type": "float"
        },
        {
         "name": "max",
         "rawType": "float64",
         "type": "float"
        },
        {
         "name": "mean",
         "rawType": "float64",
         "type": "float"
        }
       ],
       "conversionMethod": "pd.DataFrame",
       "ref": "a8c64be2-24b4-417e-beb9-8c7f02a49f33",
       "rows": [
        [
         "0",
         "left",
         "0.4098",
         "0.4191",
         "0.4144"
        ],
        [
         "1",
         "right",
         "0.4441",
         "0.4458",
         "0.445"
        ]
       ],
       "shape": {
        "columns": 4,
        "rows": 2
       }
      },
      "text/html": [
       "<div>\n",
       "<style scoped>\n",
       "    .dataframe tbody tr th:only-of-type {\n",
       "        vertical-align: middle;\n",
       "    }\n",
       "\n",
       "    .dataframe tbody tr th {\n",
       "        vertical-align: top;\n",
       "    }\n",
       "\n",
       "    .dataframe thead th {\n",
       "        text-align: right;\n",
       "    }\n",
       "</style>\n",
       "<table border=\"1\" class=\"dataframe\">\n",
       "  <thead>\n",
       "    <tr style=\"text-align: right;\">\n",
       "      <th></th>\n",
       "      <th>eye</th>\n",
       "      <th>min</th>\n",
       "      <th>max</th>\n",
       "      <th>mean</th>\n",
       "    </tr>\n",
       "  </thead>\n",
       "  <tbody>\n",
       "    <tr>\n",
       "      <th>0</th>\n",
       "      <td>left</td>\n",
       "      <td>0.4098</td>\n",
       "      <td>0.4191</td>\n",
       "      <td>0.4144</td>\n",
       "    </tr>\n",
       "    <tr>\n",
       "      <th>1</th>\n",
       "      <td>right</td>\n",
       "      <td>0.4441</td>\n",
       "      <td>0.4458</td>\n",
       "      <td>0.4450</td>\n",
       "    </tr>\n",
       "  </tbody>\n",
       "</table>\n",
       "</div>"
      ],
      "text/plain": [
       "     eye     min     max    mean\n",
       "0   left  0.4098  0.4191  0.4144\n",
       "1  right  0.4441  0.4458  0.4450"
      ]
     },
     "execution_count": 91,
     "metadata": {},
     "output_type": "execute_result"
    }
   ],
   "source": [
    "left = et_qc[et_qc.variable.str.startswith('left')]\n",
    "right = et_qc[et_qc.variable.str.startswith('right')]\n",
    "\n",
    "RL_val = pd.DataFrame(columns = ['eye','min', 'max', 'mean'])\n",
    "\n",
    "for i, (df, RL) in enumerate([(left, 'left'), (right, 'right')]):\n",
    "    min1 = min(df['percent_valid'])\n",
    "    max1 = max(df['percent_valid'])\n",
    "    mean1 = round(np.mean(df['percent_valid']), 4)\n",
    "    RL_val.loc[i] = [RL, min1, max1, mean1]\n",
    "\n",
    "RL_val"
   ]
  },
  {
   "cell_type": "code",
   "execution_count": 92,
   "metadata": {},
   "outputs": [
    {
     "data": {
      "application/vnd.microsoft.datawrangler.viewer.v0+json": {
       "columns": [
        {
         "name": "index",
         "rawType": "int64",
         "type": "integer"
        },
        {
         "name": "eye",
         "rawType": "object",
         "type": "string"
        },
        {
         "name": "min",
         "rawType": "object",
         "type": "unknown"
        },
        {
         "name": "max",
         "rawType": "object",
         "type": "unknown"
        },
        {
         "name": "mean",
         "rawType": "object",
         "type": "unknown"
        }
       ],
       "conversionMethod": "pd.DataFrame",
       "ref": "727d7ffb-07f7-4bd2-891c-61fe3dc07765",
       "rows": [
        [
         "0",
         "left",
         "0.4098",
         "0.4191",
         "0.4144"
        ],
        [
         "1",
         "right",
         "0.4441",
         "0.4458",
         "0.445"
        ],
        [
         "2",
         "",
         "",
         "",
         ""
        ],
        [
         "3",
         "diff",
         "0.0343",
         "0.0267",
         "0.030600000000000016"
        ]
       ],
       "shape": {
        "columns": 4,
        "rows": 4
       }
      },
      "text/html": [
       "<div>\n",
       "<style scoped>\n",
       "    .dataframe tbody tr th:only-of-type {\n",
       "        vertical-align: middle;\n",
       "    }\n",
       "\n",
       "    .dataframe tbody tr th {\n",
       "        vertical-align: top;\n",
       "    }\n",
       "\n",
       "    .dataframe thead th {\n",
       "        text-align: right;\n",
       "    }\n",
       "</style>\n",
       "<table border=\"1\" class=\"dataframe\">\n",
       "  <thead>\n",
       "    <tr style=\"text-align: right;\">\n",
       "      <th></th>\n",
       "      <th>eye</th>\n",
       "      <th>min</th>\n",
       "      <th>max</th>\n",
       "      <th>mean</th>\n",
       "    </tr>\n",
       "  </thead>\n",
       "  <tbody>\n",
       "    <tr>\n",
       "      <th>0</th>\n",
       "      <td>left</td>\n",
       "      <td>0.4098</td>\n",
       "      <td>0.4191</td>\n",
       "      <td>0.4144</td>\n",
       "    </tr>\n",
       "    <tr>\n",
       "      <th>1</th>\n",
       "      <td>right</td>\n",
       "      <td>0.4441</td>\n",
       "      <td>0.4458</td>\n",
       "      <td>0.445</td>\n",
       "    </tr>\n",
       "    <tr>\n",
       "      <th>2</th>\n",
       "      <td></td>\n",
       "      <td></td>\n",
       "      <td></td>\n",
       "      <td></td>\n",
       "    </tr>\n",
       "    <tr>\n",
       "      <th>3</th>\n",
       "      <td>diff</td>\n",
       "      <td>0.0343</td>\n",
       "      <td>0.0267</td>\n",
       "      <td>0.0306</td>\n",
       "    </tr>\n",
       "  </tbody>\n",
       "</table>\n",
       "</div>"
      ],
      "text/plain": [
       "     eye     min     max    mean\n",
       "0   left  0.4098  0.4191  0.4144\n",
       "1  right  0.4441  0.4458   0.445\n",
       "2                               \n",
       "3   diff  0.0343  0.0267  0.0306"
      ]
     },
     "execution_count": 92,
     "metadata": {},
     "output_type": "execute_result"
    }
   ],
   "source": [
    "# find diff between RL \n",
    "RL_val.loc[2] = ['diff', RL_val['min'].diff()[1], RL_val['max'].diff()[1], RL_val['mean'].diff()[1]]\n",
    "\n",
    "# add blank row \n",
    "blank = pd.DataFrame([['', '', '', '']], columns = RL_val.columns)\n",
    "RL_val = pd.concat([RL_val.iloc[:2], blank, RL_val.iloc[2:]])\n",
    "RL_val.reset_index(drop=True, inplace=True)\n",
    "RL_val\n"
   ]
  },
  {
   "cell_type": "code",
   "execution_count": 93,
   "metadata": {},
   "outputs": [
    {
     "name": "stdout",
     "output_type": "stream",
     "text": [
      "mean validity for left eye is 41.44%.\n",
      "mean validity for right eye is 44.50%.\n",
      "the difference is 3.06%.\n"
     ]
    }
   ],
   "source": [
    "lmean = RL_val.loc[RL_val.eye =='left', 'mean'][0]\n",
    "rmean = RL_val.loc[RL_val.eye =='right', 'mean'][1]\n",
    "mean_diff = RL_val.loc[RL_val.eye =='diff', 'mean'][3]\n",
    "\n",
    "print('mean validity for left eye is {:.2%}.\\n\\\n",
    "mean validity for right eye is {:.2%}.\\n\\\n",
    "the difference is {:.2%}.'.format(lmean, rmean, abs(mean_diff)))"
   ]
  },
  {
   "cell_type": "markdown",
   "metadata": {},
   "source": [
    "## Gaze Point"
   ]
  },
  {
   "cell_type": "markdown",
   "metadata": {},
   "source": [
    "### Min + Max"
   ]
  },
  {
   "cell_type": "code",
   "execution_count": 94,
   "metadata": {},
   "outputs": [],
   "source": [
    "minmax = {}\n",
    "for eye, e in zip(['left', 'right'], ['l', 'r']):\n",
    "    for disp in ['0', '1']:\n",
    "        minmax[f'min_{e}{disp}'] = round(np.nanmin(et_df['{}_gaze_point_on_display_area_{}'.format(eye, disp)]), 3)\n",
    "        minmax[f'max_{e}{disp}'] = round(np.nanmax(et_df['{}_gaze_point_on_display_area_{}'.format(eye, disp)]), 3)\n",
    "        \n",
    "        # globals()['min_'+e+disp] = round(np.nanmin(et_df['{}_gaze_point_on_display_area_{}'.format(eye, disp)]), 3)\n",
    "        # globals()['max_'+e+disp] = round(np.nanmax(et_df['{}_gaze_point_on_display_area_{}'.format(eye, disp)]), 3)\n"
   ]
  },
  {
   "cell_type": "code",
   "execution_count": 95,
   "metadata": {},
   "outputs": [
    {
     "name": "stdout",
     "output_type": "stream",
     "text": [
      "Left eye: \n",
      "      Display area 0 min: -1.575, max: 3.499\n",
      "      Display area 1 min: -0.73, max: 2.154\n",
      "      \n",
      "Right eye: \n",
      "      Display area 0 min: -2.383, max: 2.358\n",
      "      Display area 1 min: -0.885, max: 2.102\n"
     ]
    }
   ],
   "source": [
    "print(f\"Left eye: \\n\\\n",
    "      Display area 0 min: {minmax['min_l0']:.4}, max: {minmax['max_l0']:.4}\\n\\\n",
    "      Display area 1 min: {minmax['min_l1']:.4}, max: {minmax['max_l1']:.4}\\n\\\n",
    "      \\n\\\n",
    "Right eye: \\n\\\n",
    "      Display area 0 min: {minmax['min_r0']:.4}, max: {minmax['max_r0']:.4}\\n\\\n",
    "      Display area 1 min: {minmax['min_r1']:.4}, max: {minmax['max_r1']:.4}\")\n",
    "\n",
    "# left and right eye display area 0 min pretty different"
   ]
  },
  {
   "cell_type": "code",
   "execution_count": 96,
   "metadata": {},
   "outputs": [
    {
     "data": {
      "application/vnd.microsoft.datawrangler.viewer.v0+json": {
       "columns": [
        {
         "name": "index",
         "rawType": "int64",
         "type": "integer"
        },
        {
         "name": "display area",
         "rawType": "object",
         "type": "string"
        },
        {
         "name": "min",
         "rawType": "float32",
         "type": "float"
        },
        {
         "name": "max",
         "rawType": "float32",
         "type": "float"
        }
       ],
       "conversionMethod": "pd.DataFrame",
       "ref": "17a4c1a8-b00a-482e-8fc0-9ecfb6ca2d91",
       "rows": [
        [
         "0",
         "0",
         "-1.575",
         "3.499"
        ],
        [
         "1",
         "1",
         "-0.73",
         "2.154"
        ]
       ],
       "shape": {
        "columns": 3,
        "rows": 2
       }
      },
      "text/html": [
       "<div>\n",
       "<style scoped>\n",
       "    .dataframe tbody tr th:only-of-type {\n",
       "        vertical-align: middle;\n",
       "    }\n",
       "\n",
       "    .dataframe tbody tr th {\n",
       "        vertical-align: top;\n",
       "    }\n",
       "\n",
       "    .dataframe thead th {\n",
       "        text-align: right;\n",
       "    }\n",
       "</style>\n",
       "<table border=\"1\" class=\"dataframe\">\n",
       "  <thead>\n",
       "    <tr style=\"text-align: right;\">\n",
       "      <th></th>\n",
       "      <th>display area</th>\n",
       "      <th>min</th>\n",
       "      <th>max</th>\n",
       "    </tr>\n",
       "  </thead>\n",
       "  <tbody>\n",
       "    <tr>\n",
       "      <th>0</th>\n",
       "      <td>0</td>\n",
       "      <td>-1.575</td>\n",
       "      <td>3.499</td>\n",
       "    </tr>\n",
       "    <tr>\n",
       "      <th>1</th>\n",
       "      <td>1</td>\n",
       "      <td>-0.730</td>\n",
       "      <td>2.154</td>\n",
       "    </tr>\n",
       "  </tbody>\n",
       "</table>\n",
       "</div>"
      ],
      "text/plain": [
       "  display area    min    max\n",
       "0            0 -1.575  3.499\n",
       "1            1 -0.730  2.154"
      ]
     },
     "metadata": {},
     "output_type": "display_data"
    },
    {
     "data": {
      "application/vnd.microsoft.datawrangler.viewer.v0+json": {
       "columns": [
        {
         "name": "index",
         "rawType": "int64",
         "type": "integer"
        },
        {
         "name": "display area",
         "rawType": "object",
         "type": "string"
        },
        {
         "name": "min",
         "rawType": "float32",
         "type": "float"
        },
        {
         "name": "max",
         "rawType": "float32",
         "type": "float"
        }
       ],
       "conversionMethod": "pd.DataFrame",
       "ref": "eabc6078-9779-4ced-beb4-277b9a3ca80d",
       "rows": [
        [
         "0",
         "0",
         "-2.383",
         "2.358"
        ],
        [
         "1",
         "1",
         "-0.885",
         "2.102"
        ]
       ],
       "shape": {
        "columns": 3,
        "rows": 2
       }
      },
      "text/html": [
       "<div>\n",
       "<style scoped>\n",
       "    .dataframe tbody tr th:only-of-type {\n",
       "        vertical-align: middle;\n",
       "    }\n",
       "\n",
       "    .dataframe tbody tr th {\n",
       "        vertical-align: top;\n",
       "    }\n",
       "\n",
       "    .dataframe thead th {\n",
       "        text-align: right;\n",
       "    }\n",
       "</style>\n",
       "<table border=\"1\" class=\"dataframe\">\n",
       "  <thead>\n",
       "    <tr style=\"text-align: right;\">\n",
       "      <th></th>\n",
       "      <th>display area</th>\n",
       "      <th>min</th>\n",
       "      <th>max</th>\n",
       "    </tr>\n",
       "  </thead>\n",
       "  <tbody>\n",
       "    <tr>\n",
       "      <th>0</th>\n",
       "      <td>0</td>\n",
       "      <td>-2.383</td>\n",
       "      <td>2.358</td>\n",
       "    </tr>\n",
       "    <tr>\n",
       "      <th>1</th>\n",
       "      <td>1</td>\n",
       "      <td>-0.885</td>\n",
       "      <td>2.102</td>\n",
       "    </tr>\n",
       "  </tbody>\n",
       "</table>\n",
       "</div>"
      ],
      "text/plain": [
       "  display area    min    max\n",
       "0            0 -2.383  2.358\n",
       "1            1 -0.885  2.102"
      ]
     },
     "metadata": {},
     "output_type": "display_data"
    }
   ],
   "source": [
    "left_display = pd.DataFrame(columns = ['display area', 'min', 'max'])\n",
    "right_display = pd.DataFrame(columns = ['display area', 'min', 'max'])\n",
    "\n",
    "left_display.loc[0] = ['0', minmax['min_l0'], minmax['max_l0']]\n",
    "left_display.loc[1] = ['1', minmax['min_l1'], minmax['max_l1']]\n",
    "\n",
    "right_display.loc[0] = ['0', minmax['min_r0'], minmax['max_r0']]\n",
    "right_display.loc[1] = ['1', minmax['min_r1'], minmax['max_r1']]\n",
    "\n",
    "display(left_display)\n",
    "display(right_display)"
   ]
  },
  {
   "cell_type": "code",
   "execution_count": 97,
   "metadata": {},
   "outputs": [
    {
     "name": "stdout",
     "output_type": "stream",
     "text": [
      "The difference between left and right is: \n",
      "      display area 0 min: 0.808, max: 1.14 \n",
      "      display area 1 min: 0.155, max: 0.052\n"
     ]
    }
   ],
   "source": [
    "print(f\"The difference between left and right is: \\n\\\n",
    "      display area 0 min: {minmax['min_l0']-minmax['min_r0']:.3}, max: {minmax['max_l0']-minmax['max_r0']:.3} \\n\\\n",
    "      display area 1 min: {minmax['min_l1']-minmax['min_r1']:.3}, max: {minmax['max_l1']-minmax['max_r1']:.3}\")"
   ]
  },
  {
   "cell_type": "code",
   "execution_count": 98,
   "metadata": {},
   "outputs": [
    {
     "data": {
      "text/plain": [
       "(-3.0, 3.0)"
      ]
     },
     "execution_count": 98,
     "metadata": {},
     "output_type": "execute_result"
    },
    {
     "data": {
      "image/png": "[encoded data removed]",
      "text/plain": [
       "<Figure size 640x480 with 1 Axes>"
      ]
     },
     "metadata": {},
     "output_type": "display_data"
    }
   ],
   "source": [
    "# plot L + R gaze points\n",
    "plt.scatter(et_df.left_gaze_point_on_display_area_0[44], et_df.left_gaze_point_on_display_area_1[44], color = 'red')\n",
    "plt.scatter(et_df.right_gaze_point_on_display_area_0[44], et_df.right_gaze_point_on_display_area_1[44], color = 'blue')\n",
    "plt.xlim([-3,3])\n",
    "plt.ylim([-3,3])"
   ]
  },
  {
   "cell_type": "markdown",
   "metadata": {},
   "source": [
    "### Distance between gaze points"
   ]
  },
  {
   "cell_type": "code",
   "execution_count": 99,
   "metadata": {},
   "outputs": [],
   "source": [
    "# remove NaNs\n",
    "et_nums = et_df[~np.isnan(et_df.left_gaze_point_on_display_area_0) &\n",
    "        ~np.isnan(et_df.left_gaze_point_on_display_area_1) &\n",
    "        ~np.isnan(et_df.right_gaze_point_on_display_area_0) &\n",
    "        ~np.isnan(et_df.right_gaze_point_on_display_area_1)]"
   ]
  },
  {
   "cell_type": "code",
   "execution_count": 100,
   "metadata": {},
   "outputs": [
    {
     "data": {
      "image/png": "[encoded data removed]",
      "text/plain": [
       "<Figure size 640x480 with 1 Axes>"
      ]
     },
     "metadata": {},
     "output_type": "display_data"
    }
   ],
   "source": [
    "# distribution of distance between gaze points\n",
    "x1 = et_nums.right_gaze_point_on_display_area_0\n",
    "x2 = et_nums.left_gaze_point_on_display_area_0\n",
    "y1 = et_nums.right_gaze_point_on_display_area_1\n",
    "y2 = et_nums.left_gaze_point_on_display_area_1\n",
    "dists = np.sqrt((x2 - x1)**2 + (y2 - y1)**2)\n",
    "\n",
    "plt.hist(dists, bins =75, alpha = 0.5)\n",
    "plt.title(f'Distribution of Distances Between \\nLeft and Right Gaze Point for Subject {sub_id}')\n",
    "plt.xlabel('Distance between L + R Gaze Points')\n",
    "plt.ylabel('Count')\n",
    "plt.show()\n"
   ]
  },
  {
   "cell_type": "code",
   "execution_count": 101,
   "metadata": {},
   "outputs": [
    {
     "data": {
      "text/plain": [
       "43        0.175338\n",
       "44        0.062855\n",
       "45        0.060095\n",
       "46        0.050609\n",
       "47        0.092404\n",
       "            ...   \n",
       "136812    0.065637\n",
       "136813    0.054042\n",
       "136814    0.021029\n",
       "136815    0.359169\n",
       "136816    0.319951\n",
       "Length: 50843, dtype: float32"
      ]
     },
     "execution_count": 101,
     "metadata": {},
     "output_type": "execute_result"
    }
   ],
   "source": [
    "dists"
   ]
  },
  {
   "cell_type": "code",
   "execution_count": 102,
   "metadata": {},
   "outputs": [
    {
     "data": {
      "text/plain": [
       "'5182010'"
      ]
     },
     "execution_count": 102,
     "metadata": {},
     "output_type": "execute_result"
    }
   ],
   "source": [
    "sub_id"
   ]
  },
  {
   "cell_type": "code",
   "execution_count": 103,
   "metadata": {},
   "outputs": [
    {
     "data": {
      "text/plain": [
       "3521"
      ]
     },
     "execution_count": 103,
     "metadata": {},
     "output_type": "execute_result"
    }
   ],
   "source": [
    "sum(dists >= 0.2)"
   ]
  },
  {
   "cell_type": "code",
   "execution_count": 104,
   "metadata": {},
   "outputs": [
    {
     "name": "stdout",
     "output_type": "stream",
     "text": [
      "6.925% of Subject 5182010's data has gaze points differences of over 0.2 mm(?)\n"
     ]
    }
   ],
   "source": [
    "# percent of non NaN distances over 0.2\n",
    "percent_over02 = sum(dists >= 0.2)/len(dists)\n",
    "\n",
    "if percent_over02*100 > .5:\n",
    "    print(f\"{percent_over02:.3%} of Subject {sub_id}'s data has gaze points differences of over 0.2 mm(?)\")"
   ]
  },
  {
   "cell_type": "markdown",
   "metadata": {},
   "source": [
    "### Plot Distances over Time"
   ]
  },
  {
   "cell_type": "code",
   "execution_count": 105,
   "metadata": {},
   "outputs": [
    {
     "data": {
      "text/plain": [
       "0.06925240446079106"
      ]
     },
     "execution_count": 105,
     "metadata": {},
     "output_type": "execute_result"
    }
   ],
   "source": [
    "sum(dists >= 0.2)/len(dists)"
   ]
  },
  {
   "cell_type": "code",
   "execution_count": 106,
   "metadata": {},
   "outputs": [
    {
     "data": {
      "text/plain": [
       "3521"
      ]
     },
     "execution_count": 106,
     "metadata": {},
     "output_type": "execute_result"
    }
   ],
   "source": [
    "sum(dists >= 0.2)"
   ]
  },
  {
   "cell_type": "code",
   "execution_count": 107,
   "metadata": {},
   "outputs": [
    {
     "data": {
      "text/plain": [
       "0        NaN\n",
       "1        NaN\n",
       "2        NaN\n",
       "3        NaN\n",
       "4        NaN\n",
       "          ..\n",
       "137765   NaN\n",
       "137766   NaN\n",
       "137767   NaN\n",
       "137768   NaN\n",
       "137769   NaN\n",
       "Length: 137770, dtype: float32"
      ]
     },
     "execution_count": 107,
     "metadata": {},
     "output_type": "execute_result"
    }
   ],
   "source": [
    "# calculate distances including NaNs\n",
    "x1 = et_df.right_gaze_point_on_display_area_0\n",
    "x2 = et_df.left_gaze_point_on_display_area_0\n",
    "y1 = et_df.right_gaze_point_on_display_area_1\n",
    "y2 = et_df.left_gaze_point_on_display_area_1\n",
    "all_dists = np.sqrt((x2 - x1)**2 + (y2 - y1)**2)\n",
    "all_dists   "
   ]
  },
  {
   "cell_type": "code",
   "execution_count": 108,
   "metadata": {},
   "outputs": [
    {
     "name": "stdout",
     "output_type": "stream",
     "text": [
      "percent over 0.20: 0.06925240446079106%\n"
     ]
    },
    {
     "data": {
      "image/png": "[encoded data removed]",
      "text/plain": [
       "<Figure size 1000x300 with 1 Axes>"
      ]
     },
     "metadata": {},
     "output_type": "display_data"
    }
   ],
   "source": [
    "# plt w x = index \n",
    "plt.figure(figsize=(10, 3))\n",
    "plt.plot(all_dists)\n",
    "plt.title(f\"Distance Between Left and Right Gaze Points Over Time\")\n",
    "plt.axhline(y = 0.2, color = 'red', label = 'Gaze point difference = 0.2')\n",
    "plt.ylabel(\"Gaze Point Difference (mm)\")\n",
    "plt.xlabel(\"Time (s)\")\n",
    "plt.legend()\n",
    "print(f\"percent over 0.20: {percent_over02}%\")\n",
    "plt.tight_layout()\n",
    "plt.savefig(f'report_images/{sub_id}_et_gazedifference.png')\n",
    "plt.show()"
   ]
  },
  {
   "cell_type": "code",
   "execution_count": 110,
   "metadata": {},
   "outputs": [
    {
     "data": {
      "image/png": "[encoded data removed]",
      "text/plain": [
       "<Figure size 2000x400 with 1 Axes>"
      ]
     },
     "metadata": {},
     "output_type": "display_data"
    }
   ],
   "source": [
    "# plot with x = lsl time stamp\n",
    "plt.figure(figsize=(20, 4))\n",
    "plt.plot(et_df.lsl_time_stamp, all_dists)\n",
    "plt.title(f\"Distance between L+R gaze point over time\")\n",
    "plt.axhline(y = 0.2, color = 'red')\n",
    "plt.ylabel(\"Gaze Point Difference\")\n",
    "plt.xlabel(\"Time\")\n",
    "plt.show()"
   ]
  },
  {
   "cell_type": "markdown",
   "metadata": {},
   "source": [
    "## Compare R vs L validity across participants"
   ]
  },
  {
   "cell_type": "code",
   "execution_count": 111,
   "metadata": {},
   "outputs": [],
   "source": [
    "def RL_percent(id):\n",
    "    # load data\n",
    "    num = [i for i, string in enumerate(sub_files) if id in string][0]\n",
    "    xdf_path = sub_files[num]     \n",
    "    data, header = pyxdf.load_xdf(xdf_path)\n",
    "    streams_collected = [stream['info']['name'][0] for stream in data]\n",
    "\n",
    "    # extract eye tracking data\n",
    "    ET = data[streams_collected.index('Tobii')]\n",
    "    et_dat = ET['time_series']\n",
    "    column_labels = [ET['info']['desc'][0]['channels'][0]['channel'][i]['label'][0] for i in range(len(ET['info']['desc'][0]['channels'][0]['channel']))]\n",
    "    et_df = pd.DataFrame(data=et_dat, columns=column_labels)\n",
    "\n",
    "    # get percent valid items from validity columns\n",
    "    val_cols = et_df.filter(like = 'validity').columns\n",
    "    val_df = pd.DataFrame(columns = ['variable', 'percent_valid'])\n",
    "    val_df['variable'] = val_cols\n",
    "    for i, var in enumerate(val_cols):\n",
    "        val_df.loc[i, 'percent_valid'] = round(np.mean(et_df[var]), 4)\n",
    "\n",
    "    # compare mean left and right validity\n",
    "    left_df = val_df[val_df.variable.str.startswith('left')]\n",
    "    right_df = val_df[val_df.variable.str.startswith('right')]   \n",
    "    lmean = round(np.mean(left_df['percent_valid']), 4)\n",
    "    rmean = round(np.mean(right_df['percent_valid']), 4)\n",
    "\n",
    "    # format in a df for vibes \n",
    "    RL_val = pd.DataFrame(columns = ['eye', 'mean'])\n",
    "    RL_val = RL_val.reindex([0,1]) # adds NaN rows w index 0 + 1\n",
    "    RL_val.loc[[0, 1]] = [['left', lmean], ['right', rmean]]\n",
    "\n",
    "    diff = rmean - lmean\n",
    "\n",
    "    print('mean validity for left eye is {:.2%}.\\n\\\n",
    "mean validity for right eye is {:.2%}.\\n\\\n",
    "the difference is {:.2%}.'.format(lmean, rmean, abs(diff)))\n",
    "    \n",
    "    if diff > 0:\n",
    "        print(\"right eye has higher validity than left.\")\n",
    "    else:\n",
    "        print(\"left eye has higher validity than right.\")\n",
    "\n",
    "    return RL_val\n"
   ]
  },
  {
   "cell_type": "code",
   "execution_count": 112,
   "metadata": {},
   "outputs": [],
   "source": [
    "# RL_percent(\"5182010\")"
   ]
  },
  {
   "cell_type": "code",
   "execution_count": 113,
   "metadata": {},
   "outputs": [],
   "source": [
    "# RL_percent(\"P5548165\")"
   ]
  },
  {
   "cell_type": "markdown",
   "metadata": {},
   "source": [
    "## Compare display area min + max across participants"
   ]
  },
  {
   "cell_type": "code",
   "execution_count": 114,
   "metadata": {},
   "outputs": [],
   "source": [
    "def display_minmax(id):\n",
    "    # load data\n",
    "    num = [i for i, string in enumerate(sub_files) if id in string][0]\n",
    "    xdf_path = sub_files[num]     \n",
    "    data, header = pyxdf.load_xdf(xdf_path)\n",
    "    streams_collected = [stream['info']['name'][0] for stream in data]\n",
    "\n",
    "    # extract eye tracking data\n",
    "    ET = data[streams_collected.index('Tobii')]\n",
    "    et_dat = ET['time_series']\n",
    "    column_labels = [ET['info']['desc'][0]['channels'][0]['channel'][i]['label'][0] for i in range(len(ET['info']['desc'][0]['channels'][0]['channel']))]\n",
    "    et_df = pd.DataFrame(data=et_dat, columns=column_labels)\n",
    "\n",
    "    # get \n",
    "    minmax = {}\n",
    "    for eye, e in zip(['left', 'right'], ['l', 'r']):\n",
    "        for disp in ['0', '1']:\n",
    "            minmax[f'min_{e}{disp}'] = round(np.nanmin(et_df['{}_gaze_point_on_display_area_{}'.format(eye, disp)]), 3)\n",
    "            minmax[f'max_{e}{disp}'] = round(np.nanmax(et_df['{}_gaze_point_on_display_area_{}'.format(eye, disp)]), 3)\n",
    "\n",
    "    left_display = pd.DataFrame(columns = ['display area', 'min', 'max'])\n",
    "    right_display = pd.DataFrame(columns = ['display area', 'min', 'max'])\n",
    "\n",
    "    left_display.loc[0] = ['0', minmax['min_l0'], minmax['max_l0']]\n",
    "    left_display.loc[1] = ['1', minmax['min_l1'], minmax['max_l1']]\n",
    "    right_display.loc[0] = ['0', minmax['min_r0'], minmax['max_r0']]\n",
    "    right_display.loc[1] = ['1', minmax['min_r1'], minmax['max_r1']]\n",
    "\n",
    "    print(\"left:\")\n",
    "    display(left_display)\n",
    "    print(\"\\nright:\")\n",
    "    display(right_display)\n",
    "\n",
    "    print(f\"The difference between left and right is: \\n\\\n",
    "      display area 0 min: {minmax['min_l0']-minmax['min_r0']:.3}, max: {minmax['max_l0']-minmax['max_r0']:.3} \\n\\\n",
    "      display area 1 min: {minmax['min_l1']-minmax['min_r1']:.3}, max: {minmax['max_l1']-minmax['max_r1']:.3}\")\n",
    "\n",
    "\n",
    "\n"
   ]
  },
  {
   "cell_type": "code",
   "execution_count": 115,
   "metadata": {},
   "outputs": [],
   "source": [
    "# display_minmax(\"P5318014\")"
   ]
  },
  {
   "cell_type": "code",
   "execution_count": 116,
   "metadata": {},
   "outputs": [],
   "source": [
    "# display_minmax(\"P5548165\")"
   ]
  },
  {
   "cell_type": "code",
   "execution_count": 117,
   "metadata": {},
   "outputs": [],
   "source": [
    "# display_minmax(\"5182010\")"
   ]
  },
  {
   "cell_type": "markdown",
   "metadata": {},
   "source": [
    "# Reported Metrics"
   ]
  },
  {
   "cell_type": "code",
   "execution_count": 118,
   "metadata": {},
   "outputs": [
    {
     "name": "stdout",
     "output_type": "stream",
     "text": [
      "effective sampling rate: 119.996\n",
      "Flag: all coordinates have the same % validity within each measure (LR, gaze point/origin/diameter): True\n",
      "Flag: % of NaNs is the same between UCS and TBCS (gaze origin) and between UCS and display area (gaze point): True\n",
      "Mean difference in percent valid data between right and left eyes: 3.060%\n",
      "Percent of data with gaze point differences of over 0.2 mm: 6.925%\n"
     ]
    }
   ],
   "source": [
    "print(f'effective sampling rate: {srate:.3f}')\n",
    "print(f'Flag: all coordinates have the same % validity within each measure (LR, gaze point/origin/diameter): {flag_validity}')\n",
    "print(f'Flag: % of NaNs is the same between UCS and TBCS (gaze origin) and between UCS and display area (gaze point): {flag_nans}')\n",
    "print(f'Mean difference in percent valid data between right and left eyes: {abs(mean_diff):.3%}')\n",
    "print(f'Percent of data with gaze point differences of over 0.2 mm: {percent_over02:.3%}')\n"
   ]
  }
 ],
 "metadata": {
  "kernelspec": {
   "display_name": "cuny_env",
   "language": "python",
   "name": "python3"
  },
  "language_info": {
   "codemirror_mode": {
    "name": "ipython",
    "version": 3
   },
   "file_extension": ".py",
   "mimetype": "text/x-python",
   "name": "python",
   "nbconvert_exporter": "python",
   "pygments_lexer": "ipython3",
   "version": "3.11.11"
  }
 },
 "nbformat": 4,
 "nbformat_minor": 2
}
