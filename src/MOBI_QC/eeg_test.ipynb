{
 "cells": [
  {
   "cell_type": "code",
   "execution_count": null,
   "id": "be0b02c9",
   "metadata": {},
   "outputs": [],
   "source": [
    "import matplotlib.pyplot as plt\n",
    "import matplotlib\n",
    "matplotlib.use('Qt5Agg')\n",
    "from mne.preprocessing import ICA\n",
    "import mne\n",
    "import numpy as np\n",
    "import pandas as pd\n",
    "import pyprep\n",
    "import pyxdf\n",
    "from utils import *\n",
    "from scipy.signal import welch\n",
    "import warnings\n",
    "warnings.filterwarnings(\"ignore\")"
   ]
  },
  {
   "cell_type": "code",
   "execution_count": null,
   "id": "5b001965",
   "metadata": {},
   "outputs": [],
   "source": [
    "xdf_filename = '/Users/bryan.gonzalez/CUNY_subs/sub-P5029423/sub-P5029423_ses-S001_task-CUNY_run-001_mobi.xdf'\n"
   ]
  },
  {
   "cell_type": "code",
   "execution_count": null,
   "id": "399961ca",
   "metadata": {},
   "outputs": [],
   "source": [
    "subject = xdf_filename.split('-')[1].split('/')[0]\n",
    "df = get_event_data(event='RestingState', \n",
    "                    df=import_eeg_data(xdf_filename),\n",
    "                    stim_df=import_stim_data(xdf_filename))\n",
    "\n",
    "ch_names = [f\"E{i+1}\" for i in range(df.shape[1] - 1)]\n",
    "info = mne.create_info(ch_names, \n",
    "                    sfreq=1/df.lsl_time_stamp.diff().mean(), \n",
    "                    ch_types='eeg')\n",
    "df.drop(columns=['lsl_time_stamp'], inplace=True)\n",
    "\n",
    "raw = mne.io.RawArray(df.T * 1e-6, info=info) # multiplying by 1e-6 converts to volts\n",
    "\n",
    "# Create a Cz reference\n",
    "value = np.zeros((1, raw.n_times))\n",
    "info = mne.create_info([\"Cz\"], raw.info['sfreq'], ch_types='eeg')\n",
    "cz = mne.io.RawArray(value, info)\n",
    "raw.add_channels([cz], force_update_info=True)\n",
    "\n",
    "# Apply a montage\n",
    "montage = mne.channels.make_standard_montage('GSN-HydroCel-129')\n",
    "raw.set_montage(montage, on_missing='ignore')\n",
    "\n",
    "#raw.crop(tmin=0, tmax=5)\n",
    "\n",
    "prep_params = {\n",
    "        \"ref_chs\": \"eeg\",\n",
    "        \"reref_chs\": \"eeg\",\n",
    "        \"line_freqs\": np.arange(60, raw.info[\"sfreq\"] / 2, 60),\n",
    "    }\n",
    "# these params set up the robust reference  - i.e. median of all channels and interpolate bad channels\n",
    "prep = pyprep.PrepPipeline(raw, montage=montage, channel_wise=True, prep_params=prep_params)\n",
    "prep_output = prep.fit()\n",
    "raw_cleaned = prep_output.raw_eeg"
   ]
  },
  {
   "cell_type": "code",
   "execution_count": null,
   "id": "d24035b4",
   "metadata": {},
   "outputs": [],
   "source": [
    "# set notch filter\n",
    "raw_cleaned.notch_filter(60)\n",
    "# set bandpass filter\n",
    "raw_cleaned.filter(l_freq=1.0, h_freq=50.0) # only keeping frequencies between 1-50 Hz\n",
    "# play around with this number to get components \n",
    "# that seem to represent the actual brain activations well\n",
    "num_components = .95 \n",
    "ica = ICA(n_components=num_components, method='picard')\n",
    "ica.fit(raw_cleaned)"
   ]
  },
  {
   "cell_type": "code",
   "execution_count": null,
   "id": "b7142123",
   "metadata": {},
   "outputs": [],
   "source": [
    "eog_indices, scores = ica.find_bads_eog(raw_cleaned, threshold=3.0)\n",
    "#ica.exclude.extend(eog_inds)\n"
   ]
  },
  {
   "cell_type": "code",
   "execution_count": null,
   "id": "0fc795f3",
   "metadata": {},
   "outputs": [],
   "source": [
    "# plot the components and wait for user input to select components\n",
    "ica.plot_components( title='ICA Components')\n",
    "#print(\"Select components to exclude (e.g., 0, 1, 2) and press Enter:\")\n",
    "#exclude = input().split(',')\n",
    "#exclude = [int(i.strip()) for i in exclude if i.strip().isdigit()]"
   ]
  },
  {
   "cell_type": "code",
   "execution_count": null,
   "id": "dcd9c06f",
   "metadata": {},
   "outputs": [],
   "source": [
    "ica.plot_sources(raw_cleaned)"
   ]
  },
  {
   "cell_type": "code",
   "execution_count": null,
   "id": "b9292ff3",
   "metadata": {},
   "outputs": [],
   "source": [
    "ica.plot_properties(raw_cleaned, picks=4) # This exact component number probably won't work if you recompute ICA\n"
   ]
  },
  {
   "cell_type": "code",
   "execution_count": null,
   "id": "36042522",
   "metadata": {},
   "outputs": [],
   "source": [
    "ica.plot_overlay(raw_cleaned, exclude=[3,6,8])\n"
   ]
  },
  {
   "cell_type": "code",
   "execution_count": null,
   "id": "9918b32b",
   "metadata": {},
   "outputs": [],
   "source": [
    "raw_cleaned.plot()"
   ]
  },
  {
   "cell_type": "code",
   "execution_count": null,
   "id": "721beaf7",
   "metadata": {},
   "outputs": [],
   "source": [
    "raw_cleaned.save(f'./{subject}_{event_name}_cleaned_data.fif', overwrite=True)"
   ]
  }
 ],
 "metadata": {
  "kernelspec": {
   "display_name": ".venv",
   "language": "python",
   "name": "python3"
  },
  "language_info": {
   "codemirror_mode": {
    "name": "ipython",
    "version": 3
   },
   "file_extension": ".py",
   "mimetype": "text/x-python",
   "name": "python",
   "nbconvert_exporter": "python",
   "pygments_lexer": "ipython3",
   "version": "3.11.12"
  }
 },
 "nbformat": 4,
 "nbformat_minor": 5
}
