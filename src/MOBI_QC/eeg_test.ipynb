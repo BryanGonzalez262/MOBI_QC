{
 "cells": [
  {
   "cell_type": "code",
   "execution_count": 1,
   "id": "be0b02c9",
   "metadata": {},
   "outputs": [],
   "source": [
    "from glob import glob\n",
    "import os\n",
    "import matplotlib.pyplot as plt\n",
    "import matplotlib\n",
    "matplotlib.use('QtAgg')\n",
    "from mne.preprocessing import ICA\n",
    "import mne\n",
    "import numpy as np\n",
    "import pandas as pd\n",
    "import pyprep\n",
    "import pyxdf\n",
    "from utils import *\n",
    "from scipy.signal import welch\n",
    "import warnings\n",
    "import json\n",
    "warnings.filterwarnings(\"ignore\")\n",
    "\n",
    "\n",
    "## HELPERS ##\n",
    "def annotate_blinks(\n",
    "    raw: mne.io.Raw, ch_name: list[str] = [\"E25\", \"E8\"]\n",
    ") -> mne.Annotations:\n",
    "    \"\"\"Annotate the blinks in the EEG signal.\n",
    "\n",
    "    Args:\n",
    "        raw (mne.io.Raw): The raw EEG data in mne format.\n",
    "        ch_name (list[str]): The channels to use for the EOG. Default is\n",
    "                            [\"Fp1\", \"Fp2\"]. I would suggest to use the\n",
    "                            channels that are the most frontal (just above\n",
    "                            the eyes). In the case of an EGI system the\n",
    "                            channels would be \"E25\" and \"E8\".\n",
    "\n",
    "    Returns:\n",
    "        mne.Annotations: The annotations object containing the blink events.\n",
    "    \"\"\"\n",
    "    eog_epochs = mne.preprocessing.create_eog_epochs(raw, ch_name=ch_name)\n",
    "    blink_annotations = mne.annotations_from_events(\n",
    "        eog_epochs.events,\n",
    "        raw.info[\"sfreq\"],\n",
    "        event_desc={eog_epochs.events[0, 2]: \"blink\"},\n",
    "    )\n",
    "    return blink_annotations\n",
    "\n",
    "def annotate_muscle(raw: mne.io.Raw) -> mne.Annotations:\n",
    "    muscle_annotations, _ = mne.preprocessing.annotate_muscle_zscore(\n",
    "        raw, \n",
    "        threshold=3, # this needs to be calibrated for the entire dataset\n",
    "        ch_type='eeg', \n",
    "        min_length_good=0.1, \n",
    "        filter_freq=(95, 120), \n",
    "        )\n",
    "\n",
    "    return muscle_annotations\n"
   ]
  },
  {
   "cell_type": "code",
   "execution_count": 2,
   "id": "5b001965",
   "metadata": {},
   "outputs": [],
   "source": [
    "\n",
    "\n",
    "xdf_filename = '/Users/bryan.gonzalez/CUNY_subs/sub-P5197505/sub-P5197505_ses-S001_task-CUNY_run-001_mobi.xdf'"
   ]
  },
  {
   "cell_type": "code",
   "execution_count": 3,
   "id": "399961ca",
   "metadata": {},
   "outputs": [
    {
     "name": "stdout",
     "output_type": "stream",
     "text": [
      "Opening raw data file /Users/bryan.gonzalez/CUNY_subs/sub-P5197505/sub-P5197505_ses-S001_task-CUNY_run-001_eeg_clean.fif...\n",
      "    Range : 0 ... 299988 =      0.000 ...   299.998 secs\n",
      "Ready.\n",
      "Reading 0 ... 299988  =      0.000 ...   299.998 secs...\n",
      "Bad channels before robust reference: ['E80', 'E69', 'E127', 'E92', 'E73', 'E126', 'E95', 'E55', 'Cz']\n",
      "Interpolated channels: ['E127', 'E92', 'E126', 'E95', 'Cz']\n",
      "Bad channels after interpolation: ['E128']\n"
     ]
    }
   ],
   "source": [
    "subject = xdf_filename.split('sub-')[-1].split('_')[0]\n",
    "\n",
    "if len(glob('/'.join(xdf_filename.split('/')[:-1]) +'/*.fif')) < 1:\n",
    "    df = get_event_data(event='RestingState', \n",
    "                        df=import_eeg_data(xdf_filename),\n",
    "                        stim_df=import_stim_data(xdf_filename))\n",
    "\n",
    "    ch_names = [f\"E{i+1}\" for i in range(df.shape[1] - 1)]\n",
    "    info = mne.create_info(ch_names, \n",
    "                        sfreq=1/df.lsl_time_stamp.diff().mean(), \n",
    "                        ch_types='eeg')\n",
    "    df.drop(columns=['lsl_time_stamp'], inplace=True)\n",
    "\n",
    "    raw = mne.io.RawArray(df.T * 1e-6, info=info) # multiplying by 1e-6 converts to volts\n",
    "\n",
    "    # Create a Cz reference\n",
    "    value = np.zeros((1, raw.n_times))\n",
    "    info = mne.create_info([\"Cz\"], raw.info['sfreq'], ch_types='eeg')\n",
    "    cz = mne.io.RawArray(value, info)\n",
    "    raw.add_channels([cz], force_update_info=True)\n",
    "\n",
    "    # Apply a montage\n",
    "    montage = mne.channels.make_standard_montage('GSN-HydroCel-129')\n",
    "    raw.set_montage(montage, on_missing='ignore')\n",
    "\n",
    "    #raw.crop(tmin=0, tmax=5)\n",
    "\n",
    "    prep_params = {\n",
    "            \"ref_chs\": \"eeg\",\n",
    "            \"reref_chs\": \"eeg\",\n",
    "            \"line_freqs\": np.arange(60, raw.info[\"sfreq\"] / 2, 60),\n",
    "        }\n",
    "    # these params set up the robust reference  - i.e. median of all channels and interpolate bad channels\n",
    "    prep = pyprep.PrepPipeline(raw, montage=montage, channel_wise=True, prep_params=prep_params)\n",
    "    prep_output = prep.fit()\n",
    "    raw_cleaned = prep_output.raw_eeg\n",
    "\n",
    "\n",
    "    # check if cleaned file already exists\n",
    "    save_path = '/'.join(xdf_filename.split('/')[:-1]) + f'/sub-{subject}_ses-S001_task-CUNY_run-001_eeg_clean.fif'\n",
    "    raw_cleaned.save(save_path, overwrite=True)\n",
    "    vars = {}\n",
    "    print(f\"Bad channels before robust reference: {prep.noisy_channels_original['bad_all']}\")\n",
    "    vars['bad_channels_before'] = prep.noisy_channels_original['bad_all']\n",
    "    print(f\"Interpolated channels: {prep.interpolated_channels}\")\n",
    "    vars['interpolated_channels'] = prep.interpolated_channels\n",
    "    print(f\"Bad channels after interpolation: {prep.still_noisy_channels}\")\n",
    "    vars['bad_channels_after'] = prep.still_noisy_channels\n",
    "    # safe the vars dictionary to a file\n",
    "    with open('/'.join(xdf_filename.split('/')[:-1]) + f'/sub-{subject}_ses-S001_task-CUNY_run-001_eeg_clean_vars.json', 'w') as f:\n",
    "        json.dump(vars, f, indent=4)\n",
    "    \n",
    "\n",
    "else:\n",
    "    raw_cleaned = mne.io.read_raw_fif('/'.join(xdf_filename.split('/')[:-1]) + f'/sub-{subject}_ses-S001_task-CUNY_run-001_eeg_clean.fif', preload=True)\n",
    "    # read the vars dictionary from the file\n",
    "    with open('/'.join(xdf_filename.split('/')[:-1]) + f'/sub-{subject}_ses-S001_task-CUNY_run-001_eeg_clean_vars.json', 'r') as f:\n",
    "        vars = json.load(f)\n",
    "    print(f\"Bad channels before robust reference: {vars['bad_channels_before']}\")\n",
    "    print(f\"Interpolated channels: {vars['interpolated_channels']}\")\n",
    "    print(f\"Bad channels after interpolation: {vars['bad_channels_after']}\")"
   ]
  },
  {
   "cell_type": "code",
   "execution_count": 4,
   "id": "e7847d2e",
   "metadata": {},
   "outputs": [
    {
     "name": "stdout",
     "output_type": "stream",
     "text": [
      "Using EOG channels: E25, E8\n",
      "EOG channel index for this subject is: [24  7]\n",
      "Filtering the data to remove DC offset to help distinguish blinks from saccades\n",
      "Selecting channel E25 for blink detection\n",
      "Setting up band-pass filter from 1 - 10 Hz\n",
      "\n",
      "FIR filter parameters\n",
      "---------------------\n",
      "Designing a two-pass forward and reverse, zero-phase, non-causal bandpass filter:\n",
      "- Windowed frequency-domain design (firwin2) method\n",
      "- Hann window\n",
      "- Lower passband edge: 1.00\n",
      "- Lower transition bandwidth: 0.50 Hz (-12 dB cutoff frequency: 0.75 Hz)\n",
      "- Upper passband edge: 10.00 Hz\n",
      "- Upper transition bandwidth: 0.50 Hz (-12 dB cutoff frequency: 10.25 Hz)\n",
      "- Filter length: 10000 samples (10.000 s)\n",
      "\n",
      "Now detecting blinks and generating corresponding events\n",
      "Found 83 significant peaks\n",
      "Number of EOG events detected: 83\n",
      "Not setting metadata\n",
      "83 matching events found\n",
      "No baseline correction applied\n",
      "Using data from preloaded Raw for 83 events and 1001 original time points ...\n",
      "0 bad epochs dropped\n"
     ]
    },
    {
     "name": "stderr",
     "output_type": "stream",
     "text": [
      "[Parallel(n_jobs=1)]: Done   1 out of   1 | elapsed:    0.0s finished\n"
     ]
    },
    {
     "name": "stdout",
     "output_type": "stream",
     "text": [
      "Filtering raw data in 1 contiguous segment\n",
      "Setting up band-pass filter from 95 - 1.2e+02 Hz\n",
      "\n",
      "FIR filter parameters\n",
      "---------------------\n",
      "Designing a one-pass, zero-phase, non-causal bandpass filter:\n",
      "- Windowed time-domain design (firwin) method\n",
      "- Hamming window with 0.0194 passband ripple and 53 dB stopband attenuation\n",
      "- Lower passband edge: 95.00\n",
      "- Lower transition bandwidth: 23.75 Hz (-6 dB cutoff frequency: 83.12 Hz)\n",
      "- Upper passband edge: 120.00 Hz\n",
      "- Upper transition bandwidth: 30.00 Hz (-6 dB cutoff frequency: 135.00 Hz)\n",
      "- Filter length: 139 samples (0.139 s)\n",
      "\n"
     ]
    },
    {
     "name": "stderr",
     "output_type": "stream",
     "text": [
      "[Parallel(n_jobs=1)]: Done  17 tasks      | elapsed:    0.1s\n",
      "[Parallel(n_jobs=1)]: Done  71 tasks      | elapsed:    0.4s\n",
      "[Parallel(n_jobs=1)]: Done 129 out of 129 | elapsed:    0.8s finished\n"
     ]
    },
    {
     "name": "stdout",
     "output_type": "stream",
     "text": [
      "Setting up low-pass filter at 4 Hz\n",
      "\n",
      "FIR filter parameters\n",
      "---------------------\n",
      "Designing a one-pass, zero-phase, non-causal lowpass filter:\n",
      "- Windowed time-domain design (firwin) method\n",
      "- Hamming window with 0.0194 passband ripple and 53 dB stopband attenuation\n",
      "- Upper passband edge: 4.00 Hz\n",
      "- Upper transition bandwidth: 2.00 Hz (-6 dB cutoff frequency: 5.00 Hz)\n",
      "- Filter length: 1651 samples (1.651 s)\n",
      "\n",
      "Percent Good Data: 95.57%\n"
     ]
    },
    {
     "name": "stderr",
     "output_type": "stream",
     "text": [
      "[Parallel(n_jobs=1)]: Done   1 out of   1 | elapsed:    0.0s finished\n"
     ]
    }
   ],
   "source": [
    "\n",
    "\n",
    "\n",
    "blink_annotations = annotate_blinks(raw_cleaned, ch_name=[\"E25\", \"E8\"])\n",
    "\n",
    "muscle_annotations = annotate_muscle(raw_cleaned)\n",
    "\n",
    "all_annotations = blink_annotations + muscle_annotations + raw_cleaned.annotations\n",
    "raw_cleaned.set_annotations(all_annotations)\n",
    "\n",
    "# Create a binary array\n",
    "binary_mask = np.zeros(len(raw_cleaned.times), dtype=int)\n",
    "\n",
    "# Iterate over annotations\n",
    "for annot in raw_cleaned.annotations:\n",
    "    onset_sample = int(annot['onset'] * raw_cleaned.info['sfreq'])\n",
    "    duration_sample = int(annot['duration'] * raw_cleaned.info['sfreq'])\n",
    "    binary_mask[onset_sample:onset_sample + duration_sample] = 1\n",
    "\n",
    "percent_good = 1 - np.sum(binary_mask) / len(binary_mask)\n",
    "print(f'Percent Good Data: {percent_good * 100:.2f}%')\n",
    "vars['percent_good'] = percent_good * 100"
   ]
  },
  {
   "cell_type": "markdown",
   "id": "c2c56711",
   "metadata": {},
   "source": [
    "# Artifact remove with ICA"
   ]
  },
  {
   "cell_type": "code",
   "execution_count": 5,
   "id": "d24035b4",
   "metadata": {},
   "outputs": [
    {
     "name": "stdout",
     "output_type": "stream",
     "text": [
      "Filtering raw data in 1 contiguous segment\n",
      "Setting up band-stop filter from 59 - 61 Hz\n",
      "\n",
      "FIR filter parameters\n",
      "---------------------\n",
      "Designing a one-pass, zero-phase, non-causal bandstop filter:\n",
      "- Windowed time-domain design (firwin) method\n",
      "- Hamming window with 0.0194 passband ripple and 53 dB stopband attenuation\n",
      "- Lower passband edge: 59.35\n",
      "- Lower transition bandwidth: 0.50 Hz (-6 dB cutoff frequency: 59.10 Hz)\n",
      "- Upper passband edge: 60.65 Hz\n",
      "- Upper transition bandwidth: 0.50 Hz (-6 dB cutoff frequency: 60.90 Hz)\n",
      "- Filter length: 6601 samples (6.601 s)\n",
      "\n"
     ]
    },
    {
     "name": "stderr",
     "output_type": "stream",
     "text": [
      "[Parallel(n_jobs=1)]: Done  17 tasks      | elapsed:    0.1s\n",
      "[Parallel(n_jobs=1)]: Done  71 tasks      | elapsed:    0.3s\n"
     ]
    },
    {
     "name": "stdout",
     "output_type": "stream",
     "text": [
      "Filtering raw data in 1 contiguous segment\n",
      "Setting up band-pass filter from 1 - 50 Hz\n",
      "\n",
      "FIR filter parameters\n",
      "---------------------\n",
      "Designing a one-pass, zero-phase, non-causal bandpass filter:\n",
      "- Windowed time-domain design (firwin) method\n",
      "- Hamming window with 0.0194 passband ripple and 53 dB stopband attenuation\n",
      "- Lower passband edge: 1.00\n",
      "- Lower transition bandwidth: 1.00 Hz (-6 dB cutoff frequency: 0.50 Hz)\n",
      "- Upper passband edge: 50.00 Hz\n",
      "- Upper transition bandwidth: 12.50 Hz (-6 dB cutoff frequency: 56.25 Hz)\n",
      "- Filter length: 3301 samples (3.301 s)\n",
      "\n"
     ]
    },
    {
     "name": "stderr",
     "output_type": "stream",
     "text": [
      "[Parallel(n_jobs=1)]: Done 129 out of 129 | elapsed:    0.5s finished\n",
      "[Parallel(n_jobs=1)]: Done  17 tasks      | elapsed:    0.1s\n",
      "[Parallel(n_jobs=1)]: Done  71 tasks      | elapsed:    0.3s\n"
     ]
    },
    {
     "name": "stdout",
     "output_type": "stream",
     "text": [
      "Fitting ICA to data using 128 channels (please be patient, this may take a while)\n",
      "Omitting 13304 of 299989 (4.43%) samples, retaining 286685 (95.57%) samples.\n"
     ]
    },
    {
     "name": "stderr",
     "output_type": "stream",
     "text": [
      "[Parallel(n_jobs=1)]: Done 129 out of 129 | elapsed:    0.5s finished\n"
     ]
    },
    {
     "name": "stdout",
     "output_type": "stream",
     "text": [
      "Selecting by explained variance: 17 components\n",
      "Fitting ICA took 18.0s.\n"
     ]
    },
    {
     "data": {
      "text/html": [
       "<table class=\"table mne-repr-table\">\n",
       "    <tr>\n",
       "        <th>Method</th>\n",
       "        <td>picard</td>\n",
       "    </tr>\n",
       "    <tr>\n",
       "        <th>Fit parameters</th>\n",
       "        <td>max_iter=500<br /></td>\n",
       "    </tr>\n",
       "    <tr>\n",
       "        <th>Fit</th>\n",
       "        <td>77 iterations on raw data (286685 samples)</td>\n",
       "    </tr>\n",
       "    \n",
       "    <tr>\n",
       "        <th>ICA components</th>\n",
       "        <td>17</td>\n",
       "    </tr>\n",
       "    <tr>\n",
       "        <th>Available PCA components</th>\n",
       "        <td>128</td>\n",
       "    </tr>\n",
       "    <tr>\n",
       "        <th>Channel types</th>\n",
       "        <td>eeg</td>\n",
       "    </tr>\n",
       "    <tr>\n",
       "        <th>ICA components marked for exclusion</th>\n",
       "        <td>&mdash;</td>\n",
       "    </tr>\n",
       "    \n",
       "</table>"
      ],
      "text/plain": [
       "<ICA | raw data decomposition, method: picard (fit in 77 iterations on 286685 samples), 17 ICA components (128 PCA components available), channel types: eeg, no sources marked for exclusion>"
      ]
     },
     "execution_count": 5,
     "metadata": {},
     "output_type": "execute_result"
    }
   ],
   "source": [
    "# set notch filter\n",
    "raw_cleaned.notch_filter(60)\n",
    "# set bandpass filter\n",
    "raw_cleaned.filter(l_freq=1.0, h_freq=50.0) # only keeping frequencies between 1-50 Hz\n",
    "# play around with this number to get components \n",
    "# that seem to represent the actual brain activations well\n",
    "num_components = .95 \n",
    "ica = ICA(n_components=num_components, method='picard')\n",
    "ica.fit(raw_cleaned)"
   ]
  },
  {
   "cell_type": "code",
   "execution_count": 6,
   "id": "0fc795f3",
   "metadata": {},
   "outputs": [
    {
     "data": {
      "text/plain": [
       "<MNEFigure size 1950x1694 with 17 Axes>"
      ]
     },
     "execution_count": 6,
     "metadata": {},
     "output_type": "execute_result"
    }
   ],
   "source": [
    "# plot the components and wait for user input to select components\n",
    "ica.plot_components( title='ICA Components')\n",
    "#print(\"Select components to exclude (e.g., 0, 1, 2) and press Enter:\")\n",
    "#exclude = input().split(',')\n",
    "#exclude = [int(i.strip()) for i in exclude if i.strip().isdigit()]"
   ]
  },
  {
   "cell_type": "code",
   "execution_count": 7,
   "id": "dcd9c06f",
   "metadata": {},
   "outputs": [
    {
     "name": "stdout",
     "output_type": "stream",
     "text": [
      "Creating RawArray with float64 data, n_channels=17, n_times=299989\n",
      "    Range : 0 ... 299988 =      0.000 ...   299.998 secs\n",
      "Ready.\n",
      "Using matplotlib as 2D backend.\n"
     ]
    },
    {
     "data": {
      "text/plain": [
       "<MNEBrowseFigure size 1440x847 with 4 Axes>"
      ]
     },
     "execution_count": 7,
     "metadata": {},
     "output_type": "execute_result"
    }
   ],
   "source": [
    "ica.plot_sources(raw_cleaned)"
   ]
  },
  {
   "cell_type": "code",
   "execution_count": null,
   "id": "b9292ff3",
   "metadata": {},
   "outputs": [],
   "source": [
    "ica.plot_properties(raw_cleaned, picks=[0,4,13]) # This exact component number probably won't work if you recompute ICA\n"
   ]
  },
  {
   "cell_type": "code",
   "execution_count": 8,
   "id": "36042522",
   "metadata": {},
   "outputs": [
    {
     "name": "stdout",
     "output_type": "stream",
     "text": [
      "Applying ICA to Raw instance\n",
      "    Transforming to ICA space (17 components)\n",
      "    Zeroing out 5 ICA components\n",
      "    Projecting back using 128 PCA components\n"
     ]
    },
    {
     "data": {
      "text/plain": [
       "<Figure size 640x480 with 3 Axes>"
      ]
     },
     "execution_count": 8,
     "metadata": {},
     "output_type": "execute_result"
    }
   ],
   "source": [
    "ica.plot_overlay(raw_cleaned, exclude=[0,1, 4,11, 13]) # see what the data would look like if we removed the component\n",
    "\n"
   ]
  },
  {
   "cell_type": "code",
   "execution_count": 9,
   "id": "e4b53e8a",
   "metadata": {},
   "outputs": [
    {
     "name": "stdout",
     "output_type": "stream",
     "text": [
      "Applying ICA to Raw instance\n",
      "    Transforming to ICA space (17 components)\n",
      "    Zeroing out 4 ICA components\n",
      "    Projecting back using 128 PCA components\n"
     ]
    },
    {
     "data": {
      "text/html": [
       "<script type=\"text/javascript\">\n",
       "    // must be `var` (not `const`) because this can get embedded multiple times on a page\n",
       "var toggleVisibility = (className) => {\n",
       "\n",
       "    const elements = document.querySelectorAll(`.${className}`);\n",
       "\n",
       "    elements.forEach(element => {\n",
       "        if (element.classList.contains(\"mne-repr-section-header\")) {\n",
       "            return  // Don't collapse the section header row\n",
       "        }\n",
       "        element.classList.toggle(\"mne-repr-collapsed\");\n",
       "    });\n",
       "\n",
       "    // trigger caret to rotate\n",
       "    var sel = `.mne-repr-section-header.${className} > th.mne-repr-section-toggle > button`;\n",
       "    const button = document.querySelector(sel);\n",
       "    button.classList.toggle(\"collapsed\");\n",
       "\n",
       "    // adjust tooltip\n",
       "    sel = `tr.mne-repr-section-header.${className}`;\n",
       "    const secHeadRow = document.querySelector(sel);\n",
       "    secHeadRow.classList.toggle(\"collapsed\");\n",
       "    secHeadRow.title = secHeadRow.title === \"Hide section\" ? \"Show section\" : \"Hide section\";\n",
       "}\n",
       "</script>\n",
       "\n",
       "<style type=\"text/css\">\n",
       "    /*\n",
       "Styles in this section apply both to the sphinx-built website docs and to notebooks\n",
       "rendered in an IDE or in Jupyter. In our web docs, styles here are complemented by\n",
       "doc/_static/styles.css and other CSS files (e.g. from the sphinx theme, sphinx-gallery,\n",
       "or bootstrap). In IDEs/Jupyter, those style files are unavailable, so only the rules in\n",
       "this file apply (plus whatever default styling the IDE applies).\n",
       "*/\n",
       ".mne-repr-table {\n",
       "    display: inline;  /* prevent using full container width */\n",
       "}\n",
       ".mne-repr-table tr.mne-repr-section-header > th {\n",
       "    padding-top: 1rem;\n",
       "    text-align: left;\n",
       "    vertical-align: middle;\n",
       "}\n",
       ".mne-repr-section-toggle > button {\n",
       "    all: unset;\n",
       "    display: block;\n",
       "    height: 1rem;\n",
       "    width: 1rem;\n",
       "}\n",
       ".mne-repr-section-toggle > button > svg {\n",
       "    height: 60%;\n",
       "}\n",
       "\n",
       "/* transition (rotation) effects on the collapser button */\n",
       ".mne-repr-section-toggle > button.collapsed > svg {\n",
       "    transition: 0.1s ease-out;\n",
       "    transform: rotate(-90deg);\n",
       "}\n",
       ".mne-repr-section-toggle > button:not(.collapsed) > svg {\n",
       "    transition: 0.1s ease-out;\n",
       "    transform: rotate(0deg);\n",
       "}\n",
       "\n",
       "/* hide collapsed table rows */\n",
       ".mne-repr-collapsed {\n",
       "    display: none;\n",
       "}\n",
       "\n",
       "\n",
       "@layer {\n",
       "    /*\n",
       "    Selectors in a `@layer` will always be lower-precedence than selectors outside the\n",
       "    layer. So even though e.g. `div.output_html` is present in the sphinx-rendered\n",
       "    website docs, the styles here won't take effect there as long as some other rule\n",
       "    somewhere in the page's CSS targets the same element.\n",
       "\n",
       "    In IDEs or Jupyter notebooks, though, the CSS files from the sphinx theme,\n",
       "    sphinx-gallery, and bootstrap are unavailable, so these styles will apply.\n",
       "\n",
       "    Notes:\n",
       "\n",
       "    - the selector `.accordion-body` is for MNE Reports\n",
       "    - the selector `.output_html` is for VSCode's notebook interface\n",
       "    - the selector `.jp-RenderedHTML` is for Jupyter notebook\n",
       "    - variables starting with `--theme-` are VSCode-specific.\n",
       "    - variables starting with `--jp-` are Jupyter styles, *some of which* are also\n",
       "      available in VSCode. Here we try the `--theme-` variable first, then fall back to\n",
       "      the `--jp-` ones.\n",
       "    */\n",
       "    .mne-repr-table {\n",
       "        --mne-toggle-color: var(--theme-foreground, var(--jp-ui-font-color1));\n",
       "        --mne-button-bg-color: var(--theme-button-background, var(--jp-info-color0, var(--jp-content-link-color)));\n",
       "        --mne-button-fg-color: var(--theme-button-foreground, var(--jp-ui-inverse-font-color0, var(--jp-editor-background)));\n",
       "        --mne-button-hover-bg-color: var(--theme-button-hover-background, var(--jp-info-color1));\n",
       "        --mne-button-radius: var(--jp-border-radius, 0.25rem);\n",
       "    }\n",
       "    /* chevron position/alignment; in VSCode it looks ok without adjusting */\n",
       "    .accordion-body .mne-repr-section-toggle > button,\n",
       "    .jp-RenderedHTML .mne-repr-section-toggle > button {\n",
       "        padding: 0 0 45% 25% !important;\n",
       "    }\n",
       "    /* chevron color; MNE Report doesn't have light/dark mode */\n",
       "    div.output_html .mne-repr-section-toggle > button > svg > path,\n",
       "    .jp-RenderedHTML .mne-repr-section-toggle > button > svg > path {\n",
       "        fill: var(--mne-toggle-color);\n",
       "    }\n",
       "    .accordion-body .mne-ch-names-btn,\n",
       "    div.output_html .mne-ch-names-btn,\n",
       "    .jp-RenderedHTML .mne-ch-names-btn {\n",
       "        -webkit-border-radius: var(--mne-button-radius);\n",
       "        -moz-border-radius: var(--mne-button-radius);\n",
       "        border-radius: var(--mne-button-radius);\n",
       "        border: none;\n",
       "        background-image: none;\n",
       "        background-color: var(--mne-button-bg-color);\n",
       "        color: var(--mne-button-fg-color);\n",
       "        font-size: inherit;\n",
       "        min-width: 1.5rem;\n",
       "        padding: 0.25rem;\n",
       "        text-align: center;\n",
       "        text-decoration: none;\n",
       "    }\n",
       "    .accordion-body .mne-ch-names-btn:hover,\n",
       "    div.output_html .mne.ch-names-btn:hover,\n",
       "    .jp-RenderedHTML .mne-ch-names-btn:hover {\n",
       "        background-color: var(--mne-button-hover-bg-color);\n",
       "        text-decoration: underline;\n",
       "    }\n",
       "    .accordion-body .mne-ch-names-btn:focus-visible,\n",
       "    div.output_html .mne-ch-names-btn:focus-visible,\n",
       "    .jp-RenderedHTML .mne-ch-names-btn:focus-visible {\n",
       "        outline: 0.1875rem solid var(--mne-button-bg-color) !important;\n",
       "        outline-offset: 0.1875rem !important;\n",
       "    }\n",
       "}\n",
       "</style>\n",
       "\n",
       "\n",
       "\n",
       "<table class=\"table mne-repr-table\">\n",
       "    \n",
       "\n",
       "\n",
       "\n",
       "\n",
       "\n",
       "\n",
       "\n",
       "<tr class=\"mne-repr-section-header general-0f63043b-30ac-4a3e-b0d9-f327f6368abe\"\n",
       "     title=\"Hide section\" \n",
       "    onclick=\"toggleVisibility('general-0f63043b-30ac-4a3e-b0d9-f327f6368abe')\">\n",
       "    <th class=\"mne-repr-section-toggle\">\n",
       "        <button >\n",
       "            <svg xmlns=\"http://www.w3.org/2000/svg\" viewBox=\"0 0 512 512\"><!--!Font Awesome Free 6.6.0 by @fontawesome - https://fontawesome.com License - https://fontawesome.com/license/free Copyright 2024 Fonticons, Inc.--><path d=\"M233.4 406.6c12.5 12.5 32.8 12.5 45.3 0l192-192c12.5-12.5 12.5-32.8 0-45.3s-32.8-12.5-45.3 0L256 338.7 86.6 169.4c-12.5-12.5-32.8-12.5-45.3 0s-12.5 32.8 0 45.3l192 192z\"/></svg>\n",
       "        </button>\n",
       "    </th>\n",
       "    <th colspan=\"2\">\n",
       "        <strong>General</strong>\n",
       "    </th>\n",
       "</tr>\n",
       "\n",
       "\n",
       "<tr class=\"repr-element general-0f63043b-30ac-4a3e-b0d9-f327f6368abe \">\n",
       "    <td class=\"mne-repr-section-toggle\"></td>\n",
       "    <td>Filename(s)</td>\n",
       "    <td>\n",
       "        \n",
       "        sub-P5197505_ses-S001_task-CUNY_run-001_eeg_clean.fif\n",
       "        \n",
       "        \n",
       "    </td>\n",
       "</tr>\n",
       "\n",
       "<tr class=\"repr-element general-0f63043b-30ac-4a3e-b0d9-f327f6368abe \">\n",
       "    <td class=\"mne-repr-section-toggle\"></td>\n",
       "    <td>MNE object type</td>\n",
       "    <td>Raw</td>\n",
       "</tr>\n",
       "<tr class=\"repr-element general-0f63043b-30ac-4a3e-b0d9-f327f6368abe \">\n",
       "    <td class=\"mne-repr-section-toggle\"></td>\n",
       "    <td>Measurement date</td>\n",
       "    \n",
       "    <td>Unknown</td>\n",
       "    \n",
       "</tr>\n",
       "<tr class=\"repr-element general-0f63043b-30ac-4a3e-b0d9-f327f6368abe \">\n",
       "    <td class=\"mne-repr-section-toggle\"></td>\n",
       "    <td>Participant</td>\n",
       "    \n",
       "    <td>Unknown</td>\n",
       "    \n",
       "</tr>\n",
       "<tr class=\"repr-element general-0f63043b-30ac-4a3e-b0d9-f327f6368abe \">\n",
       "    <td class=\"mne-repr-section-toggle\"></td>\n",
       "    <td>Experimenter</td>\n",
       "    \n",
       "    <td>Unknown</td>\n",
       "    \n",
       "</tr>\n",
       "    \n",
       "\n",
       "\n",
       "\n",
       "\n",
       "\n",
       "\n",
       "\n",
       "<tr class=\"mne-repr-section-header acquisition-10072393-1090-4e35-b7e1-d4fbe673cf24\"\n",
       "     title=\"Hide section\" \n",
       "    onclick=\"toggleVisibility('acquisition-10072393-1090-4e35-b7e1-d4fbe673cf24')\">\n",
       "    <th class=\"mne-repr-section-toggle\">\n",
       "        <button >\n",
       "            <svg xmlns=\"http://www.w3.org/2000/svg\" viewBox=\"0 0 512 512\"><!--!Font Awesome Free 6.6.0 by @fontawesome - https://fontawesome.com License - https://fontawesome.com/license/free Copyright 2024 Fonticons, Inc.--><path d=\"M233.4 406.6c12.5 12.5 32.8 12.5 45.3 0l192-192c12.5-12.5 12.5-32.8 0-45.3s-32.8-12.5-45.3 0L256 338.7 86.6 169.4c-12.5-12.5-32.8-12.5-45.3 0s-12.5 32.8 0 45.3l192 192z\"/></svg>\n",
       "        </button>\n",
       "    </th>\n",
       "    <th colspan=\"2\">\n",
       "        <strong>Acquisition</strong>\n",
       "    </th>\n",
       "</tr>\n",
       "\n",
       "\n",
       "<tr class=\"repr-element acquisition-10072393-1090-4e35-b7e1-d4fbe673cf24 \">\n",
       "    <td class=\"mne-repr-section-toggle\"></td>\n",
       "    <td>Duration</td>\n",
       "    <td>00:05:00 (HH:MM:SS)</td>\n",
       "</tr>\n",
       "\n",
       "\n",
       "\n",
       "\n",
       "\n",
       "\n",
       "\n",
       "\n",
       "<tr class=\"repr-element acquisition-10072393-1090-4e35-b7e1-d4fbe673cf24 \">\n",
       "    <td class=\"mne-repr-section-toggle\"></td>\n",
       "    <td>Sampling frequency</td>\n",
       "    <td>999.97 Hz</td>\n",
       "</tr>\n",
       "\n",
       "\n",
       "<tr class=\"repr-element acquisition-10072393-1090-4e35-b7e1-d4fbe673cf24 \">\n",
       "    <td class=\"mne-repr-section-toggle\"></td>\n",
       "    <td>Time points</td>\n",
       "    <td>299,989</td>\n",
       "</tr>\n",
       "\n",
       "\n",
       "    \n",
       "\n",
       "\n",
       "\n",
       "\n",
       "\n",
       "\n",
       "\n",
       "<tr class=\"mne-repr-section-header channels-04bfda97-e694-4a63-bb5f-8224d64755c0\"\n",
       "     title=\"Hide section\" \n",
       "    onclick=\"toggleVisibility('channels-04bfda97-e694-4a63-bb5f-8224d64755c0')\">\n",
       "    <th class=\"mne-repr-section-toggle\">\n",
       "        <button >\n",
       "            <svg xmlns=\"http://www.w3.org/2000/svg\" viewBox=\"0 0 512 512\"><!--!Font Awesome Free 6.6.0 by @fontawesome - https://fontawesome.com License - https://fontawesome.com/license/free Copyright 2024 Fonticons, Inc.--><path d=\"M233.4 406.6c12.5 12.5 32.8 12.5 45.3 0l192-192c12.5-12.5 12.5-32.8 0-45.3s-32.8-12.5-45.3 0L256 338.7 86.6 169.4c-12.5-12.5-32.8-12.5-45.3 0s-12.5 32.8 0 45.3l192 192z\"/></svg>\n",
       "        </button>\n",
       "    </th>\n",
       "    <th colspan=\"2\">\n",
       "        <strong>Channels</strong>\n",
       "    </th>\n",
       "</tr>\n",
       "\n",
       "\n",
       "    \n",
       "<tr class=\"repr-element channels-04bfda97-e694-4a63-bb5f-8224d64755c0 \">\n",
       "    <td class=\"mne-repr-section-toggle\"></td>\n",
       "    <td>EEG</td>\n",
       "    <td>\n",
       "        <button class=\"mne-ch-names-btn sd-sphinx-override sd-btn sd-btn-info sd-text-wrap sd-shadow-sm\" onclick=\"alert('Good EEG:\\n\\nE1, E2, E3, E4, E5, E6, E7, E8, E9, E10, E11, E12, E13, E14, E15, E16, E17, E18, E19, E20, E21, E22, E23, E24, E25, E26, E27, E28, E29, E30, E31, E32, E33, E34, E35, E36, E37, E38, E39, E40, E41, E42, E43, E44, E45, E46, E47, E48, E49, E50, E51, E52, E53, E54, E55, E56, E57, E58, E59, E60, E61, E62, E63, E64, E65, E66, E67, E68, E69, E70, E71, E72, E73, E74, E75, E76, E77, E78, E79, E80, E81, E82, E83, E84, E85, E86, E87, E88, E89, E90, E91, E92, E93, E94, E95, E96, E97, E98, E99, E100, E101, E102, E103, E104, E105, E106, E107, E108, E109, E110, E111, E112, E113, E114, E115, E116, E117, E118, E119, E120, E121, E122, E123, E124, E125, E126, E127, Cz')\" title=\"(Click to open in popup)&#13;&#13;E1, E2, E3, E4, E5, E6, E7, E8, E9, E10, E11, E12, E13, E14, E15, E16, E17, E18, E19, E20, E21, E22, E23, E24, E25, E26, E27, E28, E29, E30, E31, E32, E33, E34, E35, E36, E37, E38, E39, E40, E41, E42, E43, E44, E45, E46, E47, E48, E49, E50, E51, E52, E53, E54, E55, E56, E57, E58, E59, E60, E61, E62, E63, E64, E65, E66, E67, E68, E69, E70, E71, E72, E73, E74, E75, E76, E77, E78, E79, E80, E81, E82, E83, E84, E85, E86, E87, E88, E89, E90, E91, E92, E93, E94, E95, E96, E97, E98, E99, E100, E101, E102, E103, E104, E105, E106, E107, E108, E109, E110, E111, E112, E113, E114, E115, E116, E117, E118, E119, E120, E121, E122, E123, E124, E125, E126, E127, Cz\">\n",
       "            128\n",
       "        </button>\n",
       "\n",
       "        \n",
       "        \n",
       "        and <button class=\"mne-ch-names-btn sd-sphinx-override sd-btn sd-btn-info sd-text-wrap sd-shadow-sm\" onclick=\"alert('Bad EEG:\\n\\nE128')\" title=\"(Click to open in popup)&#13;&#13;E128\">\n",
       "            1 bad\n",
       "        </button>\n",
       "        \n",
       "    </td>\n",
       "</tr>\n",
       "\n",
       "\n",
       "<tr class=\"repr-element channels-04bfda97-e694-4a63-bb5f-8224d64755c0 \">\n",
       "    <td class=\"mne-repr-section-toggle\"></td>\n",
       "    <td>Head & sensor digitization</td>\n",
       "    \n",
       "    <td>132 points</td>\n",
       "    \n",
       "</tr>\n",
       "    \n",
       "\n",
       "\n",
       "\n",
       "\n",
       "\n",
       "\n",
       "\n",
       "<tr class=\"mne-repr-section-header filters-7d9ff2d8-b35b-4727-b1c1-80a466c1ef62\"\n",
       "     title=\"Hide section\" \n",
       "    onclick=\"toggleVisibility('filters-7d9ff2d8-b35b-4727-b1c1-80a466c1ef62')\">\n",
       "    <th class=\"mne-repr-section-toggle\">\n",
       "        <button >\n",
       "            <svg xmlns=\"http://www.w3.org/2000/svg\" viewBox=\"0 0 512 512\"><!--!Font Awesome Free 6.6.0 by @fontawesome - https://fontawesome.com License - https://fontawesome.com/license/free Copyright 2024 Fonticons, Inc.--><path d=\"M233.4 406.6c12.5 12.5 32.8 12.5 45.3 0l192-192c12.5-12.5 12.5-32.8 0-45.3s-32.8-12.5-45.3 0L256 338.7 86.6 169.4c-12.5-12.5-32.8-12.5-45.3 0s-12.5 32.8 0 45.3l192 192z\"/></svg>\n",
       "        </button>\n",
       "    </th>\n",
       "    <th colspan=\"2\">\n",
       "        <strong>Filters</strong>\n",
       "    </th>\n",
       "</tr>\n",
       "\n",
       "\n",
       "<tr class=\"repr-element filters-7d9ff2d8-b35b-4727-b1c1-80a466c1ef62 \">\n",
       "    <td class=\"mne-repr-section-toggle\"></td>\n",
       "    <td>Highpass</td>\n",
       "    <td>1.00 Hz</td>\n",
       "</tr>\n",
       "\n",
       "\n",
       "<tr class=\"repr-element filters-7d9ff2d8-b35b-4727-b1c1-80a466c1ef62 \">\n",
       "    <td class=\"mne-repr-section-toggle\"></td>\n",
       "    <td>Lowpass</td>\n",
       "    <td>50.00 Hz</td>\n",
       "</tr>\n",
       "\n",
       "\n",
       "</table>"
      ],
      "text/plain": [
       "<Raw | sub-P5197505_ses-S001_task-CUNY_run-001_eeg_clean.fif, 129 x 299989 (300.0 s), ~295.4 MiB, data loaded>"
      ]
     },
     "execution_count": 9,
     "metadata": {},
     "output_type": "execute_result"
    }
   ],
   "source": [
    "ica.exclude = [0,4,11, 13] # these are the components that we want to exclude\n",
    "ica.apply(raw_cleaned)"
   ]
  },
  {
   "cell_type": "code",
   "execution_count": 60,
   "id": "b7142123",
   "metadata": {},
   "outputs": [],
   "source": [
    "raw_cleaned.annotations.delete([i for i, desc in enumerate(raw_cleaned.annotations.description) if desc == 'blink' or desc == 'BAD_muscle'])\n",
    "fig = raw_cleaned.plot(show_scrollbars=False,\n",
    "                        show_scalebars=False,events=None, start=0, \n",
    "                        duration=200,n_channels=50, scalings=.35e-4, color='k', title='EEG Data after ICA')\n",
    "\n",
    "fig.savefig(f'./report_images/{subject}_cleaned_eeg.png', dpi=300, bbox_inches='tight')"
   ]
  },
  {
   "cell_type": "code",
   "execution_count": 65,
   "id": "c2209bd5",
   "metadata": {},
   "outputs": [
    {
     "name": "stdout",
     "output_type": "stream",
     "text": [
      "NOTE: plot_psd() is a legacy function. New code should use .compute_psd().plot().\n",
      "Effective window size : 2.048 (s)\n",
      "Plotting power spectral density (dB=True).\n"
     ]
    }
   ],
   "source": [
    "fig = raw_cleaned.plot_psd(fmax=50, average=False, show=True)\n",
    "fig.savefig(f'./report_images/{subject}_cleaned_eeg_psd.png', dpi=300, bbox_inches='tight')"
   ]
  },
  {
   "cell_type": "code",
   "execution_count": null,
   "id": "9918b32b",
   "metadata": {},
   "outputs": [],
   "source": [
    "raw_cleaned.plot()"
   ]
  },
  {
   "cell_type": "code",
   "execution_count": null,
   "id": "721beaf7",
   "metadata": {},
   "outputs": [],
   "source": [
    "save_path = '/'.join(xdf_filename.split('/')[:-1]) + f'/sub-{subject}_ses-S001_task-CUNY_run-001_eeg_clean.fif'\n",
    "raw_cleaned.save(save_path, overwrite=True)"
   ]
  }
 ],
 "metadata": {
  "kernelspec": {
   "display_name": ".venv",
   "language": "python",
   "name": "python3"
  },
  "language_info": {
   "codemirror_mode": {
    "name": "ipython",
    "version": 3
   },
   "file_extension": ".py",
   "mimetype": "text/x-python",
   "name": "python",
   "nbconvert_exporter": "python",
   "pygments_lexer": "ipython3",
   "version": "3.11.12"
  }
 },
 "nbformat": 4,
 "nbformat_minor": 5
}
