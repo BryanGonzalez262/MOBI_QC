{
 "cells": [
  {
   "cell_type": "markdown",
   "metadata": {},
   "source": [
    "# EEG Quality Control"
   ]
  },
  {
   "cell_type": "markdown",
   "metadata": {},
   "source": [
    "# Imports"
   ]
  },
  {
   "cell_type": "code",
   "execution_count": null,
   "metadata": {},
   "outputs": [],
   "source": [
    "import matplotlib.pyplot as plt\n",
    "import mne\n",
    "import numpy as np\n",
    "import pandas as pd\n",
    "import pyprep\n",
    "import pyxdf\n",
    "from utils import *\n",
    "from scipy.signal import welch"
   ]
  },
  {
   "cell_type": "markdown",
   "metadata": {},
   "source": [
    "## Get Data"
   ]
  },
  {
   "cell_type": "code",
   "execution_count": null,
   "metadata": {},
   "outputs": [],
   "source": [
    "xdf_filename = '/Users/bryan.gonzalez/CUNY_subs/sub-P5029423/sub-P5029423_ses-S001_task-CUNY_run-001_mobi.xdf'\n",
    "\n",
    "df = get_event_data(event='RestingState', \n",
    "                    df=import_eeg_data(xdf_filename),\n",
    "                    stim_df=get_stim(xdf_filename))"
   ]
  },
  {
   "cell_type": "markdown",
   "metadata": {},
   "source": [
    "# Create MNE Raw Object"
   ]
  },
  {
   "cell_type": "code",
   "execution_count": null,
   "metadata": {},
   "outputs": [],
   "source": [
    "## Create MNE Raw object\n",
    "ch_names = [f\"E{i+1}\" for i in range(df.shape[1] - 1)]\n",
    "info = mne.create_info(ch_names, \n",
    "                       sfreq=1/df.lsl_time_stamp.diff().mean(), \n",
    "                       ch_types='eeg')\n",
    "df.drop(columns=['lsl_time_stamp'], inplace=True)\n",
    "\n",
    "raw = mne.io.RawArray(df.T * 1e-6, info=info) # multiplying by 1e-6 converts to volts\n",
    "\n",
    "# Create a Cz reference\n",
    "value = np.zeros((1, raw.n_times))\n",
    "info = mne.create_info([\"Cz\"], raw.info['sfreq'], ch_types='eeg')\n",
    "cz = mne.io.RawArray(value, info)\n",
    "raw.add_channels([cz], force_update_info=True)\n",
    "\n",
    "# Apply a montage\n",
    "montage = mne.channels.make_standard_montage('GSN-HydroCel-129')\n",
    "raw.set_montage(montage, on_missing='ignore')"
   ]
  },
  {
   "cell_type": "markdown",
   "metadata": {},
   "source": [
    "# Run Automated Processing Pipeline\n",
    "(this will take some time)"
   ]
  },
  {
   "cell_type": "code",
   "execution_count": null,
   "metadata": {},
   "outputs": [],
   "source": [
    "prep_params = {\n",
    "        \"ref_chs\": \"eeg\",\n",
    "        \"reref_chs\": \"eeg\",\n",
    "        \"line_freqs\": np.arange(60, raw.info[\"sfreq\"] / 2, 60),\n",
    "    }\n",
    "# these params set up the robust reference  - i.e. median of all channels and interpolate bad channels\n",
    "prep = pyprep.PrepPipeline(raw, montage=montage, channel_wise=True, prep_params=prep_params)\n",
    "prep_output = prep.fit()\n",
    "raw_cleaned = prep_output.raw_eeg\n",
    "\n"
   ]
  },
  {
   "cell_type": "markdown",
   "metadata": {},
   "source": [
    "# Plot PSD"
   ]
  },
  {
   "cell_type": "code",
   "execution_count": null,
   "metadata": {},
   "outputs": [],
   "source": [
    "fig = raw_cleaned.plot_psd(tmax=np.inf, fmax=250, average=True)\n",
    "# add some arrows at 60 Hz and its harmonics:\n",
    "for ax in fig.axes[:2]:\n",
    "    freqs = ax.lines[-1].get_xdata()\n",
    "    psds = ax.lines[-1].get_ydata()\n",
    "    for freq in (60, 120, 180, 240):\n",
    "        idx = np.searchsorted(freqs, freq)\n",
    "        ax.arrow(x=freqs[idx], y=psds[idx] + 18, dx=0, dy=-12, color='red',\n",
    "                 width=0.1, head_width=3, length_includes_head=True)"
   ]
  },
  {
   "cell_type": "markdown",
   "metadata": {},
   "source": [
    "# Annotation Blinks and Muscle Artifacts"
   ]
  },
  {
   "cell_type": "code",
   "execution_count": null,
   "metadata": {},
   "outputs": [],
   "source": [
    "def annotate_blinks(\n",
    "    raw: mne.io.Raw, ch_name: list[str] = [\"E25\", \"E8\"]\n",
    ") -> mne.Annotations:\n",
    "    \"\"\"Annotate the blinks in the EEG signal.\n",
    " \n",
    "    Args:\n",
    "        raw (mne.io.Raw): The raw EEG data in mne format.\n",
    "        ch_name (list[str]): The channels to use for the EOG. Default is\n",
    "                             [\"Fp1\", \"Fp2\"]. I would suggest to use the\n",
    "                             channels that are the most frontal (just above\n",
    "                             the eyes). In the case of an EGI system the\n",
    "                             channels would be \"E25\" and \"E8\".\n",
    " \n",
    "    Returns:\n",
    "        mne.Annotations: The annotations object containing the blink events.\n",
    "    \"\"\"\n",
    "    eog_epochs = mne.preprocessing.create_eog_epochs(raw, ch_name=ch_name)\n",
    "    blink_annotations = mne.annotations_from_events(\n",
    "        eog_epochs.events,\n",
    "        raw.info[\"sfreq\"],\n",
    "        event_desc={eog_epochs.events[0, 2]: \"blink\"},\n",
    "    )\n",
    "    return blink_annotations\n",
    "\n",
    "def annotate_muscle(raw: mne.io.Raw) -> mne.Annotations:\n",
    "    muscle_annotations, _ = mne.preprocessing.annotate_muscle_zscore(\n",
    "        raw, \n",
    "        threshold=3, # this needs to be calibrated for the entire dataset\n",
    "        ch_type='eeg', \n",
    "        min_length_good=0.1, \n",
    "        filter_freq=(95, 120), \n",
    "        )\n",
    " \n",
    "    return muscle_annotations"
   ]
  },
  {
   "cell_type": "code",
   "execution_count": null,
   "metadata": {},
   "outputs": [],
   "source": [
    "# Applying a low pass filter to remove high frequency noise\n",
    "raw_cleaned.filter(0.5, None)\n",
    "\n",
    "blink_annotations = annotate_blinks(raw_cleaned, ch_name=[\"E25\", \"E8\"])\n",
    "\n",
    "muscle_annotations = annotate_muscle(raw_cleaned)\n",
    "\n",
    "all_annotations = blink_annotations + muscle_annotations + raw.annotations\n",
    "raw_cleaned.set_annotations(all_annotations)"
   ]
  },
  {
   "cell_type": "markdown",
   "metadata": {},
   "source": [
    "## Computing % Good Data"
   ]
  },
  {
   "cell_type": "code",
   "execution_count": null,
   "metadata": {},
   "outputs": [],
   "source": [
    "# Create a binary array\n",
    "binary_mask = np.zeros(len(raw_cleaned.times), dtype=int)\n",
    "\n",
    "# Iterate over annotations\n",
    "for annot in raw_cleaned.annotations:\n",
    "    onset_sample = int(annot['onset'] * raw_cleaned.info['sfreq'])\n",
    "    duration_sample = int(annot['duration'] * raw_cleaned.info['sfreq'])\n",
    "    binary_mask[onset_sample:onset_sample + duration_sample] = 1\n",
    "\n",
    "percent_good = 1 - np.sum(binary_mask) / len(binary_mask)\n",
    "print(f'Percent Good Data: {percent_good * 100:.2f}%')"
   ]
  },
  {
   "cell_type": "markdown",
   "metadata": {},
   "source": [
    "## Quantifying Blinks and Muscle Artifacts through ICA"
   ]
  },
  {
   "cell_type": "code",
   "execution_count": null,
   "metadata": {},
   "outputs": [],
   "source": [
    "\n",
    "ica = mne.preprocessing.ICA(n_components=None, method='picard')\n",
    "ica.fit(raw_cleaned)\n",
    "ica.plot_sources(raw_cleaned)\n",
    "comp_idx, scores = ica.find_bads_muscle(raw_cleaned)\n",
    "\n",
    "# Remove the muscle artifacts\n",
    "raw_cleaned_ica = ica.apply(raw_cleaned, exclude=comp_idx)\n"
   ]
  },
  {
   "cell_type": "markdown",
   "metadata": {},
   "source": [
    "# Ocular Artifacts"
   ]
  },
  {
   "cell_type": "code",
   "execution_count": null,
   "metadata": {},
   "outputs": [],
   "source": [
    "eog_evoked = mne.preprocessing.create_eog_epochs(raw_cleaned, ch_name=['E8', 'E25']).average(picks=\"all\")\n",
    "eog_evoked.apply_baseline((None, None))\n",
    "eog_evoked.plot_joint()"
   ]
  },
  {
   "cell_type": "code",
   "execution_count": null,
   "metadata": {},
   "outputs": [],
   "source": []
  }
 ],
 "metadata": {
  "kernelspec": {
   "display_name": "Python 3",
   "language": "python",
   "name": "python3"
  },
  "language_info": {
   "codemirror_mode": {
    "name": "ipython",
    "version": 3
   },
   "file_extension": ".py",
   "mimetype": "text/x-python",
   "name": "python",
   "nbconvert_exporter": "python",
   "pygments_lexer": "ipython3",
   "version": "3.12.5"
  }
 },
 "nbformat": 4,
 "nbformat_minor": 2
}
