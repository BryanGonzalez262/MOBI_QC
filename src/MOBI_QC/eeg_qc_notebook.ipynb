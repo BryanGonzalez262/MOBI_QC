{
 "cells": [
  {
   "cell_type": "markdown",
   "metadata": {},
   "source": [
    "# EEG Quality Control"
   ]
  },
  {
   "cell_type": "markdown",
   "metadata": {},
   "source": [
    "# Imports"
   ]
  },
  {
   "cell_type": "code",
   "execution_count": null,
   "metadata": {},
   "outputs": [],
   "source": [
    "import matplotlib.pyplot as plt\n",
    "import mne\n",
    "import numpy as np\n",
    "import pandas as pd\n",
    "import pyprep\n",
    "import pyxdf\n",
    "from utils import *\n",
    "from scipy.signal import welch\n",
    "import warnings\n",
    "warnings.filterwarnings(\"ignore\")"
   ]
  },
  {
   "cell_type": "markdown",
   "metadata": {},
   "source": [
    "## Get Data"
   ]
  },
  {
   "cell_type": "code",
   "execution_count": null,
   "metadata": {},
   "outputs": [],
   "source": [
    "xdf_filename = '/Users/bryan.gonzalez/CUNY_subs/sub-P5029423/sub-P5029423_ses-S001_task-CUNY_run-001_mobi.xdf'\n",
    "subject = xdf_filename.split('-')[1].split('/')[0]\n",
    "df = get_event_data(event='RestingState', \n",
    "                    df=import_eeg_data(xdf_filename),\n",
    "                    stim_df=get_stim(xdf_filename))"
   ]
  },
  {
   "cell_type": "markdown",
   "metadata": {},
   "source": [
    "# Create MNE Raw Object"
   ]
  },
  {
   "cell_type": "code",
   "execution_count": null,
   "metadata": {},
   "outputs": [],
   "source": [
    "## Create MNE Raw object\n",
    "ch_names = [f\"E{i+1}\" for i in range(df.shape[1] - 1)]\n",
    "info = mne.create_info(ch_names, \n",
    "                       sfreq=1/df.lsl_time_stamp.diff().mean(), \n",
    "                       ch_types='eeg')\n",
    "df.drop(columns=['lsl_time_stamp'], inplace=True)\n",
    "\n",
    "raw = mne.io.RawArray(df.T * 1e-6, info=info) # multiplying by 1e-6 converts to volts\n",
    "\n",
    "# Create a Cz reference\n",
    "value = np.zeros((1, raw.n_times))\n",
    "info = mne.create_info([\"Cz\"], raw.info['sfreq'], ch_types='eeg')\n",
    "cz = mne.io.RawArray(value, info)\n",
    "raw.add_channels([cz], force_update_info=True)\n",
    "\n",
    "# Apply a montage\n",
    "montage = mne.channels.make_standard_montage('GSN-HydroCel-129')\n",
    "raw.set_montage(montage, on_missing='ignore')"
   ]
  },
  {
   "cell_type": "markdown",
   "metadata": {},
   "source": [
    "# Run Automated Processing Pipeline\n",
    "(this will take some time)"
   ]
  },
  {
   "cell_type": "code",
   "execution_count": null,
   "metadata": {},
   "outputs": [],
   "source": [
    "prep_params = {\n",
    "        \"ref_chs\": \"eeg\",\n",
    "        \"reref_chs\": \"eeg\",\n",
    "        \"line_freqs\": np.arange(60, raw.info[\"sfreq\"] / 2, 60),\n",
    "    }\n",
    "# these params set up the robust reference  - i.e. median of all channels and interpolate bad channels\n",
    "prep = pyprep.PrepPipeline(raw, montage=montage, channel_wise=True, prep_params=prep_params)\n",
    "prep_output = prep.fit()\n",
    "raw_cleaned = prep_output.raw_eeg\n"
   ]
  },
  {
   "cell_type": "code",
   "execution_count": null,
   "metadata": {},
   "outputs": [],
   "source": [
    "print(f\"Bad channels before robust reference: {prep.noisy_channels_original['bad_all']}\")\n",
    "print(f\"Interpolated channels: {prep.interpolated_channels}\")\n",
    "print(f\"Bad channels after interpolation: {prep.still_noisy_channels}\")\n"
   ]
  },
  {
   "cell_type": "markdown",
   "metadata": {},
   "source": [
    "# Plot PSD"
   ]
  },
  {
   "cell_type": "code",
   "execution_count": null,
   "metadata": {},
   "outputs": [],
   "source": [
    "fig = raw_cleaned.plot_psd(tmax=np.inf, fmax=250)\n",
    "# add some arrows at 60 Hz and its harmonics:\n",
    "'''\n",
    "for ax in fig.axes[:2]:\n",
    "    freqs = ax.lines[-1].get_xdata()\n",
    "    psds = ax.lines[-1].get_ydata()\n",
    "    for freq in (60, 120, 180, 240):\n",
    "        idx = np.searchsorted(freqs, freq)\n",
    "        ax.arrow(x=freqs[idx], y=psds[idx] + 18, dx=0, dy=-12, color='red',\n",
    "                 width=0.1, head_width=3, length_includes_head=True)\n",
    "        \n",
    "'''\n",
    "fig.savefig(f'report_images/{subject}_eeg_psd.png')"
   ]
  },
  {
   "cell_type": "markdown",
   "metadata": {},
   "source": [
    "# Annotation Blinks and Muscle Artifacts"
   ]
  },
  {
   "cell_type": "code",
   "execution_count": null,
   "metadata": {},
   "outputs": [],
   "source": [
    "def annotate_blinks(\n",
    "    raw: mne.io.Raw, ch_name: list[str] = [\"E25\", \"E8\"]\n",
    ") -> mne.Annotations:\n",
    "    \"\"\"Annotate the blinks in the EEG signal.\n",
    " \n",
    "    Args:\n",
    "        raw (mne.io.Raw): The raw EEG data in mne format.\n",
    "        ch_name (list[str]): The channels to use for the EOG. Default is\n",
    "                             [\"Fp1\", \"Fp2\"]. I would suggest to use the\n",
    "                             channels that are the most frontal (just above\n",
    "                             the eyes). In the case of an EGI system the\n",
    "                             channels would be \"E25\" and \"E8\".\n",
    " \n",
    "    Returns:\n",
    "        mne.Annotations: The annotations object containing the blink events.\n",
    "    \"\"\"\n",
    "    eog_epochs = mne.preprocessing.create_eog_epochs(raw, ch_name=ch_name)\n",
    "    blink_annotations = mne.annotations_from_events(\n",
    "        eog_epochs.events,\n",
    "        raw.info[\"sfreq\"],\n",
    "        event_desc={eog_epochs.events[0, 2]: \"blink\"},\n",
    "    )\n",
    "    return blink_annotations\n",
    "\n",
    "def annotate_muscle(raw: mne.io.Raw) -> mne.Annotations:\n",
    "    muscle_annotations, _ = mne.preprocessing.annotate_muscle_zscore(\n",
    "        raw, \n",
    "        threshold=3, # this needs to be calibrated for the entire dataset\n",
    "        ch_type='eeg', \n",
    "        min_length_good=0.1, \n",
    "        filter_freq=(95, 120), \n",
    "        )\n",
    " \n",
    "    return muscle_annotations"
   ]
  },
  {
   "cell_type": "code",
   "execution_count": null,
   "metadata": {},
   "outputs": [],
   "source": [
    "fig = raw_cleaned.plot(show_scrollbars=False,\n",
    "                       show_scalebars=False,events=None, start=0, duration=300,n_channels=75, scalings=11e-5,color='k')\n",
    "fig.grab().save(f'report_images/{subject}_eeg_annotations.png')"
   ]
  },
  {
   "cell_type": "code",
   "execution_count": null,
   "metadata": {},
   "outputs": [],
   "source": [
    "# Applying a high pass filter to remove low frequency noise\n",
    "raw_cleaned.filter(l_freq=0.1, h_freq=None)\n",
    "\n",
    "blink_annotations = annotate_blinks(raw_cleaned, ch_name=[\"E25\", \"E8\"])\n",
    "\n",
    "muscle_annotations = annotate_muscle(raw_cleaned)\n",
    "\n",
    "all_annotations = blink_annotations + muscle_annotations + raw.annotations\n",
    "raw_cleaned.set_annotations(all_annotations)"
   ]
  },
  {
   "cell_type": "code",
   "execution_count": null,
   "metadata": {},
   "outputs": [],
   "source": [
    "# Compute a covariance matrix\n",
    "# DO IT FROM THE ARRAY IN NUMPY\n",
    "dat = raw_cleaned.get_data()\n",
    "cov = np.cov(dat)\n",
    "# plot the covariance matrix\n",
    "fig = plt.imshow(cov, cmap='coolwarm', origin='lower')\n",
    "plt.colorbar()\n",
    "plt.title('Covariance matrix')\n"
   ]
  },
  {
   "cell_type": "markdown",
   "metadata": {},
   "source": [
    "## Computing % Good Data"
   ]
  },
  {
   "cell_type": "code",
   "execution_count": null,
   "metadata": {},
   "outputs": [],
   "source": [
    "# Create a binary array\n",
    "binary_mask = np.zeros(len(raw_cleaned.times), dtype=int)\n",
    "\n",
    "# Iterate over annotations\n",
    "for annot in raw_cleaned.annotations:\n",
    "    onset_sample = int(annot['onset'] * raw_cleaned.info['sfreq'])\n",
    "    duration_sample = int(annot['duration'] * raw_cleaned.info['sfreq'])\n",
    "    binary_mask[onset_sample:onset_sample + duration_sample] = 1\n",
    "\n",
    "percent_good = 1 - np.sum(binary_mask) / len(binary_mask)\n",
    "print(f'Percent Good Data: {percent_good * 100:.2f}%')"
   ]
  },
  {
   "cell_type": "code",
   "execution_count": null,
   "metadata": {},
   "outputs": [],
   "source": [
    "(1 - percent_good)*100"
   ]
  },
  {
   "cell_type": "markdown",
   "metadata": {},
   "source": [
    "## Quantifying Blinks and Muscle Artifacts through ICA"
   ]
  },
  {
   "cell_type": "code",
   "execution_count": null,
   "metadata": {},
   "outputs": [],
   "source": [
    "# First exclude bad channels\n"
   ]
  },
  {
   "cell_type": "code",
   "execution_count": null,
   "metadata": {},
   "outputs": [],
   "source": [
    "filt_raw = raw.copy().filter(l_freq=1.0, h_freq=None)\n",
    "filt_raw.info['bads'] = prep.still_noisy_channels \n",
    "ica = mne.preprocessing.ICA(n_components=.99, method='picard')\n",
    "ica.fit(filt_raw)\n",
    "#ica.plot_sources(filt_raw)\n"
   ]
  },
  {
   "cell_type": "code",
   "execution_count": null,
   "metadata": {},
   "outputs": [],
   "source": [
    "ica.plot_sources(filt_raw)"
   ]
  },
  {
   "cell_type": "code",
   "execution_count": null,
   "metadata": {},
   "outputs": [],
   "source": [
    "ica.plot_components().savefig(f'report_images/{subject}_ica_components.png')\n",
    "# save the figure\n",
    "#plt.savefig(f'report_images/{subject}_ica_components.png')"
   ]
  },
  {
   "cell_type": "code",
   "execution_count": null,
   "metadata": {},
   "outputs": [],
   "source": [
    "comp_idx, scores = ica.find_bads_muscle(filt_raw)\n",
    "\n",
    "# Remove the muscle artifacts\n",
    "raw_ica = ica.apply(filt_raw, exclude=comp_idx)"
   ]
  },
  {
   "cell_type": "code",
   "execution_count": null,
   "metadata": {},
   "outputs": [],
   "source": [
    "\n",
    "ica = mne.preprocessing.ICA(n_components=None, method='picard')\n",
    "ica.fit(raw_cleaned)\n",
    "ica.plot_sources(raw_cleaned)\n",
    "comp_idx, scores = ica.find_bads_muscle(raw_cleaned)\n",
    "\n",
    "# Remove the muscle artifacts\n",
    "raw_cleaned_ica = ica.apply(raw_cleaned, exclude=comp_idx)\n"
   ]
  },
  {
   "cell_type": "code",
   "execution_count": null,
   "metadata": {},
   "outputs": [],
   "source": [
    "ica.plot_sources(raw_cleaned)"
   ]
  },
  {
   "cell_type": "markdown",
   "metadata": {},
   "source": [
    "# Ocular Artifacts"
   ]
  },
  {
   "cell_type": "code",
   "execution_count": null,
   "metadata": {},
   "outputs": [],
   "source": [
    "eog_evoked = mne.preprocessing.create_eog_epochs(filt_raw, ch_name=['E8', 'E25']).average(picks=\"all\")\n",
    "eog_evoked.apply_baseline((None, None))\n",
    "eog_evoked.plot_joint().savefig(f'report_images/{subject}_eog_evoked.png')"
   ]
  },
  {
   "cell_type": "code",
   "execution_count": null,
   "metadata": {},
   "outputs": [],
   "source": [
    "eog_projs, _ = mne.preprocessing.compute_proj_eog(raw_cleaned, n_eeg=1, reject=None, no_proj=True,\n",
    "                                                  ch_name=['E8', 'E25'])\n"
   ]
  },
  {
   "cell_type": "code",
   "execution_count": null,
   "metadata": {},
   "outputs": [],
   "source": [
    "mne.viz.plot_projs_topomap(eog_projs, info=raw.info)"
   ]
  },
  {
   "cell_type": "code",
   "execution_count": null,
   "metadata": {},
   "outputs": [],
   "source": [
    "fig = mne.viz.plot_projs_joint(eog_projs, eog_evoked,['E8', 'E25'] )\n",
    "fig.suptitle(\"EOG projectors\");"
   ]
  },
  {
   "cell_type": "code",
   "execution_count": null,
   "metadata": {},
   "outputs": [],
   "source": [
    "filt_raw.add_proj(eog_projs)\n",
    "filt_raw.plot()"
   ]
  },
  {
   "cell_type": "code",
   "execution_count": null,
   "metadata": {},
   "outputs": [],
   "source": [
    "fig = raw_cleaned.plot_psd(tmax=np.inf, fmax=250)\n",
    "# apply a notch filter to remove 60 Hz noise\n",
    "raw_cleaned.notch_filter(np.arange(60, 241, 60), filter_length='auto', phase='zero')\n",
    "fig = raw_cleaned.plot_psd(tmax=np.inf, fmax=250)"
   ]
  },
  {
   "cell_type": "code",
   "execution_count": null,
   "metadata": {},
   "outputs": [],
   "source": [
    "#perform an autocorrelation of a single channel\n",
    "fig, ax = plt.subplots()\n",
    "ax.acorr(raw_cleaned.get_data()[0], maxlags=1000)\n",
    "ax.set_xlim([0, 1000])  # only show the first 1000 lags\n",
    "ax.set_title('Autocorrelation of Channel 1')\n",
    "# without plotting\n"
   ]
  },
  {
   "cell_type": "code",
   "execution_count": null,
   "metadata": {},
   "outputs": [],
   "source": [
    "autocorr = np.correlate(raw_cleaned.get_data()[0], raw_cleaned.get_data()[0], mode='full')"
   ]
  },
  {
   "cell_type": "markdown",
   "metadata": {},
   "source": [
    "# Peak-to-Peak Amplitude"
   ]
  },
  {
   "cell_type": "code",
   "execution_count": null,
   "metadata": {},
   "outputs": [],
   "source": [
    "sensor_ptp = [np.ptp(filt_raw.get_data()[i]) for i in range(len(raw_cleaned.get_data()))]\n",
    "f, ax = plt.subplots(figsize=(20, 5))\n",
    "plt.bar(raw_cleaned.ch_names, sensor_ptp)\n",
    "plt.xlabel('Channel')\n",
    "# rotate xticks\n",
    "plt.xticks(rotation=90 )\n",
    "ax.tick_params(axis='x',  pad=0)\n",
    "plt.ylabel('Peak-to-Peak Amplitude')\n",
    "plt.title('Peak-to-Peak Amplitude for Each Channel')\n",
    "plt.show()\n"
   ]
  },
  {
   "cell_type": "code",
   "execution_count": null,
   "metadata": {},
   "outputs": [],
   "source": [
    "np.median(sensor_ptp)"
   ]
  },
  {
   "cell_type": "markdown",
   "metadata": {},
   "source": []
  },
  {
   "cell_type": "code",
   "execution_count": null,
   "metadata": {},
   "outputs": [],
   "source": [
    "raw_cleaned.plot()"
   ]
  },
  {
   "cell_type": "markdown",
   "metadata": {},
   "source": [
    "# Standard Deviation of Amplitude"
   ]
  },
  {
   "cell_type": "code",
   "execution_count": null,
   "metadata": {},
   "outputs": [],
   "source": [
    "# Compute Standard Deviation of Amplitude for each Channel\n",
    "sensor_std = [np.std(raw_cleaned.get_data()[i]) for i in range(len(raw_cleaned.get_data()))]\n",
    "plt.bar(range(len(sensor_ptp)), sensor_ptp)\n",
    "plt.xlabel('Channel')\n",
    "plt.ylabel('Std. Deviation of Amplitude')\n",
    "plt.title('Standard Deviation of Amplitude for Each Channel')\n",
    "plt.show()"
   ]
  },
  {
   "cell_type": "code",
   "execution_count": null,
   "metadata": {},
   "outputs": [],
   "source": [
    "np.median(sensor_std)"
   ]
  },
  {
   "cell_type": "code",
   "execution_count": null,
   "metadata": {},
   "outputs": [],
   "source": [
    "filt_raw.plot_psd()"
   ]
  },
  {
   "cell_type": "markdown",
   "metadata": {},
   "source": [
    "# Power in 60Hz Noise Frequency"
   ]
  },
  {
   "cell_type": "code",
   "execution_count": null,
   "metadata": {},
   "outputs": [],
   "source": [
    "psds, freqs = mne.time_frequency.psd_array_welch(\n",
    "    raw_cleaned.get_data(), \n",
    "    sfreq=raw_cleaned.info['sfreq'],\n",
    "    fmin=59, \n",
    "    fmax=61,  # A small band around 60 Hz to capture power\n",
    "    n_fft=2048,  # Adjust the window length for better frequency resolution\n",
    "    verbose=False\n",
    ")"
   ]
  },
  {
   "cell_type": "code",
   "execution_count": null,
   "metadata": {},
   "outputs": [],
   "source": [
    "mean_power_60hz = psds.mean(axis=0).mean()  # Mean across channels and frequency bins\n",
    "print(f\"Mean power at 60 Hz: {mean_power_60hz:.4e} V²/Hz\")"
   ]
  },
  {
   "cell_type": "code",
   "execution_count": null,
   "metadata": {},
   "outputs": [],
   "source": [
    "signal_power = np.mean(raw_cleaned._data ** 2, axis=1)\n",
    "signal_power = signal_power.mean()\n",
    "\n",
    "# Calculate SNR in dB\n",
    "snr = 10 * np.log10(signal_power / noise_power)"
   ]
  },
  {
   "cell_type": "code",
   "execution_count": null,
   "metadata": {},
   "outputs": [],
   "source": [
    "psds, freqs = mne.time_frequency.psd_array_welch(raw_cleaned.get_data(), sfreq=raw_cleaned.info['sfreq'], fmin=0.5, fmax=250)\n",
    "psds = 10 * np.log10(psds)\n",
    "plt.plot(freqs, psds.mean(axis=0))\n",
    "plt.xlabel('Frequency (Hz)')\n",
    "plt.ylabel('Power Spectral Density (dB)')\n",
    "plt.show()\n",
    "'''\n",
    "idx_60hz = (freqs > 59) & (freqs < 61)\n",
    "power_60hz = psds[idx_60hz].mean(axis=1)\n",
    "\n",
    "noise = {}\n",
    "for ch, power in zip(raw_cleaned.ch_names, power_60hz):\n",
    "    noise[ch] = power\n",
    "    print(f' Channel {ch}: Power at  60Hz:{power:.2f} dB')\n",
    "'''"
   ]
  },
  {
   "cell_type": "code",
   "execution_count": null,
   "metadata": {},
   "outputs": [],
   "source": [
    "sum(power_60hz)"
   ]
  },
  {
   "cell_type": "code",
   "execution_count": null,
   "metadata": {},
   "outputs": [],
   "source": [
    "freq_min = 59\n",
    "freq_max = 61\n",
    "# Apply a bandpass filter to the data\n",
    "raw_filtered = raw_cleaned.filter(freq_min, freq_max)\n",
    "psds, freqs = mne.time_frequency.psd_array_welch(raw_filtered.get_data(), sfreq=raw_filtered.info['sfreq'], fmin=freq_min, fmax=freq_max, n_fft=2048)\n",
    "\n",
    "# Extract the power at 60 Hz\n",
    "idx_60hz = (freqs >= 60 - 0.5) & (freqs <= 60 + 0.5)\n",
    "power_60hz = psds[:, idx_60hz].mean(axis=1)\n",
    "noise = {}\n",
    "# Print the power at 60 Hz for each channel\n",
    "for ch_name, power in zip(raw.ch_names, power_60hz):\n",
    "    noise[ch_name] = power\n",
    "    print(f'Channel {ch_name}: Power at 60 Hz = {power:.2e} µV²/Hz')"
   ]
  },
  {
   "cell_type": "code",
   "execution_count": null,
   "metadata": {},
   "outputs": [],
   "source": [
    "noises = [noise[ch] for ch in raw.ch_names]\n",
    "noise_df = pd.DataFrame({'Channel':list(noise.keys()), 'Noise Power (dB)': noise.values()})\n",
    "plt.subplots(figsize=(30, 5))\n",
    "plt.plot(noise_df['Channel'], noise_df['Noise Power (dB)'])\n",
    "plt.xlabel('Channel')\n",
    "# fix spacing of the xticks\n",
    "plt.xticks(rotation=90)\n",
    "plt.ylabel('Noise Power (dB)')          \n",
    "plt.title('Noise Power at 60 Hz for Each Channel')\n",
    "plt.show()"
   ]
  },
  {
   "cell_type": "code",
   "execution_count": null,
   "metadata": {},
   "outputs": [],
   "source": [
    "# Compute power of the signal and noise\n",
    "signal_power = np.mean(raw_cleaned._data ** 2, axis=1)\n",
    "noise_power = np.mean([n**2 for n in noises])\n",
    "\n",
    "# Calculate SNR in dB\n",
    "snr = 10 * np.log10(signal_power / noise_power)"
   ]
  },
  {
   "cell_type": "code",
   "execution_count": null,
   "metadata": {},
   "outputs": [],
   "source": [
    "# square each value of noise\n",
    "plt.plot(snr)\n",
    "plt.xlabel('Channel')\n",
    "plt.ylabel('SNR (dB)')\n",
    "plt.title('Signal-to-Noise Ratio for Each Channel')\n",
    "plt.show()"
   ]
  },
  {
   "cell_type": "code",
   "execution_count": null,
   "metadata": {},
   "outputs": [],
   "source": [
    "np.mean(snr)"
   ]
  },
  {
   "cell_type": "code",
   "execution_count": null,
   "metadata": {},
   "outputs": [],
   "source": [
    "x = raw_cleaned.get_data()[0]"
   ]
  },
  {
   "cell_type": "code",
   "execution_count": null,
   "metadata": {},
   "outputs": [],
   "source": [
    "len(x)"
   ]
  },
  {
   "cell_type": "code",
   "execution_count": null,
   "metadata": {},
   "outputs": [],
   "source": []
  }
 ],
 "metadata": {
  "kernelspec": {
   "display_name": "Python 3",
   "language": "python",
   "name": "python3"
  },
  "language_info": {
   "codemirror_mode": {
    "name": "ipython",
    "version": 3
   },
   "file_extension": ".py",
   "mimetype": "text/x-python",
   "name": "python",
   "nbconvert_exporter": "python",
   "pygments_lexer": "ipython3",
   "version": "3.12.5"
  }
 },
 "nbformat": 4,
 "nbformat_minor": 2
}
