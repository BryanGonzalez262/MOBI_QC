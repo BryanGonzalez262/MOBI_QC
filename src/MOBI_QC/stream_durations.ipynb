{
 "cells": [
  {
   "cell_type": "markdown",
   "metadata": {},
   "source": [
    "# Imports"
   ]
  },
  {
   "cell_type": "code",
   "execution_count": 1,
   "metadata": {},
   "outputs": [],
   "source": [
    "import pyxdf\n",
    "import pandas as pd\n",
    "import numpy as np\n",
    "from glob import glob\n",
    "import datetime\n",
    "from utils import *"
   ]
  },
  {
   "cell_type": "markdown",
   "metadata": {},
   "source": [
    "# Load Data"
   ]
  },
  {
   "cell_type": "code",
   "execution_count": 2,
   "metadata": {},
   "outputs": [],
   "source": [
    "sub_files = glob('/Users/camilla.strauss/Desktop/CUNY_Data/Data/*/*.xdf')"
   ]
  },
  {
   "cell_type": "code",
   "execution_count": 3,
   "metadata": {},
   "outputs": [],
   "source": [
    "sub_number = 1\n",
    "xdf_path = sub_files[sub_number]\n",
    "sub_id = xdf_path.split('/')[6].split('-')[1]"
   ]
  },
  {
   "cell_type": "markdown",
   "metadata": {},
   "source": [
    "# Stimulus"
   ]
  },
  {
   "cell_type": "code",
   "execution_count": 6,
   "metadata": {},
   "outputs": [
    {
     "name": "stdout",
     "output_type": "stream",
     "text": [
      "mic is shorter than expected for Experiment by 338.83 seconds\n",
      "\n",
      "Experiment DataFrame\n"
     ]
    },
    {
     "data": {
      "application/vnd.microsoft.datawrangler.viewer.v0+json": {
       "columns": [
        {
         "name": "index",
         "rawType": "int64",
         "type": "integer"
        },
        {
         "name": "stream",
         "rawType": "object",
         "type": "string"
        },
        {
         "name": "duration",
         "rawType": "float64",
         "type": "float"
        },
        {
         "name": "mm:ss",
         "rawType": "object",
         "type": "string"
        },
        {
         "name": "percent",
         "rawType": "object",
         "type": "string"
        }
       ],
       "conversionMethod": "pd.DataFrame",
       "ref": "b4afdcbd-812e-4344-b073-6a883b566a72",
       "rows": [
        [
         "2",
         "mic",
         "2284.344",
         "0:38:04",
         "87.08%"
        ],
        [
         "0",
         "et",
         "2622.8561",
         "0:43:43",
         "99.99%"
        ],
        [
         "3",
         "cam",
         "2623.1281",
         "0:43:43",
         "100.0%"
        ],
        [
         "1",
         "ps",
         "2623.171",
         "0:43:43",
         "100.0%"
        ],
        [
         "4",
         "eeg",
         "2623.1721",
         "0:43:43",
         "100.0%"
        ],
        [
         "5",
         "expected",
         "2623.173",
         "0:43:43",
         "100.0%"
        ]
       ],
       "shape": {
        "columns": 4,
        "rows": 6
       }
      },
      "text/html": [
       "<div>\n",
       "<style scoped>\n",
       "    .dataframe tbody tr th:only-of-type {\n",
       "        vertical-align: middle;\n",
       "    }\n",
       "\n",
       "    .dataframe tbody tr th {\n",
       "        vertical-align: top;\n",
       "    }\n",
       "\n",
       "    .dataframe thead th {\n",
       "        text-align: right;\n",
       "    }\n",
       "</style>\n",
       "<table border=\"1\" class=\"dataframe\">\n",
       "  <thead>\n",
       "    <tr style=\"text-align: right;\">\n",
       "      <th></th>\n",
       "      <th>stream</th>\n",
       "      <th>duration</th>\n",
       "      <th>mm:ss</th>\n",
       "      <th>percent</th>\n",
       "    </tr>\n",
       "  </thead>\n",
       "  <tbody>\n",
       "    <tr>\n",
       "      <th>2</th>\n",
       "      <td>mic</td>\n",
       "      <td>2284.3440</td>\n",
       "      <td>0:38:04</td>\n",
       "      <td>87.08%</td>\n",
       "    </tr>\n",
       "    <tr>\n",
       "      <th>0</th>\n",
       "      <td>et</td>\n",
       "      <td>2622.8561</td>\n",
       "      <td>0:43:43</td>\n",
       "      <td>99.99%</td>\n",
       "    </tr>\n",
       "    <tr>\n",
       "      <th>3</th>\n",
       "      <td>cam</td>\n",
       "      <td>2623.1281</td>\n",
       "      <td>0:43:43</td>\n",
       "      <td>100.0%</td>\n",
       "    </tr>\n",
       "    <tr>\n",
       "      <th>1</th>\n",
       "      <td>ps</td>\n",
       "      <td>2623.1710</td>\n",
       "      <td>0:43:43</td>\n",
       "      <td>100.0%</td>\n",
       "    </tr>\n",
       "    <tr>\n",
       "      <th>4</th>\n",
       "      <td>eeg</td>\n",
       "      <td>2623.1721</td>\n",
       "      <td>0:43:43</td>\n",
       "      <td>100.0%</td>\n",
       "    </tr>\n",
       "    <tr>\n",
       "      <th>5</th>\n",
       "      <td>expected</td>\n",
       "      <td>2623.1730</td>\n",
       "      <td>0:43:43</td>\n",
       "      <td>100.0%</td>\n",
       "    </tr>\n",
       "  </tbody>\n",
       "</table>\n",
       "</div>"
      ],
      "text/plain": [
       "     stream   duration    mm:ss percent\n",
       "2       mic  2284.3440  0:38:04  87.08%\n",
       "0        et  2622.8561  0:43:43  99.99%\n",
       "3       cam  2623.1281  0:43:43  100.0%\n",
       "1        ps  2623.1710  0:43:43  100.0%\n",
       "4       eeg  2623.1721  0:43:43  100.0%\n",
       "5  expected  2623.1730  0:43:43  100.0%"
      ]
     },
     "execution_count": 6,
     "metadata": {},
     "output_type": "execute_result"
    }
   ],
   "source": [
    "get_durations(ExperimentPart='Experiment', xdf_path=xdf_path)"
   ]
  },
  {
   "cell_type": "code",
   "execution_count": null,
   "metadata": {},
   "outputs": [
    {
     "name": "stdout",
     "output_type": "stream",
     "text": [
      "\n",
      "RestingState DataFrame\n"
     ]
    },
    {
     "data": {
      "application/vnd.microsoft.datawrangler.viewer.v0+json": {
       "columns": [
        {
         "name": "index",
         "rawType": "int64",
         "type": "integer"
        },
        {
         "name": "stream",
         "rawType": "object",
         "type": "string"
        },
        {
         "name": "duration",
         "rawType": "float64",
         "type": "float"
        },
        {
         "name": "mm:ss",
         "rawType": "object",
         "type": "string"
        },
        {
         "name": "percent",
         "rawType": "object",
         "type": "string"
        }
       ],
       "conversionMethod": "pd.DataFrame",
       "ref": "0c97cb6e-54d3-4e60-aeb2-796631bf4c14",
       "rows": [
        [
         "0",
         "et",
         "299.9852",
         "0:05:00",
         "100.0%"
        ],
        [
         "3",
         "cam",
         "299.991",
         "0:05:00",
         "100.0%"
        ],
        [
         "1",
         "ps",
         "299.9967",
         "0:05:00",
         "100.0%"
        ],
        [
         "4",
         "eeg",
         "299.9984",
         "0:05:00",
         "100.0%"
        ],
        [
         "5",
         "expected",
         "300.0",
         "0:05:00",
         "100.0%"
        ]
       ],
       "shape": {
        "columns": 4,
        "rows": 5
       }
      },
      "text/html": [
       "<div>\n",
       "<style scoped>\n",
       "    .dataframe tbody tr th:only-of-type {\n",
       "        vertical-align: middle;\n",
       "    }\n",
       "\n",
       "    .dataframe tbody tr th {\n",
       "        vertical-align: top;\n",
       "    }\n",
       "\n",
       "    .dataframe thead th {\n",
       "        text-align: right;\n",
       "    }\n",
       "</style>\n",
       "<table border=\"1\" class=\"dataframe\">\n",
       "  <thead>\n",
       "    <tr style=\"text-align: right;\">\n",
       "      <th></th>\n",
       "      <th>stream</th>\n",
       "      <th>duration</th>\n",
       "      <th>mm:ss</th>\n",
       "      <th>percent</th>\n",
       "    </tr>\n",
       "  </thead>\n",
       "  <tbody>\n",
       "    <tr>\n",
       "      <th>0</th>\n",
       "      <td>et</td>\n",
       "      <td>299.9852</td>\n",
       "      <td>0:05:00</td>\n",
       "      <td>100.0%</td>\n",
       "    </tr>\n",
       "    <tr>\n",
       "      <th>3</th>\n",
       "      <td>cam</td>\n",
       "      <td>299.9910</td>\n",
       "      <td>0:05:00</td>\n",
       "      <td>100.0%</td>\n",
       "    </tr>\n",
       "    <tr>\n",
       "      <th>1</th>\n",
       "      <td>ps</td>\n",
       "      <td>299.9967</td>\n",
       "      <td>0:05:00</td>\n",
       "      <td>100.0%</td>\n",
       "    </tr>\n",
       "    <tr>\n",
       "      <th>4</th>\n",
       "      <td>eeg</td>\n",
       "      <td>299.9984</td>\n",
       "      <td>0:05:00</td>\n",
       "      <td>100.0%</td>\n",
       "    </tr>\n",
       "    <tr>\n",
       "      <th>5</th>\n",
       "      <td>expected</td>\n",
       "      <td>300.0000</td>\n",
       "      <td>0:05:00</td>\n",
       "      <td>100.0%</td>\n",
       "    </tr>\n",
       "  </tbody>\n",
       "</table>\n",
       "</div>"
      ],
      "text/plain": [
       "     stream  duration    mm:ss percent\n",
       "0        et  299.9852  0:05:00  100.0%\n",
       "3       cam  299.9910  0:05:00  100.0%\n",
       "1        ps  299.9967  0:05:00  100.0%\n",
       "4       eeg  299.9984  0:05:00  100.0%\n",
       "5  expected  300.0000  0:05:00  100.0%"
      ]
     },
     "execution_count": 14,
     "metadata": {},
     "output_type": "execute_result"
    }
   ],
   "source": [
    "get_durations('RestingState', xdf_path)"
   ]
  },
  {
   "cell_type": "code",
   "execution_count": null,
   "metadata": {},
   "outputs": [
    {
     "name": "stdout",
     "output_type": "stream",
     "text": [
      "mic is shorter than expected for StoryListening by 17.79 seconds\n",
      "\n",
      "StoryListening DataFrame\n"
     ]
    },
    {
     "data": {
      "application/vnd.microsoft.datawrangler.viewer.v0+json": {
       "columns": [
        {
         "name": "index",
         "rawType": "int64",
         "type": "integer"
        },
        {
         "name": "stream",
         "rawType": "object",
         "type": "string"
        },
        {
         "name": "duration",
         "rawType": "float64",
         "type": "float"
        },
        {
         "name": "mm:ss",
         "rawType": "object",
         "type": "string"
        },
        {
         "name": "percent",
         "rawType": "object",
         "type": "string"
        }
       ],
       "conversionMethod": "pd.DataFrame",
       "ref": "43be3558-0b27-4d62-b61b-c1945182c5e3",
       "rows": [
        [
         "2",
         "mic",
         "1185.8071",
         "0:19:46",
         "98.52%"
        ],
        [
         "3",
         "cam",
         "1203.5666",
         "0:20:04",
         "100.0%"
        ],
        [
         "0",
         "et",
         "1203.5994",
         "0:20:04",
         "100.0%"
        ],
        [
         "1",
         "ps",
         "1203.5997",
         "0:20:04",
         "100.0%"
        ],
        [
         "4",
         "eeg",
         "1203.5998",
         "0:20:04",
         "100.0%"
        ],
        [
         "5",
         "expected",
         "1203.6008",
         "0:20:04",
         "100.0%"
        ]
       ],
       "shape": {
        "columns": 4,
        "rows": 6
       }
      },
      "text/html": [
       "<div>\n",
       "<style scoped>\n",
       "    .dataframe tbody tr th:only-of-type {\n",
       "        vertical-align: middle;\n",
       "    }\n",
       "\n",
       "    .dataframe tbody tr th {\n",
       "        vertical-align: top;\n",
       "    }\n",
       "\n",
       "    .dataframe thead th {\n",
       "        text-align: right;\n",
       "    }\n",
       "</style>\n",
       "<table border=\"1\" class=\"dataframe\">\n",
       "  <thead>\n",
       "    <tr style=\"text-align: right;\">\n",
       "      <th></th>\n",
       "      <th>stream</th>\n",
       "      <th>duration</th>\n",
       "      <th>mm:ss</th>\n",
       "      <th>percent</th>\n",
       "    </tr>\n",
       "  </thead>\n",
       "  <tbody>\n",
       "    <tr>\n",
       "      <th>2</th>\n",
       "      <td>mic</td>\n",
       "      <td>1185.8071</td>\n",
       "      <td>0:19:46</td>\n",
       "      <td>98.52%</td>\n",
       "    </tr>\n",
       "    <tr>\n",
       "      <th>3</th>\n",
       "      <td>cam</td>\n",
       "      <td>1203.5666</td>\n",
       "      <td>0:20:04</td>\n",
       "      <td>100.0%</td>\n",
       "    </tr>\n",
       "    <tr>\n",
       "      <th>0</th>\n",
       "      <td>et</td>\n",
       "      <td>1203.5994</td>\n",
       "      <td>0:20:04</td>\n",
       "      <td>100.0%</td>\n",
       "    </tr>\n",
       "    <tr>\n",
       "      <th>1</th>\n",
       "      <td>ps</td>\n",
       "      <td>1203.5997</td>\n",
       "      <td>0:20:04</td>\n",
       "      <td>100.0%</td>\n",
       "    </tr>\n",
       "    <tr>\n",
       "      <th>4</th>\n",
       "      <td>eeg</td>\n",
       "      <td>1203.5998</td>\n",
       "      <td>0:20:04</td>\n",
       "      <td>100.0%</td>\n",
       "    </tr>\n",
       "    <tr>\n",
       "      <th>5</th>\n",
       "      <td>expected</td>\n",
       "      <td>1203.6008</td>\n",
       "      <td>0:20:04</td>\n",
       "      <td>100.0%</td>\n",
       "    </tr>\n",
       "  </tbody>\n",
       "</table>\n",
       "</div>"
      ],
      "text/plain": [
       "     stream   duration    mm:ss percent\n",
       "2       mic  1185.8071  0:19:46  98.52%\n",
       "3       cam  1203.5666  0:20:04  100.0%\n",
       "0        et  1203.5994  0:20:04  100.0%\n",
       "1        ps  1203.5997  0:20:04  100.0%\n",
       "4       eeg  1203.5998  0:20:04  100.0%\n",
       "5  expected  1203.6008  0:20:04  100.0%"
      ]
     },
     "execution_count": 15,
     "metadata": {},
     "output_type": "execute_result"
    }
   ],
   "source": [
    "get_durations('StoryListening', xdf_path)"
   ]
  },
  {
   "cell_type": "code",
   "execution_count": null,
   "metadata": {},
   "outputs": [
    {
     "name": "stdout",
     "output_type": "stream",
     "text": [
      "\n",
      "SocialTask DataFrame\n"
     ]
    },
    {
     "data": {
      "application/vnd.microsoft.datawrangler.viewer.v0+json": {
       "columns": [
        {
         "name": "index",
         "rawType": "int64",
         "type": "integer"
        },
        {
         "name": "stream",
         "rawType": "object",
         "type": "string"
        },
        {
         "name": "duration",
         "rawType": "float64",
         "type": "float"
        },
        {
         "name": "mm:ss",
         "rawType": "object",
         "type": "string"
        },
        {
         "name": "percent",
         "rawType": "object",
         "type": "string"
        }
       ],
       "conversionMethod": "pd.DataFrame",
       "ref": "0a0419db-96c2-4e9e-bffe-0a5c1f5c0eef",
       "rows": [
        [
         "3",
         "cam",
         "300.458",
         "0:05:00",
         "99.98%"
        ],
        [
         "0",
         "et",
         "300.5019",
         "0:05:01",
         "100.0%"
        ],
        [
         "1",
         "ps",
         "300.5105",
         "0:05:01",
         "100.0%"
        ],
        [
         "4",
         "eeg",
         "300.5114",
         "0:05:01",
         "100.0%"
        ],
        [
         "2",
         "mic",
         "300.5124",
         "0:05:01",
         "100.0%"
        ],
        [
         "5",
         "expected",
         "300.5124",
         "0:05:01",
         "100.0%"
        ]
       ],
       "shape": {
        "columns": 4,
        "rows": 6
       }
      },
      "text/html": [
       "<div>\n",
       "<style scoped>\n",
       "    .dataframe tbody tr th:only-of-type {\n",
       "        vertical-align: middle;\n",
       "    }\n",
       "\n",
       "    .dataframe tbody tr th {\n",
       "        vertical-align: top;\n",
       "    }\n",
       "\n",
       "    .dataframe thead th {\n",
       "        text-align: right;\n",
       "    }\n",
       "</style>\n",
       "<table border=\"1\" class=\"dataframe\">\n",
       "  <thead>\n",
       "    <tr style=\"text-align: right;\">\n",
       "      <th></th>\n",
       "      <th>stream</th>\n",
       "      <th>duration</th>\n",
       "      <th>mm:ss</th>\n",
       "      <th>percent</th>\n",
       "    </tr>\n",
       "  </thead>\n",
       "  <tbody>\n",
       "    <tr>\n",
       "      <th>3</th>\n",
       "      <td>cam</td>\n",
       "      <td>300.4580</td>\n",
       "      <td>0:05:00</td>\n",
       "      <td>99.98%</td>\n",
       "    </tr>\n",
       "    <tr>\n",
       "      <th>0</th>\n",
       "      <td>et</td>\n",
       "      <td>300.5019</td>\n",
       "      <td>0:05:01</td>\n",
       "      <td>100.0%</td>\n",
       "    </tr>\n",
       "    <tr>\n",
       "      <th>1</th>\n",
       "      <td>ps</td>\n",
       "      <td>300.5105</td>\n",
       "      <td>0:05:01</td>\n",
       "      <td>100.0%</td>\n",
       "    </tr>\n",
       "    <tr>\n",
       "      <th>4</th>\n",
       "      <td>eeg</td>\n",
       "      <td>300.5114</td>\n",
       "      <td>0:05:01</td>\n",
       "      <td>100.0%</td>\n",
       "    </tr>\n",
       "    <tr>\n",
       "      <th>2</th>\n",
       "      <td>mic</td>\n",
       "      <td>300.5124</td>\n",
       "      <td>0:05:01</td>\n",
       "      <td>100.0%</td>\n",
       "    </tr>\n",
       "    <tr>\n",
       "      <th>5</th>\n",
       "      <td>expected</td>\n",
       "      <td>300.5124</td>\n",
       "      <td>0:05:01</td>\n",
       "      <td>100.0%</td>\n",
       "    </tr>\n",
       "  </tbody>\n",
       "</table>\n",
       "</div>"
      ],
      "text/plain": [
       "     stream  duration    mm:ss percent\n",
       "3       cam  300.4580  0:05:00  99.98%\n",
       "0        et  300.5019  0:05:01  100.0%\n",
       "1        ps  300.5105  0:05:01  100.0%\n",
       "4       eeg  300.5114  0:05:01  100.0%\n",
       "2       mic  300.5124  0:05:01  100.0%\n",
       "5  expected  300.5124  0:05:01  100.0%"
      ]
     },
     "execution_count": 16,
     "metadata": {},
     "output_type": "execute_result"
    }
   ],
   "source": [
    "get_durations('SocialTask', xdf_path)"
   ]
  },
  {
   "cell_type": "code",
   "execution_count": null,
   "metadata": {},
   "outputs": [
    {
     "name": "stdout",
     "output_type": "stream",
     "text": [
      "\n",
      "CampFriend DataFrame\n"
     ]
    },
    {
     "data": {
      "application/vnd.microsoft.datawrangler.viewer.v0+json": {
       "columns": [
        {
         "name": "index",
         "rawType": "int64",
         "type": "integer"
        },
        {
         "name": "stream",
         "rawType": "object",
         "type": "string"
        },
        {
         "name": "duration",
         "rawType": "float64",
         "type": "float"
        },
        {
         "name": "mm:ss",
         "rawType": "object",
         "type": "string"
        },
        {
         "name": "percent",
         "rawType": "object",
         "type": "string"
        }
       ],
       "conversionMethod": "pd.DataFrame",
       "ref": "8223c580-ee60-483e-bb02-7e71cf9d53f8",
       "rows": [
        [
         "3",
         "cam",
         "140.405",
         "0:02:20",
         "99.98%"
        ],
        [
         "0",
         "et",
         "140.4215",
         "0:02:20",
         "99.99%"
        ],
        [
         "4",
         "eeg",
         "140.4299",
         "0:02:20",
         "100.0%"
        ],
        [
         "1",
         "ps",
         "140.4302",
         "0:02:20",
         "100.0%"
        ],
        [
         "2",
         "mic",
         "140.4314",
         "0:02:20",
         "100.0%"
        ],
        [
         "5",
         "expected",
         "140.4314",
         "0:02:20",
         "100.0%"
        ]
       ],
       "shape": {
        "columns": 4,
        "rows": 6
       }
      },
      "text/html": [
       "<div>\n",
       "<style scoped>\n",
       "    .dataframe tbody tr th:only-of-type {\n",
       "        vertical-align: middle;\n",
       "    }\n",
       "\n",
       "    .dataframe tbody tr th {\n",
       "        vertical-align: top;\n",
       "    }\n",
       "\n",
       "    .dataframe thead th {\n",
       "        text-align: right;\n",
       "    }\n",
       "</style>\n",
       "<table border=\"1\" class=\"dataframe\">\n",
       "  <thead>\n",
       "    <tr style=\"text-align: right;\">\n",
       "      <th></th>\n",
       "      <th>stream</th>\n",
       "      <th>duration</th>\n",
       "      <th>mm:ss</th>\n",
       "      <th>percent</th>\n",
       "    </tr>\n",
       "  </thead>\n",
       "  <tbody>\n",
       "    <tr>\n",
       "      <th>3</th>\n",
       "      <td>cam</td>\n",
       "      <td>140.4050</td>\n",
       "      <td>0:02:20</td>\n",
       "      <td>99.98%</td>\n",
       "    </tr>\n",
       "    <tr>\n",
       "      <th>0</th>\n",
       "      <td>et</td>\n",
       "      <td>140.4215</td>\n",
       "      <td>0:02:20</td>\n",
       "      <td>99.99%</td>\n",
       "    </tr>\n",
       "    <tr>\n",
       "      <th>4</th>\n",
       "      <td>eeg</td>\n",
       "      <td>140.4299</td>\n",
       "      <td>0:02:20</td>\n",
       "      <td>100.0%</td>\n",
       "    </tr>\n",
       "    <tr>\n",
       "      <th>1</th>\n",
       "      <td>ps</td>\n",
       "      <td>140.4302</td>\n",
       "      <td>0:02:20</td>\n",
       "      <td>100.0%</td>\n",
       "    </tr>\n",
       "    <tr>\n",
       "      <th>2</th>\n",
       "      <td>mic</td>\n",
       "      <td>140.4314</td>\n",
       "      <td>0:02:20</td>\n",
       "      <td>100.0%</td>\n",
       "    </tr>\n",
       "    <tr>\n",
       "      <th>5</th>\n",
       "      <td>expected</td>\n",
       "      <td>140.4314</td>\n",
       "      <td>0:02:20</td>\n",
       "      <td>100.0%</td>\n",
       "    </tr>\n",
       "  </tbody>\n",
       "</table>\n",
       "</div>"
      ],
      "text/plain": [
       "     stream  duration    mm:ss percent\n",
       "3       cam  140.4050  0:02:20  99.98%\n",
       "0        et  140.4215  0:02:20  99.99%\n",
       "4       eeg  140.4299  0:02:20  100.0%\n",
       "1        ps  140.4302  0:02:20  100.0%\n",
       "2       mic  140.4314  0:02:20  100.0%\n",
       "5  expected  140.4314  0:02:20  100.0%"
      ]
     },
     "execution_count": 17,
     "metadata": {},
     "output_type": "execute_result"
    }
   ],
   "source": [
    "get_durations('CampFriend', xdf_path)"
   ]
  },
  {
   "cell_type": "code",
   "execution_count": null,
   "metadata": {},
   "outputs": [
    {
     "name": "stdout",
     "output_type": "stream",
     "text": [
      "mic is shorter than expected by 386.9 seconds\n",
      "cam is shorter than expected by 43.47 seconds\n",
      "et is shorter than expected by 43.01 seconds\n"
     ]
    },
    {
     "data": {
      "application/vnd.microsoft.datawrangler.viewer.v0+json": {
       "columns": [
        {
         "name": "index",
         "rawType": "int64",
         "type": "integer"
        },
        {
         "name": "stream",
         "rawType": "object",
         "type": "string"
        },
        {
         "name": "duration",
         "rawType": "float64",
         "type": "float"
        },
        {
         "name": "mm:ss",
         "rawType": "object",
         "type": "string"
        },
        {
         "name": "percent",
         "rawType": "object",
         "type": "string"
        }
       ],
       "conversionMethod": "pd.DataFrame",
       "ref": "59977bbf-553e-4d48-a178-9ca52b8ae476",
       "rows": [
        [
         "2",
         "mic",
         "2343.2425",
         "0:39:03",
         "85.83%"
        ],
        [
         "3",
         "cam",
         "2686.6756",
         "0:44:47",
         "98.41%"
        ],
        [
         "0",
         "et",
         "2687.1333",
         "0:44:47",
         "98.42%"
        ],
        [
         "1",
         "ps",
         "2729.6173",
         "0:45:30",
         "99.98%"
        ],
        [
         "4",
         "eeg",
         "2730.1419",
         "0:45:30",
         "100.0%"
        ]
       ],
       "shape": {
        "columns": 4,
        "rows": 5
       }
      },
      "text/html": [
       "<div>\n",
       "<style scoped>\n",
       "    .dataframe tbody tr th:only-of-type {\n",
       "        vertical-align: middle;\n",
       "    }\n",
       "\n",
       "    .dataframe tbody tr th {\n",
       "        vertical-align: top;\n",
       "    }\n",
       "\n",
       "    .dataframe thead th {\n",
       "        text-align: right;\n",
       "    }\n",
       "</style>\n",
       "<table border=\"1\" class=\"dataframe\">\n",
       "  <thead>\n",
       "    <tr style=\"text-align: right;\">\n",
       "      <th></th>\n",
       "      <th>stream</th>\n",
       "      <th>duration</th>\n",
       "      <th>mm:ss</th>\n",
       "      <th>percent</th>\n",
       "    </tr>\n",
       "  </thead>\n",
       "  <tbody>\n",
       "    <tr>\n",
       "      <th>2</th>\n",
       "      <td>mic</td>\n",
       "      <td>2343.2425</td>\n",
       "      <td>0:39:03</td>\n",
       "      <td>85.83%</td>\n",
       "    </tr>\n",
       "    <tr>\n",
       "      <th>3</th>\n",
       "      <td>cam</td>\n",
       "      <td>2686.6756</td>\n",
       "      <td>0:44:47</td>\n",
       "      <td>98.41%</td>\n",
       "    </tr>\n",
       "    <tr>\n",
       "      <th>0</th>\n",
       "      <td>et</td>\n",
       "      <td>2687.1333</td>\n",
       "      <td>0:44:47</td>\n",
       "      <td>98.42%</td>\n",
       "    </tr>\n",
       "    <tr>\n",
       "      <th>1</th>\n",
       "      <td>ps</td>\n",
       "      <td>2729.6173</td>\n",
       "      <td>0:45:30</td>\n",
       "      <td>99.98%</td>\n",
       "    </tr>\n",
       "    <tr>\n",
       "      <th>4</th>\n",
       "      <td>eeg</td>\n",
       "      <td>2730.1419</td>\n",
       "      <td>0:45:30</td>\n",
       "      <td>100.0%</td>\n",
       "    </tr>\n",
       "  </tbody>\n",
       "</table>\n",
       "</div>"
      ],
      "text/plain": [
       "  stream   duration    mm:ss percent\n",
       "2    mic  2343.2425  0:39:03  85.83%\n",
       "3    cam  2686.6756  0:44:47  98.41%\n",
       "0     et  2687.1333  0:44:47  98.42%\n",
       "1     ps  2729.6173  0:45:30  99.98%\n",
       "4    eeg  2730.1419  0:45:30  100.0%"
      ]
     },
     "execution_count": 5,
     "metadata": {},
     "output_type": "execute_result"
    }
   ],
   "source": [
    "whole_durations(xdf_path)"
   ]
  }
 ],
 "metadata": {
  "kernelspec": {
   "display_name": "cuny_env",
   "language": "python",
   "name": "python3"
  },
  "language_info": {
   "codemirror_mode": {
    "name": "ipython",
    "version": 3
   },
   "file_extension": ".py",
   "mimetype": "text/x-python",
   "name": "python",
   "nbconvert_exporter": "python",
   "pygments_lexer": "ipython3",
   "version": "3.12.7"
  }
 },
 "nbformat": 4,
 "nbformat_minor": 2
}
