{
 "cells": [
  {
   "cell_type": "code",
   "execution_count": 1,
   "id": "be0b02c9",
   "metadata": {},
   "outputs": [],
   "source": [
    "from glob import glob\n",
    "import os\n",
    "import matplotlib.pyplot as plt\n",
    "import matplotlib\n",
    "matplotlib.use('QtAgg')\n",
    "from mne.preprocessing import ICA\n",
    "import mne\n",
    "import numpy as np\n",
    "import pandas as pd\n",
    "import pyprep\n",
    "import pyxdf\n",
    "from important_files.utils import *\n",
    "from scipy.signal import welch\n",
    "import warnings\n",
    "import json\n",
    "warnings.filterwarnings(\"ignore\")\n",
    "\n",
    "\n",
    "## HELPERS ##\n",
    "def annotate_blinks(\n",
    "    raw: mne.io.Raw, ch_name: list[str] = [\"E25\", \"E8\"]\n",
    ") -> mne.Annotations:\n",
    "    \"\"\"Annotate the blinks in the EEG signal.\n",
    "\n",
    "    Args:\n",
    "        raw (mne.io.Raw): The raw EEG data in mne format.\n",
    "        ch_name (list[str]): The channels to use for the EOG. Default is\n",
    "                            [\"Fp1\", \"Fp2\"]. I would suggest to use the\n",
    "                            channels that are the most frontal (just above\n",
    "                            the eyes). In the case of an EGI system the\n",
    "                            channels would be \"E25\" and \"E8\".\n",
    "\n",
    "    Returns:\n",
    "        mne.Annotations: The annotations object containing the blink events.\n",
    "    \"\"\"\n",
    "    eog_epochs = mne.preprocessing.create_eog_epochs(raw, ch_name=ch_name)\n",
    "    blink_annotations = mne.annotations_from_events(\n",
    "        eog_epochs.events,\n",
    "        raw.info[\"sfreq\"],\n",
    "        event_desc={eog_epochs.events[0, 2]: \"blink\"},\n",
    "    )\n",
    "    return blink_annotations\n",
    "\n",
    "def annotate_muscle(raw: mne.io.Raw) -> mne.Annotations:\n",
    "    muscle_annotations, _ = mne.preprocessing.annotate_muscle_zscore(\n",
    "        raw, \n",
    "        threshold=3, # this needs to be calibrated for the entire dataset\n",
    "        ch_type='eeg', \n",
    "        min_length_good=0.1, \n",
    "        filter_freq=(95, 120), \n",
    "        )\n",
    "\n",
    "    return muscle_annotations\n"
   ]
  },
  {
   "cell_type": "code",
   "execution_count": 2,
   "id": "5b001965",
   "metadata": {},
   "outputs": [],
   "source": [
    "\n",
    "\n",
    "xdf_filename = '/Users/bryan.gonzalez/CUNY_subs/sub-P5197505/sub-P5197505_ses-S001_task-CUNY_run-001_mobi.xdf'"
   ]
  },
  {
   "cell_type": "code",
   "execution_count": 3,
   "id": "6047c48a",
   "metadata": {},
   "outputs": [
    {
     "name": "stdout",
     "output_type": "stream",
     "text": [
      "Creating RawArray with float64 data, n_channels=128, n_times=299989\n",
      "    Range : 0 ... 299988 =      0.000 ...   299.998 secs\n",
      "Ready.\n",
      "Creating RawArray with float64 data, n_channels=1, n_times=299989\n",
      "    Range : 0 ... 299988 =      0.000 ...   299.998 secs\n",
      "Ready.\n",
      "NOTE: pick_channels() is a legacy function. New code should use inst.pick(...).\n",
      "NOTE: pick_types() is a legacy function. New code should use inst.pick(...).\n",
      "Setting up high-pass filter at 1 Hz\n",
      "\n",
      "FIR filter parameters\n",
      "---------------------\n",
      "Designing a one-pass, zero-phase, non-causal highpass filter:\n",
      "- Windowed time-domain design (firwin) method\n",
      "- Hamming window with 0.0194 passband ripple and 53 dB stopband attenuation\n",
      "- Lower passband edge: 1.00\n",
      "- Lower transition bandwidth: 1.00 Hz (-6 dB cutoff frequency: 0.50 Hz)\n",
      "- Filter length: 3301 samples (3.301 s)\n",
      "\n"
     ]
    },
    {
     "name": "stderr",
     "output_type": "stream",
     "text": [
      "[Parallel(n_jobs=1)]: Done  17 tasks      | elapsed:    0.2s\n",
      "[Parallel(n_jobs=1)]: Done  71 tasks      | elapsed:    0.6s\n",
      "[Parallel(n_jobs=1)]: Done 129 out of 129 | elapsed:    1.1s finished\n"
     ]
    },
    {
     "name": "stdout",
     "output_type": "stream",
     "text": [
      "Setting up high-pass filter at 1 Hz\n",
      "\n",
      "FIR filter parameters\n",
      "---------------------\n",
      "Designing a one-pass, zero-phase, non-causal highpass filter:\n",
      "- Windowed time-domain design (firwin) method\n",
      "- Hamming window with 0.0194 passband ripple and 53 dB stopband attenuation\n",
      "- Lower passband edge: 1.00\n",
      "- Lower transition bandwidth: 1.00 Hz (-6 dB cutoff frequency: 0.50 Hz)\n",
      "- Filter length: 3301 samples (3.301 s)\n",
      "\n"
     ]
    },
    {
     "name": "stderr",
     "output_type": "stream",
     "text": [
      "[Parallel(n_jobs=1)]: Done  17 tasks      | elapsed:    0.1s\n",
      "[Parallel(n_jobs=1)]: Done  71 tasks      | elapsed:    0.5s\n",
      "[Parallel(n_jobs=1)]: Done 129 out of 129 | elapsed:    0.9s finished\n"
     ]
    },
    {
     "name": "stdout",
     "output_type": "stream",
     "text": [
      "Removed notch frequencies (Hz):\n",
      "     60.00 : 7482 windows\n",
      "    120.00 : 7482 windows\n",
      "    180.00 : 7482 windows\n",
      "    239.00 : 7482 windows\n",
      "    240.00 : 7482 windows\n",
      "    241.00 : 7482 windows\n",
      "    299.00 : 7482 windows\n",
      "    300.00 : 7482 windows\n",
      "    301.00 : 7482 windows\n",
      "    359.00 : 7482 windows\n",
      "    360.00 : 7482 windows\n",
      "    361.00 : 7482 windows\n",
      "    419.00 : 7482 windows\n",
      "    420.00 : 7482 windows\n",
      "    421.00 : 7482 windows\n",
      "    479.00 : 7482 windows\n",
      "    480.00 : 7482 windows\n",
      "    481.00 : 7482 windows\n",
      "NOTE: pick_types() is a legacy function. New code should use inst.pick(...).\n",
      "Setting up high-pass filter at 1 Hz\n",
      "\n",
      "FIR filter parameters\n",
      "---------------------\n",
      "Designing a one-pass, zero-phase, non-causal highpass filter:\n",
      "- Windowed time-domain design (firwin) method\n",
      "- Hamming window with 0.0194 passband ripple and 53 dB stopband attenuation\n",
      "- Lower passband edge: 1.00\n",
      "- Lower transition bandwidth: 1.00 Hz (-6 dB cutoff frequency: 0.50 Hz)\n",
      "- Filter length: 3301 samples (3.301 s)\n",
      "\n"
     ]
    },
    {
     "name": "stderr",
     "output_type": "stream",
     "text": [
      "[Parallel(n_jobs=1)]: Done  17 tasks      | elapsed:    0.2s\n",
      "[Parallel(n_jobs=1)]: Done  71 tasks      | elapsed:    0.6s\n",
      "[Parallel(n_jobs=1)]: Done 129 out of 129 | elapsed:    1.0s finished\n"
     ]
    },
    {
     "name": "stdout",
     "output_type": "stream",
     "text": [
      "NOTE: pick_types() is a legacy function. New code should use inst.pick(...).\n",
      "Executing RANSAC\n",
      "This may take a while, so be patient...\n",
      "Finding optimal chunk size : 25\n",
      "Total # of chunks: 5\n",
      "Current chunk:\n",
      "1\n",
      "2\n",
      "3\n",
      "4\n",
      "5\n",
      "\n",
      "RANSAC done!\n"
     ]
    },
    {
     "name": "stderr",
     "output_type": "stream",
     "text": [
      "2025-06-17 15:42:21,017 - pyprep.reference - INFO - Bad channels: {'bad_by_nan': [], 'bad_by_flat': ['E127', 'Cz'], 'bad_by_deviation': ['E92'], 'bad_by_hf_noise': ['E55', 'E69', 'E73', 'E80'], 'bad_by_correlation': ['E92', 'E95'], 'bad_by_SNR': [], 'bad_by_dropout': [], 'bad_by_ransac': [np.str_('E55'), np.str_('E80'), np.str_('E126')], 'bad_all': [np.str_('E126'), 'E95', 'E80', 'E127', 'E69', 'E73', 'E92', 'E55', 'Cz']}\n"
     ]
    },
    {
     "name": "stdout",
     "output_type": "stream",
     "text": [
      "NOTE: pick_types() is a legacy function. New code should use inst.pick(...).\n",
      "Executing RANSAC\n",
      "This may take a while, so be patient...\n",
      "Finding optimal chunk size : 32\n",
      "Total # of chunks: 4\n",
      "Current chunk:\n",
      "1\n",
      "2\n",
      "3\n",
      "Finding optimal chunk size : 25\n",
      "Total # of chunks: 5\n",
      "Current chunk:\n",
      "1\n",
      "2\n",
      "3\n",
      "4\n",
      "5\n",
      "\n",
      "RANSAC done!\n"
     ]
    },
    {
     "name": "stderr",
     "output_type": "stream",
     "text": [
      "2025-06-17 15:44:15,785 - pyprep.reference - INFO - Bad channels: {'bad_by_nan': [], 'bad_by_flat': ['Cz', 'E127'], 'bad_by_deviation': ['E92'], 'bad_by_hf_noise': ['E73', 'E69'], 'bad_by_correlation': ['E95', 'E92'], 'bad_by_SNR': [], 'bad_by_dropout': [], 'bad_by_ransac': [np.str_('E126'), np.str_('E128')], 'bad_all': [np.str_('E126'), 'E95', np.str_('E128'), 'E127', 'E69', 'E73', 'E92', 'Cz']}\n"
     ]
    },
    {
     "name": "stdout",
     "output_type": "stream",
     "text": [
      "Setting channel interpolation method to {'eeg': 'spline'}.\n",
      "Interpolating bad channels.\n",
      "    Automatic origin fit: head of radius 94.0 mm\n",
      "Computing interpolation matrix from 121 sensor positions\n",
      "Interpolating 8 sensors\n"
     ]
    },
    {
     "name": "stderr",
     "output_type": "stream",
     "text": [
      "2025-06-17 15:44:16,442 - pyprep.reference - INFO - Iterations: 1\n"
     ]
    },
    {
     "name": "stdout",
     "output_type": "stream",
     "text": [
      "NOTE: pick_types() is a legacy function. New code should use inst.pick(...).\n",
      "Executing RANSAC\n",
      "This may take a while, so be patient...\n",
      "Finding optimal chunk size : 42\n",
      "Total # of chunks: 3\n",
      "Current chunk:\n",
      "1\n",
      "2\n",
      "3\n",
      "\n",
      "RANSAC done!\n"
     ]
    },
    {
     "name": "stderr",
     "output_type": "stream",
     "text": [
      "2025-06-17 15:46:44,575 - pyprep.reference - INFO - Bad channels: {'bad_by_nan': [], 'bad_by_flat': ['Cz', 'E127'], 'bad_by_deviation': ['E92'], 'bad_by_hf_noise': ['E73', 'E69'], 'bad_by_correlation': ['E95', 'E92'], 'bad_by_SNR': [], 'bad_by_dropout': [], 'bad_by_ransac': [np.str_('E126'), np.str_('E128')], 'bad_all': [np.str_('E126'), 'E95', np.str_('E128'), 'E127', 'E69', 'E73', 'E92', 'Cz']}\n"
     ]
    },
    {
     "name": "stdout",
     "output_type": "stream",
     "text": [
      "Setting channel interpolation method to {'eeg': 'spline'}.\n",
      "Interpolating bad channels.\n",
      "    Automatic origin fit: head of radius 94.0 mm\n",
      "Computing interpolation matrix from 121 sensor positions\n",
      "Interpolating 8 sensors\n"
     ]
    },
    {
     "name": "stderr",
     "output_type": "stream",
     "text": [
      "2025-06-17 15:46:45,157 - pyprep.reference - INFO - Iterations: 2\n"
     ]
    },
    {
     "name": "stdout",
     "output_type": "stream",
     "text": [
      "NOTE: pick_types() is a legacy function. New code should use inst.pick(...).\n",
      "Executing RANSAC\n",
      "This may take a while, so be patient...\n",
      "Finding optimal chunk size : 42\n",
      "Total # of chunks: 3\n",
      "Current chunk:\n",
      "1\n",
      "2\n",
      "3\n",
      "\n",
      "RANSAC done!\n"
     ]
    },
    {
     "name": "stderr",
     "output_type": "stream",
     "text": [
      "2025-06-17 15:48:06,195 - pyprep.reference - INFO - Bad channels: {'bad_by_nan': [], 'bad_by_flat': ['Cz', 'E127'], 'bad_by_deviation': ['E92'], 'bad_by_hf_noise': ['E73', 'E69'], 'bad_by_correlation': ['E95', 'E92'], 'bad_by_SNR': [], 'bad_by_dropout': [], 'bad_by_ransac': [np.str_('E126'), np.str_('E128')], 'bad_all': [np.str_('E126'), 'E95', np.str_('E128'), 'E127', 'E69', 'E73', 'E92', 'Cz']}\n",
      "2025-06-17 15:48:06,196 - pyprep.reference - INFO - Robust reference done\n"
     ]
    },
    {
     "name": "stdout",
     "output_type": "stream",
     "text": [
      "Setting channel interpolation method to {'eeg': 'spline'}.\n",
      "Interpolating bad channels.\n",
      "    Automatic origin fit: head of radius 94.0 mm\n",
      "Computing interpolation matrix from 121 sensor positions\n",
      "Interpolating 8 sensors\n",
      "NOTE: pick_types() is a legacy function. New code should use inst.pick(...).\n",
      "Setting up high-pass filter at 1 Hz\n",
      "\n",
      "FIR filter parameters\n",
      "---------------------\n",
      "Designing a one-pass, zero-phase, non-causal highpass filter:\n",
      "- Windowed time-domain design (firwin) method\n",
      "- Hamming window with 0.0194 passband ripple and 53 dB stopband attenuation\n",
      "- Lower passband edge: 1.00\n",
      "- Lower transition bandwidth: 1.00 Hz (-6 dB cutoff frequency: 0.50 Hz)\n",
      "- Filter length: 3301 samples (3.301 s)\n",
      "\n"
     ]
    },
    {
     "name": "stderr",
     "output_type": "stream",
     "text": [
      "[Parallel(n_jobs=1)]: Done  17 tasks      | elapsed:    0.1s\n",
      "[Parallel(n_jobs=1)]: Done  71 tasks      | elapsed:    0.5s\n",
      "[Parallel(n_jobs=1)]: Done 129 out of 129 | elapsed:    0.9s finished\n"
     ]
    },
    {
     "name": "stdout",
     "output_type": "stream",
     "text": [
      "Executing RANSAC\n",
      "This may take a while, so be patient...\n",
      "Finding optimal chunk size : 64\n",
      "Total # of chunks: 2\n",
      "Current chunk:\n",
      "1\n",
      "2\n",
      "\n",
      "RANSAC done!\n",
      "Found 3 uniquely bad channels:\n",
      "\n",
      "0 by NaN: []\n",
      "\n",
      "0 by flat: []\n",
      "\n",
      "1 by deviation: ['E92']\n",
      "\n",
      "0 by HF noise: []\n",
      "\n",
      "2 by correlation: ['E92', 'E95']\n",
      "\n",
      "0 by SNR: []\n",
      "\n",
      "0 by dropout: []\n",
      "\n",
      "1 by RANSAC: [np.str_('E127')]\n",
      "\n",
      "Setting channel interpolation method to {'eeg': 'spline'}.\n",
      "Interpolating bad channels.\n",
      "    Automatic origin fit: head of radius 94.0 mm\n",
      "Computing interpolation matrix from 125 sensor positions\n",
      "Interpolating 4 sensors\n",
      "NOTE: pick_types() is a legacy function. New code should use inst.pick(...).\n",
      "Setting up high-pass filter at 1 Hz\n",
      "\n",
      "FIR filter parameters\n",
      "---------------------\n",
      "Designing a one-pass, zero-phase, non-causal highpass filter:\n",
      "- Windowed time-domain design (firwin) method\n",
      "- Hamming window with 0.0194 passband ripple and 53 dB stopband attenuation\n",
      "- Lower passband edge: 1.00\n",
      "- Lower transition bandwidth: 1.00 Hz (-6 dB cutoff frequency: 0.50 Hz)\n",
      "- Filter length: 3301 samples (3.301 s)\n",
      "\n"
     ]
    },
    {
     "name": "stderr",
     "output_type": "stream",
     "text": [
      "[Parallel(n_jobs=1)]: Done  17 tasks      | elapsed:    0.1s\n",
      "[Parallel(n_jobs=1)]: Done  71 tasks      | elapsed:    0.5s\n",
      "[Parallel(n_jobs=1)]: Done 129 out of 129 | elapsed:    0.8s finished\n"
     ]
    },
    {
     "name": "stdout",
     "output_type": "stream",
     "text": [
      "Executing RANSAC\n",
      "This may take a while, so be patient...\n",
      "Finding optimal chunk size : 65\n",
      "Total # of chunks: 2\n",
      "Current chunk:\n",
      "1\n",
      "2\n",
      "\n",
      "RANSAC done!\n"
     ]
    }
   ],
   "source": [
    "df = get_event_data(event='RestingState', \n",
    "                        df=import_eeg_data(xdf_filename),\n",
    "                        stim_df=import_stim_data(xdf_filename))\n",
    "\n",
    "ch_names = [f\"E{i+1}\" for i in range(df.shape[1] - 1)]\n",
    "info = mne.create_info(ch_names, \n",
    "                    sfreq=1/df.lsl_time_stamp.diff().mean(), \n",
    "                    ch_types='eeg')\n",
    "\n",
    "TS = df.lsl_time_stamp.values\n",
    "df.drop(columns=['lsl_time_stamp'], inplace=True)\n",
    "\n",
    "raw = mne.io.RawArray(df.T * 1e-6, info=info) # multiplying by 1e-6 converts to volts\n",
    "\n",
    "# Create a Cz reference\n",
    "value = np.zeros((1, raw.n_times))\n",
    "info = mne.create_info([\"Cz\"], raw.info['sfreq'], ch_types='eeg')\n",
    "cz = mne.io.RawArray(value, info)\n",
    "raw.add_channels([cz], force_update_info=True)\n",
    "\n",
    "# Apply a montage\n",
    "montage = mne.channels.make_standard_montage('GSN-HydroCel-129')\n",
    "raw.set_montage(montage, on_missing='ignore')\n",
    "\n",
    "#raw.crop(tmin=0, tmax=5)\n",
    "\n",
    "prep_params = {\n",
    "        \"ref_chs\": \"eeg\",\n",
    "        \"reref_chs\": \"eeg\",\n",
    "        \"line_freqs\": np.arange(60, raw.info[\"sfreq\"] / 2, 60),\n",
    "    }\n",
    "# these params set up the robust reference  - i.e. median of all channels and interpolate bad channels\n",
    "prep = pyprep.PrepPipeline(raw, montage=montage, channel_wise=True, prep_params=prep_params)\n",
    "prep_output = prep.fit()\n",
    "raw_cleaned = prep_output.raw_eeg"
   ]
  },
  {
   "cell_type": "code",
   "execution_count": null,
   "id": "7cfbd476",
   "metadata": {},
   "outputs": [],
   "source": []
  },
  {
   "cell_type": "code",
   "execution_count": null,
   "id": "399961ca",
   "metadata": {},
   "outputs": [],
   "source": [
    "subject = xdf_filename.split('sub-')[-1].split('_')[0]\n",
    "\n",
    "if len(glob('/'.join(xdf_filename.split('/')[:-1]) +'/*.fif')) < 3:\n",
    "    df = get_event_data(event='RestingState', \n",
    "                        df=import_eeg_data(xdf_filename),\n",
    "                        stim_df=import_stim_data(xdf_filename))\n",
    "\n",
    "    ch_names = [f\"E{i+1}\" for i in range(df.shape[1] - 1)]\n",
    "    info = mne.create_info(ch_names, \n",
    "                        sfreq=1/df.lsl_time_stamp.diff().mean(), \n",
    "                        ch_types='eeg')\n",
    "    \n",
    "    TS = df.lsl_time_stamp.values\n",
    "    df.drop(columns=['lsl_time_stamp'], inplace=True)\n",
    "\n",
    "    raw = mne.io.RawArray(df.T * 1e-6, info=info) # multiplying by 1e-6 converts to volts\n",
    "\n",
    "    # Create a Cz reference\n",
    "    value = np.zeros((1, raw.n_times))\n",
    "    info = mne.create_info([\"Cz\"], raw.info['sfreq'], ch_types='eeg')\n",
    "    cz = mne.io.RawArray(value, info)\n",
    "    raw.add_channels([cz], force_update_info=True)\n",
    "\n",
    "    # Apply a montage\n",
    "    montage = mne.channels.make_standard_montage('GSN-HydroCel-129')\n",
    "    raw.set_montage(montage, on_missing='ignore')\n",
    "\n",
    "    #raw.crop(tmin=0, tmax=5)\n",
    "\n",
    "    prep_params = {\n",
    "            \"ref_chs\": \"eeg\",\n",
    "            \"reref_chs\": \"eeg\",\n",
    "            \"line_freqs\": np.arange(60, raw.info[\"sfreq\"] / 2, 60),\n",
    "        }\n",
    "    # these params set up the robust reference  - i.e. median of all channels and interpolate bad channels\n",
    "    prep = pyprep.PrepPipeline(raw, montage=montage, channel_wise=True, prep_params=prep_params)\n",
    "    prep_output = prep.fit()\n",
    "    raw_cleaned = prep_output.raw_eeg\n",
    "\n",
    "\n",
    "    # check if cleaned file already exists\n",
    "    save_path = '/'.join(xdf_filename.split('/')[:-1]) + f'/sub-{subject}_ses-S001_task-CUNY_run-001_eeg_clean.fif'\n",
    "    raw_cleaned.save(save_path, overwrite=True)\n",
    "    vars = {}\n",
    "    print(f\"Bad channels before robust reference: {prep.noisy_channels_original['bad_all']}\")\n",
    "    vars['bad_channels_before'] = prep.noisy_channels_original['bad_all']\n",
    "    print(f\"Interpolated channels: {prep.interpolated_channels}\")\n",
    "    vars['interpolated_channels'] = prep.interpolated_channels\n",
    "    print(f\"Bad channels after interpolation: {prep.still_noisy_channels}\")\n",
    "    vars['bad_channels_after'] = prep.still_noisy_channels\n",
    "    # safe the vars dictionary to a file\n",
    "    with open('/'.join(xdf_filename.split('/')[:-1]) + f'/sub-{subject}_ses-S001_task-CUNY_run-001_eeg_clean_vars.json', 'w') as f:\n",
    "        json.dump(vars, f, indent=4)\n",
    "    \n",
    "'''else:\n",
    "    raw_cleaned = mne.io.read_raw_fif('/'.join(xdf_filename.split('/')[:-1]) + f'/sub-{subject}_ses-S001_task-CUNY_run-001_eeg_clean.fif', preload=True)\n",
    "    # read the vars dictionary from the file\n",
    "    with open('/'.join(xdf_filename.split('/')[:-1]) + f'/sub-{subject}_ses-S001_task-CUNY_run-001_eeg_clean_vars.json', 'r') as f:\n",
    "        vars = json.load(f)\n",
    "    print(f\"Bad channels before robust reference: {vars['bad_channels_before']}\")\n",
    "    print(f\"Interpolated channels: {vars['interpolated_channels']}\")\n",
    "    print(f\"Bad channels after interpolation: {vars['bad_channels_after']}\")\n",
    "    '''\n"
   ]
  },
  {
   "cell_type": "code",
   "execution_count": null,
   "id": "796aebc4",
   "metadata": {},
   "outputs": [],
   "source": [
    "TS"
   ]
  },
  {
   "cell_type": "code",
   "execution_count": null,
   "id": "e7847d2e",
   "metadata": {},
   "outputs": [],
   "source": [
    "\n",
    "\n",
    "\n",
    "blink_annotations = annotate_blinks(raw_cleaned, ch_name=[\"E25\", \"E8\"])\n",
    "\n",
    "muscle_annotations = annotate_muscle(raw_cleaned)\n",
    "\n",
    "all_annotations = blink_annotations + muscle_annotations + raw_cleaned.annotations\n",
    "raw_cleaned.set_annotations(all_annotations)\n",
    "\n",
    "# Create a binary array\n",
    "binary_mask = np.zeros(len(raw_cleaned.times), dtype=int)\n",
    "\n",
    "# Iterate over annotations\n",
    "for annot in raw_cleaned.annotations:\n",
    "    onset_sample = int(annot['onset'] * raw_cleaned.info['sfreq'])\n",
    "    duration_sample = int(annot['duration'] * raw_cleaned.info['sfreq'])\n",
    "    binary_mask[onset_sample:onset_sample + duration_sample] = 1\n",
    "\n",
    "percent_good = 1 - np.sum(binary_mask) / len(binary_mask)\n",
    "print(f'Percent Good Data: {percent_good * 100:.2f}%')\n",
    "vars['percent_good'] = percent_good * 100"
   ]
  },
  {
   "cell_type": "code",
   "execution_count": null,
   "id": "208b6f33",
   "metadata": {},
   "outputs": [],
   "source": [
    "TS"
   ]
  },
  {
   "cell_type": "markdown",
   "id": "c2c56711",
   "metadata": {},
   "source": [
    "# Artifact remove with ICA"
   ]
  },
  {
   "cell_type": "code",
   "execution_count": null,
   "id": "d24035b4",
   "metadata": {},
   "outputs": [],
   "source": [
    "# set notch filter\n",
    "raw_cleaned.notch_filter(60)\n",
    "# set bandpass filter\n",
    "raw_cleaned.filter(l_freq=1.0, h_freq=50.0) # only keeping frequencies between 1-50 Hz\n",
    "# play around with this number to get components \n",
    "# that seem to represent the actual brain activations well\n",
    "num_components = .95 \n",
    "ica = ICA(n_components=num_components, method='picard')\n",
    "ica.fit(raw_cleaned)"
   ]
  },
  {
   "cell_type": "code",
   "execution_count": null,
   "id": "0fc795f3",
   "metadata": {},
   "outputs": [],
   "source": [
    "# plot the components and wait for user input to select components\n",
    "ica.plot_components( title='ICA Components')\n",
    "#print(\"Select components to exclude (e.g., 0, 1, 2) and press Enter:\")\n",
    "#exclude = input().split(',')\n",
    "#exclude = [int(i.strip()) for i in exclude if i.strip().isdigit()]"
   ]
  },
  {
   "cell_type": "code",
   "execution_count": null,
   "id": "dcd9c06f",
   "metadata": {},
   "outputs": [],
   "source": [
    "ica.plot_sources(raw_cleaned)"
   ]
  },
  {
   "cell_type": "code",
   "execution_count": null,
   "id": "b9292ff3",
   "metadata": {},
   "outputs": [],
   "source": [
    "ica.plot_properties(raw_cleaned, picks=[0,4,13]) # This exact component number probably won't work if you recompute ICA\n"
   ]
  },
  {
   "cell_type": "code",
   "execution_count": null,
   "id": "36042522",
   "metadata": {},
   "outputs": [],
   "source": [
    "ica.plot_overlay(raw_cleaned, exclude=[0,1, 4,11, 13]) # see what the data would look like if we removed the component\n",
    "\n"
   ]
  },
  {
   "cell_type": "code",
   "execution_count": null,
   "id": "e4b53e8a",
   "metadata": {},
   "outputs": [],
   "source": [
    "ica.exclude = [0,4,11, 13] # these are the components that we want to exclude\n",
    "ica.apply(raw_cleaned)"
   ]
  },
  {
   "cell_type": "code",
   "execution_count": null,
   "id": "b7142123",
   "metadata": {},
   "outputs": [],
   "source": [
    "raw_cleaned.annotations.delete([i for i, desc in enumerate(raw_cleaned.annotations.description) if desc == 'blink' or desc == 'BAD_muscle'])\n",
    "fig = raw_cleaned.plot(show_scrollbars=False,\n",
    "                        show_scalebars=False,events=None, start=0, \n",
    "                        duration=200,n_channels=50, scalings=.35e-4, color='k', title='EEG Data after ICA')\n",
    "\n",
    "fig.savefig(f'./report_images/{subject}_cleaned_eeg.png', dpi=300, bbox_inches='tight')"
   ]
  },
  {
   "cell_type": "code",
   "execution_count": null,
   "id": "c2209bd5",
   "metadata": {},
   "outputs": [],
   "source": [
    "fig = raw_cleaned.plot_psd(fmax=50, average=False, show=True)\n",
    "fig.savefig(f'./report_images/{subject}_cleaned_eeg_psd.png', dpi=300, bbox_inches='tight')"
   ]
  },
  {
   "cell_type": "code",
   "execution_count": null,
   "id": "9918b32b",
   "metadata": {},
   "outputs": [],
   "source": [
    "raw_cleaned.plot()"
   ]
  },
  {
   "cell_type": "code",
   "execution_count": null,
   "id": "721beaf7",
   "metadata": {},
   "outputs": [],
   "source": [
    "save_path = '/'.join(xdf_filename.split('/')[:-1]) + f'/sub-{subject}_ses-S001_task-CUNY_run-001_eeg_clean.fif'\n",
    "raw_cleaned.save(save_path, overwrite=True)"
   ]
  }
 ],
 "metadata": {
  "kernelspec": {
   "display_name": ".venv",
   "language": "python",
   "name": "python3"
  },
  "language_info": {
   "codemirror_mode": {
    "name": "ipython",
    "version": 3
   },
   "file_extension": ".py",
   "mimetype": "text/x-python",
   "name": "python",
   "nbconvert_exporter": "python",
   "pygments_lexer": "ipython3",
   "version": "3.11.12"
  }
 },
 "nbformat": 4,
 "nbformat_minor": 5
}
