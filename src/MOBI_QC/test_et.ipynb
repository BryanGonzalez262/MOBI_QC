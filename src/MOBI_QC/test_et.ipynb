{
 "cells": [
  {
   "cell_type": "code",
   "execution_count": 1,
   "metadata": {},
   "outputs": [],
   "source": [
    "import pyxdf\n",
    "import numpy as np\n",
    "import pandas as pd\n",
    "from utils import *\n",
    "import seaborn as sns\n",
    "import matplotlib.pyplot as plt\n",
    "import math\n",
    "import matplotlib.animation as animation\n",
    "from IPython import display\n"
   ]
  },
  {
   "cell_type": "code",
   "execution_count": 2,
   "metadata": {},
   "outputs": [],
   "source": [
    "\n",
    "xdf_filename = '/Users/bryan.gonzalez/CUNY_subs/sub-P5963511/sub-P5963511_ses-S001_task-CUNY_run-001_mobi.xdf'\n",
    "\n",
    "et_df = get_event_data('RestingState', \n",
    "                       df= import_eyetracking_data(xdf_filename),\n",
    "                       stim_df=get_stim(xdf_filename))\n"
   ]
  },
  {
   "cell_type": "code",
   "execution_count": 3,
   "metadata": {},
   "outputs": [
    {
     "data": {
      "text/plain": [
       "Index(['device_time_stamp', 'left_gaze_origin_validity',\n",
       "       'right_gaze_origin_validity',\n",
       "       'left_gaze_origin_in_user_coordinate_system_0',\n",
       "       'left_gaze_origin_in_user_coordinate_system_1',\n",
       "       'left_gaze_origin_in_user_coordinate_system_2',\n",
       "       'right_gaze_origin_in_user_coordinate_system_0',\n",
       "       'right_gaze_origin_in_user_coordinate_system_1',\n",
       "       'right_gaze_origin_in_user_coordinate_system_2',\n",
       "       'left_gaze_origin_in_trackbox_coordinate_system_0',\n",
       "       'left_gaze_origin_in_trackbox_coordinate_system_1',\n",
       "       'left_gaze_origin_in_trackbox_coordinate_system_2',\n",
       "       'right_gaze_origin_in_trackbox_coordinate_system_0',\n",
       "       'right_gaze_origin_in_trackbox_coordinate_system_1',\n",
       "       'right_gaze_origin_in_trackbox_coordinate_system_2',\n",
       "       'left_gaze_point_validity', 'right_gaze_point_validity',\n",
       "       'left_gaze_point_in_user_coordinate_system_0',\n",
       "       'left_gaze_point_in_user_coordinate_system_1',\n",
       "       'left_gaze_point_in_user_coordinate_system_2',\n",
       "       'right_gaze_point_in_user_coordinate_system_0',\n",
       "       'right_gaze_point_in_user_coordinate_system_1',\n",
       "       'right_gaze_point_in_user_coordinate_system_2',\n",
       "       'left_gaze_point_on_display_area_0',\n",
       "       'left_gaze_point_on_display_area_1',\n",
       "       'right_gaze_point_on_display_area_0',\n",
       "       'right_gaze_point_on_display_area_1', 'left_pupil_validity',\n",
       "       'right_pupil_validity', 'left_pupil_diameter', 'right_pupil_diameter',\n",
       "       'lsl_time_stamp'],\n",
       "      dtype='object')"
      ]
     },
     "execution_count": 3,
     "metadata": {},
     "output_type": "execute_result"
    }
   ],
   "source": [
    "et_df.columns"
   ]
  },
  {
   "cell_type": "code",
   "execution_count": 4,
   "metadata": {},
   "outputs": [],
   "source": [
    "cols = ['lsl_time_stamp', \n",
    "        'left_gaze_origin_in_trackbox_coordinate_system_0', \n",
    "        'left_gaze_origin_in_trackbox_coordinate_system_1',\n",
    "        'right_gaze_origin_in_trackbox_coordinate_system_0',\n",
    "        'right_gaze_origin_in_trackbox_coordinate_system_1']\n",
    "\n",
    "df = et_df[cols].copy()\n",
    "df.rename(columns={'left_gaze_origin_in_trackbox_coordinate_system_0': 'left_x',\n",
    "                    'left_gaze_origin_in_trackbox_coordinate_system_1': 'left_y',\n",
    "                    'right_gaze_origin_in_trackbox_coordinate_system_0': 'right_x',\n",
    "                    'right_gaze_origin_in_trackbox_coordinate_system_1': 'right_y'}, inplace=True)\n",
    "\n",
    "df.reset_index(inplace=True)\n",
    "df = df.iloc[:20000]\n"
   ]
  },
  {
   "cell_type": "code",
   "execution_count": null,
   "metadata": {},
   "outputs": [],
   "source": [
    "# Create figure and axis\n",
    "fig, ax = plt.subplots()\n",
    "ax.set_xlim(df[['left_x', 'right_x']].min().min() - 1, df[['left_x', 'right_x']].max().max() + 1)\n",
    "ax.set_ylim(df[['left_y', 'right_y']].min().min() - 1, df[['left_y', 'right_y']].max().max() + 1)\n",
    "\n",
    "# Scatter plot objects\n",
    "obj1, = ax.plot([], [], 'ro', label=\"Object 1\")  # Red dot\n",
    "obj2, = ax.plot([], [], 'bo', label=\"Object 2\")  # Blue dot\n",
    "ax.legend()\n",
    "\n",
    "# Update function for animation\n",
    "def update(frame):\n",
    "    obj1.set_data([df.loc[frame, 'left_x']], [df.loc[frame, 'left_y']])\n",
    "    obj2.set_data([df.loc[frame, 'right_x']], [df.loc[frame, 'right_y']])\n",
    "    return obj1, obj2\n",
    "\n",
    "# Create animation\n",
    "ani = animation.FuncAnimation(fig, update, frames=len(df), interval=10, blit=True)\n",
    "video = ani.to_html5_video()\n",
    "html = display.HTML(video)\n",
    "display.display(html)\n",
    "plt.close()\n",
    "# Show animation\n",
    "plt.show()"
   ]
  },
  {
   "cell_type": "code",
   "execution_count": null,
   "metadata": {},
   "outputs": [],
   "source": []
  }
 ],
 "metadata": {
  "kernelspec": {
   "display_name": "mne",
   "language": "python",
   "name": "python3"
  },
  "language_info": {
   "codemirror_mode": {
    "name": "ipython",
    "version": 3
   },
   "file_extension": ".py",
   "mimetype": "text/x-python",
   "name": "python",
   "nbconvert_exporter": "python",
   "pygments_lexer": "ipython3",
   "version": "3.12.8"
  }
 },
 "nbformat": 4,
 "nbformat_minor": 2
}
