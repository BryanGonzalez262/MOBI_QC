{
 "cells": [
  {
   "cell_type": "code",
   "execution_count": 4,
   "metadata": {},
   "outputs": [],
   "source": [
    "import pyxdf\n",
    "import pandas as pd\n",
    "import matplotlib.pyplot as plt \n",
    "import seaborn as sns \n",
    "import wave\n",
    "#import pyaudio\n",
    "import numpy as np\n",
    "#import sounddevice as sd\n",
    "from utils import *\n",
    "import cv2\n",
    "from scipy.signal import iirnotch, filtfilt\n",
    "from glob import glob"
   ]
  },
  {
   "cell_type": "code",
   "execution_count": 18,
   "metadata": {},
   "outputs": [
    {
     "data": {
      "text/plain": [
       "['/Users/apurva.gokhe/Documents/CUNY_QC/data/sub-P5029423/sub-P5029423_task-CUNY_run-001_eyes.csv',\n",
       " '/Users/apurva.gokhe/Documents/CUNY_QC/data/sub-P5029423/sub-P5029423_ses-S001_task-CUNY_run-001_mobi.xdf',\n",
       " '/Users/apurva.gokhe/Documents/CUNY_QC/data/sub-P5029423/P5029423_20250129_111625.mff',\n",
       " '/Users/apurva.gokhe/Documents/CUNY_QC/data/sub-P5029423/sub-P5029423_task-CUNY_run-001_behavior.log',\n",
       " '/Users/apurva.gokhe/Documents/CUNY_QC/data/sub-P5029423/sub-P5029423_task-CUNY_run-001_behavior.csv',\n",
       " '/Users/apurva.gokhe/Documents/CUNY_QC/data/sub-P5029423/sub-P5029423_task-CUNY_run-001_physio.h5',\n",
       " '/Users/apurva.gokhe/Documents/CUNY_QC/data/sub-P5029423/sub-P5029423_task-CUNY_run-001_video.avi',\n",
       " '/Users/apurva.gokhe/Documents/CUNY_QC/data/sub-P5029423/sub-P5029423_task-CUNY_run-001_behavior.psydat',\n",
       " '/Users/apurva.gokhe/Documents/CUNY_QC/data/sub-P5029423/sub-P5029423_task-CUNY_run-001_mic.wav']"
      ]
     },
     "execution_count": 18,
     "metadata": {},
     "output_type": "execute_result"
    }
   ],
   "source": [
    "subject_dirs = glob('/Users/apurva.gokhe/Documents/CUNY_QC/data/sub-P5029423/*')\n",
    "subject_dirs"
   ]
  },
  {
   "cell_type": "markdown",
   "metadata": {},
   "source": [
    "# Load Data"
   ]
  },
  {
   "cell_type": "code",
   "execution_count": 8,
   "metadata": {},
   "outputs": [
    {
     "data": {
      "text/plain": [
       "['Tobii',\n",
       " 'WebcamStream',\n",
       " 'Stimuli_Markers',\n",
       " 'EGI NetAmp 0',\n",
       " 'OpenSignals',\n",
       " 'Microphone']"
      ]
     },
     "execution_count": 8,
     "metadata": {},
     "output_type": "execute_result"
    }
   ],
   "source": [
    "#xdf_path =  '/Users/apurva.gokhe/Documents/CUNY_QC/data/sub-P5070899/sub-P5070899_ses-S001_task-CUNY_run-001_mobi.xdf'\n",
    "#data, header = pyxdf.load_xdf(xdf_path)\n",
    "data, header = load_xdf_from_zip('/Users/apurva.gokhe/Documents/CUNY_QC/sub-P5029423.tar.gz')\n",
    "streams_collected = [stream['info']['name'][0] for stream in data]\n",
    "streams_collected"
   ]
  },
  {
   "cell_type": "markdown",
   "metadata": {},
   "source": [
    "# Stimulus"
   ]
  },
  {
   "cell_type": "code",
   "execution_count": 9,
   "metadata": {},
   "outputs": [
    {
     "data": {
      "application/vnd.microsoft.datawrangler.viewer.v0+json": {
       "columns": [
        {
         "name": "index",
         "rawType": "int64",
         "type": "integer"
        },
        {
         "name": "trigger",
         "rawType": "float32",
         "type": "float"
        },
        {
         "name": "event",
         "rawType": "object",
         "type": "string"
        },
        {
         "name": "lsl_time_stamp",
         "rawType": "float64",
         "type": "float"
        },
        {
         "name": "time",
         "rawType": "float64",
         "type": "float"
        }
       ],
       "conversionMethod": "pd.DataFrame",
       "ref": "9861d02d-0b0b-46d5-a1dc-37df91f79fbb",
       "rows": [
        [
         "0",
         "200.0",
         "Onset_ExperimentStart",
         "185787.7142734537",
         "0.0"
        ],
        [
         "1",
         "1738167700.0",
         "psychopy_time_stamp",
         "185787.7142960534",
         "2.2599706426262855e-08"
        ],
        [
         "2",
         "10.0",
         "Onset_RestingState",
         "185814.22993588215",
         "0.02651566242845729"
        ],
        [
         "3",
         "1738167800.0",
         "psychopy_time_stamp",
         "185814.2299442822",
         "0.026515670828521253"
        ],
        [
         "4",
         "11.0",
         "Offset_RestingState",
         "186114.23555755173",
         "0.32652128409803843"
        ],
        [
         "5",
         "1738168000.0",
         "psychopy_time_stamp",
         "186114.23557275184",
         "0.3265212992981542"
        ],
        [
         "6",
         "500.0",
         "Onset_StoryListening",
         "186114.23559595156",
         "0.3265213224978652"
        ],
        [
         "7",
         "1738168000.0",
         "psychopy_time_stamp",
         "186114.23559695156",
         "0.3265213234978728"
        ],
        [
         "8",
         "100.0",
         "Onset_10second_rest",
         "186150.71207671124",
         "0.36299780325754544"
        ],
        [
         "9",
         "1738168000.0",
         "psychopy_time_stamp",
         "186150.71209121123",
         "0.3629978177575395"
        ],
        [
         "10",
         "101.0",
         "Offset_10second_rest",
         "186160.71320722857",
         "0.3729989337748848"
        ],
        [
         "11",
         "1738168000.0",
         "psychopy_time_stamp",
         "186160.71322082845",
         "0.37299894737475553"
        ],
        [
         "12",
         "70.0",
         "Onset_BirthdayParty",
         "186160.80977081694",
         "0.373095497363247"
        ],
        [
         "13",
         "1738168000.0",
         "psychopy_time_stamp",
         "186160.809780417",
         "0.37309550696332006"
        ],
        [
         "14",
         "71.0",
         "Offset_BirthdayParty",
         "186308.01875205268",
         "0.5203044785989914"
        ],
        [
         "15",
         "1738168300.0",
         "psychopy_time_stamp",
         "186308.0187632523",
         "0.520304489798611"
        ],
        [
         "16",
         "300.0",
         "Onset_subjectInput",
         "186323.34364006645",
         "0.5356293666127604"
        ],
        [
         "17",
         "1738168300.0",
         "psychopy_time_stamp",
         "186323.3436513662",
         "0.5356293779124971"
        ],
        [
         "18",
         "301.0",
         "Offset_subjectInput",
         "186354.33180920128",
         "0.5666175357475877"
        ],
        [
         "19",
         "3.0",
         "Bx_input",
         "186354.33181830123",
         "0.5666175448475406"
        ],
        [
         "20",
         "1738168300.0",
         "psychopy_time_stamp",
         "186354.33181940136",
         "0.5666175459476653"
        ],
        [
         "21",
         "300.0",
         "Onset_subjectInput",
         "186354.34878931148",
         "0.5666345158577897"
        ],
        [
         "22",
         "1738168300.0",
         "psychopy_time_stamp",
         "186354.34879701142",
         "0.5666345235577319"
        ],
        [
         "23",
         "301.0",
         "Offset_subjectInput",
         "186359.59833230102",
         "0.571884058847325"
        ],
        [
         "24",
         "6.0",
         "Bx_input",
         "186359.59834140097",
         "0.5718840679472778"
        ],
        [
         "25",
         "1738168300.0",
         "psychopy_time_stamp",
         "186359.59834250086",
         "0.5718840690471697"
        ],
        [
         "26",
         "300.0",
         "Onset_subjectInput",
         "186359.61108843354",
         "0.5718968149798457"
        ],
        [
         "27",
         "1738168300.0",
         "psychopy_time_stamp",
         "186359.61109563336",
         "0.5718968221796676"
        ],
        [
         "28",
         "301.0",
         "Offset_subjectInput",
         "186365.08191635087",
         "0.5773676428971812"
        ],
        [
         "29",
         "6.0",
         "Bx_input",
         "186365.0819256506",
         "0.5773676521969028"
        ],
        [
         "30",
         "1738168300.0",
         "psychopy_time_stamp",
         "186365.0819266506",
         "0.5773676531969104"
        ],
        [
         "31",
         "300.0",
         "Onset_subjectInput",
         "186365.12566111912",
         "0.5774113876654301"
        ],
        [
         "32",
         "1738168300.0",
         "psychopy_time_stamp",
         "186365.12566951895",
         "0.5774113960652613"
        ],
        [
         "33",
         "301.0",
         "Offset_subjectInput",
         "186369.50137473783",
         "0.5817871012841351"
        ],
        [
         "34",
         "5.0",
         "Bx_input",
         "186369.5013837379",
         "0.5817871102842037"
        ],
        [
         "35",
         "1738168300.0",
         "psychopy_time_stamp",
         "186369.5013847379",
         "0.5817871112842112"
        ],
        [
         "36",
         "300.0",
         "Onset_subjectInput",
         "186369.5224605261",
         "0.5818081870723981"
        ],
        [
         "37",
         "1738168300.0",
         "psychopy_time_stamp",
         "186369.52246752614",
         "0.5818081940724514"
        ],
        [
         "38",
         "301.0",
         "Offset_subjectInput",
         "186376.63178986358",
         "0.5889175164098851"
        ],
        [
         "39",
         "3.0",
         "Bx_input",
         "186376.63179926318",
         "0.5889175258094911"
        ],
        [
         "40",
         "1738168300.0",
         "psychopy_time_stamp",
         "186376.63180196332",
         "0.588917528509628"
        ],
        [
         "41",
         "300.0",
         "Onset_subjectInput",
         "186376.64421509765",
         "0.5889299416439607"
        ],
        [
         "42",
         "1738168300.0",
         "psychopy_time_stamp",
         "186376.64422229747",
         "0.5889299488437828"
        ],
        [
         "43",
         "301.0",
         "Offset_subjectInput",
         "186382.78128548525",
         "0.5950670120315626"
        ],
        [
         "44",
         "2.0",
         "Bx_input",
         "186382.78129448532",
         "0.5950670210316311"
        ],
        [
         "45",
         "1738168300.0",
         "psychopy_time_stamp",
         "186382.78129548533",
         "0.5950670220316387"
        ],
        [
         "46",
         "100.0",
         "Onset_10second_rest",
         "186387.18067097897",
         "0.599466397525277"
        ],
        [
         "47",
         "1738168300.0",
         "psychopy_time_stamp",
         "186387.18068637885",
         "0.5994664129251615"
        ],
        [
         "48",
         "101.0",
         "Offset_10second_rest",
         "186397.17978570703",
         "0.6094655122533441"
        ],
        [
         "49",
         "1738168300.0",
         "psychopy_time_stamp",
         "186397.17979610688",
         "0.6094655226531904"
        ]
       ],
       "shape": {
        "columns": 4,
        "rows": 261
       }
      },
      "text/html": [
       "<div>\n",
       "<style scoped>\n",
       "    .dataframe tbody tr th:only-of-type {\n",
       "        vertical-align: middle;\n",
       "    }\n",
       "\n",
       "    .dataframe tbody tr th {\n",
       "        vertical-align: top;\n",
       "    }\n",
       "\n",
       "    .dataframe thead th {\n",
       "        text-align: right;\n",
       "    }\n",
       "</style>\n",
       "<table border=\"1\" class=\"dataframe\">\n",
       "  <thead>\n",
       "    <tr style=\"text-align: right;\">\n",
       "      <th></th>\n",
       "      <th>trigger</th>\n",
       "      <th>event</th>\n",
       "      <th>lsl_time_stamp</th>\n",
       "      <th>time</th>\n",
       "    </tr>\n",
       "  </thead>\n",
       "  <tbody>\n",
       "    <tr>\n",
       "      <th>0</th>\n",
       "      <td>2.000000e+02</td>\n",
       "      <td>Onset_ExperimentStart</td>\n",
       "      <td>185787.714273</td>\n",
       "      <td>0.000000e+00</td>\n",
       "    </tr>\n",
       "    <tr>\n",
       "      <th>1</th>\n",
       "      <td>1.738168e+09</td>\n",
       "      <td>psychopy_time_stamp</td>\n",
       "      <td>185787.714296</td>\n",
       "      <td>2.259971e-08</td>\n",
       "    </tr>\n",
       "    <tr>\n",
       "      <th>2</th>\n",
       "      <td>1.000000e+01</td>\n",
       "      <td>Onset_RestingState</td>\n",
       "      <td>185814.229936</td>\n",
       "      <td>2.651566e-02</td>\n",
       "    </tr>\n",
       "    <tr>\n",
       "      <th>3</th>\n",
       "      <td>1.738168e+09</td>\n",
       "      <td>psychopy_time_stamp</td>\n",
       "      <td>185814.229944</td>\n",
       "      <td>2.651567e-02</td>\n",
       "    </tr>\n",
       "    <tr>\n",
       "      <th>4</th>\n",
       "      <td>1.100000e+01</td>\n",
       "      <td>Offset_RestingState</td>\n",
       "      <td>186114.235558</td>\n",
       "      <td>3.265213e-01</td>\n",
       "    </tr>\n",
       "    <tr>\n",
       "      <th>...</th>\n",
       "      <td>...</td>\n",
       "      <td>...</td>\n",
       "      <td>...</td>\n",
       "      <td>...</td>\n",
       "    </tr>\n",
       "    <tr>\n",
       "      <th>256</th>\n",
       "      <td>1.738170e+09</td>\n",
       "      <td>psychopy_time_stamp</td>\n",
       "      <td>187994.410770</td>\n",
       "      <td>2.206696e+00</td>\n",
       "    </tr>\n",
       "    <tr>\n",
       "      <th>257</th>\n",
       "      <td>2.010000e+02</td>\n",
       "      <td>Offset_ExperimentEnd</td>\n",
       "      <td>187999.411616</td>\n",
       "      <td>2.211697e+00</td>\n",
       "    </tr>\n",
       "    <tr>\n",
       "      <th>258</th>\n",
       "      <td>1.738170e+09</td>\n",
       "      <td>psychopy_time_stamp</td>\n",
       "      <td>187999.411631</td>\n",
       "      <td>2.211697e+00</td>\n",
       "    </tr>\n",
       "    <tr>\n",
       "      <th>259</th>\n",
       "      <td>4.000000e+00</td>\n",
       "      <td>Bx_input</td>\n",
       "      <td>187999.411756</td>\n",
       "      <td>2.211697e+00</td>\n",
       "    </tr>\n",
       "    <tr>\n",
       "      <th>260</th>\n",
       "      <td>1.738170e+09</td>\n",
       "      <td>psychopy_time_stamp</td>\n",
       "      <td>187999.411759</td>\n",
       "      <td>2.211697e+00</td>\n",
       "    </tr>\n",
       "  </tbody>\n",
       "</table>\n",
       "<p>261 rows × 4 columns</p>\n",
       "</div>"
      ],
      "text/plain": [
       "          trigger                  event  lsl_time_stamp          time\n",
       "0    2.000000e+02  Onset_ExperimentStart   185787.714273  0.000000e+00\n",
       "1    1.738168e+09    psychopy_time_stamp   185787.714296  2.259971e-08\n",
       "2    1.000000e+01     Onset_RestingState   185814.229936  2.651566e-02\n",
       "3    1.738168e+09    psychopy_time_stamp   185814.229944  2.651567e-02\n",
       "4    1.100000e+01    Offset_RestingState   186114.235558  3.265213e-01\n",
       "..            ...                    ...             ...           ...\n",
       "256  1.738170e+09    psychopy_time_stamp   187994.410770  2.206696e+00\n",
       "257  2.010000e+02   Offset_ExperimentEnd   187999.411616  2.211697e+00\n",
       "258  1.738170e+09    psychopy_time_stamp   187999.411631  2.211697e+00\n",
       "259  4.000000e+00               Bx_input   187999.411756  2.211697e+00\n",
       "260  1.738170e+09    psychopy_time_stamp   187999.411759  2.211697e+00\n",
       "\n",
       "[261 rows x 4 columns]"
      ]
     },
     "execution_count": 9,
     "metadata": {},
     "output_type": "execute_result"
    }
   ],
   "source": [
    "stim_dat = data[streams_collected.index('Stimuli_Markers')]\n",
    "stim_df = pd.DataFrame(stim_dat['time_series'])\n",
    "stim_df.rename(columns={0: 'trigger'}, inplace=True)\n",
    "events = {\n",
    "    200: 'Onset_ExperimentStart',\n",
    "    10: 'Onset_RestingState',\n",
    "    11: 'Offset_RestingState',\n",
    "    500: 'Onset_StoryListening',\n",
    "    501: 'Offset_StoryListening',\n",
    "    100: 'Onset_10second_rest',\n",
    "    101: 'Offset_10second_rest', \n",
    "    20: 'Onset_CampFriend',\n",
    "    21: 'Offset_CampFriend',\n",
    "    30: 'Onset_FrogDissection',\n",
    "    31: 'Offset_FrogDissection',\n",
    "    40: 'Onset_DanceContest',\n",
    "    41: 'Offset_DanceContest',\n",
    "    50: 'Onset_ZoomClass',\n",
    "    51: 'Offset_ZoomClass',\n",
    "    60: 'Onset_Tornado',\n",
    "    61: 'Offset_Tornado',\n",
    "    70: 'Onset_BirthdayParty',\n",
    "    71: 'Offset_BirthdayParty',\n",
    "    300: 'Onset_subjectInput',\n",
    "    301: 'Offset_subjectInput',\n",
    "    302: 'Onset_FavoriteStory',\n",
    "    303: 'Offset_FavoriteStory',\n",
    "    304: 'Onset_WorstStory',\n",
    "    305: 'Offset_WorstStory',\n",
    "    400: 'Onset_impedanceCheck',\n",
    "    401: 'Offset_impedanceCheck',\n",
    "    80: 'Onset_SocialTask',\n",
    "    81: 'Offset_SocialTask',\n",
    "    201: 'Offset_ExperimentEnd',\n",
    "}\n",
    "\n",
    "story_onsets = [10, 20, 30, 40, 50, 60, 70, 80, 100, 300, 400, 200]\n",
    "\n",
    "# relabel the event if the trigger is in the events dictionary, else if \n",
    "stim_df['event'] = stim_df['trigger'].apply(lambda x: events[x] if x in events.keys() else 'Bx_input')\n",
    "\n",
    "# relabel the event as a psychopy timestamp if the trigger is greater than 5 digits\n",
    "stim_df.loc[stim_df.trigger.astype(str).str.len() > 5, 'event'] = 'psychopy_time_stamp'\n",
    "stim_df['lsl_time_stamp'] = stim_dat['time_stamps']\n",
    "stim_df['time'] = (stim_dat['time_stamps'] - stim_dat['time_stamps'][0])/1000\n",
    "stim_df"
   ]
  },
  {
   "cell_type": "code",
   "execution_count": 10,
   "metadata": {},
   "outputs": [],
   "source": [
    "# Function to calculate time between two triggeres\n",
    "\n",
    "def get_secs_between_triggers(trigger1, trigger2):\n",
    "    return stim_df.loc[stim_df.trigger == trigger1, 'lsl_time_stamp'].values[0] - stim_df.loc[stim_df.trigger == trigger2, 'lsl_time_stamp'].values[0]"
   ]
  },
  {
   "cell_type": "code",
   "execution_count": 11,
   "metadata": {},
   "outputs": [
    {
     "data": {
      "application/vnd.microsoft.datawrangler.viewer.v0+json": {
       "columns": [
        {
         "name": "index",
         "rawType": "int64",
         "type": "integer"
        },
        {
         "name": "trigger",
         "rawType": "float32",
         "type": "float"
        },
        {
         "name": "event",
         "rawType": "object",
         "type": "string"
        },
        {
         "name": "lsl_time_stamp",
         "rawType": "float64",
         "type": "float"
        },
        {
         "name": "time",
         "rawType": "float64",
         "type": "float"
        }
       ],
       "conversionMethod": "pd.DataFrame",
       "ref": "4089fa2d-6766-44b6-a1eb-93fa02a28197",
       "rows": [
        [
         "0",
         "200.0",
         "Onset_ExperimentStart",
         "185787.7142734537",
         "0.0"
        ],
        [
         "2",
         "10.0",
         "Onset_RestingState",
         "185814.22993588215",
         "0.02651566242845729"
        ],
        [
         "4",
         "11.0",
         "Offset_RestingState",
         "186114.23555755173",
         "0.32652128409803843"
        ],
        [
         "6",
         "500.0",
         "Onset_StoryListening",
         "186114.23559595156",
         "0.3265213224978652"
        ],
        [
         "8",
         "100.0",
         "Onset_10second_rest",
         "186150.71207671124",
         "0.36299780325754544"
        ],
        [
         "10",
         "101.0",
         "Offset_10second_rest",
         "186160.71320722857",
         "0.3729989337748848"
        ],
        [
         "12",
         "70.0",
         "Onset_BirthdayParty",
         "186160.80977081694",
         "0.373095497363247"
        ],
        [
         "14",
         "71.0",
         "Offset_BirthdayParty",
         "186308.01875205268",
         "0.5203044785989914"
        ],
        [
         "16",
         "300.0",
         "Onset_subjectInput",
         "186323.34364006645",
         "0.5356293666127604"
        ],
        [
         "18",
         "301.0",
         "Offset_subjectInput",
         "186354.33180920128",
         "0.5666175357475877"
        ],
        [
         "19",
         "3.0",
         "Bx_input",
         "186354.33181830123",
         "0.5666175448475406"
        ],
        [
         "21",
         "300.0",
         "Onset_subjectInput",
         "186354.34878931148",
         "0.5666345158577897"
        ],
        [
         "23",
         "301.0",
         "Offset_subjectInput",
         "186359.59833230102",
         "0.571884058847325"
        ],
        [
         "24",
         "6.0",
         "Bx_input",
         "186359.59834140097",
         "0.5718840679472778"
        ],
        [
         "26",
         "300.0",
         "Onset_subjectInput",
         "186359.61108843354",
         "0.5718968149798457"
        ],
        [
         "28",
         "301.0",
         "Offset_subjectInput",
         "186365.08191635087",
         "0.5773676428971812"
        ],
        [
         "29",
         "6.0",
         "Bx_input",
         "186365.0819256506",
         "0.5773676521969028"
        ],
        [
         "31",
         "300.0",
         "Onset_subjectInput",
         "186365.12566111912",
         "0.5774113876654301"
        ],
        [
         "33",
         "301.0",
         "Offset_subjectInput",
         "186369.50137473783",
         "0.5817871012841351"
        ],
        [
         "34",
         "5.0",
         "Bx_input",
         "186369.5013837379",
         "0.5817871102842037"
        ],
        [
         "36",
         "300.0",
         "Onset_subjectInput",
         "186369.5224605261",
         "0.5818081870723981"
        ],
        [
         "38",
         "301.0",
         "Offset_subjectInput",
         "186376.63178986358",
         "0.5889175164098851"
        ],
        [
         "39",
         "3.0",
         "Bx_input",
         "186376.63179926318",
         "0.5889175258094911"
        ],
        [
         "41",
         "300.0",
         "Onset_subjectInput",
         "186376.64421509765",
         "0.5889299416439607"
        ],
        [
         "43",
         "301.0",
         "Offset_subjectInput",
         "186382.78128548525",
         "0.5950670120315626"
        ],
        [
         "44",
         "2.0",
         "Bx_input",
         "186382.78129448532",
         "0.5950670210316311"
        ],
        [
         "46",
         "100.0",
         "Onset_10second_rest",
         "186387.18067097897",
         "0.599466397525277"
        ],
        [
         "48",
         "101.0",
         "Offset_10second_rest",
         "186397.17978570703",
         "0.6094655122533441"
        ],
        [
         "50",
         "20.0",
         "Onset_CampFriend",
         "186397.25380261475",
         "0.6095395291610621"
        ],
        [
         "52",
         "21.0",
         "Offset_CampFriend",
         "186537.690397528",
         "0.74997612407431"
        ],
        [
         "54",
         "300.0",
         "Onset_subjectInput",
         "186545.0080122617",
         "0.7572937388080172"
        ],
        [
         "56",
         "301.0",
         "Offset_subjectInput",
         "186553.90150874713",
         "0.7661872352934442"
        ],
        [
         "57",
         "2.0",
         "Bx_input",
         "186553.9015176471",
         "0.7661872441933956"
        ],
        [
         "59",
         "300.0",
         "Onset_subjectInput",
         "186553.92297093337",
         "0.7662086974796839"
        ],
        [
         "61",
         "301.0",
         "Offset_subjectInput",
         "186557.8295801375",
         "0.770115306683816"
        ],
        [
         "62",
         "6.0",
         "Bx_input",
         "186557.82958943746",
         "0.7701153159837704"
        ],
        [
         "64",
         "300.0",
         "Onset_subjectInput",
         "186557.8409950768",
         "0.7701267216231208"
        ],
        [
         "66",
         "301.0",
         "Offset_subjectInput",
         "186560.91663778317",
         "0.7732023643294815"
        ],
        [
         "67",
         "6.0",
         "Bx_input",
         "186560.91664668312",
         "0.7732023732294329"
        ],
        [
         "69",
         "300.0",
         "Onset_subjectInput",
         "186560.9495254089",
         "0.7732352519552224"
        ],
        [
         "71",
         "301.0",
         "Offset_subjectInput",
         "186566.5477507515",
         "0.7788334772977978"
        ],
        [
         "72",
         "5.0",
         "Bx_input",
         "186566.54776035156",
         "0.7788334868978709"
        ],
        [
         "74",
         "300.0",
         "Onset_subjectInput",
         "186566.57294701808",
         "0.7788586735643912"
        ],
        [
         "76",
         "301.0",
         "Offset_subjectInput",
         "186574.2326891392",
         "0.7865184156855103"
        ],
        [
         "77",
         "5.0",
         "Bx_input",
         "186574.23269873927",
         "0.7865184252855834"
        ],
        [
         "79",
         "300.0",
         "Onset_subjectInput",
         "186574.24789865874",
         "0.7865336252050474"
        ],
        [
         "81",
         "301.0",
         "Offset_subjectInput",
         "186579.71502789576",
         "0.792000754442066"
        ],
        [
         "82",
         "4.0",
         "Bx_input",
         "186579.71503709536",
         "0.7920007636416704"
        ],
        [
         "84",
         "100.0",
         "Onset_10second_rest",
         "186583.38022707845",
         "0.7956659536247608"
        ],
        [
         "86",
         "101.0",
         "Offset_10second_rest",
         "186593.37989280373",
         "0.8056656193500384"
        ]
       ],
       "shape": {
        "columns": 4,
        "rows": 149
       }
      },
      "text/html": [
       "<div>\n",
       "<style scoped>\n",
       "    .dataframe tbody tr th:only-of-type {\n",
       "        vertical-align: middle;\n",
       "    }\n",
       "\n",
       "    .dataframe tbody tr th {\n",
       "        vertical-align: top;\n",
       "    }\n",
       "\n",
       "    .dataframe thead th {\n",
       "        text-align: right;\n",
       "    }\n",
       "</style>\n",
       "<table border=\"1\" class=\"dataframe\">\n",
       "  <thead>\n",
       "    <tr style=\"text-align: right;\">\n",
       "      <th></th>\n",
       "      <th>trigger</th>\n",
       "      <th>event</th>\n",
       "      <th>lsl_time_stamp</th>\n",
       "      <th>time</th>\n",
       "    </tr>\n",
       "  </thead>\n",
       "  <tbody>\n",
       "    <tr>\n",
       "      <th>0</th>\n",
       "      <td>200.0</td>\n",
       "      <td>Onset_ExperimentStart</td>\n",
       "      <td>185787.714273</td>\n",
       "      <td>0.000000</td>\n",
       "    </tr>\n",
       "    <tr>\n",
       "      <th>2</th>\n",
       "      <td>10.0</td>\n",
       "      <td>Onset_RestingState</td>\n",
       "      <td>185814.229936</td>\n",
       "      <td>0.026516</td>\n",
       "    </tr>\n",
       "    <tr>\n",
       "      <th>4</th>\n",
       "      <td>11.0</td>\n",
       "      <td>Offset_RestingState</td>\n",
       "      <td>186114.235558</td>\n",
       "      <td>0.326521</td>\n",
       "    </tr>\n",
       "    <tr>\n",
       "      <th>6</th>\n",
       "      <td>500.0</td>\n",
       "      <td>Onset_StoryListening</td>\n",
       "      <td>186114.235596</td>\n",
       "      <td>0.326521</td>\n",
       "    </tr>\n",
       "    <tr>\n",
       "      <th>8</th>\n",
       "      <td>100.0</td>\n",
       "      <td>Onset_10second_rest</td>\n",
       "      <td>186150.712077</td>\n",
       "      <td>0.362998</td>\n",
       "    </tr>\n",
       "    <tr>\n",
       "      <th>...</th>\n",
       "      <td>...</td>\n",
       "      <td>...</td>\n",
       "      <td>...</td>\n",
       "      <td>...</td>\n",
       "    </tr>\n",
       "    <tr>\n",
       "      <th>251</th>\n",
       "      <td>401.0</td>\n",
       "      <td>Offset_impedanceCheck</td>\n",
       "      <td>187676.164065</td>\n",
       "      <td>1.888450</td>\n",
       "    </tr>\n",
       "    <tr>\n",
       "      <th>253</th>\n",
       "      <td>80.0</td>\n",
       "      <td>Onset_SocialTask</td>\n",
       "      <td>187693.919192</td>\n",
       "      <td>1.906205</td>\n",
       "    </tr>\n",
       "    <tr>\n",
       "      <th>255</th>\n",
       "      <td>81.0</td>\n",
       "      <td>Offset_SocialTask</td>\n",
       "      <td>187994.410744</td>\n",
       "      <td>2.206696</td>\n",
       "    </tr>\n",
       "    <tr>\n",
       "      <th>257</th>\n",
       "      <td>201.0</td>\n",
       "      <td>Offset_ExperimentEnd</td>\n",
       "      <td>187999.411616</td>\n",
       "      <td>2.211697</td>\n",
       "    </tr>\n",
       "    <tr>\n",
       "      <th>259</th>\n",
       "      <td>4.0</td>\n",
       "      <td>Bx_input</td>\n",
       "      <td>187999.411756</td>\n",
       "      <td>2.211697</td>\n",
       "    </tr>\n",
       "  </tbody>\n",
       "</table>\n",
       "<p>149 rows × 4 columns</p>\n",
       "</div>"
      ],
      "text/plain": [
       "     trigger                  event  lsl_time_stamp      time\n",
       "0      200.0  Onset_ExperimentStart   185787.714273  0.000000\n",
       "2       10.0     Onset_RestingState   185814.229936  0.026516\n",
       "4       11.0    Offset_RestingState   186114.235558  0.326521\n",
       "6      500.0   Onset_StoryListening   186114.235596  0.326521\n",
       "8      100.0    Onset_10second_rest   186150.712077  0.362998\n",
       "..       ...                    ...             ...       ...\n",
       "251    401.0  Offset_impedanceCheck   187676.164065  1.888450\n",
       "253     80.0       Onset_SocialTask   187693.919192  1.906205\n",
       "255     81.0      Offset_SocialTask   187994.410744  2.206696\n",
       "257    201.0   Offset_ExperimentEnd   187999.411616  2.211697\n",
       "259      4.0               Bx_input   187999.411756  2.211697\n",
       "\n",
       "[149 rows x 4 columns]"
      ]
     },
     "execution_count": 11,
     "metadata": {},
     "output_type": "execute_result"
    }
   ],
   "source": [
    "# confirm all events are in the stim_df\n",
    "evs = stim_df.loc[stim_df.event != 'psychopy_time_stamp']\n",
    "evs"
   ]
  },
  {
   "cell_type": "markdown",
   "metadata": {},
   "source": [
    "### Check if markers are missing"
   ]
  },
  {
   "cell_type": "code",
   "execution_count": 12,
   "metadata": {},
   "outputs": [
    {
     "name": "stdout",
     "output_type": "stream",
     "text": [
      "None\n"
     ]
    }
   ],
   "source": [
    "def missing_markers(events, stim_df):\n",
    "    missing_markers=[]\n",
    "    for event in events:\n",
    "        if event in stim_df.event:\n",
    "            return None\n",
    "        else:\n",
    "            missing_markers = missing_markers + [event]\n",
    "        return missing_markers\n",
    "\n",
    "result = missing_markers(events, stim_df)\n",
    "print(result)"
   ]
  },
  {
   "cell_type": "markdown",
   "metadata": {},
   "source": [
    "### Checking durations of all story listening, resting state and social script"
   ]
  },
  {
   "cell_type": "code",
   "execution_count": 13,
   "metadata": {},
   "outputs": [
    {
     "data": {
      "application/vnd.microsoft.datawrangler.viewer.v0+json": {
       "columns": [
        {
         "name": "index",
         "rawType": "int64",
         "type": "integer"
        },
        {
         "name": "trigger",
         "rawType": "int64",
         "type": "integer"
        },
        {
         "name": "story",
         "rawType": "object",
         "type": "string"
        },
        {
         "name": "lsl_duration",
         "rawType": "float64",
         "type": "float"
        }
       ],
       "conversionMethod": "pd.DataFrame",
       "ref": "ae1a3fa4-81af-4f7b-979d-7cf86f0d3841",
       "rows": [
        [
         "0",
         "10",
         "Onset_RestingState",
         "300.00562166958116"
        ],
        [
         "1",
         "20",
         "Onset_CampFriend",
         "140.43659491324797"
        ],
        [
         "2",
         "30",
         "Onset_FrogDissection",
         "114.25720400316641"
        ],
        [
         "3",
         "40",
         "Onset_DanceContest",
         "127.10143165895715"
        ],
        [
         "4",
         "50",
         "Onset_ZoomClass",
         "90.38402987504378"
        ],
        [
         "5",
         "60",
         "Onset_Tornado",
         "149.9838314349763"
        ],
        [
         "6",
         "70",
         "Onset_BirthdayParty",
         "147.20898123574443"
        ],
        [
         "7",
         "80",
         "Onset_SocialTask",
         "300.4915517952759"
        ],
        [
         "8",
         "100",
         "Onset_10second_rest",
         "10.001130517339334"
        ],
        [
         "9",
         "300",
         "Onset_subjectInput",
         "30.98816913482733"
        ],
        [
         "10",
         "400",
         "Onset_impedanceCheck",
         "383.5995829163585"
        ],
        [
         "11",
         "200",
         "Onset_ExperimentStart",
         "2211.697342959"
        ]
       ],
       "shape": {
        "columns": 3,
        "rows": 12
       }
      },
      "text/html": [
       "<div>\n",
       "<style scoped>\n",
       "    .dataframe tbody tr th:only-of-type {\n",
       "        vertical-align: middle;\n",
       "    }\n",
       "\n",
       "    .dataframe tbody tr th {\n",
       "        vertical-align: top;\n",
       "    }\n",
       "\n",
       "    .dataframe thead th {\n",
       "        text-align: right;\n",
       "    }\n",
       "</style>\n",
       "<table border=\"1\" class=\"dataframe\">\n",
       "  <thead>\n",
       "    <tr style=\"text-align: right;\">\n",
       "      <th></th>\n",
       "      <th>trigger</th>\n",
       "      <th>story</th>\n",
       "      <th>lsl_duration</th>\n",
       "    </tr>\n",
       "  </thead>\n",
       "  <tbody>\n",
       "    <tr>\n",
       "      <th>0</th>\n",
       "      <td>10</td>\n",
       "      <td>Onset_RestingState</td>\n",
       "      <td>300.005622</td>\n",
       "    </tr>\n",
       "    <tr>\n",
       "      <th>1</th>\n",
       "      <td>20</td>\n",
       "      <td>Onset_CampFriend</td>\n",
       "      <td>140.436595</td>\n",
       "    </tr>\n",
       "    <tr>\n",
       "      <th>2</th>\n",
       "      <td>30</td>\n",
       "      <td>Onset_FrogDissection</td>\n",
       "      <td>114.257204</td>\n",
       "    </tr>\n",
       "    <tr>\n",
       "      <th>3</th>\n",
       "      <td>40</td>\n",
       "      <td>Onset_DanceContest</td>\n",
       "      <td>127.101432</td>\n",
       "    </tr>\n",
       "    <tr>\n",
       "      <th>4</th>\n",
       "      <td>50</td>\n",
       "      <td>Onset_ZoomClass</td>\n",
       "      <td>90.384030</td>\n",
       "    </tr>\n",
       "    <tr>\n",
       "      <th>5</th>\n",
       "      <td>60</td>\n",
       "      <td>Onset_Tornado</td>\n",
       "      <td>149.983831</td>\n",
       "    </tr>\n",
       "    <tr>\n",
       "      <th>6</th>\n",
       "      <td>70</td>\n",
       "      <td>Onset_BirthdayParty</td>\n",
       "      <td>147.208981</td>\n",
       "    </tr>\n",
       "    <tr>\n",
       "      <th>7</th>\n",
       "      <td>80</td>\n",
       "      <td>Onset_SocialTask</td>\n",
       "      <td>300.491552</td>\n",
       "    </tr>\n",
       "    <tr>\n",
       "      <th>8</th>\n",
       "      <td>100</td>\n",
       "      <td>Onset_10second_rest</td>\n",
       "      <td>10.001131</td>\n",
       "    </tr>\n",
       "    <tr>\n",
       "      <th>9</th>\n",
       "      <td>300</td>\n",
       "      <td>Onset_subjectInput</td>\n",
       "      <td>30.988169</td>\n",
       "    </tr>\n",
       "    <tr>\n",
       "      <th>10</th>\n",
       "      <td>400</td>\n",
       "      <td>Onset_impedanceCheck</td>\n",
       "      <td>383.599583</td>\n",
       "    </tr>\n",
       "    <tr>\n",
       "      <th>11</th>\n",
       "      <td>200</td>\n",
       "      <td>Onset_ExperimentStart</td>\n",
       "      <td>2211.697343</td>\n",
       "    </tr>\n",
       "  </tbody>\n",
       "</table>\n",
       "</div>"
      ],
      "text/plain": [
       "    trigger                  story  lsl_duration\n",
       "0        10     Onset_RestingState    300.005622\n",
       "1        20       Onset_CampFriend    140.436595\n",
       "2        30   Onset_FrogDissection    114.257204\n",
       "3        40     Onset_DanceContest    127.101432\n",
       "4        50        Onset_ZoomClass     90.384030\n",
       "5        60          Onset_Tornado    149.983831\n",
       "6        70    Onset_BirthdayParty    147.208981\n",
       "7        80       Onset_SocialTask    300.491552\n",
       "8       100    Onset_10second_rest     10.001131\n",
       "9       300     Onset_subjectInput     30.988169\n",
       "10      400   Onset_impedanceCheck    383.599583\n",
       "11      200  Onset_ExperimentStart   2211.697343"
      ]
     },
     "execution_count": 13,
     "metadata": {},
     "output_type": "execute_result"
    }
   ],
   "source": [
    "# Get durations of all story listening sessions\n",
    "\n",
    "durations = pd.DataFrame({\n",
    "    'trigger':story_onsets,\n",
    "    'story':[events[x] for x in story_onsets],\n",
    "    'lsl_duration': [get_secs_between_triggers(x+1, x) for x in story_onsets]})\n",
    "durations"
   ]
  },
  {
   "cell_type": "markdown",
   "metadata": {},
   "source": [
    "### Checking whether duration of resting state and social script is ~300s"
   ]
  },
  {
   "cell_type": "code",
   "execution_count": 14,
   "metadata": {},
   "outputs": [
    {
     "name": "stdout",
     "output_type": "stream",
     "text": [
      "300.00562166958116\n",
      "Is duration of resting state ~300s?  True\n",
      "300.4915517952759\n",
      "Is duration of social script ~300s?  True\n"
     ]
    }
   ],
   "source": [
    "def rest_and_social_duration(trigger, durations):\n",
    "    trial_duration = durations.loc[durations['trigger'] == trigger].lsl_duration.to_list()[0]\n",
    "    print(trial_duration)\n",
    "    if trial_duration <= 305.0  and trial_duration >= 298.0:\n",
    "        return True\n",
    "    else:\n",
    "        return False\n",
    "\n",
    "resting_state_duration_bool = rest_and_social_duration(10, durations)\n",
    "print('Is duration of resting state ~300s? ', resting_state_duration_bool)\n",
    "social_script_duration_bool = rest_and_social_duration(80, durations)\n",
    "print('Is duration of social script ~300s? ', social_script_duration_bool)\n"
   ]
  },
  {
   "cell_type": "markdown",
   "metadata": {},
   "source": [
    "### Duration of Impedance check"
   ]
  },
  {
   "cell_type": "code",
   "execution_count": 15,
   "metadata": {},
   "outputs": [
    {
     "name": "stdout",
     "output_type": "stream",
     "text": [
      "Duration of Impedance check:  383.5995829163585\n"
     ]
    }
   ],
   "source": [
    "impedance_check_duration = durations.loc[durations.trigger == 400].lsl_duration.to_list()[0]\n",
    "print('Duration of Impedance check: ', impedance_check_duration)"
   ]
  },
  {
   "cell_type": "markdown",
   "metadata": {},
   "source": [
    "### Checking 10 s rest durations "
   ]
  },
  {
   "cell_type": "code",
   "execution_count": 16,
   "metadata": {},
   "outputs": [
    {
     "name": "stdout",
     "output_type": "stream",
     "text": [
      "Number of trigger 100: 6\n",
      "Are all 10 seconds rest equal? True\n"
     ]
    }
   ],
   "source": [
    "# Count the number of occurrences of trigger value 100 using sum\n",
    "trigger_count = (evs['trigger'] == 100).sum()\n",
    "\n",
    "print(f\"Number of trigger 100: {trigger_count}\")\n",
    "\n",
    "#rest_onsets = \n",
    "ten_secs_rest_durations = pd.DataFrame({\n",
    "    'trigger':[x for x in range(trigger_count)],\n",
    "    'story': ['Onset_10second_rest' for x in range(trigger_count)],\n",
    "    'lsl_duration': [get_secs_between_triggers(x+1, x) for x in evs['trigger'] if x == 100]})\n",
    "#print(ten_secs_rest_durations)\n",
    "\n",
    "# Check if rest durations are equal\n",
    "equal_rest_durations = all(x == ten_secs_rest_durations['lsl_duration'][0] for x in ten_secs_rest_durations['lsl_duration'])\n",
    "print(\"Are all 10 seconds rest equal?\", equal_rest_durations)"
   ]
  },
  {
   "cell_type": "markdown",
   "metadata": {},
   "source": [
    "### Average response time of questions across all trials"
   ]
  },
  {
   "cell_type": "code",
   "execution_count": 17,
   "metadata": {},
   "outputs": [
    {
     "name": "stdout",
     "output_type": "stream",
     "text": [
      "[185.92901480896398, 185.92901480896398, 185.92901480896398, 185.92901480896398, 185.92901480896398, 185.92901480896398]\n",
      "Average response time across all story listening task:  185.92901480896398\n"
     ]
    }
   ],
   "source": [
    "# Get sequence of story listening \n",
    "sequence = pd.DataFrame({\n",
    "    'trigger': [x for x in evs.trigger if x in story_onsets],\n",
    "    'story':[events[x] for x in evs.trigger if x in story_onsets],\n",
    "    'lsl_duration': [get_secs_between_triggers(x+1, x) for x in evs.trigger if x in story_onsets]\n",
    "})\n",
    "#print(sequence)\n",
    "# Number of questions per story listening\n",
    "qa_duration = []\n",
    "for idx, x in enumerate(sequence.trigger):\n",
    "    if x == 300:\n",
    "        one_story_qa_duration = one_story_qa_duration + sequence.lsl_duration[idx]\n",
    "        continue\n",
    "    elif (x == 100 or x ==400) and one_story_qa_duration != 0:\n",
    "        qa_duration = qa_duration + [one_story_qa_duration]\n",
    "    else:\n",
    "        one_story_qa_duration = 0\n",
    "average_response_time = sum(qa_duration)/len(qa_duration)\n",
    "print(qa_duration)\n",
    "print('Average response time across all story listening task: ', average_response_time)\n"
   ]
  },
  {
   "cell_type": "code",
   "execution_count": null,
   "metadata": {},
   "outputs": [],
   "source": []
  }
 ],
 "metadata": {
  "kernelspec": {
   "display_name": "cuny_qc",
   "language": "python",
   "name": "python3"
  },
  "language_info": {
   "codemirror_mode": {
    "name": "ipython",
    "version": 3
   },
   "file_extension": ".py",
   "mimetype": "text/x-python",
   "name": "python",
   "nbconvert_exporter": "python",
   "pygments_lexer": "ipython3",
   "version": "3.12.2"
  }
 },
 "nbformat": 4,
 "nbformat_minor": 2
}
