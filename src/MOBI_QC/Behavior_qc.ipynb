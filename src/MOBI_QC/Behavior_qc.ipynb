{
 "cells": [
  {
   "cell_type": "code",
   "execution_count": 1,
   "metadata": {},
   "outputs": [],
   "source": [
    "import pyxdf\n",
    "import pandas as pd\n",
    "import matplotlib.pyplot as plt \n",
    "import seaborn as sns \n",
    "import wave\n",
    "#import pyaudio\n",
    "import numpy as np\n",
    "#import sounddevice as sd\n",
    "import cv2\n",
    "from scipy.signal import iirnotch, filtfilt\n",
    "from glob import glob"
   ]
  },
  {
   "cell_type": "code",
   "execution_count": 2,
   "metadata": {},
   "outputs": [
    {
     "data": {
      "text/plain": [
       "['/Users/apurva.gokhe/Documents/CUNY_QC/data/sub-P5070899/sub-P5070899_task-CUNY_run-001_physio.h5',\n",
       " '/Users/apurva.gokhe/Documents/CUNY_QC/data/sub-P5070899/sub-P5070899_task-CUNY_run-001_mic.wav',\n",
       " '/Users/apurva.gokhe/Documents/CUNY_QC/data/sub-P5070899/sub-P5070899_task-CUNY_run-001_eyes.csv',\n",
       " '/Users/apurva.gokhe/Documents/CUNY_QC/data/sub-P5070899/sub-P5070899_task-CUNY_run-001_behavior.csv',\n",
       " '/Users/apurva.gokhe/Documents/CUNY_QC/data/sub-P5070899/sub-P5070899_task-CUNY_run-001_behavior.log',\n",
       " '/Users/apurva.gokhe/Documents/CUNY_QC/data/sub-P5070899/sub-P5070899_ses-S001_task-CUNY_run-001_mobi.xdf',\n",
       " '/Users/apurva.gokhe/Documents/CUNY_QC/data/sub-P5070899/sub-P5070899_task-CUNY_run-001_video.avi',\n",
       " '/Users/apurva.gokhe/Documents/CUNY_QC/data/sub-P5070899/sub-P5070899_task-CUNY_run-001_behavior.psydat',\n",
       " '/Users/apurva.gokhe/Documents/CUNY_QC/data/sub-P5070899/P5070899_20250217_042741.mff']"
      ]
     },
     "execution_count": 2,
     "metadata": {},
     "output_type": "execute_result"
    }
   ],
   "source": [
    "subject_dirs = glob('/Users/apurva.gokhe/Documents/CUNY_QC/data/sub-P5070899/*')\n",
    "subject_dirs"
   ]
  },
  {
   "cell_type": "markdown",
   "metadata": {},
   "source": [
    "# Load Data"
   ]
  },
  {
   "cell_type": "code",
   "execution_count": 3,
   "metadata": {},
   "outputs": [
    {
     "data": {
      "text/plain": [
       "['EGI NetAmp 0',\n",
       " 'OpenSignals',\n",
       " 'Stimuli_Markers',\n",
       " 'WebcamStream',\n",
       " 'Tobii',\n",
       " 'Microphone']"
      ]
     },
     "execution_count": 3,
     "metadata": {},
     "output_type": "execute_result"
    }
   ],
   "source": [
    "xdf_path =  '/Users/apurva.gokhe/Documents/CUNY_QC/data/sub-P5070899/sub-P5070899_ses-S001_task-CUNY_run-001_mobi.xdf'\n",
    "data, header = pyxdf.load_xdf(xdf_path)\n",
    "streams_collected = [stream['info']['name'][0] for stream in data]\n",
    "streams_collected"
   ]
  },
  {
   "cell_type": "markdown",
   "metadata": {},
   "source": [
    "# Stimulus"
   ]
  },
  {
   "cell_type": "code",
   "execution_count": 4,
   "metadata": {},
   "outputs": [
    {
     "data": {
      "text/html": [
       "<div>\n",
       "<style scoped>\n",
       "    .dataframe tbody tr th:only-of-type {\n",
       "        vertical-align: middle;\n",
       "    }\n",
       "\n",
       "    .dataframe tbody tr th {\n",
       "        vertical-align: top;\n",
       "    }\n",
       "\n",
       "    .dataframe thead th {\n",
       "        text-align: right;\n",
       "    }\n",
       "</style>\n",
       "<table border=\"1\" class=\"dataframe\">\n",
       "  <thead>\n",
       "    <tr style=\"text-align: right;\">\n",
       "      <th></th>\n",
       "      <th>trigger</th>\n",
       "      <th>event</th>\n",
       "      <th>lsl_time_stamp</th>\n",
       "      <th>time</th>\n",
       "    </tr>\n",
       "  </thead>\n",
       "  <tbody>\n",
       "    <tr>\n",
       "      <th>0</th>\n",
       "      <td>2.000000e+02</td>\n",
       "      <td>Onset_ExperimentStart</td>\n",
       "      <td>486663.454963</td>\n",
       "      <td>0.000000e+00</td>\n",
       "    </tr>\n",
       "    <tr>\n",
       "      <th>1</th>\n",
       "      <td>1.739828e+09</td>\n",
       "      <td>psychopy_time_stamp</td>\n",
       "      <td>486663.454971</td>\n",
       "      <td>7.899944e-09</td>\n",
       "    </tr>\n",
       "    <tr>\n",
       "      <th>2</th>\n",
       "      <td>1.000000e+01</td>\n",
       "      <td>Onset_RestingState</td>\n",
       "      <td>486714.152246</td>\n",
       "      <td>5.069728e-02</td>\n",
       "    </tr>\n",
       "    <tr>\n",
       "      <th>3</th>\n",
       "      <td>1.739828e+09</td>\n",
       "      <td>psychopy_time_stamp</td>\n",
       "      <td>486714.152254</td>\n",
       "      <td>5.069729e-02</td>\n",
       "    </tr>\n",
       "    <tr>\n",
       "      <th>4</th>\n",
       "      <td>1.100000e+01</td>\n",
       "      <td>Offset_RestingState</td>\n",
       "      <td>487014.150930</td>\n",
       "      <td>3.506960e-01</td>\n",
       "    </tr>\n",
       "    <tr>\n",
       "      <th>...</th>\n",
       "      <td>...</td>\n",
       "      <td>...</td>\n",
       "      <td>...</td>\n",
       "      <td>...</td>\n",
       "    </tr>\n",
       "    <tr>\n",
       "      <th>254</th>\n",
       "      <td>1.739830e+09</td>\n",
       "      <td>psychopy_time_stamp</td>\n",
       "      <td>488481.156269</td>\n",
       "      <td>1.817701e+00</td>\n",
       "    </tr>\n",
       "    <tr>\n",
       "      <th>255</th>\n",
       "      <td>8.100000e+01</td>\n",
       "      <td>Offset_SocialTask</td>\n",
       "      <td>488781.651469</td>\n",
       "      <td>2.118197e+00</td>\n",
       "    </tr>\n",
       "    <tr>\n",
       "      <th>256</th>\n",
       "      <td>1.739830e+09</td>\n",
       "      <td>psychopy_time_stamp</td>\n",
       "      <td>488781.651480</td>\n",
       "      <td>2.118197e+00</td>\n",
       "    </tr>\n",
       "    <tr>\n",
       "      <th>257</th>\n",
       "      <td>2.010000e+02</td>\n",
       "      <td>Offset_ExperimentEnd</td>\n",
       "      <td>488786.651354</td>\n",
       "      <td>2.123196e+00</td>\n",
       "    </tr>\n",
       "    <tr>\n",
       "      <th>258</th>\n",
       "      <td>1.739830e+09</td>\n",
       "      <td>psychopy_time_stamp</td>\n",
       "      <td>488786.651362</td>\n",
       "      <td>2.123196e+00</td>\n",
       "    </tr>\n",
       "  </tbody>\n",
       "</table>\n",
       "<p>259 rows × 4 columns</p>\n",
       "</div>"
      ],
      "text/plain": [
       "          trigger                  event  lsl_time_stamp          time\n",
       "0    2.000000e+02  Onset_ExperimentStart   486663.454963  0.000000e+00\n",
       "1    1.739828e+09    psychopy_time_stamp   486663.454971  7.899944e-09\n",
       "2    1.000000e+01     Onset_RestingState   486714.152246  5.069728e-02\n",
       "3    1.739828e+09    psychopy_time_stamp   486714.152254  5.069729e-02\n",
       "4    1.100000e+01    Offset_RestingState   487014.150930  3.506960e-01\n",
       "..            ...                    ...             ...           ...\n",
       "254  1.739830e+09    psychopy_time_stamp   488481.156269  1.817701e+00\n",
       "255  8.100000e+01      Offset_SocialTask   488781.651469  2.118197e+00\n",
       "256  1.739830e+09    psychopy_time_stamp   488781.651480  2.118197e+00\n",
       "257  2.010000e+02   Offset_ExperimentEnd   488786.651354  2.123196e+00\n",
       "258  1.739830e+09    psychopy_time_stamp   488786.651362  2.123196e+00\n",
       "\n",
       "[259 rows x 4 columns]"
      ]
     },
     "execution_count": 4,
     "metadata": {},
     "output_type": "execute_result"
    }
   ],
   "source": [
    "stim_dat = data[streams_collected.index('Stimuli_Markers')]\n",
    "stim_df = pd.DataFrame(stim_dat['time_series'])\n",
    "stim_df.rename(columns={0: 'trigger'}, inplace=True)\n",
    "events = {\n",
    "    200: 'Onset_ExperimentStart',\n",
    "    10: 'Onset_RestingState',\n",
    "    11: 'Offset_RestingState',\n",
    "    500: 'Onset_StoryListening',\n",
    "    501: 'Offset_StoryListening',\n",
    "    100: 'Onset_10second_rest',\n",
    "    101: 'Offset_10second_rest', \n",
    "    20: 'Onset_CampFriend',\n",
    "    21: 'Offset_CampFriend',\n",
    "    30: 'Onset_FrogDissection',\n",
    "    31: 'Offset_FrogDissection',\n",
    "    40: 'Onset_DanceContest',\n",
    "    41: 'Offset_DanceContest',\n",
    "    50: 'Onset_ZoomClass',\n",
    "    51: 'Offset_ZoomClass',\n",
    "    60: 'Onset_Tornado',\n",
    "    61: 'Offset_Tornado',\n",
    "    70: 'Onset_BirthdayParty',\n",
    "    71: 'Offset_BirthdayParty',\n",
    "    300: 'Onset_subjectInput',\n",
    "    301: 'Offset_subjectInput',\n",
    "    302: 'Onset_FavoriteStory',\n",
    "    303: 'Offset_FavoriteStory',\n",
    "    304: 'Onset_WorstStory',\n",
    "    305: 'Offset_WorstStory',\n",
    "    400: 'Onset_impedanceCheck',\n",
    "    401: 'Offset_impedanceCheck',\n",
    "    80: 'Onset_SocialTask',\n",
    "    81: 'Offset_SocialTask',\n",
    "    201: 'Offset_ExperimentEnd',\n",
    "}\n",
    "\n",
    "story_onsets = [10, 20, 30, 40, 50, 60, 70, 80, 100, 300, 400]\n",
    "\n",
    "# relabel the event if the trigger is in the events dictionary, else if \n",
    "stim_df['event'] = stim_df['trigger'].apply(lambda x: events[x] if x in events.keys() else 'Bx_input')\n",
    "\n",
    "# relabel the event as a psychopy timestamp if the trigger is greater than 5 digits\n",
    "stim_df.loc[stim_df.trigger.astype(str).str.len() > 5, 'event'] = 'psychopy_time_stamp'\n",
    "stim_df['lsl_time_stamp'] = stim_dat['time_stamps']\n",
    "stim_df['time'] = (stim_dat['time_stamps'] - stim_dat['time_stamps'][0])/1000\n",
    "stim_df"
   ]
  },
  {
   "cell_type": "code",
   "execution_count": 5,
   "metadata": {},
   "outputs": [],
   "source": [
    "# Function to calculate time between two triggeres\n",
    "\n",
    "def get_secs_between_triggers(trigger1, trigger2):\n",
    "    return stim_df.loc[stim_df.trigger == trigger1, 'lsl_time_stamp'].values[0] - stim_df.loc[stim_df.trigger == trigger2, 'lsl_time_stamp'].values[0]"
   ]
  },
  {
   "cell_type": "code",
   "execution_count": 6,
   "metadata": {},
   "outputs": [
    {
     "data": {
      "text/plain": [
       "11.041776231781114"
      ]
     },
     "execution_count": 6,
     "metadata": {},
     "output_type": "execute_result"
    }
   ],
   "source": [
    "stim_df.loc[stim_df.trigger == 301, 'lsl_time_stamp'].values[0] - stim_df.loc[stim_df.trigger == 300, 'lsl_time_stamp'].values[0]"
   ]
  },
  {
   "cell_type": "code",
   "execution_count": 7,
   "metadata": {},
   "outputs": [
    {
     "data": {
      "text/plain": [
       "5.503423618618399"
      ]
     },
     "execution_count": 7,
     "metadata": {},
     "output_type": "execute_result"
    }
   ],
   "source": [
    "stim_df.loc[stim_df.trigger == 301, 'lsl_time_stamp'].values[3] - stim_df.loc[stim_df.trigger == 300, 'lsl_time_stamp'].values[3]"
   ]
  },
  {
   "cell_type": "code",
   "execution_count": 8,
   "metadata": {},
   "outputs": [],
   "source": [
    "def get_event_data(event, df, stim_df=stim_df):\n",
    "    return df.loc[(df.lsl_time_stamp >= stim_df.loc[stim_df.event == 'Onset_'+event, 'lsl_time_stamp'].values[0]) & \n",
    "                  (df.lsl_time_stamp <= stim_df.loc[stim_df.event == 'Offset_'+event, 'lsl_time_stamp'].values[0])]\n",
    "\n",
    "\n"
   ]
  },
  {
   "cell_type": "code",
   "execution_count": 9,
   "metadata": {},
   "outputs": [
    {
     "data": {
      "text/html": [
       "<div>\n",
       "<style scoped>\n",
       "    .dataframe tbody tr th:only-of-type {\n",
       "        vertical-align: middle;\n",
       "    }\n",
       "\n",
       "    .dataframe tbody tr th {\n",
       "        vertical-align: top;\n",
       "    }\n",
       "\n",
       "    .dataframe thead th {\n",
       "        text-align: right;\n",
       "    }\n",
       "</style>\n",
       "<table border=\"1\" class=\"dataframe\">\n",
       "  <thead>\n",
       "    <tr style=\"text-align: right;\">\n",
       "      <th></th>\n",
       "      <th>trigger</th>\n",
       "      <th>event</th>\n",
       "      <th>lsl_time_stamp</th>\n",
       "      <th>time</th>\n",
       "    </tr>\n",
       "  </thead>\n",
       "  <tbody>\n",
       "    <tr>\n",
       "      <th>0</th>\n",
       "      <td>200.0</td>\n",
       "      <td>Onset_ExperimentStart</td>\n",
       "      <td>486663.454963</td>\n",
       "      <td>0.000000</td>\n",
       "    </tr>\n",
       "    <tr>\n",
       "      <th>2</th>\n",
       "      <td>10.0</td>\n",
       "      <td>Onset_RestingState</td>\n",
       "      <td>486714.152246</td>\n",
       "      <td>0.050697</td>\n",
       "    </tr>\n",
       "    <tr>\n",
       "      <th>4</th>\n",
       "      <td>11.0</td>\n",
       "      <td>Offset_RestingState</td>\n",
       "      <td>487014.150930</td>\n",
       "      <td>0.350696</td>\n",
       "    </tr>\n",
       "    <tr>\n",
       "      <th>6</th>\n",
       "      <td>500.0</td>\n",
       "      <td>Onset_StoryListening</td>\n",
       "      <td>487014.150970</td>\n",
       "      <td>0.350696</td>\n",
       "    </tr>\n",
       "    <tr>\n",
       "      <th>8</th>\n",
       "      <td>100.0</td>\n",
       "      <td>Onset_10second_rest</td>\n",
       "      <td>487032.818604</td>\n",
       "      <td>0.369364</td>\n",
       "    </tr>\n",
       "    <tr>\n",
       "      <th>...</th>\n",
       "      <td>...</td>\n",
       "      <td>...</td>\n",
       "      <td>...</td>\n",
       "      <td>...</td>\n",
       "    </tr>\n",
       "    <tr>\n",
       "      <th>249</th>\n",
       "      <td>400.0</td>\n",
       "      <td>Onset_impedanceCheck</td>\n",
       "      <td>488125.102564</td>\n",
       "      <td>1.461648</td>\n",
       "    </tr>\n",
       "    <tr>\n",
       "      <th>251</th>\n",
       "      <td>401.0</td>\n",
       "      <td>Offset_impedanceCheck</td>\n",
       "      <td>488460.067837</td>\n",
       "      <td>1.796613</td>\n",
       "    </tr>\n",
       "    <tr>\n",
       "      <th>253</th>\n",
       "      <td>80.0</td>\n",
       "      <td>Onset_SocialTask</td>\n",
       "      <td>488481.156257</td>\n",
       "      <td>1.817701</td>\n",
       "    </tr>\n",
       "    <tr>\n",
       "      <th>255</th>\n",
       "      <td>81.0</td>\n",
       "      <td>Offset_SocialTask</td>\n",
       "      <td>488781.651469</td>\n",
       "      <td>2.118197</td>\n",
       "    </tr>\n",
       "    <tr>\n",
       "      <th>257</th>\n",
       "      <td>201.0</td>\n",
       "      <td>Offset_ExperimentEnd</td>\n",
       "      <td>488786.651354</td>\n",
       "      <td>2.123196</td>\n",
       "    </tr>\n",
       "  </tbody>\n",
       "</table>\n",
       "<p>148 rows × 4 columns</p>\n",
       "</div>"
      ],
      "text/plain": [
       "     trigger                  event  lsl_time_stamp      time\n",
       "0      200.0  Onset_ExperimentStart   486663.454963  0.000000\n",
       "2       10.0     Onset_RestingState   486714.152246  0.050697\n",
       "4       11.0    Offset_RestingState   487014.150930  0.350696\n",
       "6      500.0   Onset_StoryListening   487014.150970  0.350696\n",
       "8      100.0    Onset_10second_rest   487032.818604  0.369364\n",
       "..       ...                    ...             ...       ...\n",
       "249    400.0   Onset_impedanceCheck   488125.102564  1.461648\n",
       "251    401.0  Offset_impedanceCheck   488460.067837  1.796613\n",
       "253     80.0       Onset_SocialTask   488481.156257  1.817701\n",
       "255     81.0      Offset_SocialTask   488781.651469  2.118197\n",
       "257    201.0   Offset_ExperimentEnd   488786.651354  2.123196\n",
       "\n",
       "[148 rows x 4 columns]"
      ]
     },
     "execution_count": 9,
     "metadata": {},
     "output_type": "execute_result"
    }
   ],
   "source": [
    "# confirm all events are in the stim_df\n",
    "evs = stim_df.loc[stim_df.event != 'psychopy_time_stamp']\n",
    "evs"
   ]
  },
  {
   "cell_type": "markdown",
   "metadata": {},
   "source": [
    "### Check if markers are missing"
   ]
  },
  {
   "cell_type": "code",
   "execution_count": 10,
   "metadata": {},
   "outputs": [
    {
     "name": "stdout",
     "output_type": "stream",
     "text": [
      "None\n"
     ]
    }
   ],
   "source": [
    "def missing_markers(events, stim_df):\n",
    "    missing_markers=[]\n",
    "    for event in events:\n",
    "        if event in stim_df.event:\n",
    "            return None\n",
    "        else:\n",
    "            missing_markers = missing_markers + [event]\n",
    "        return missing_markers\n",
    "\n",
    "result = missing_markers(events, stim_df)\n",
    "print(result)"
   ]
  },
  {
   "cell_type": "markdown",
   "metadata": {},
   "source": [
    "### Checking durations of all story listening, resting state and social script"
   ]
  },
  {
   "cell_type": "code",
   "execution_count": 11,
   "metadata": {},
   "outputs": [
    {
     "data": {
      "text/html": [
       "<div>\n",
       "<style scoped>\n",
       "    .dataframe tbody tr th:only-of-type {\n",
       "        vertical-align: middle;\n",
       "    }\n",
       "\n",
       "    .dataframe tbody tr th {\n",
       "        vertical-align: top;\n",
       "    }\n",
       "\n",
       "    .dataframe thead th {\n",
       "        text-align: right;\n",
       "    }\n",
       "</style>\n",
       "<table border=\"1\" class=\"dataframe\">\n",
       "  <thead>\n",
       "    <tr style=\"text-align: right;\">\n",
       "      <th></th>\n",
       "      <th>trigger</th>\n",
       "      <th>story</th>\n",
       "      <th>lsl_duration</th>\n",
       "    </tr>\n",
       "  </thead>\n",
       "  <tbody>\n",
       "    <tr>\n",
       "      <th>0</th>\n",
       "      <td>10</td>\n",
       "      <td>Onset_RestingState</td>\n",
       "      <td>299.998684</td>\n",
       "    </tr>\n",
       "    <tr>\n",
       "      <th>1</th>\n",
       "      <td>20</td>\n",
       "      <td>Onset_CampFriend</td>\n",
       "      <td>140.445913</td>\n",
       "    </tr>\n",
       "    <tr>\n",
       "      <th>2</th>\n",
       "      <td>30</td>\n",
       "      <td>Onset_FrogDissection</td>\n",
       "      <td>114.270418</td>\n",
       "    </tr>\n",
       "    <tr>\n",
       "      <th>3</th>\n",
       "      <td>40</td>\n",
       "      <td>Onset_DanceContest</td>\n",
       "      <td>127.112438</td>\n",
       "    </tr>\n",
       "    <tr>\n",
       "      <th>4</th>\n",
       "      <td>50</td>\n",
       "      <td>Onset_ZoomClass</td>\n",
       "      <td>90.393858</td>\n",
       "    </tr>\n",
       "    <tr>\n",
       "      <th>5</th>\n",
       "      <td>60</td>\n",
       "      <td>Onset_Tornado</td>\n",
       "      <td>149.991003</td>\n",
       "    </tr>\n",
       "    <tr>\n",
       "      <th>6</th>\n",
       "      <td>70</td>\n",
       "      <td>Onset_BirthdayParty</td>\n",
       "      <td>147.228141</td>\n",
       "    </tr>\n",
       "    <tr>\n",
       "      <th>7</th>\n",
       "      <td>80</td>\n",
       "      <td>Onset_SocialTask</td>\n",
       "      <td>300.495212</td>\n",
       "    </tr>\n",
       "    <tr>\n",
       "      <th>8</th>\n",
       "      <td>100</td>\n",
       "      <td>Onset_10second_rest</td>\n",
       "      <td>9.997758</td>\n",
       "    </tr>\n",
       "    <tr>\n",
       "      <th>9</th>\n",
       "      <td>300</td>\n",
       "      <td>Onset_subjectInput</td>\n",
       "      <td>11.041776</td>\n",
       "    </tr>\n",
       "    <tr>\n",
       "      <th>10</th>\n",
       "      <td>400</td>\n",
       "      <td>Onset_impedanceCheck</td>\n",
       "      <td>334.965273</td>\n",
       "    </tr>\n",
       "  </tbody>\n",
       "</table>\n",
       "</div>"
      ],
      "text/plain": [
       "    trigger                 story  lsl_duration\n",
       "0        10    Onset_RestingState    299.998684\n",
       "1        20      Onset_CampFriend    140.445913\n",
       "2        30  Onset_FrogDissection    114.270418\n",
       "3        40    Onset_DanceContest    127.112438\n",
       "4        50       Onset_ZoomClass     90.393858\n",
       "5        60         Onset_Tornado    149.991003\n",
       "6        70   Onset_BirthdayParty    147.228141\n",
       "7        80      Onset_SocialTask    300.495212\n",
       "8       100   Onset_10second_rest      9.997758\n",
       "9       300    Onset_subjectInput     11.041776\n",
       "10      400  Onset_impedanceCheck    334.965273"
      ]
     },
     "execution_count": 11,
     "metadata": {},
     "output_type": "execute_result"
    }
   ],
   "source": [
    "# Get durations of all story listening sessions\n",
    "\n",
    "durations = pd.DataFrame({\n",
    "    'trigger':story_onsets,\n",
    "    'story':[events[x] for x in story_onsets],\n",
    "    'lsl_duration': [get_secs_between_triggers(x+1, x) for x in story_onsets]})\n",
    "durations"
   ]
  },
  {
   "cell_type": "markdown",
   "metadata": {},
   "source": [
    "### Checking whether duration of resting state and social script is ~300s"
   ]
  },
  {
   "cell_type": "code",
   "execution_count": 12,
   "metadata": {},
   "outputs": [
    {
     "name": "stdout",
     "output_type": "stream",
     "text": [
      "299.99868435016833\n",
      "Is duration of resting state ~300s?  True\n",
      "300.49521212867694\n",
      "Is duration of social script ~300s?  True\n"
     ]
    }
   ],
   "source": [
    "def rest_and_social_duration(trigger, durations):\n",
    "    trial_duration = durations.loc[durations['trigger'] == trigger].lsl_duration.to_list()[0]\n",
    "    print(trial_duration)\n",
    "    if trial_duration <= 305.0  and trial_duration >= 298.0:\n",
    "        return True\n",
    "    else:\n",
    "        return False\n",
    "\n",
    "resting_state_duration_bool = rest_and_social_duration(10, durations)\n",
    "print('Is duration of resting state ~300s? ', resting_state_duration_bool)\n",
    "social_script_duration_bool = rest_and_social_duration(80, durations)\n",
    "print('Is duration of social script ~300s? ', social_script_duration_bool)\n",
    "\n"
   ]
  },
  {
   "cell_type": "markdown",
   "metadata": {},
   "source": [
    "### Duration of Impedance check"
   ]
  },
  {
   "cell_type": "code",
   "execution_count": 13,
   "metadata": {},
   "outputs": [
    {
     "name": "stdout",
     "output_type": "stream",
     "text": [
      "Duration of Impedance check:  334.9652733117109\n"
     ]
    }
   ],
   "source": [
    "impedance_check_duration = durations.loc[durations.trigger == 400].lsl_duration.to_list()[0]\n",
    "print('Duration of Impedance check: ', impedance_check_duration)"
   ]
  },
  {
   "cell_type": "markdown",
   "metadata": {},
   "source": [
    "### Plot"
   ]
  },
  {
   "cell_type": "code",
   "execution_count": 16,
   "metadata": {},
   "outputs": [],
   "source": [
    "color_codes = {\n",
    "    'Onset_impedanceCheck': 'gold',\n",
    "    'Onset_SocialTask': 'indianred',\n",
    "    'Onset_BirthdayParty': 'saddlebrown',\n",
    "    'Onset_Tornado': 'forestgreen',\n",
    "    'Onset_ZoomClass':'teal',\n",
    "    'Onset_DanceContest': 'slateblue',\n",
    "    'Onset_FrogDissection': 'rebeccapurple',\n",
    "    'Onset_CampFriend': 'palevioletred',\n",
    "    'Onset_RestingState' : 'coral'\n",
    "}"
   ]
  },
  {
   "cell_type": "code",
   "execution_count": null,
   "metadata": {},
   "outputs": [],
   "source": [
    "# Plot for story listening and social task durations\n",
    "colors = durations['story'].map(color_codes)\n",
    "durations = durations.iloc[::-1].reset_index(drop=True)\n",
    "colors = colors.iloc[::-1].reset_index(drop=True)\n",
    "\n",
    "plt.figure(figsize=(15, 5))\n",
    "bars = plt.barh(durations['story'], durations['lsl_duration'], color=colors)\n",
    "plt.ylabel('Task')\n",
    "plt.xlabel('LSL Duration (seconds)')\n",
    "plt.title('Task Durations')\n",
    "plt.yticks(rotation=0)\n",
    "#plt.gca().spines['right'].set_visible(False)\n",
    "\n",
    "for bar in bars:\n",
    "    plt.text(bar.get_width(), bar.get_y() + bar.get_height() / 2, f'{bar.get_width():.1f}', va='center')\n",
    "\n",
    "plt.show()"
   ]
  },
  {
   "cell_type": "markdown",
   "metadata": {},
   "source": [
    "### Checking 10 s rest durations "
   ]
  },
  {
   "cell_type": "code",
   "execution_count": 14,
   "metadata": {},
   "outputs": [
    {
     "name": "stdout",
     "output_type": "stream",
     "text": [
      "Number of trigger 100: 6\n",
      "Are all 10 seconds rest equal? True\n"
     ]
    }
   ],
   "source": [
    "# Count the number of occurrences of trigger value 100 using sum\n",
    "trigger_count = (evs['trigger'] == 100).sum()\n",
    "\n",
    "print(f\"Number of trigger 100: {trigger_count}\")\n",
    "\n",
    "#rest_onsets = \n",
    "ten_secs_rest_durations = pd.DataFrame({\n",
    "    'trigger':[x for x in range(trigger_count)],\n",
    "    'story': ['Onset_10second_rest' for x in range(trigger_count)],\n",
    "    'lsl_duration': [get_secs_between_triggers(x+1, x) for x in evs['trigger'] if x == 100]})\n",
    "#print(ten_secs_rest_durations)\n",
    "\n",
    "# Check if rest durations are equal\n",
    "equal_rest_durations = all(x == ten_secs_rest_durations['lsl_duration'][0] for x in ten_secs_rest_durations['lsl_duration'])\n",
    "print(\"Are all 10 seconds rest equal?\", equal_rest_durations)"
   ]
  },
  {
   "cell_type": "markdown",
   "metadata": {},
   "source": [
    "### Check response time of each question"
   ]
  },
  {
   "cell_type": "code",
   "execution_count": null,
   "metadata": {},
   "outputs": [],
   "source": [
    "# Count the number of occurrences of trigger value 100 using sum\n",
    "trigger_count = (evs['trigger'] == 300).sum()\n",
    "\n",
    "print(f\"Number of trigger 300: {trigger_count}\")\n",
    "\n",
    "qa_durations = pd.DataFrame({\n",
    "    'trigger':[x for x in range(trigger_count)],\n",
    "    'story': ['Onset_subjectInput' for x in range(trigger_count)],\n",
    "    'lsl_duration': [get_secs_between_triggers(x+1, x) for x in evs['trigger'] if x == 300]})\n",
    "#print(qa_durations)\n",
    "print([x for x in evs['trigger'] if x == 300])\n",
    "print(qa_durations.lsl_duration)"
   ]
  },
  {
   "cell_type": "markdown",
   "metadata": {},
   "source": [
    "### Average response time of questions across all trials"
   ]
  },
  {
   "cell_type": "code",
   "execution_count": null,
   "metadata": {},
   "outputs": [
    {
     "name": "stdout",
     "output_type": "stream",
     "text": [
      "[0, 34.440039259789046, 28.54655083612306, 26.384979754628148, 22.774184299923945, 26.332958660728764, 24.475186491385102]\n",
      "23.279128471796867\n"
     ]
    }
   ],
   "source": [
    "response_times = []\n",
    "trial_response_times = []\n",
    "trigger_idx = 0\n",
    "for idx, x in enumerate(stim_df['trigger']):\n",
    "    if idx in stim_df.loc[stim_df.trigger == 300,'lsl_time_stamp'].index:\n",
    "        response_times = response_times + [stim_df.loc[stim_df.trigger == 301, 'lsl_time_stamp'].values[trigger_idx] - stim_df.loc[stim_df.trigger == 300, 'lsl_time_stamp'].values[trigger_idx]]\n",
    "        trigger_idx = trigger_idx + 1\n",
    "    elif x == 100 or x == 400:\n",
    "        trial_response_times = trial_response_times + [sum(response_times)]\n",
    "        response_times = []\n",
    "average_response_time = sum(trial_response_times)/len(trial_response_times)        \n",
    "print('Response time for all questions for each story listing task: ', trial_response_times) \n",
    "print('Average response time for all question across all trials', average_response_time)     \n",
    "#average_response_times = sum(response_times)/len(response_times)\n",
    "#average_response_times"
   ]
  }
 ],
 "metadata": {
  "kernelspec": {
   "display_name": "cuny_qc",
   "language": "python",
   "name": "python3"
  },
  "language_info": {
   "codemirror_mode": {
    "name": "ipython",
    "version": 3
   },
   "file_extension": ".py",
   "mimetype": "text/x-python",
   "name": "python",
   "nbconvert_exporter": "python",
   "pygments_lexer": "ipython3",
   "version": "3.12.2"
  }
 },
 "nbformat": 4,
 "nbformat_minor": 2
}
