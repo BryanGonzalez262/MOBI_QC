{
 "cells": [
  {
   "cell_type": "code",
   "execution_count": 1,
   "metadata": {},
   "outputs": [],
   "source": [
    "import pyxdf\n",
    "import pandas as pd\n",
    "import matplotlib.pyplot as plt \n",
    "import seaborn as sns \n",
    "import wave\n",
    "#import pyaudio\n",
    "import numpy as np\n",
    "#import sounddevice as sd\n",
    "from utils import *\n",
    "import cv2\n",
    "from scipy.signal import iirnotch, filtfilt\n",
    "from glob import glob"
   ]
  },
  {
   "cell_type": "markdown",
   "metadata": {},
   "source": [
    "# Load Data"
   ]
  },
  {
   "cell_type": "code",
   "execution_count": 2,
   "metadata": {},
   "outputs": [],
   "source": [
    "xdf_filename = '/Users/apurva.gokhe/Documents/CUNY_QC/data/sub-P5029423/sub-P5029423_ses-S001_task-CUNY_run-001_mobi.xdf'\n",
    "stim_df = import_stim_data(xdf_filename)"
   ]
  },
  {
   "cell_type": "markdown",
   "metadata": {},
   "source": [
    "# Stimulus"
   ]
  },
  {
   "cell_type": "code",
   "execution_count": 3,
   "metadata": {},
   "outputs": [],
   "source": [
    "events = {\n",
    "    200: 'Onset_ExperimentStart',\n",
    "    10: 'Onset_RestingState',\n",
    "    11: 'Offset_RestingState',\n",
    "    500: 'Onset_StoryListening',\n",
    "    501: 'Offset_StoryListening',\n",
    "    100: 'Onset_10second_rest',\n",
    "    101: 'Offset_10second_rest', \n",
    "    20: 'Onset_CampFriend',\n",
    "    21: 'Offset_CampFriend',\n",
    "    30: 'Onset_FrogDissection',\n",
    "    31: 'Offset_FrogDissection',\n",
    "    40: 'Onset_DanceContest',\n",
    "    41: 'Offset_DanceContest',\n",
    "    50: 'Onset_ZoomClass',\n",
    "    51: 'Offset_ZoomClass',\n",
    "    60: 'Onset_Tornado',\n",
    "    61: 'Offset_Tornado',\n",
    "    70: 'Onset_BirthdayParty',\n",
    "    71: 'Offset_BirthdayParty',\n",
    "    300: 'Onset_subjectInput',\n",
    "    301: 'Offset_subjectInput',\n",
    "    302: 'Onset_FavoriteStory',\n",
    "    303: 'Offset_FavoriteStory',\n",
    "    304: 'Onset_WorstStory',\n",
    "    305: 'Offset_WorstStory',\n",
    "    400: 'Onset_impedanceCheck',\n",
    "    401: 'Offset_impedanceCheck',\n",
    "    80: 'Onset_SocialTask',\n",
    "    81: 'Offset_SocialTask',\n",
    "    201: 'Offset_ExperimentEnd',\n",
    "}\n",
    "\n",
    "\n",
    "story_onsets = [20, 30, 40, 50, 60, 70]"
   ]
  },
  {
   "cell_type": "code",
   "execution_count": 11,
   "metadata": {},
   "outputs": [],
   "source": [
    "audiofiles= [\n",
    "    \"/Users/apurva.gokhe/Documents/CUNY_QC/NEW_AUDIO_44/Camp_Lose_A_Friend.wav\",\n",
    "    \"/Users/apurva.gokhe/Documents/CUNY_QC/NEW_AUDIO_44/Frog_Dissection_Disaster.wav\",\n",
    "    \"/Users/apurva.gokhe/Documents/CUNY_QC/NEW_AUDIO_44/I_Decided_To_Be_Myself_And_Won_A_Dance_Contest.wav\",\n",
    "    \"/Users/apurva.gokhe/Documents/CUNY_QC/NEW_AUDIO_44/I_Fully_Embarrassed_Myself_In_Zoom_Class1.wav\",\n",
    "    \"/Users/apurva.gokhe/Documents/CUNY_QC/NEW_AUDIO_44/Left_Home_Alone_in_a_Tornado.wav\",\n",
    "    \"/Users/apurva.gokhe/Documents/CUNY_QC/NEW_AUDIO_44/The_Birthday_Party_Prank_44.wav\",\n",
    "]"
   ]
  },
  {
   "cell_type": "code",
   "execution_count": 4,
   "metadata": {},
   "outputs": [],
   "source": [
    "# Function to calculate time between two triggeres\n",
    "\n",
    "def get_secs_between_triggers(trigger1, trigger2):\n",
    "    return stim_df.loc[stim_df.trigger == trigger1, 'lsl_time_stamp'].values[0] - stim_df.loc[stim_df.trigger == trigger2, 'lsl_time_stamp'].values[0]"
   ]
  },
  {
   "cell_type": "code",
   "execution_count": 5,
   "metadata": {},
   "outputs": [
    {
     "data": {
      "application/vnd.microsoft.datawrangler.viewer.v0+json": {
       "columns": [
        {
         "name": "index",
         "rawType": "int64",
         "type": "integer"
        },
        {
         "name": "trigger",
         "rawType": "float32",
         "type": "float"
        },
        {
         "name": "event",
         "rawType": "object",
         "type": "string"
        },
        {
         "name": "lsl_time_stamp",
         "rawType": "float64",
         "type": "float"
        },
        {
         "name": "time",
         "rawType": "float64",
         "type": "float"
        }
       ],
       "conversionMethod": "pd.DataFrame",
       "ref": "f5c049d7-3ea1-43c4-bc6c-abc1ee8c3bcf",
       "rows": [
        [
         "0",
         "200.0",
         "Onset_Experiment",
         "185787.7142734537",
         "0.0"
        ],
        [
         "2",
         "10.0",
         "Onset_RestingState",
         "185814.22993588215",
         "26.51566242845729"
        ],
        [
         "4",
         "11.0",
         "Offset_RestingState",
         "186114.23555755173",
         "326.52128409803845"
        ],
        [
         "6",
         "500.0",
         "Onset_StoryListening",
         "186114.23559595156",
         "326.5213224978652"
        ],
        [
         "8",
         "100.0",
         "Onset_10second_rest",
         "186150.71207671124",
         "362.99780325754546"
        ],
        [
         "10",
         "101.0",
         "Offset_10second_rest",
         "186160.71320722857",
         "372.9989337748848"
        ],
        [
         "12",
         "70.0",
         "Onset_BirthdayParty",
         "186160.80977081694",
         "373.095497363247"
        ],
        [
         "14",
         "71.0",
         "Offset_BirthdayParty",
         "186308.01875205268",
         "520.3044785989914"
        ],
        [
         "16",
         "300.0",
         "Onset_subjectInput",
         "186323.34364006645",
         "535.6293666127604"
        ],
        [
         "18",
         "301.0",
         "Offset_subjectInput",
         "186354.33180920128",
         "566.6175357475877"
        ],
        [
         "19",
         "3.0",
         "Bx_input",
         "186354.33181830123",
         "566.6175448475406"
        ],
        [
         "21",
         "300.0",
         "Onset_subjectInput",
         "186354.34878931148",
         "566.6345158577897"
        ],
        [
         "23",
         "301.0",
         "Offset_subjectInput",
         "186359.59833230102",
         "571.8840588473249"
        ],
        [
         "24",
         "6.0",
         "Bx_input",
         "186359.59834140097",
         "571.8840679472778"
        ],
        [
         "26",
         "300.0",
         "Onset_subjectInput",
         "186359.61108843354",
         "571.8968149798457"
        ],
        [
         "28",
         "301.0",
         "Offset_subjectInput",
         "186365.08191635087",
         "577.3676428971812"
        ],
        [
         "29",
         "6.0",
         "Bx_input",
         "186365.0819256506",
         "577.3676521969028"
        ],
        [
         "31",
         "300.0",
         "Onset_subjectInput",
         "186365.12566111912",
         "577.4113876654301"
        ],
        [
         "33",
         "301.0",
         "Offset_subjectInput",
         "186369.50137473783",
         "581.7871012841351"
        ],
        [
         "34",
         "5.0",
         "Bx_input",
         "186369.5013837379",
         "581.7871102842037"
        ],
        [
         "36",
         "300.0",
         "Onset_subjectInput",
         "186369.5224605261",
         "581.8081870723981"
        ],
        [
         "38",
         "301.0",
         "Offset_subjectInput",
         "186376.63178986358",
         "588.9175164098851"
        ],
        [
         "39",
         "3.0",
         "Bx_input",
         "186376.63179926318",
         "588.917525809491"
        ],
        [
         "41",
         "300.0",
         "Onset_subjectInput",
         "186376.64421509765",
         "588.9299416439608"
        ],
        [
         "43",
         "301.0",
         "Offset_subjectInput",
         "186382.78128548525",
         "595.0670120315626"
        ],
        [
         "44",
         "2.0",
         "Bx_input",
         "186382.78129448532",
         "595.0670210316312"
        ],
        [
         "46",
         "100.0",
         "Onset_10second_rest",
         "186387.18067097897",
         "599.466397525277"
        ],
        [
         "48",
         "101.0",
         "Offset_10second_rest",
         "186397.17978570703",
         "609.4655122533441"
        ],
        [
         "50",
         "20.0",
         "Onset_CampFriend",
         "186397.25380261475",
         "609.5395291610621"
        ],
        [
         "52",
         "21.0",
         "Offset_CampFriend",
         "186537.690397528",
         "749.9761240743101"
        ],
        [
         "54",
         "300.0",
         "Onset_subjectInput",
         "186545.0080122617",
         "757.2937388080172"
        ],
        [
         "56",
         "301.0",
         "Offset_subjectInput",
         "186553.90150874713",
         "766.1872352934442"
        ],
        [
         "57",
         "2.0",
         "Bx_input",
         "186553.9015176471",
         "766.1872441933956"
        ],
        [
         "59",
         "300.0",
         "Onset_subjectInput",
         "186553.92297093337",
         "766.2086974796839"
        ],
        [
         "61",
         "301.0",
         "Offset_subjectInput",
         "186557.8295801375",
         "770.115306683816"
        ],
        [
         "62",
         "6.0",
         "Bx_input",
         "186557.82958943746",
         "770.1153159837704"
        ],
        [
         "64",
         "300.0",
         "Onset_subjectInput",
         "186557.8409950768",
         "770.1267216231208"
        ],
        [
         "66",
         "301.0",
         "Offset_subjectInput",
         "186560.91663778317",
         "773.2023643294815"
        ],
        [
         "67",
         "6.0",
         "Bx_input",
         "186560.91664668312",
         "773.2023732294329"
        ],
        [
         "69",
         "300.0",
         "Onset_subjectInput",
         "186560.9495254089",
         "773.2352519552223"
        ],
        [
         "71",
         "301.0",
         "Offset_subjectInput",
         "186566.5477507515",
         "778.8334772977978"
        ],
        [
         "72",
         "5.0",
         "Bx_input",
         "186566.54776035156",
         "778.8334868978709"
        ],
        [
         "74",
         "300.0",
         "Onset_subjectInput",
         "186566.57294701808",
         "778.8586735643912"
        ],
        [
         "76",
         "301.0",
         "Offset_subjectInput",
         "186574.2326891392",
         "786.5184156855103"
        ],
        [
         "77",
         "5.0",
         "Bx_input",
         "186574.23269873927",
         "786.5184252855834"
        ],
        [
         "79",
         "300.0",
         "Onset_subjectInput",
         "186574.24789865874",
         "786.5336252050474"
        ],
        [
         "81",
         "301.0",
         "Offset_subjectInput",
         "186579.71502789576",
         "792.000754442066"
        ],
        [
         "82",
         "4.0",
         "Bx_input",
         "186579.71503709536",
         "792.0007636416703"
        ],
        [
         "84",
         "100.0",
         "Onset_10second_rest",
         "186583.38022707845",
         "795.6659536247607"
        ],
        [
         "86",
         "101.0",
         "Offset_10second_rest",
         "186593.37989280373",
         "805.6656193500385"
        ]
       ],
       "shape": {
        "columns": 4,
        "rows": 149
       }
      },
      "text/html": [
       "<div>\n",
       "<style scoped>\n",
       "    .dataframe tbody tr th:only-of-type {\n",
       "        vertical-align: middle;\n",
       "    }\n",
       "\n",
       "    .dataframe tbody tr th {\n",
       "        vertical-align: top;\n",
       "    }\n",
       "\n",
       "    .dataframe thead th {\n",
       "        text-align: right;\n",
       "    }\n",
       "</style>\n",
       "<table border=\"1\" class=\"dataframe\">\n",
       "  <thead>\n",
       "    <tr style=\"text-align: right;\">\n",
       "      <th></th>\n",
       "      <th>trigger</th>\n",
       "      <th>event</th>\n",
       "      <th>lsl_time_stamp</th>\n",
       "      <th>time</th>\n",
       "    </tr>\n",
       "  </thead>\n",
       "  <tbody>\n",
       "    <tr>\n",
       "      <th>0</th>\n",
       "      <td>200.0</td>\n",
       "      <td>Onset_Experiment</td>\n",
       "      <td>185787.714273</td>\n",
       "      <td>0.000000</td>\n",
       "    </tr>\n",
       "    <tr>\n",
       "      <th>2</th>\n",
       "      <td>10.0</td>\n",
       "      <td>Onset_RestingState</td>\n",
       "      <td>185814.229936</td>\n",
       "      <td>26.515662</td>\n",
       "    </tr>\n",
       "    <tr>\n",
       "      <th>4</th>\n",
       "      <td>11.0</td>\n",
       "      <td>Offset_RestingState</td>\n",
       "      <td>186114.235558</td>\n",
       "      <td>326.521284</td>\n",
       "    </tr>\n",
       "    <tr>\n",
       "      <th>6</th>\n",
       "      <td>500.0</td>\n",
       "      <td>Onset_StoryListening</td>\n",
       "      <td>186114.235596</td>\n",
       "      <td>326.521322</td>\n",
       "    </tr>\n",
       "    <tr>\n",
       "      <th>8</th>\n",
       "      <td>100.0</td>\n",
       "      <td>Onset_10second_rest</td>\n",
       "      <td>186150.712077</td>\n",
       "      <td>362.997803</td>\n",
       "    </tr>\n",
       "    <tr>\n",
       "      <th>...</th>\n",
       "      <td>...</td>\n",
       "      <td>...</td>\n",
       "      <td>...</td>\n",
       "      <td>...</td>\n",
       "    </tr>\n",
       "    <tr>\n",
       "      <th>251</th>\n",
       "      <td>401.0</td>\n",
       "      <td>Offset_impedanceCheck</td>\n",
       "      <td>187676.164065</td>\n",
       "      <td>1888.449792</td>\n",
       "    </tr>\n",
       "    <tr>\n",
       "      <th>253</th>\n",
       "      <td>80.0</td>\n",
       "      <td>Onset_SocialTask</td>\n",
       "      <td>187693.919192</td>\n",
       "      <td>1906.204918</td>\n",
       "    </tr>\n",
       "    <tr>\n",
       "      <th>255</th>\n",
       "      <td>81.0</td>\n",
       "      <td>Offset_SocialTask</td>\n",
       "      <td>187994.410744</td>\n",
       "      <td>2206.696470</td>\n",
       "    </tr>\n",
       "    <tr>\n",
       "      <th>257</th>\n",
       "      <td>201.0</td>\n",
       "      <td>Offset_Experiment</td>\n",
       "      <td>187999.411616</td>\n",
       "      <td>2211.697343</td>\n",
       "    </tr>\n",
       "    <tr>\n",
       "      <th>259</th>\n",
       "      <td>4.0</td>\n",
       "      <td>Bx_input</td>\n",
       "      <td>187999.411756</td>\n",
       "      <td>2211.697483</td>\n",
       "    </tr>\n",
       "  </tbody>\n",
       "</table>\n",
       "<p>149 rows × 4 columns</p>\n",
       "</div>"
      ],
      "text/plain": [
       "     trigger                  event  lsl_time_stamp         time\n",
       "0      200.0       Onset_Experiment   185787.714273     0.000000\n",
       "2       10.0     Onset_RestingState   185814.229936    26.515662\n",
       "4       11.0    Offset_RestingState   186114.235558   326.521284\n",
       "6      500.0   Onset_StoryListening   186114.235596   326.521322\n",
       "8      100.0    Onset_10second_rest   186150.712077   362.997803\n",
       "..       ...                    ...             ...          ...\n",
       "251    401.0  Offset_impedanceCheck   187676.164065  1888.449792\n",
       "253     80.0       Onset_SocialTask   187693.919192  1906.204918\n",
       "255     81.0      Offset_SocialTask   187994.410744  2206.696470\n",
       "257    201.0      Offset_Experiment   187999.411616  2211.697343\n",
       "259      4.0               Bx_input   187999.411756  2211.697483\n",
       "\n",
       "[149 rows x 4 columns]"
      ]
     },
     "execution_count": 5,
     "metadata": {},
     "output_type": "execute_result"
    }
   ],
   "source": [
    "# confirm all events are in the stim_df\n",
    "evs = stim_df.loc[stim_df.event != 'psychopy_time_stamp']\n",
    "evs"
   ]
  },
  {
   "cell_type": "markdown",
   "metadata": {},
   "source": [
    "### Check if markers are missing"
   ]
  },
  {
   "cell_type": "code",
   "execution_count": 6,
   "metadata": {},
   "outputs": [
    {
     "name": "stdout",
     "output_type": "stream",
     "text": [
      "None\n"
     ]
    }
   ],
   "source": [
    "def missing_markers(events, stim_df):\n",
    "    missing_markers=[]\n",
    "    for event in events:\n",
    "        if event in stim_df.event:\n",
    "            return None\n",
    "        else:\n",
    "            missing_markers = missing_markers + [event]\n",
    "        return missing_markers\n",
    "\n",
    "result = missing_markers(events, stim_df)\n",
    "print(result)"
   ]
  },
  {
   "cell_type": "markdown",
   "metadata": {},
   "source": [
    "### Checking durations of all story listening, resting state and social script"
   ]
  },
  {
   "cell_type": "code",
   "execution_count": 7,
   "metadata": {},
   "outputs": [
    {
     "name": "stdout",
     "output_type": "stream",
     "text": [
      "Duration of the entire experiment:  36:51\n"
     ]
    }
   ],
   "source": [
    "minutes_entire_experiment, seconds = divmod(get_secs_between_triggers(201, 200), 60) \n",
    "print('Duration of the entire experiment: ', f\"{int(minutes_entire_experiment):02}:{int(seconds):02}\")"
   ]
  },
  {
   "cell_type": "code",
   "execution_count": 13,
   "metadata": {},
   "outputs": [
    {
     "data": {
      "application/vnd.microsoft.datawrangler.viewer.v0+json": {
       "columns": [
        {
         "name": "index",
         "rawType": "int64",
         "type": "integer"
        },
        {
         "name": "trigger",
         "rawType": "int64",
         "type": "integer"
        },
        {
         "name": "story",
         "rawType": "object",
         "type": "string"
        },
        {
         "name": "lsl_duration",
         "rawType": "float64",
         "type": "float"
        },
        {
         "name": "audiofile_duration",
         "rawType": "float64",
         "type": "float"
        },
        {
         "name": "difference(sec)",
         "rawType": "float64",
         "type": "float"
        }
       ],
       "conversionMethod": "pd.DataFrame",
       "ref": "ac98e572-6021-4bc7-9dd2-f00c4622f119",
       "rows": [
        [
         "0",
         "20",
         "Onset_CampFriend",
         "140.43659491324797",
         "152.83809523809524",
         "12.401500324847262"
        ],
        [
         "1",
         "30",
         "Onset_FrogDissection",
         "114.25720400316641",
         "124.34485260770975",
         "10.087648604543347"
        ],
        [
         "2",
         "40",
         "Onset_DanceContest",
         "127.10143165895715",
         "138.31873015873015",
         "11.217298499772994"
        ],
        [
         "3",
         "50",
         "Onset_ZoomClass",
         "90.38402987504378",
         "98.35986394557823",
         "7.975834070534447"
        ],
        [
         "4",
         "60",
         "Onset_Tornado",
         "149.9838314349763",
         "163.22761904761904",
         "13.243787612642734"
        ],
        [
         "5",
         "70",
         "Onset_BirthdayParty",
         "147.20898123574443",
         "160.21532879818594",
         "13.006347562441505"
        ]
       ],
       "shape": {
        "columns": 5,
        "rows": 6
       }
      },
      "text/html": [
       "<div>\n",
       "<style scoped>\n",
       "    .dataframe tbody tr th:only-of-type {\n",
       "        vertical-align: middle;\n",
       "    }\n",
       "\n",
       "    .dataframe tbody tr th {\n",
       "        vertical-align: top;\n",
       "    }\n",
       "\n",
       "    .dataframe thead th {\n",
       "        text-align: right;\n",
       "    }\n",
       "</style>\n",
       "<table border=\"1\" class=\"dataframe\">\n",
       "  <thead>\n",
       "    <tr style=\"text-align: right;\">\n",
       "      <th></th>\n",
       "      <th>trigger</th>\n",
       "      <th>story</th>\n",
       "      <th>lsl_duration</th>\n",
       "      <th>audiofile_duration</th>\n",
       "      <th>difference(sec)</th>\n",
       "    </tr>\n",
       "  </thead>\n",
       "  <tbody>\n",
       "    <tr>\n",
       "      <th>0</th>\n",
       "      <td>20</td>\n",
       "      <td>Onset_CampFriend</td>\n",
       "      <td>140.436595</td>\n",
       "      <td>152.838095</td>\n",
       "      <td>12.401500</td>\n",
       "    </tr>\n",
       "    <tr>\n",
       "      <th>1</th>\n",
       "      <td>30</td>\n",
       "      <td>Onset_FrogDissection</td>\n",
       "      <td>114.257204</td>\n",
       "      <td>124.344853</td>\n",
       "      <td>10.087649</td>\n",
       "    </tr>\n",
       "    <tr>\n",
       "      <th>2</th>\n",
       "      <td>40</td>\n",
       "      <td>Onset_DanceContest</td>\n",
       "      <td>127.101432</td>\n",
       "      <td>138.318730</td>\n",
       "      <td>11.217298</td>\n",
       "    </tr>\n",
       "    <tr>\n",
       "      <th>3</th>\n",
       "      <td>50</td>\n",
       "      <td>Onset_ZoomClass</td>\n",
       "      <td>90.384030</td>\n",
       "      <td>98.359864</td>\n",
       "      <td>7.975834</td>\n",
       "    </tr>\n",
       "    <tr>\n",
       "      <th>4</th>\n",
       "      <td>60</td>\n",
       "      <td>Onset_Tornado</td>\n",
       "      <td>149.983831</td>\n",
       "      <td>163.227619</td>\n",
       "      <td>13.243788</td>\n",
       "    </tr>\n",
       "    <tr>\n",
       "      <th>5</th>\n",
       "      <td>70</td>\n",
       "      <td>Onset_BirthdayParty</td>\n",
       "      <td>147.208981</td>\n",
       "      <td>160.215329</td>\n",
       "      <td>13.006348</td>\n",
       "    </tr>\n",
       "  </tbody>\n",
       "</table>\n",
       "</div>"
      ],
      "text/plain": [
       "   trigger                 story  lsl_duration  audiofile_duration  \\\n",
       "0       20      Onset_CampFriend    140.436595          152.838095   \n",
       "1       30  Onset_FrogDissection    114.257204          124.344853   \n",
       "2       40    Onset_DanceContest    127.101432          138.318730   \n",
       "3       50       Onset_ZoomClass     90.384030           98.359864   \n",
       "4       60         Onset_Tornado    149.983831          163.227619   \n",
       "5       70   Onset_BirthdayParty    147.208981          160.215329   \n",
       "\n",
       "   difference(sec)  \n",
       "0        12.401500  \n",
       "1        10.087649  \n",
       "2        11.217298  \n",
       "3         7.975834  \n",
       "4        13.243788  \n",
       "5        13.006348  "
      ]
     },
     "execution_count": 13,
     "metadata": {},
     "output_type": "execute_result"
    }
   ],
   "source": [
    "# Get durations of all story listening tasks\n",
    "durations = pd.DataFrame({\n",
    "    'trigger':story_onsets,\n",
    "    'story':[events[x] for x in story_onsets],\n",
    "    'lsl_duration': [get_secs_between_triggers(x+1, x) for x in story_onsets],\n",
    "    'audiofile_duration': [wave.open(x).getnframes()/wave.open(x).getframerate() for x in audiofiles] #duration of audio file is number of frames divided by the frame rate.\n",
    "})\n",
    "durations['difference(sec)'] = durations['audiofile_duration'] - durations['lsl_duration']\n",
    "durations"
   ]
  },
  {
   "cell_type": "markdown",
   "metadata": {},
   "source": [
    "### Check if story listening durations are within 500ms of their expected durations "
   ]
  },
  {
   "cell_type": "code",
   "execution_count": 19,
   "metadata": {},
   "outputs": [
    {
     "name": "stdout",
     "output_type": "stream",
     "text": [
      "Durations do not match expected length:  None\n"
     ]
    }
   ],
   "source": [
    "task_duration_diff = []\n",
    "\n",
    "# Calculating audiofile duration in 48kHz and then comparing with story listening durations from stim_df\n",
    "for i in range(len(durations.audiofile_duration)):\n",
    "    task_duration = (durations.audiofile_duration[i] * 44100) / 48000\n",
    "    if (durations.lsl_duration[i].round(3) -  task_duration.round(3)) > 0.5:\n",
    "        task_duration_diff = task_duration_diff + [durations.story[i]]\n",
    "\n",
    "if task_duration_diff != []:\n",
    "    list_task_duration_diff = task_duration_diff\n",
    "else:\n",
    "    list_task_duration_diff = None\n",
    "\n",
    "print('Durations do not match expected length: ', list_task_duration_diff)"
   ]
  },
  {
   "cell_type": "markdown",
   "metadata": {},
   "source": [
    "### Checking whether duration of resting state and social script is ~300s"
   ]
  },
  {
   "cell_type": "code",
   "execution_count": 15,
   "metadata": {},
   "outputs": [
    {
     "name": "stdout",
     "output_type": "stream",
     "text": [
      "300.00562166958116\n",
      "Is duration of resting state ~300s?  True\n",
      "300.4915517952759\n",
      "Is duration of social script ~300s?  True\n"
     ]
    }
   ],
   "source": [
    "def rest_and_social_duration(trigger):\n",
    "    trial_duration = get_secs_between_triggers(trigger+1, trigger)\n",
    "    #trial_duration = durations.loc[durations['trigger'] == trigger].lsl_duration.to_list()[0]\n",
    "    print(trial_duration)\n",
    "    if trial_duration <= 305.0  and trial_duration >= 298.0:\n",
    "        return True\n",
    "    else:\n",
    "        return False\n",
    "\n",
    "resting_state_duration_bool = rest_and_social_duration(10)\n",
    "print('Is duration of resting state ~300s? ', resting_state_duration_bool)\n",
    "social_script_duration_bool = rest_and_social_duration(80)\n",
    "print('Is duration of social script ~300s? ', social_script_duration_bool)\n"
   ]
  },
  {
   "cell_type": "markdown",
   "metadata": {},
   "source": [
    "### Duration of Impedance check"
   ]
  },
  {
   "cell_type": "code",
   "execution_count": 16,
   "metadata": {},
   "outputs": [
    {
     "name": "stdout",
     "output_type": "stream",
     "text": [
      "Duration of Impedance check:  06:23\n"
     ]
    }
   ],
   "source": [
    "#impedance_check_duration = durations.loc[durations.trigger == 400].lsl_duration.to_list()[0]\n",
    "impedance_check_mins, impedance_check_seconds = divmod(get_secs_between_triggers(401, 400), 60)\n",
    "print('Duration of Impedance check: ', f\"{int(impedance_check_mins):02}:{int(impedance_check_seconds):02}\")"
   ]
  },
  {
   "cell_type": "markdown",
   "metadata": {},
   "source": [
    "### Checking 10 s rest durations "
   ]
  },
  {
   "cell_type": "code",
   "execution_count": 17,
   "metadata": {},
   "outputs": [
    {
     "name": "stdout",
     "output_type": "stream",
     "text": [
      "Number of trigg: 6\n",
      "Are all 10 seconds rest equal? True\n"
     ]
    }
   ],
   "source": [
    "# Count the number of occurrences of trigger value 100 using sum\n",
    "trigger_count = (evs['trigger'] == 100).sum()\n",
    "\n",
    "print(f\"Number of trigg: {trigger_count}\")\n",
    "\n",
    "#rest_onsets = \n",
    "ten_secs_rest_durations = pd.DataFrame({\n",
    "    'trigger':[x for x in range(trigger_count)],\n",
    "    'story': ['Onset_10second_rest' for x in range(trigger_count)],\n",
    "    'lsl_duration': [get_secs_between_triggers(x+1, x) for x in evs['trigger'] if x == 100]})\n",
    "#print(ten_secs_rest_durations)\n",
    "\n",
    "# Check if rest durations are equal\n",
    "equal_rest_durations = all(x == ten_secs_rest_durations['lsl_duration'][0] for x in ten_secs_rest_durations['lsl_duration'])\n",
    "print(\"Are all 10 seconds rest equal?\", equal_rest_durations)"
   ]
  },
  {
   "cell_type": "markdown",
   "metadata": {},
   "source": [
    "### Average response time of questions across all trials"
   ]
  },
  {
   "cell_type": "code",
   "execution_count": 18,
   "metadata": {},
   "outputs": [
    {
     "name": "stdout",
     "output_type": "stream",
     "text": [
      "Response time for all questions for each story listing task:  [0, 59.33065338549204, 34.60084509663284, 35.36828753026202, 31.26714915712364, 26.6756319811102, 37.603947086725384]\n",
      "Average response time for all question across all trials:  00:32\n"
     ]
    }
   ],
   "source": [
    "response_times = []\n",
    "trial_response_times = []\n",
    "trigger_idx = 0\n",
    "for idx, x in enumerate(stim_df['trigger']):\n",
    "    if idx in stim_df.loc[stim_df.trigger == 300,'lsl_time_stamp'].index:\n",
    "        response_times = response_times + [stim_df.loc[stim_df.trigger == 301, 'lsl_time_stamp'].values[trigger_idx] - stim_df.loc[stim_df.trigger == 300, 'lsl_time_stamp'].values[trigger_idx]]\n",
    "        trigger_idx = trigger_idx + 1\n",
    "    elif x == 100 or x == 400:\n",
    "        trial_response_times = trial_response_times + [sum(response_times)]\n",
    "        response_times = []\n",
    "average_response_mins, average_response_seconds = divmod(sum(trial_response_times)/len(trial_response_times), 60)     \n",
    "print('Response time for all questions for each story listing task: ', trial_response_times) \n",
    "print('Average response time for all question across all trials: ', f\"{int(average_response_mins):02}:{int(average_response_seconds):02}\")  "
   ]
  }
 ],
 "metadata": {
  "kernelspec": {
   "display_name": "cuny_qc",
   "language": "python",
   "name": "python3"
  },
  "language_info": {
   "codemirror_mode": {
    "name": "ipython",
    "version": 3
   },
   "file_extension": ".py",
   "mimetype": "text/x-python",
   "name": "python",
   "nbconvert_exporter": "python",
   "pygments_lexer": "ipython3",
   "version": "3.12.2"
  }
 },
 "nbformat": 4,
 "nbformat_minor": 2
}
