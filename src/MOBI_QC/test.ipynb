{
 "cells": [
  {
   "cell_type": "code",
   "execution_count": 2,
   "metadata": {},
   "outputs": [],
   "source": [
    "from utils import *\n",
    "from glob import glob"
   ]
  },
  {
   "cell_type": "code",
   "execution_count": 3,
   "metadata": {},
   "outputs": [],
   "source": [
    "sub_files = glob('../../../Data/*/*.xdf')\n",
    "sub_files\n",
    "xdf_path = sub_files[3]"
   ]
  },
  {
   "cell_type": "code",
   "execution_count": null,
   "metadata": {},
   "outputs": [],
   "source": [
    "et_df, eeg_df... = import_all\n",
    "\n",
    "get_durations(et_df, eeg_df)"
   ]
  },
  {
   "cell_type": "code",
   "execution_count": null,
   "metadata": {},
   "outputs": [],
   "source": [
    "# et_df = import_et_data(xdf_path)\n",
    "# stim_df = import_stim_data(xdf_path)\n",
    "# eeg_df = import_eeg_data(xdf_path)\n",
    "# mic_df = import_mic_data(xdf_path)\n",
    "# video_df = import_video_data(xdf_path)\n",
    "# physio_df = import_physio_data(xdf_path)"
   ]
  },
  {
   "cell_type": "code",
   "execution_count": 6,
   "metadata": {},
   "outputs": [
    {
     "name": "stdout",
     "output_type": "stream",
     "text": [
      "\n",
      "RestingState DataFrame\n"
     ]
    },
    {
     "data": {
      "application/vnd.microsoft.datawrangler.viewer.v0+json": {
       "columns": [
        {
         "name": "index",
         "rawType": "int64",
         "type": "integer"
        },
        {
         "name": "stream",
         "rawType": "object",
         "type": "string"
        },
        {
         "name": "duration",
         "rawType": "float64",
         "type": "float"
        },
        {
         "name": "mm:ss",
         "rawType": "object",
         "type": "string"
        },
        {
         "name": "percent",
         "rawType": "object",
         "type": "string"
        }
       ],
       "conversionMethod": "pd.DataFrame",
       "ref": "012038fc-35fc-44bf-b1fe-d0bd66783177",
       "rows": [
        [
         "3",
         "cam",
         "299.9631",
         "0:05:00",
         "99.99%"
        ],
        [
         "0",
         "et",
         "299.994",
         "0:05:00",
         "100.0%"
        ],
        [
         "4",
         "eeg",
         "299.9984",
         "0:05:00",
         "100.0%"
        ],
        [
         "1",
         "ps",
         "299.9988",
         "0:05:00",
         "100.0%"
        ],
        [
         "5",
         "expected",
         "299.9996",
         "0:05:00",
         "100.0%"
        ]
       ],
       "shape": {
        "columns": 4,
        "rows": 5
       }
      },
      "text/html": [
       "<div>\n",
       "<style scoped>\n",
       "    .dataframe tbody tr th:only-of-type {\n",
       "        vertical-align: middle;\n",
       "    }\n",
       "\n",
       "    .dataframe tbody tr th {\n",
       "        vertical-align: top;\n",
       "    }\n",
       "\n",
       "    .dataframe thead th {\n",
       "        text-align: right;\n",
       "    }\n",
       "</style>\n",
       "<table border=\"1\" class=\"dataframe\">\n",
       "  <thead>\n",
       "    <tr style=\"text-align: right;\">\n",
       "      <th></th>\n",
       "      <th>stream</th>\n",
       "      <th>duration</th>\n",
       "      <th>mm:ss</th>\n",
       "      <th>percent</th>\n",
       "    </tr>\n",
       "  </thead>\n",
       "  <tbody>\n",
       "    <tr>\n",
       "      <th>3</th>\n",
       "      <td>cam</td>\n",
       "      <td>299.9631</td>\n",
       "      <td>0:05:00</td>\n",
       "      <td>99.99%</td>\n",
       "    </tr>\n",
       "    <tr>\n",
       "      <th>0</th>\n",
       "      <td>et</td>\n",
       "      <td>299.9940</td>\n",
       "      <td>0:05:00</td>\n",
       "      <td>100.0%</td>\n",
       "    </tr>\n",
       "    <tr>\n",
       "      <th>4</th>\n",
       "      <td>eeg</td>\n",
       "      <td>299.9984</td>\n",
       "      <td>0:05:00</td>\n",
       "      <td>100.0%</td>\n",
       "    </tr>\n",
       "    <tr>\n",
       "      <th>1</th>\n",
       "      <td>ps</td>\n",
       "      <td>299.9988</td>\n",
       "      <td>0:05:00</td>\n",
       "      <td>100.0%</td>\n",
       "    </tr>\n",
       "    <tr>\n",
       "      <th>5</th>\n",
       "      <td>expected</td>\n",
       "      <td>299.9996</td>\n",
       "      <td>0:05:00</td>\n",
       "      <td>100.0%</td>\n",
       "    </tr>\n",
       "  </tbody>\n",
       "</table>\n",
       "</div>"
      ],
      "text/plain": [
       "     stream  duration    mm:ss percent\n",
       "3       cam  299.9631  0:05:00  99.99%\n",
       "0        et  299.9940  0:05:00  100.0%\n",
       "4       eeg  299.9984  0:05:00  100.0%\n",
       "1        ps  299.9988  0:05:00  100.0%\n",
       "5  expected  299.9996  0:05:00  100.0%"
      ]
     },
     "execution_count": 6,
     "metadata": {},
     "output_type": "execute_result"
    }
   ],
   "source": [
    "get_durations('RestingState', xdf_path)"
   ]
  },
  {
   "cell_type": "code",
   "execution_count": 7,
   "metadata": {},
   "outputs": [
    {
     "data": {
      "text/plain": [
       "str"
      ]
     },
     "execution_count": 7,
     "metadata": {},
     "output_type": "execute_result"
    }
   ],
   "source": [
    "type(xdf_path)"
   ]
  },
  {
   "cell_type": "code",
   "execution_count": null,
   "metadata": {},
   "outputs": [],
   "source": []
  }
 ],
 "metadata": {
  "kernelspec": {
   "display_name": "cuny_env",
   "language": "python",
   "name": "python3"
  },
  "language_info": {
   "codemirror_mode": {
    "name": "ipython",
    "version": 3
   },
   "file_extension": ".py",
   "mimetype": "text/x-python",
   "name": "python",
   "nbconvert_exporter": "python",
   "pygments_lexer": "ipython3",
   "version": "3.12.7"
  }
 },
 "nbformat": 4,
 "nbformat_minor": 2
}
