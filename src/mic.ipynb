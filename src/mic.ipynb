{
 "cells": [
  {
   "cell_type": "markdown",
   "metadata": {},
   "source": [
    "# Imports"
   ]
  },
  {
   "cell_type": "code",
   "execution_count": 1,
   "metadata": {},
   "outputs": [],
   "source": [
    "import pyxdf\n",
    "import pandas as pd\n",
    "import numpy as np\n",
    "from glob import glob\n",
    "from tqdm import tqdm\n",
    "import librosa\n",
    "import datetime\n",
    "import matplotlib.pyplot as plt\n",
    "import sounddevice as sd\n"
   ]
  },
  {
   "cell_type": "markdown",
   "metadata": {},
   "source": [
    "# Load Data"
   ]
  },
  {
   "cell_type": "code",
   "execution_count": 2,
   "metadata": {},
   "outputs": [
    {
     "data": {
      "text/plain": [
       "['../sub-P5318014/sub-P5318014_ses-S001_task-CUNY_run-001_mobi.xdf',\n",
       " '../sub-5182010/sub-P5182010_ses-S001_task-CUNY_run-001_mobi.xdf',\n",
       " '../sub-P5447527/sub-P5447527_ses-S001_task-CUNY_run-001_mobi.xdf',\n",
       " '../sub-5958030/sub-P5958030_ses-S001_task-CUNY_run-001_mobi.xdf',\n",
       " '../sub-P5899288/sub-P5899288_ses-S001_task-CUNY_run-001_mobi.xdf',\n",
       " '../sub-P5548165/sub-P5548165_ses-S001_task-CUNY_run-001_MOBI.xdf']"
      ]
     },
     "execution_count": 2,
     "metadata": {},
     "output_type": "execute_result"
    }
   ],
   "source": [
    "sub_files = glob('../*/*.xdf')\n",
    "sub_files"
   ]
  },
  {
   "cell_type": "code",
   "execution_count": 3,
   "metadata": {},
   "outputs": [
    {
     "data": {
      "text/plain": [
       "['WebcamStream',\n",
       " 'Tobii',\n",
       " 'OpenSignals',\n",
       " 'EGI NetAmp 0',\n",
       " 'Stimuli_Markers',\n",
       " 'Microphone']"
      ]
     },
     "execution_count": 3,
     "metadata": {},
     "output_type": "execute_result"
    }
   ],
   "source": [
    "xdf_path = sub_files[3]\n",
    "data, header = pyxdf.load_xdf(xdf_path)\n",
    "streams_collected = [stream['info']['name'][0] for stream in data]\n",
    "      \n",
    "streams_collected"
   ]
  },
  {
   "cell_type": "markdown",
   "metadata": {},
   "source": [
    "# Stimulus"
   ]
  },
  {
   "cell_type": "code",
   "execution_count": 4,
   "metadata": {},
   "outputs": [
    {
     "data": {
      "text/html": [
       "<div>\n",
       "<style scoped>\n",
       "    .dataframe tbody tr th:only-of-type {\n",
       "        vertical-align: middle;\n",
       "    }\n",
       "\n",
       "    .dataframe tbody tr th {\n",
       "        vertical-align: top;\n",
       "    }\n",
       "\n",
       "    .dataframe thead th {\n",
       "        text-align: right;\n",
       "    }\n",
       "</style>\n",
       "<table border=\"1\" class=\"dataframe\">\n",
       "  <thead>\n",
       "    <tr style=\"text-align: right;\">\n",
       "      <th></th>\n",
       "      <th>trigger</th>\n",
       "      <th>event</th>\n",
       "      <th>lsl_time_stamp</th>\n",
       "      <th>time</th>\n",
       "    </tr>\n",
       "  </thead>\n",
       "  <tbody>\n",
       "    <tr>\n",
       "      <th>0</th>\n",
       "      <td>2.000000e+02</td>\n",
       "      <td>Onset_Experiment</td>\n",
       "      <td>1.073920e+06</td>\n",
       "      <td>0.000000e+00</td>\n",
       "    </tr>\n",
       "    <tr>\n",
       "      <th>1</th>\n",
       "      <td>1.735058e+09</td>\n",
       "      <td>psychopy_time_stamp</td>\n",
       "      <td>1.073920e+06</td>\n",
       "      <td>9.799609e-09</td>\n",
       "    </tr>\n",
       "    <tr>\n",
       "      <th>2</th>\n",
       "      <td>1.000000e+01</td>\n",
       "      <td>Onset_RestingState</td>\n",
       "      <td>1.073940e+06</td>\n",
       "      <td>1.976684e-02</td>\n",
       "    </tr>\n",
       "    <tr>\n",
       "      <th>3</th>\n",
       "      <td>1.735058e+09</td>\n",
       "      <td>psychopy_time_stamp</td>\n",
       "      <td>1.073940e+06</td>\n",
       "      <td>1.976685e-02</td>\n",
       "    </tr>\n",
       "    <tr>\n",
       "      <th>4</th>\n",
       "      <td>1.100000e+01</td>\n",
       "      <td>Offset_RestingState</td>\n",
       "      <td>1.074240e+06</td>\n",
       "      <td>3.197662e-01</td>\n",
       "    </tr>\n",
       "    <tr>\n",
       "      <th>...</th>\n",
       "      <td>...</td>\n",
       "      <td>...</td>\n",
       "      <td>...</td>\n",
       "      <td>...</td>\n",
       "    </tr>\n",
       "    <tr>\n",
       "      <th>256</th>\n",
       "      <td>1.735060e+09</td>\n",
       "      <td>psychopy_time_stamp</td>\n",
       "      <td>1.076101e+06</td>\n",
       "      <td>2.180627e+00</td>\n",
       "    </tr>\n",
       "    <tr>\n",
       "      <th>257</th>\n",
       "      <td>2.010000e+02</td>\n",
       "      <td>Offset_Experiment</td>\n",
       "      <td>1.076106e+06</td>\n",
       "      <td>2.185632e+00</td>\n",
       "    </tr>\n",
       "    <tr>\n",
       "      <th>258</th>\n",
       "      <td>1.735060e+09</td>\n",
       "      <td>psychopy_time_stamp</td>\n",
       "      <td>1.076106e+06</td>\n",
       "      <td>2.185632e+00</td>\n",
       "    </tr>\n",
       "    <tr>\n",
       "      <th>259</th>\n",
       "      <td>4.000000e+00</td>\n",
       "      <td>Bx_input</td>\n",
       "      <td>1.076106e+06</td>\n",
       "      <td>2.185633e+00</td>\n",
       "    </tr>\n",
       "    <tr>\n",
       "      <th>260</th>\n",
       "      <td>1.735060e+09</td>\n",
       "      <td>psychopy_time_stamp</td>\n",
       "      <td>1.076106e+06</td>\n",
       "      <td>2.185633e+00</td>\n",
       "    </tr>\n",
       "  </tbody>\n",
       "</table>\n",
       "<p>261 rows × 4 columns</p>\n",
       "</div>"
      ],
      "text/plain": [
       "          trigger                event  lsl_time_stamp          time\n",
       "0    2.000000e+02     Onset_Experiment    1.073920e+06  0.000000e+00\n",
       "1    1.735058e+09  psychopy_time_stamp    1.073920e+06  9.799609e-09\n",
       "2    1.000000e+01   Onset_RestingState    1.073940e+06  1.976684e-02\n",
       "3    1.735058e+09  psychopy_time_stamp    1.073940e+06  1.976685e-02\n",
       "4    1.100000e+01  Offset_RestingState    1.074240e+06  3.197662e-01\n",
       "..            ...                  ...             ...           ...\n",
       "256  1.735060e+09  psychopy_time_stamp    1.076101e+06  2.180627e+00\n",
       "257  2.010000e+02    Offset_Experiment    1.076106e+06  2.185632e+00\n",
       "258  1.735060e+09  psychopy_time_stamp    1.076106e+06  2.185632e+00\n",
       "259  4.000000e+00             Bx_input    1.076106e+06  2.185633e+00\n",
       "260  1.735060e+09  psychopy_time_stamp    1.076106e+06  2.185633e+00\n",
       "\n",
       "[261 rows x 4 columns]"
      ]
     },
     "execution_count": 4,
     "metadata": {},
     "output_type": "execute_result"
    }
   ],
   "source": [
    "stim_dat = data[streams_collected.index('Stimuli_Markers')]\n",
    "stim_df = pd.DataFrame(stim_dat['time_series'])\n",
    "stim_df.rename(columns={0: 'trigger'}, inplace=True)\n",
    "events = {\n",
    "    200: 'Onset_Experiment',\n",
    "    10: 'Onset_RestingState',\n",
    "    11: 'Offset_RestingState',\n",
    "    500: 'Onset_StoryListening',\n",
    "    501: 'Offset_StoryListening',\n",
    "    100: 'Onset_10second_rest',\n",
    "    101: 'Offset_10second_rest', \n",
    "    20: 'Onset_CampFriend',\n",
    "    21: 'Offset_CampFriend',\n",
    "    30: 'Onset_FrogDissection',\n",
    "    31: 'Offset_FrogDissection',\n",
    "    40: 'Onset_DanceContest',\n",
    "    41: 'Offset_DanceContest',\n",
    "    50: 'Onset_ZoomClass',\n",
    "    51: 'Offset_ZoomClass',\n",
    "    60: 'Onset_Tornado',\n",
    "    61: 'Offset_Tornado',\n",
    "    70: 'Onset_BirthdayParty',\n",
    "    71: 'Offset_BirthdayParty',\n",
    "    300: 'Onset_subjectInput',\n",
    "    301: 'Offset_subjectInput',\n",
    "    302: 'Onset_FavoriteStory',\n",
    "    303: 'Offset_FavoriteStory',\n",
    "    304: 'Onset_WorstStory',\n",
    "    305: 'Offset_WorstStory',\n",
    "    400: 'Onset_impedanceCheck',\n",
    "    401: 'Offset_impedanceCheck',\n",
    "    80: 'Onset_SocialTask',\n",
    "    81: 'Offset_SocialTask',\n",
    "    201: 'Offset_Experiment',\n",
    "}\n",
    "\n",
    "story_onsets = [20, 30, 40, 50, 60, 70]\n",
    "\n",
    "# relabel the event if the trigger is in the events dictionary, else if \n",
    "stim_df['event'] = stim_df['trigger'].apply(lambda x: events[x] if x in events.keys() else 'Bx_input')\n",
    "\n",
    "# relabel the event as a psychopy timestamp if the trigger is greater than 5 digits\n",
    "stim_df.loc[stim_df.trigger.astype(str).str.len() > 5, 'event'] = 'psychopy_time_stamp'\n",
    "stim_df['lsl_time_stamp'] = stim_dat['time_stamps']\n",
    "stim_df['time'] = (stim_dat['time_stamps'] - stim_dat['time_stamps'][0])/1000\n",
    "stim_df"
   ]
  },
  {
   "cell_type": "markdown",
   "metadata": {},
   "source": [
    "# Microphone Data "
   ]
  },
  {
   "cell_type": "code",
   "execution_count": 5,
   "metadata": {},
   "outputs": [
    {
     "data": {
      "text/html": [
       "<div>\n",
       "<style scoped>\n",
       "    .dataframe tbody tr th:only-of-type {\n",
       "        vertical-align: middle;\n",
       "    }\n",
       "\n",
       "    .dataframe tbody tr th {\n",
       "        vertical-align: top;\n",
       "    }\n",
       "\n",
       "    .dataframe thead th {\n",
       "        text-align: right;\n",
       "    }\n",
       "</style>\n",
       "<table border=\"1\" class=\"dataframe\">\n",
       "  <thead>\n",
       "    <tr style=\"text-align: right;\">\n",
       "      <th></th>\n",
       "      <th>int_array</th>\n",
       "      <th>bytestring</th>\n",
       "      <th>lsl_time_stamp</th>\n",
       "      <th>time_delta</th>\n",
       "    </tr>\n",
       "  </thead>\n",
       "  <tbody>\n",
       "    <tr>\n",
       "      <th>84275096</th>\n",
       "      <td>-12</td>\n",
       "      <td>b'\\xf4\\xff\\xff\\xff\\xff\\xff\\xff\\xff'</td>\n",
       "      <td>1.076166e+06</td>\n",
       "      <td>0.000023</td>\n",
       "    </tr>\n",
       "    <tr>\n",
       "      <th>84275097</th>\n",
       "      <td>-9</td>\n",
       "      <td>b'\\xf7\\xff\\xff\\xff\\xff\\xff\\xff\\xff'</td>\n",
       "      <td>1.076166e+06</td>\n",
       "      <td>0.000023</td>\n",
       "    </tr>\n",
       "    <tr>\n",
       "      <th>84275098</th>\n",
       "      <td>8</td>\n",
       "      <td>b'\\x08\\x00\\x00\\x00\\x00\\x00\\x00\\x00'</td>\n",
       "      <td>1.076166e+06</td>\n",
       "      <td>0.000023</td>\n",
       "    </tr>\n",
       "    <tr>\n",
       "      <th>84275099</th>\n",
       "      <td>-3</td>\n",
       "      <td>b'\\xfd\\xff\\xff\\xff\\xff\\xff\\xff\\xff'</td>\n",
       "      <td>1.076166e+06</td>\n",
       "      <td>0.000023</td>\n",
       "    </tr>\n",
       "    <tr>\n",
       "      <th>84275100</th>\n",
       "      <td>33</td>\n",
       "      <td>b'!\\x00\\x00\\x00\\x00\\x00\\x00\\x00'</td>\n",
       "      <td>1.076166e+06</td>\n",
       "      <td>0.000023</td>\n",
       "    </tr>\n",
       "  </tbody>\n",
       "</table>\n",
       "</div>"
      ],
      "text/plain": [
       "          int_array                           bytestring  lsl_time_stamp  \\\n",
       "84275096        -12  b'\\xf4\\xff\\xff\\xff\\xff\\xff\\xff\\xff'    1.076166e+06   \n",
       "84275097         -9  b'\\xf7\\xff\\xff\\xff\\xff\\xff\\xff\\xff'    1.076166e+06   \n",
       "84275098          8  b'\\x08\\x00\\x00\\x00\\x00\\x00\\x00\\x00'    1.076166e+06   \n",
       "84275099         -3  b'\\xfd\\xff\\xff\\xff\\xff\\xff\\xff\\xff'    1.076166e+06   \n",
       "84275100         33     b'!\\x00\\x00\\x00\\x00\\x00\\x00\\x00'    1.076166e+06   \n",
       "\n",
       "          time_delta  \n",
       "84275096    0.000023  \n",
       "84275097    0.000023  \n",
       "84275098    0.000023  \n",
       "84275099    0.000023  \n",
       "84275100    0.000023  "
      ]
     },
     "execution_count": 5,
     "metadata": {},
     "output_type": "execute_result"
    }
   ],
   "source": [
    "mic_data = data[streams_collected.index('Microphone')]\n",
    "mic_df = pd.DataFrame(mic_data['time_series'], columns=['int_array'])\n",
    "mic_df['bytestring'] = mic_df['int_array'].apply(lambda x: np.array(x).tobytes())\n",
    "# mic_df['time_stamps'] = (mic_data['time_stamps'] - mic_data['time_stamps'][0])/441000\n",
    "\n",
    "mic_df['lsl_time_stamp'] = mic_data['time_stamps']\n",
    "# mic_df['time'] = (mic_df.lsl_time_stamp - mic_df.lsl_time_stamp[0])\n",
    "mic_df['time_delta'] = mic_df['lsl_time_stamp'].diff()\n",
    "\n",
    "mic_df.tail()"
   ]
  },
  {
   "cell_type": "code",
   "execution_count": 11,
   "metadata": {},
   "outputs": [],
   "source": [
    "onset_story = mic_df.loc[(mic_df.lsl_time_stamp >= stim_df.loc[stim_df.event == 'Onset_CampFriend', 'lsl_time_stamp'].values[0])]"
   ]
  },
  {
   "cell_type": "markdown",
   "metadata": {},
   "source": [
    "## Compare wav and LSL lengths"
   ]
  },
  {
   "cell_type": "code",
   "execution_count": 54,
   "metadata": {},
   "outputs": [
    {
     "data": {
      "text/plain": [
       "'../sub-P5318014/sub-P5318014_task-CUNY_run-001_mic.wav'"
      ]
     },
     "execution_count": 54,
     "metadata": {},
     "output_type": "execute_result"
    }
   ],
   "source": [
    "# get wav file\n",
    "wav_files = glob('../*/*.wav')\n",
    "wav_files\n",
    "\n",
    "wav_path = wav_files[0]\n",
    "wav_path"
   ]
  },
  {
   "cell_type": "code",
   "execution_count": 55,
   "metadata": {},
   "outputs": [
    {
     "name": "stdout",
     "output_type": "stream",
     "text": [
      "         seconds    mm:ss\n",
      "wav_dur  1989.40  0:33:09\n",
      "lsl_dur  1989.48  0:33:09\n",
      "\n",
      "The wav file and the lsl time stamps are the same length!\n"
     ]
    }
   ],
   "source": [
    "# calculate wav and lsl durations\n",
    "wav_dur = round(librosa.get_duration(path=wav_path), 2)\n",
    "lsl_dur = round(mic_df['lsl_time_stamp'].iloc[-1]- mic_df['lsl_time_stamp'].iloc[0], 2)\n",
    "\n",
    "# convert to hh:mm:ss\n",
    "wav_dt = datetime.timedelta(seconds=wav_dur)\n",
    "wav_dur_dt = str(datetime.timedelta(seconds=round(wav_dt.total_seconds())))\n",
    "lsl_dt = datetime.timedelta(seconds=lsl_dur)\n",
    "lsl_dur_dt = str(datetime.timedelta(seconds=round(lsl_dt.total_seconds())))\n",
    "\n",
    "\n",
    "# make df of durations\n",
    "variables = {name: [globals()[name], globals()[name+'_dt']]  for name in ['wav_dur', 'lsl_dur']}\n",
    "durations_df = pd.DataFrame.from_dict(variables, orient = 'index', columns = ['seconds', 'mm:ss'])\n",
    "print(durations_df.to_string() + '\\n')\n",
    "\n",
    "# print if they are close or not (margin on 5 seconds rn)\n",
    "if abs(wav_dur - lsl_dur) > 5:\n",
    "    print(f'Warning: The duration of the wav file ({wav_dur}) and the duration of the lsl time stamps ({lsl_dur}) differ by more than 5 seconds. \\n')\n",
    "    if wav_dur > lsl_dur:\n",
    "        print('The wav file is longer than the lsl time stamps by {} seconds'.format(wav_dur - lsl_dur))\n",
    "    if lsl_dur > wav_dur:\n",
    "        print('The lsl time stamps are longer than the wav file by {} seconds'.format(lsl_dur - wav_dur))\n",
    "else: \n",
    "    print('The wav file and the lsl time stamps are the same length!')"
   ]
  },
  {
   "cell_type": "code",
   "execution_count": null,
   "metadata": {},
   "outputs": [],
   "source": [
    "abs(wav_dur - lsl_dur)"
   ]
  },
  {
   "cell_type": "markdown",
   "metadata": {},
   "source": [
    "## Range"
   ]
  },
  {
   "cell_type": "code",
   "execution_count": 14,
   "metadata": {},
   "outputs": [
    {
     "data": {
      "image/png": "[encoded data removed]",
      "text/plain": [
       "<Figure size 1500x500 with 1 Axes>"
      ]
     },
     "metadata": {},
     "output_type": "display_data"
    }
   ],
   "source": [
    "plt.figure(figsize=(15, 5))\n",
    "plt.plot(mic_df.lsl_time_stamp, mic_df.int_array)\n",
    "for event in stim_df.loc[stim_df.event.str.contains('StoryListening|SocialTask')].iterrows():\n",
    "    plt.axvline(event[1]['lsl_time_stamp'], color='r')\n",
    "    plt.text(event[1]['lsl_time_stamp']+2, 0, event[1]['event'], rotation=90)\n",
    "\n",
    "plt.xlabel('LSL Timestamps')\n",
    "plt.ylabel('Samples')\n",
    "plt.title('Microphone Samples over Time')\n",
    "plt.show()"
   ]
  },
  {
   "cell_type": "code",
   "execution_count": 57,
   "metadata": {},
   "outputs": [
    {
     "data": {
      "image/png": "[encoded data removed]",
      "text/plain": [
       "<Figure size 640x480 with 1 Axes>"
      ]
     },
     "metadata": {},
     "output_type": "display_data"
    }
   ],
   "source": [
    "plt.hist(mic_df['int_array'], bins=100)\n",
    "plt.xlabel('Microphone Samples')\n",
    "plt.ylabel('Count')\n",
    "plt.title('Distribution of Microphone Samples')\n",
    "plt.show()\n",
    "\n",
    "# looking to make sure it's relatively centered around 0, no outlier peaks, no values above 32k or below -32k"
   ]
  },
  {
   "cell_type": "markdown",
   "metadata": {},
   "source": [
    "### Stats that might not be included\n"
   ]
  },
  {
   "cell_type": "code",
   "execution_count": 58,
   "metadata": {},
   "outputs": [
    {
     "name": "stdout",
     "output_type": "stream",
     "text": [
      "first quartile: -37.0 \n",
      "second quartile: 37.0\n",
      "standard deviation: 157.3225\n",
      "min:  -5742 \n",
      "max:  6073\n"
     ]
    }
   ],
   "source": [
    "# 25% and 75% quantiles\n",
    "quan25 = np.quantile(mic_df['int_array'], 0.25)\n",
    "quan75 = np.quantile(mic_df['int_array'], 0.75)\n",
    "\n",
    "if quan75 - quan25 > 100:\n",
    "    print('range is really large??')\n",
    "print('first quartile: {} \\nsecond quartile: {}'.format(quan25, quan75))\n",
    "\n",
    "# standard dev\n",
    "print(\"standard deviation: {:.4f}\".format(mic_df['int_array'].std()))\n",
    "\n",
    "# range, should be between -32768 and 32767\n",
    "print(\"min: \", min(mic_df.int_array), \"\\nmax: \", max(mic_df.int_array))"
   ]
  },
  {
   "cell_type": "code",
   "execution_count": 59,
   "metadata": {},
   "outputs": [
    {
     "name": "stdout",
     "output_type": "stream",
     "text": [
      "number of NaN's:  0\n"
     ]
    }
   ],
   "source": [
    "# no of NA's\n",
    "print(\"number of NaN's: \", mic_df['int_array'].isna().sum())"
   ]
  },
  {
   "cell_type": "markdown",
   "metadata": {},
   "source": [
    "## Sampling Rate"
   ]
  },
  {
   "cell_type": "code",
   "execution_count": 60,
   "metadata": {},
   "outputs": [
    {
     "name": "stdout",
     "output_type": "stream",
     "text": [
      "nominal sampling rate: 44100.0\n",
      "effective sampling rate: 44098.1454\n"
     ]
    }
   ],
   "source": [
    "nom_srate = float(mic_data['info']['nominal_srate'][0])\n",
    "eff_srate = mic_data['info']['effective_srate']\n",
    "srate_diff = 44100.00 - eff_srate\n",
    "\n",
    "if nom_srate != 44100.0:\n",
    "    print(f\"Alert! Nominal sampling rate is not 44.1 kHz! It is {nom_srate}\")\n",
    "if abs(srate_diff) > 5: # 5?\n",
    "    print(f'Alert! Effective sampling rate is not 44.1 kHz! It is {eff_srate} Hz, {srate_diff} Hz away from 44.1kHz')\n",
    "\n",
    "print(f'nominal sampling rate: {nom_srate}\\neffective sampling rate: {eff_srate:.4f}')\n"
   ]
  }
 ],
 "metadata": {
  "kernelspec": {
   "display_name": "cuny_env",
   "language": "python",
   "name": "python3"
  },
  "language_info": {
   "codemirror_mode": {
    "name": "ipython",
    "version": 3
   },
   "file_extension": ".py",
   "mimetype": "text/x-python",
   "name": "python",
   "nbconvert_exporter": "python",
   "pygments_lexer": "ipython3",
   "version": "3.12.7"
  }
 },
 "nbformat": 4,
 "nbformat_minor": 2
}
