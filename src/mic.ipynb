{
 "cells": [
  {
   "cell_type": "markdown",
   "metadata": {},
   "source": [
    "# Imports"
   ]
  },
  {
   "cell_type": "code",
   "execution_count": 2,
   "metadata": {},
   "outputs": [],
   "source": [
    "import pyxdf\n",
    "import pandas as pd\n",
    "import numpy as np\n",
    "from glob import glob\n",
    "from tqdm import tqdm\n",
    "import librosa\n",
    "import datetime\n",
    "import matplotlib.pyplot as plt\n",
    "import sounddevice as sd\n"
   ]
  },
  {
   "cell_type": "markdown",
   "metadata": {},
   "source": [
    "# Load Data"
   ]
  },
  {
   "cell_type": "code",
   "execution_count": 6,
   "metadata": {},
   "outputs": [
    {
     "data": {
      "text/plain": [
       "['/Users/camilla.strauss/Desktop/CUNY_Data/Data/sub-P5318014/sub-P5318014_ses-S001_task-CUNY_run-001_mobi.xdf',\n",
       " '/Users/camilla.strauss/Desktop/CUNY_Data/Data/sub-P5942694/sub-P5942694_ses-S001_task-CUNY_run-001_mobi.xdf',\n",
       " '/Users/camilla.strauss/Desktop/CUNY_Data/Data/sub-5182010/sub-P5182010_ses-S001_task-CUNY_run-001_mobi.xdf',\n",
       " '/Users/camilla.strauss/Desktop/CUNY_Data/Data/sub-P5287460/sub-P5287460_ses-S001_task-CUNY_run-001_mobi.xdf',\n",
       " '/Users/camilla.strauss/Desktop/CUNY_Data/Data/sub-P5447527/sub-P5447527_ses-S001_task-CUNY_run-001_mobi.xdf',\n",
       " '/Users/camilla.strauss/Desktop/CUNY_Data/Data/sub-5958030/sub-P5958030_ses-S001_task-CUNY_run-001_mobi.xdf',\n",
       " '/Users/camilla.strauss/Desktop/CUNY_Data/Data/sub-P5899288/sub-P5899288_ses-S001_task-CUNY_run-001_mobi.xdf',\n",
       " '/Users/camilla.strauss/Desktop/CUNY_Data/Data/sub-P5813427/sub-P5813427_ses-S001_task-CUNY_run-001_mobi.xdf',\n",
       " '/Users/camilla.strauss/Desktop/CUNY_Data/Data/sub-P5070899/sub-P5070899_ses-S001_task-CUNY_run-001_mobi.xdf',\n",
       " '/Users/camilla.strauss/Desktop/CUNY_Data/Data/sub-P5548165/sub-P5548165_ses-S001_task-CUNY_run-001_MOBI.xdf']"
      ]
     },
     "execution_count": 6,
     "metadata": {},
     "output_type": "execute_result"
    }
   ],
   "source": [
    "sub_files = glob('/Users/camilla.strauss/Desktop/CUNY_Data/Data/*/*.xdf')\n",
    "sub_files"
   ]
  },
  {
   "cell_type": "code",
   "execution_count": null,
   "metadata": {},
   "outputs": [
    {
     "data": {
      "text/plain": [
       "['Stimuli_Markers', 'Microphone']"
      ]
     },
     "execution_count": 7,
     "metadata": {},
     "output_type": "execute_result"
    }
   ],
   "source": [
    "xdf_path = sub_files[3]\n",
    "data, _ = pyxdf.load_xdf(xdf_path, select_streams=[{'type':'AudioCapture'}, {'type': 'Markers'}])\n",
    "streams_collected = [stream['info']['name'][0] for stream in data]\n",
    "      \n",
    "streams_collected"
   ]
  },
  {
   "cell_type": "markdown",
   "metadata": {},
   "source": [
    "# Stimulus"
   ]
  },
  {
   "cell_type": "code",
   "execution_count": 8,
   "metadata": {},
   "outputs": [
    {
     "data": {
      "application/vnd.microsoft.datawrangler.viewer.v0+json": {
       "columns": [
        {
         "name": "index",
         "rawType": "int64",
         "type": "integer"
        },
        {
         "name": "trigger",
         "rawType": "float32",
         "type": "float"
        },
        {
         "name": "event",
         "rawType": "object",
         "type": "string"
        },
        {
         "name": "lsl_time_stamp",
         "rawType": "float64",
         "type": "float"
        },
        {
         "name": "time",
         "rawType": "float64",
         "type": "float"
        }
       ],
       "conversionMethod": "pd.DataFrame",
       "ref": "4fc8d8c4-68a2-4253-90e3-cb9c3f017845",
       "rows": [
        [
         "0",
         "200.0",
         "Onset_Experiment",
         "468121.6759607343",
         "0.0"
        ],
        [
         "1",
         "1739809400.0",
         "psychopy_time_stamp",
         "468121.6759697342",
         "8.99989390745759e-09"
        ],
        [
         "2",
         "10.0",
         "Onset_RestingState",
         "468153.7745608099",
         "0.03209860007558018"
        ],
        [
         "3",
         "1739809500.0",
         "psychopy_time_stamp",
         "468153.77456930984",
         "0.03209860857552849"
        ],
        [
         "4",
         "11.0",
         "Offset_RestingState",
         "468453.7741988123",
         "0.3320982380780042"
        ],
        [
         "5",
         "1739809800.0",
         "psychopy_time_stamp",
         "468453.7742086123",
         "0.33209824787796244"
        ],
        [
         "6",
         "500.0",
         "Onset_StoryListening",
         "468453.77423901204",
         "0.33209827827772825"
        ],
        [
         "7",
         "1739809800.0",
         "psychopy_time_stamp",
         "468453.77424001205",
         "0.33209827927773583"
        ],
        [
         "8",
         "100.0",
         "Onset_10second_rest",
         "468504.3743999203",
         "0.38269843918597324"
        ],
        [
         "9",
         "1739809800.0",
         "psychopy_time_stamp",
         "468504.3744084202",
         "0.38269844768586336"
        ],
        [
         "10",
         "101.0",
         "Offset_10second_rest",
         "468514.3742307881",
         "0.3926982700537774"
        ],
        [
         "11",
         "1739809800.0",
         "psychopy_time_stamp",
         "468514.37423838803",
         "0.39269827765371884"
        ],
        [
         "12",
         "30.0",
         "Onset_FrogDissection",
         "468514.41848298395",
         "0.39274252224963857"
        ],
        [
         "13",
         "1739809800.0",
         "psychopy_time_stamp",
         "468514.4184898839",
         "0.3927425291495747"
        ],
        [
         "14",
         "31.0",
         "Offset_FrogDissection",
         "468628.69197194406",
         "0.507016011209751"
        ],
        [
         "15",
         "1739809900.0",
         "psychopy_time_stamp",
         "468628.691979644",
         "0.5070160189096933"
        ],
        [
         "16",
         "300.0",
         "Onset_subjectInput",
         "468644.3068641177",
         "0.5226309033833677"
        ],
        [
         "17",
         "1739809900.0",
         "psychopy_time_stamp",
         "468644.30687521765",
         "0.5226309144833358"
        ],
        [
         "18",
         "301.0",
         "Offset_subjectInput",
         "468651.1928279882",
         "0.5295168672538711"
        ],
        [
         "19",
         "1.0",
         "Bx_input",
         "468651.19283848815",
         "0.5295168777538347"
        ],
        [
         "20",
         "1739809900.0",
         "psychopy_time_stamp",
         "468651.19283968816",
         "0.5295168789538438"
        ],
        [
         "21",
         "300.0",
         "Onset_subjectInput",
         "468651.2051057038",
         "0.5295291449694778"
        ],
        [
         "22",
         "1739809900.0",
         "psychopy_time_stamp",
         "468651.20511470374",
         "0.5295291539694299"
        ],
        [
         "23",
         "301.0",
         "Offset_subjectInput",
         "468654.50556791865",
         "0.532829607184336"
        ],
        [
         "24",
         "7.0",
         "Bx_input",
         "468654.50557841855",
         "0.5328296176842414"
        ],
        [
         "25",
         "1739809900.0",
         "psychopy_time_stamp",
         "468654.50557961856",
         "0.5328296188842505"
        ],
        [
         "26",
         "300.0",
         "Onset_subjectInput",
         "468654.5182907312",
         "0.5328423299968709"
        ],
        [
         "27",
         "1739809900.0",
         "psychopy_time_stamp",
         "468654.5182983311",
         "0.5328423375968123"
        ],
        [
         "28",
         "301.0",
         "Offset_subjectInput",
         "468658.3889979265",
         "0.5367130371921812"
        ],
        [
         "29",
         "3.0",
         "Bx_input",
         "468658.38900702645",
         "0.5367130462921341"
        ],
        [
         "30",
         "1739809900.0",
         "psychopy_time_stamp",
         "468658.38900792645",
         "0.536713047192141"
        ],
        [
         "31",
         "300.0",
         "Onset_subjectInput",
         "468658.41846752394",
         "0.5367425067896257"
        ],
        [
         "32",
         "1739809900.0",
         "psychopy_time_stamp",
         "468658.4184752239",
         "0.5367425144895679"
        ],
        [
         "33",
         "301.0",
         "Offset_subjectInput",
         "468662.9750108053",
         "0.5412990500709857"
        ],
        [
         "34",
         "2.0",
         "Bx_input",
         "468662.97502020525",
         "0.5412990594709408"
        ],
        [
         "35",
         "1739809900.0",
         "psychopy_time_stamp",
         "468662.97502130526",
         "0.5412990605709492"
        ],
        [
         "36",
         "300.0",
         "Onset_subjectInput",
         "468662.996448258",
         "0.5413204875236842"
        ],
        [
         "37",
         "1739809900.0",
         "psychopy_time_stamp",
         "468662.99646145786",
         "0.541320500723552"
        ],
        [
         "38",
         "301.0",
         "Offset_subjectInput",
         "468667.1747970388",
         "0.5454988363044686"
        ],
        [
         "39",
         "2.0",
         "Bx_input",
         "468667.1748050387",
         "0.5454988443044131"
        ],
        [
         "40",
         "1739809900.0",
         "psychopy_time_stamp",
         "468667.17480613873",
         "0.5454988454044214"
        ],
        [
         "41",
         "300.0",
         "Onset_subjectInput",
         "468667.1880910474",
         "0.5455121303130872"
        ],
        [
         "42",
         "1739809900.0",
         "psychopy_time_stamp",
         "468667.1880973474",
         "0.5455121366130771"
        ],
        [
         "43",
         "301.0",
         "Offset_subjectInput",
         "468671.05556096503",
         "0.5493796002307209"
        ],
        [
         "44",
         "2.0",
         "Bx_input",
         "468671.055570465",
         "0.5493796097306768"
        ],
        [
         "45",
         "1739810000.0",
         "psychopy_time_stamp",
         "468671.0555734649",
         "0.5493796127305832"
        ],
        [
         "46",
         "100.0",
         "Onset_10second_rest",
         "468676.5081774874",
         "0.5548322167531005"
        ],
        [
         "47",
         "1739810000.0",
         "psychopy_time_stamp",
         "468676.5081914873",
         "0.5548322307529743"
        ],
        [
         "48",
         "101.0",
         "Offset_10second_rest",
         "468686.50562767155",
         "0.5648296669372358"
        ],
        [
         "49",
         "1739810000.0",
         "psychopy_time_stamp",
         "468686.50564277143",
         "0.5648296820371179"
        ]
       ],
       "shape": {
        "columns": 4,
        "rows": 260
       }
      },
      "text/html": [
       "<div>\n",
       "<style scoped>\n",
       "    .dataframe tbody tr th:only-of-type {\n",
       "        vertical-align: middle;\n",
       "    }\n",
       "\n",
       "    .dataframe tbody tr th {\n",
       "        vertical-align: top;\n",
       "    }\n",
       "\n",
       "    .dataframe thead th {\n",
       "        text-align: right;\n",
       "    }\n",
       "</style>\n",
       "<table border=\"1\" class=\"dataframe\">\n",
       "  <thead>\n",
       "    <tr style=\"text-align: right;\">\n",
       "      <th></th>\n",
       "      <th>trigger</th>\n",
       "      <th>event</th>\n",
       "      <th>lsl_time_stamp</th>\n",
       "      <th>time</th>\n",
       "    </tr>\n",
       "  </thead>\n",
       "  <tbody>\n",
       "    <tr>\n",
       "      <th>0</th>\n",
       "      <td>2.000000e+02</td>\n",
       "      <td>Onset_Experiment</td>\n",
       "      <td>468121.675961</td>\n",
       "      <td>0.000000e+00</td>\n",
       "    </tr>\n",
       "    <tr>\n",
       "      <th>1</th>\n",
       "      <td>1.739809e+09</td>\n",
       "      <td>psychopy_time_stamp</td>\n",
       "      <td>468121.675970</td>\n",
       "      <td>8.999894e-09</td>\n",
       "    </tr>\n",
       "    <tr>\n",
       "      <th>2</th>\n",
       "      <td>1.000000e+01</td>\n",
       "      <td>Onset_RestingState</td>\n",
       "      <td>468153.774561</td>\n",
       "      <td>3.209860e-02</td>\n",
       "    </tr>\n",
       "    <tr>\n",
       "      <th>3</th>\n",
       "      <td>1.739810e+09</td>\n",
       "      <td>psychopy_time_stamp</td>\n",
       "      <td>468153.774569</td>\n",
       "      <td>3.209861e-02</td>\n",
       "    </tr>\n",
       "    <tr>\n",
       "      <th>4</th>\n",
       "      <td>1.100000e+01</td>\n",
       "      <td>Offset_RestingState</td>\n",
       "      <td>468453.774199</td>\n",
       "      <td>3.320982e-01</td>\n",
       "    </tr>\n",
       "    <tr>\n",
       "      <th>...</th>\n",
       "      <td>...</td>\n",
       "      <td>...</td>\n",
       "      <td>...</td>\n",
       "      <td>...</td>\n",
       "    </tr>\n",
       "    <tr>\n",
       "      <th>255</th>\n",
       "      <td>8.100000e+01</td>\n",
       "      <td>Offset_SocialTask</td>\n",
       "      <td>470285.559101</td>\n",
       "      <td>2.163883e+00</td>\n",
       "    </tr>\n",
       "    <tr>\n",
       "      <th>256</th>\n",
       "      <td>1.739812e+09</td>\n",
       "      <td>psychopy_time_stamp</td>\n",
       "      <td>470285.559116</td>\n",
       "      <td>2.163883e+00</td>\n",
       "    </tr>\n",
       "    <tr>\n",
       "      <th>257</th>\n",
       "      <td>2.010000e+02</td>\n",
       "      <td>Offset_Experiment</td>\n",
       "      <td>470290.556789</td>\n",
       "      <td>2.168881e+00</td>\n",
       "    </tr>\n",
       "    <tr>\n",
       "      <th>258</th>\n",
       "      <td>1.739812e+09</td>\n",
       "      <td>psychopy_time_stamp</td>\n",
       "      <td>470290.556802</td>\n",
       "      <td>2.168881e+00</td>\n",
       "    </tr>\n",
       "    <tr>\n",
       "      <th>259</th>\n",
       "      <td>1.739810e+09</td>\n",
       "      <td>psychopy_time_stamp</td>\n",
       "      <td>470290.570651</td>\n",
       "      <td>2.168895e+00</td>\n",
       "    </tr>\n",
       "  </tbody>\n",
       "</table>\n",
       "<p>260 rows × 4 columns</p>\n",
       "</div>"
      ],
      "text/plain": [
       "          trigger                event  lsl_time_stamp          time\n",
       "0    2.000000e+02     Onset_Experiment   468121.675961  0.000000e+00\n",
       "1    1.739809e+09  psychopy_time_stamp   468121.675970  8.999894e-09\n",
       "2    1.000000e+01   Onset_RestingState   468153.774561  3.209860e-02\n",
       "3    1.739810e+09  psychopy_time_stamp   468153.774569  3.209861e-02\n",
       "4    1.100000e+01  Offset_RestingState   468453.774199  3.320982e-01\n",
       "..            ...                  ...             ...           ...\n",
       "255  8.100000e+01    Offset_SocialTask   470285.559101  2.163883e+00\n",
       "256  1.739812e+09  psychopy_time_stamp   470285.559116  2.163883e+00\n",
       "257  2.010000e+02    Offset_Experiment   470290.556789  2.168881e+00\n",
       "258  1.739812e+09  psychopy_time_stamp   470290.556802  2.168881e+00\n",
       "259  1.739810e+09  psychopy_time_stamp   470290.570651  2.168895e+00\n",
       "\n",
       "[260 rows x 4 columns]"
      ]
     },
     "execution_count": 8,
     "metadata": {},
     "output_type": "execute_result"
    }
   ],
   "source": [
    "stim_dat = data[streams_collected.index('Stimuli_Markers')]\n",
    "stim_df = pd.DataFrame(stim_dat['time_series'])\n",
    "stim_df.rename(columns={0: 'trigger'}, inplace=True)\n",
    "events = {\n",
    "    200: 'Onset_Experiment',\n",
    "    10: 'Onset_RestingState',\n",
    "    11: 'Offset_RestingState',\n",
    "    500: 'Onset_StoryListening',\n",
    "    501: 'Offset_StoryListening',\n",
    "    100: 'Onset_10second_rest',\n",
    "    101: 'Offset_10second_rest', \n",
    "    20: 'Onset_CampFriend',\n",
    "    21: 'Offset_CampFriend',\n",
    "    30: 'Onset_FrogDissection',\n",
    "    31: 'Offset_FrogDissection',\n",
    "    40: 'Onset_DanceContest',\n",
    "    41: 'Offset_DanceContest',\n",
    "    50: 'Onset_ZoomClass',\n",
    "    51: 'Offset_ZoomClass',\n",
    "    60: 'Onset_Tornado',\n",
    "    61: 'Offset_Tornado',\n",
    "    70: 'Onset_BirthdayParty',\n",
    "    71: 'Offset_BirthdayParty',\n",
    "    300: 'Onset_subjectInput',\n",
    "    301: 'Offset_subjectInput',\n",
    "    302: 'Onset_FavoriteStory',\n",
    "    303: 'Offset_FavoriteStory',\n",
    "    304: 'Onset_WorstStory',\n",
    "    305: 'Offset_WorstStory',\n",
    "    400: 'Onset_impedanceCheck',\n",
    "    401: 'Offset_impedanceCheck',\n",
    "    80: 'Onset_SocialTask',\n",
    "    81: 'Offset_SocialTask',\n",
    "    201: 'Offset_Experiment',\n",
    "}\n",
    "\n",
    "story_onsets = [20, 30, 40, 50, 60, 70]\n",
    "\n",
    "# relabel the event if the trigger is in the events dictionary, else if \n",
    "stim_df['event'] = stim_df['trigger'].apply(lambda x: events[x] if x in events.keys() else 'Bx_input')\n",
    "\n",
    "# relabel the event as a psychopy timestamp if the trigger is greater than 5 digits\n",
    "stim_df.loc[stim_df.trigger.astype(str).str.len() > 5, 'event'] = 'psychopy_time_stamp'\n",
    "stim_df['lsl_time_stamp'] = stim_dat['time_stamps']\n",
    "stim_df['time'] = (stim_dat['time_stamps'] - stim_dat['time_stamps'][0])/1000\n",
    "stim_df"
   ]
  },
  {
   "cell_type": "markdown",
   "metadata": {},
   "source": [
    "# Microphone Data "
   ]
  },
  {
   "cell_type": "code",
   "execution_count": 9,
   "metadata": {},
   "outputs": [
    {
     "data": {
      "application/vnd.microsoft.datawrangler.viewer.v0+json": {
       "columns": [
        {
         "name": "index",
         "rawType": "int64",
         "type": "integer"
        },
        {
         "name": "int_array",
         "rawType": "int16",
         "type": "integer"
        },
        {
         "name": "bytestring",
         "rawType": "object",
         "type": "unknown"
        },
        {
         "name": "lsl_time_stamp",
         "rawType": "float64",
         "type": "float"
        },
        {
         "name": "time_delta",
         "rawType": "float64",
         "type": "float"
        }
       ],
       "conversionMethod": "pd.DataFrame",
       "ref": "dab4426b-dbc3-4283-9895-16528a75176d",
       "rows": [
        [
         "82158296",
         "4",
         "b'\\x04\\x00\\x00\\x00\\x00\\x00\\x00\\x00'",
         "470345.4579562089",
         "2.2677064407616854e-05"
        ],
        [
         "82158297",
         "6",
         "b'\\x06\\x00\\x00\\x00\\x00\\x00\\x00\\x00'",
         "470345.4579788859",
         "2.267700619995594e-05"
        ],
        [
         "82158298",
         "4",
         "b'\\x04\\x00\\x00\\x00\\x00\\x00\\x00\\x00'",
         "470345.458001563",
         "2.2677064407616854e-05"
        ],
        [
         "82158299",
         "3",
         "b'\\x03\\x00\\x00\\x00\\x00\\x00\\x00\\x00'",
         "470345.45802424",
         "2.267700619995594e-05"
        ],
        [
         "82158300",
         "8",
         "b'\\x08\\x00\\x00\\x00\\x00\\x00\\x00\\x00'",
         "470345.458046917",
         "2.267700619995594e-05"
        ]
       ],
       "shape": {
        "columns": 4,
        "rows": 5
       }
      },
      "text/html": [
       "<div>\n",
       "<style scoped>\n",
       "    .dataframe tbody tr th:only-of-type {\n",
       "        vertical-align: middle;\n",
       "    }\n",
       "\n",
       "    .dataframe tbody tr th {\n",
       "        vertical-align: top;\n",
       "    }\n",
       "\n",
       "    .dataframe thead th {\n",
       "        text-align: right;\n",
       "    }\n",
       "</style>\n",
       "<table border=\"1\" class=\"dataframe\">\n",
       "  <thead>\n",
       "    <tr style=\"text-align: right;\">\n",
       "      <th></th>\n",
       "      <th>int_array</th>\n",
       "      <th>bytestring</th>\n",
       "      <th>lsl_time_stamp</th>\n",
       "      <th>time_delta</th>\n",
       "    </tr>\n",
       "  </thead>\n",
       "  <tbody>\n",
       "    <tr>\n",
       "      <th>82158296</th>\n",
       "      <td>4</td>\n",
       "      <td>b'\\x04\\x00\\x00\\x00\\x00\\x00\\x00\\x00'</td>\n",
       "      <td>470345.457956</td>\n",
       "      <td>0.000023</td>\n",
       "    </tr>\n",
       "    <tr>\n",
       "      <th>82158297</th>\n",
       "      <td>6</td>\n",
       "      <td>b'\\x06\\x00\\x00\\x00\\x00\\x00\\x00\\x00'</td>\n",
       "      <td>470345.457979</td>\n",
       "      <td>0.000023</td>\n",
       "    </tr>\n",
       "    <tr>\n",
       "      <th>82158298</th>\n",
       "      <td>4</td>\n",
       "      <td>b'\\x04\\x00\\x00\\x00\\x00\\x00\\x00\\x00'</td>\n",
       "      <td>470345.458002</td>\n",
       "      <td>0.000023</td>\n",
       "    </tr>\n",
       "    <tr>\n",
       "      <th>82158299</th>\n",
       "      <td>3</td>\n",
       "      <td>b'\\x03\\x00\\x00\\x00\\x00\\x00\\x00\\x00'</td>\n",
       "      <td>470345.458024</td>\n",
       "      <td>0.000023</td>\n",
       "    </tr>\n",
       "    <tr>\n",
       "      <th>82158300</th>\n",
       "      <td>8</td>\n",
       "      <td>b'\\x08\\x00\\x00\\x00\\x00\\x00\\x00\\x00'</td>\n",
       "      <td>470345.458047</td>\n",
       "      <td>0.000023</td>\n",
       "    </tr>\n",
       "  </tbody>\n",
       "</table>\n",
       "</div>"
      ],
      "text/plain": [
       "          int_array                           bytestring  lsl_time_stamp  \\\n",
       "82158296          4  b'\\x04\\x00\\x00\\x00\\x00\\x00\\x00\\x00'   470345.457956   \n",
       "82158297          6  b'\\x06\\x00\\x00\\x00\\x00\\x00\\x00\\x00'   470345.457979   \n",
       "82158298          4  b'\\x04\\x00\\x00\\x00\\x00\\x00\\x00\\x00'   470345.458002   \n",
       "82158299          3  b'\\x03\\x00\\x00\\x00\\x00\\x00\\x00\\x00'   470345.458024   \n",
       "82158300          8  b'\\x08\\x00\\x00\\x00\\x00\\x00\\x00\\x00'   470345.458047   \n",
       "\n",
       "          time_delta  \n",
       "82158296    0.000023  \n",
       "82158297    0.000023  \n",
       "82158298    0.000023  \n",
       "82158299    0.000023  \n",
       "82158300    0.000023  "
      ]
     },
     "execution_count": 9,
     "metadata": {},
     "output_type": "execute_result"
    }
   ],
   "source": [
    "mic_data = data[streams_collected.index('Microphone')]\n",
    "mic_df = pd.DataFrame(mic_data['time_series'], columns=['int_array'])\n",
    "mic_df['bytestring'] = mic_df['int_array'].apply(lambda x: np.array(x).tobytes())\n",
    "# mic_df['time_stamps'] = (mic_data['time_stamps'] - mic_data['time_stamps'][0])/441000\n",
    "\n",
    "mic_df['lsl_time_stamp'] = mic_data['time_stamps']\n",
    "# mic_df['time'] = (mic_df.lsl_time_stamp - mic_df.lsl_time_stamp[0])\n",
    "mic_df['time_delta'] = mic_df['lsl_time_stamp'].diff()\n",
    "\n",
    "mic_df.tail()"
   ]
  },
  {
   "cell_type": "markdown",
   "metadata": {},
   "source": [
    "## Compare wav and LSL lengths"
   ]
  },
  {
   "cell_type": "code",
   "execution_count": null,
   "metadata": {},
   "outputs": [
    {
     "data": {
      "text/plain": [
       "'../sub-P5318014/sub-P5318014_task-CUNY_run-001_mic.wav'"
      ]
     },
     "execution_count": 54,
     "metadata": {},
     "output_type": "execute_result"
    }
   ],
   "source": [
    "# get wav file\n",
    "wav_files = glob('../*/*.wav')\n",
    "wav_files\n",
    "\n",
    "wav_path = wav_files[0]\n",
    "wav_path"
   ]
  },
  {
   "cell_type": "code",
   "execution_count": null,
   "metadata": {},
   "outputs": [
    {
     "name": "stdout",
     "output_type": "stream",
     "text": [
      "         seconds    mm:ss\n",
      "wav_dur  1989.40  0:33:09\n",
      "lsl_dur  1989.48  0:33:09\n",
      "\n",
      "The wav file and the lsl time stamps are the same length!\n"
     ]
    }
   ],
   "source": [
    "# calculate wav and lsl durations\n",
    "wav_dur = round(librosa.get_duration(path=wav_path), 2)\n",
    "lsl_dur = round(mic_df['lsl_time_stamp'].iloc[-1]- mic_df['lsl_time_stamp'].iloc[0], 2)\n",
    "\n",
    "# convert to hh:mm:ss\n",
    "wav_dt = datetime.timedelta(seconds=wav_dur)\n",
    "wav_dur_dt = str(datetime.timedelta(seconds=round(wav_dt.total_seconds())))\n",
    "lsl_dt = datetime.timedelta(seconds=lsl_dur)\n",
    "lsl_dur_dt = str(datetime.timedelta(seconds=round(lsl_dt.total_seconds())))\n",
    "\n",
    "\n",
    "# make df of durations\n",
    "variables = {name: [globals()[name], globals()[name+'_dt']]  for name in ['wav_dur', 'lsl_dur']}\n",
    "durations_df = pd.DataFrame.from_dict(variables, orient = 'index', columns = ['seconds', 'mm:ss'])\n",
    "print(durations_df.to_string() + '\\n')\n",
    "\n",
    "# print if they are close or not (margin on 5 seconds rn)\n",
    "if abs(wav_dur - lsl_dur) > 5:\n",
    "    print(f'Warning: The duration of the wav file ({wav_dur}) and the duration of the lsl time stamps ({lsl_dur}) differ by more than 5 seconds. \\n')\n",
    "    if wav_dur > lsl_dur:\n",
    "        print('The wav file is longer than the lsl time stamps by {} seconds'.format(wav_dur - lsl_dur))\n",
    "    if lsl_dur > wav_dur:\n",
    "        print('The lsl time stamps are longer than the wav file by {} seconds'.format(lsl_dur - wav_dur))\n",
    "else: \n",
    "    print('The wav file and the lsl time stamps are the same length!')"
   ]
  },
  {
   "cell_type": "code",
   "execution_count": null,
   "metadata": {},
   "outputs": [],
   "source": [
    "abs(wav_dur - lsl_dur)"
   ]
  },
  {
   "cell_type": "markdown",
   "metadata": {},
   "source": [
    "## Range"
   ]
  },
  {
   "cell_type": "code",
   "execution_count": 19,
   "metadata": {},
   "outputs": [
    {
     "data": {
      "image/png": "[encoded data removed]",
      "text/plain": [
       "<Figure size 900x300 with 1 Axes>"
      ]
     },
     "metadata": {},
     "output_type": "display_data"
    }
   ],
   "source": [
    "plt.figure(figsize=(9, 3))\n",
    "plt.plot(mic_df.lsl_time_stamp, mic_df.int_array)\n",
    "for event in stim_df.loc[stim_df.event.str.contains('StoryListening|SocialTask')].iterrows():\n",
    "    plt.axvline(event[1]['lsl_time_stamp'], color='r')\n",
    "    plt.text(event[1]['lsl_time_stamp']+4, 0, event[1]['event'], rotation=90, verticalalignment='center', fontweight = 'bold')\n",
    "\n",
    "plt.xlabel('LSL Timestamps')\n",
    "plt.ylabel('Samples')\n",
    "plt.title('Microphone Samples over Time')\n",
    "plt.tight_layout()\n",
    "plt.show()"
   ]
  },
  {
   "cell_type": "code",
   "execution_count": 57,
   "metadata": {},
   "outputs": [
    {
     "data": {
      "image/png": "[encoded data removed]",
      "text/plain": [
       "<Figure size 640x480 with 1 Axes>"
      ]
     },
     "metadata": {},
     "output_type": "display_data"
    }
   ],
   "source": [
    "plt.hist(mic_df['int_array'], bins=100)\n",
    "plt.xlabel('Microphone Samples')\n",
    "plt.ylabel('Count')\n",
    "plt.title('Distribution of Microphone Samples')\n",
    "plt.show()\n",
    "\n",
    "# looking to make sure it's relatively centered around 0, no outlier peaks, no values above 32k or below -32k"
   ]
  },
  {
   "cell_type": "markdown",
   "metadata": {},
   "source": [
    "### Stats that might not be included\n"
   ]
  },
  {
   "cell_type": "code",
   "execution_count": 58,
   "metadata": {},
   "outputs": [
    {
     "name": "stdout",
     "output_type": "stream",
     "text": [
      "first quartile: -37.0 \n",
      "second quartile: 37.0\n",
      "standard deviation: 157.3225\n",
      "min:  -5742 \n",
      "max:  6073\n"
     ]
    }
   ],
   "source": [
    "# 25% and 75% quantiles\n",
    "quan25 = np.quantile(mic_df['int_array'], 0.25)\n",
    "quan75 = np.quantile(mic_df['int_array'], 0.75)\n",
    "\n",
    "if quan75 - quan25 > 100:\n",
    "    print('range is really large??')\n",
    "print('first quartile: {} \\nsecond quartile: {}'.format(quan25, quan75))\n",
    "\n",
    "# standard dev\n",
    "print(\"standard deviation: {:.4f}\".format(mic_df['int_array'].std()))\n",
    "\n",
    "# range, should be between -32768 and 32767\n",
    "print(\"min: \", min(mic_df.int_array), \"\\nmax: \", max(mic_df.int_array))"
   ]
  },
  {
   "cell_type": "code",
   "execution_count": 59,
   "metadata": {},
   "outputs": [
    {
     "name": "stdout",
     "output_type": "stream",
     "text": [
      "number of NaN's:  0\n"
     ]
    }
   ],
   "source": [
    "# no of NA's\n",
    "print(\"number of NaN's: \", mic_df['int_array'].isna().sum())"
   ]
  },
  {
   "cell_type": "markdown",
   "metadata": {},
   "source": [
    "## Sampling Rate"
   ]
  },
  {
   "cell_type": "code",
   "execution_count": 60,
   "metadata": {},
   "outputs": [
    {
     "name": "stdout",
     "output_type": "stream",
     "text": [
      "nominal sampling rate: 44100.0\n",
      "effective sampling rate: 44098.1454\n"
     ]
    }
   ],
   "source": [
    "nom_srate = float(mic_data['info']['nominal_srate'][0])\n",
    "eff_srate = mic_data['info']['effective_srate']\n",
    "srate_diff = 44100.00 - eff_srate\n",
    "\n",
    "if nom_srate != 44100.0:\n",
    "    print(f\"Alert! Nominal sampling rate is not 44.1 kHz! It is {nom_srate}\")\n",
    "if abs(srate_diff) > 5: # 5?\n",
    "    print(f'Alert! Effective sampling rate is not 44.1 kHz! It is {eff_srate} Hz, {srate_diff} Hz away from 44.1kHz')\n",
    "\n",
    "print(f'nominal sampling rate: {nom_srate}\\neffective sampling rate: {eff_srate:.4f}')\n"
   ]
  }
 ],
 "metadata": {
  "kernelspec": {
   "display_name": "cuny_env",
   "language": "python",
   "name": "python3"
  },
  "language_info": {
   "codemirror_mode": {
    "name": "ipython",
    "version": 3
   },
   "file_extension": ".py",
   "mimetype": "text/x-python",
   "name": "python",
   "nbconvert_exporter": "python",
   "pygments_lexer": "ipython3",
   "version": "3.12.7"
  }
 },
 "nbformat": 4,
 "nbformat_minor": 2
}
